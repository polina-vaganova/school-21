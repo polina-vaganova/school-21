{
 "cells": [
  {
   "cell_type": "markdown",
   "id": "5758c213",
   "metadata": {},
   "source": [
    "# **Regression models**"
   ]
  },
  {
   "cell_type": "markdown",
   "id": "6ded7580",
   "metadata": {},
   "source": [
    "## Configuration:"
   ]
  },
  {
   "cell_type": "markdown",
   "id": "90baea29",
   "metadata": {},
   "source": [
    "Import necessary entities:"
   ]
  },
  {
   "cell_type": "code",
   "execution_count": 1,
   "id": "030aa6f9",
   "metadata": {},
   "outputs": [],
   "source": [
    "from typing import Any\n",
    "from numpy import average\n",
    "from sklearn.svm import SVR\n",
    "from warnings import filterwarnings\n",
    "from sklearn.metrics import mean_squared_error\n",
    "from sklearn.tree import DecisionTreeRegressor\n",
    "from sklearn.neighbors import KNeighborsRegressor\n",
    "from pandas import (\n",
    "    Series,\n",
    "    DataFrame,\n",
    "    read_csv,\n",
    ")\n",
    "from sklearn.model_selection import (\n",
    "    GridSearchCV,\n",
    "    cross_val_score,\n",
    "    train_test_split,\n",
    ")\n",
    "from sklearn.linear_model import (\n",
    "    Lasso,\n",
    "    Ridge,\n",
    "    ElasticNet,\n",
    "    HuberRegressor,\n",
    "    LinearRegression,\n",
    ")"
   ]
  },
  {
   "cell_type": "markdown",
   "id": "2554628b",
   "metadata": {},
   "source": [
    "Ignore all warnings:"
   ]
  },
  {
   "cell_type": "code",
   "execution_count": 2,
   "id": "93af863f",
   "metadata": {},
   "outputs": [],
   "source": [
    "filterwarnings(\"ignore\", )"
   ]
  },
  {
   "cell_type": "markdown",
   "id": "a9ee4587",
   "metadata": {},
   "source": [
    "## Preprocessing:"
   ]
  },
  {
   "cell_type": "markdown",
   "id": "baad8e4f",
   "metadata": {},
   "source": [
    "Create a dictionary for `read_csv()` function callings:"
   ]
  },
  {
   "cell_type": "code",
   "execution_count": 3,
   "id": "22b7b924",
   "metadata": {},
   "outputs": [],
   "source": [
    "read_csv_params: dict[str, str] = {\n",
    "    \"target_file\": \"numerical.csv\",\n",
    "    \"features_file\": \"features.csv\",\n",
    "\n",
    "    \"targets_file_path\": \"../../../data/datasets/targets/\",\n",
    "    \"features_file_path\": \"../../../data/datasets/processed/\",\n",
    "}"
   ]
  },
  {
   "cell_type": "markdown",
   "id": "70cdf95e",
   "metadata": {},
   "source": [
    "Read the `features.csv` data to a *Pandas* dataframe:"
   ]
  },
  {
   "cell_type": "code",
   "execution_count": 4,
   "id": "ca125b40",
   "metadata": {},
   "outputs": [],
   "source": [
    "X: DataFrame = read_csv(\n",
    "    read_csv_params[\"features_file_path\"] + read_csv_params[\"features_file\"],\n",
    "    index_col=0,\n",
    ")"
   ]
  },
  {
   "cell_type": "markdown",
   "id": "2362f458",
   "metadata": {},
   "source": [
    "Read the `target.csv` data to a *Pandas* dataframe:"
   ]
  },
  {
   "cell_type": "code",
   "execution_count": 5,
   "id": "3361bb43",
   "metadata": {},
   "outputs": [],
   "source": [
    "y: Series = read_csv(\n",
    "    read_csv_params[\"targets_file_path\"] + read_csv_params[\"target_file\"],\n",
    "    index_col=0,\n",
    ")"
   ]
  },
  {
   "cell_type": "markdown",
   "id": "0426e351",
   "metadata": {},
   "source": [
    "Check `X`, `y` variables data:"
   ]
  },
  {
   "cell_type": "code",
   "execution_count": 6,
   "id": "2e62ac13",
   "metadata": {},
   "outputs": [
    {
     "data": {
      "text/html": [
       "<div>\n",
       "<style scoped>\n",
       "    .dataframe tbody tr th:only-of-type {\n",
       "        vertical-align: middle;\n",
       "    }\n",
       "\n",
       "    .dataframe tbody tr th {\n",
       "        vertical-align: top;\n",
       "    }\n",
       "\n",
       "    .dataframe thead th {\n",
       "        text-align: right;\n",
       "    }\n",
       "</style>\n",
       "<table border=\"1\" class=\"dataframe\">\n",
       "  <thead>\n",
       "    <tr style=\"text-align: right;\">\n",
       "      <th></th>\n",
       "      <th>cod</th>\n",
       "      <th>fig</th>\n",
       "      <th>egg</th>\n",
       "      <th>gin</th>\n",
       "      <th>ham</th>\n",
       "      <th>oat</th>\n",
       "      <th>nut</th>\n",
       "      <th>pea</th>\n",
       "      <th>rum</th>\n",
       "      <th>rye</th>\n",
       "      <th>...</th>\n",
       "      <th>fortified wine</th>\n",
       "      <th>sparkling wine</th>\n",
       "      <th>sugar snap pea</th>\n",
       "      <th>beef tenderloin</th>\n",
       "      <th>cranberry sauce</th>\n",
       "      <th>pork tenderloin</th>\n",
       "      <th>poultry sausage</th>\n",
       "      <th>pomegranate juice</th>\n",
       "      <th>jerusalem artichoke</th>\n",
       "      <th>hominy/cornmeal/masa</th>\n",
       "    </tr>\n",
       "  </thead>\n",
       "  <tbody>\n",
       "    <tr>\n",
       "      <th>0</th>\n",
       "      <td>0.0</td>\n",
       "      <td>0.0</td>\n",
       "      <td>0.0</td>\n",
       "      <td>0.0</td>\n",
       "      <td>0.0</td>\n",
       "      <td>0.0</td>\n",
       "      <td>0.0</td>\n",
       "      <td>0.0</td>\n",
       "      <td>0.0</td>\n",
       "      <td>0.0</td>\n",
       "      <td>...</td>\n",
       "      <td>0.0</td>\n",
       "      <td>0.0</td>\n",
       "      <td>0.0</td>\n",
       "      <td>0.0</td>\n",
       "      <td>0.0</td>\n",
       "      <td>0.0</td>\n",
       "      <td>0.0</td>\n",
       "      <td>0.0</td>\n",
       "      <td>0.0</td>\n",
       "      <td>0.0</td>\n",
       "    </tr>\n",
       "    <tr>\n",
       "      <th>1</th>\n",
       "      <td>0.0</td>\n",
       "      <td>0.0</td>\n",
       "      <td>0.0</td>\n",
       "      <td>0.0</td>\n",
       "      <td>0.0</td>\n",
       "      <td>0.0</td>\n",
       "      <td>0.0</td>\n",
       "      <td>0.0</td>\n",
       "      <td>0.0</td>\n",
       "      <td>0.0</td>\n",
       "      <td>...</td>\n",
       "      <td>0.0</td>\n",
       "      <td>0.0</td>\n",
       "      <td>0.0</td>\n",
       "      <td>0.0</td>\n",
       "      <td>0.0</td>\n",
       "      <td>0.0</td>\n",
       "      <td>0.0</td>\n",
       "      <td>0.0</td>\n",
       "      <td>0.0</td>\n",
       "      <td>0.0</td>\n",
       "    </tr>\n",
       "    <tr>\n",
       "      <th>2</th>\n",
       "      <td>0.0</td>\n",
       "      <td>0.0</td>\n",
       "      <td>0.0</td>\n",
       "      <td>0.0</td>\n",
       "      <td>0.0</td>\n",
       "      <td>0.0</td>\n",
       "      <td>0.0</td>\n",
       "      <td>0.0</td>\n",
       "      <td>0.0</td>\n",
       "      <td>0.0</td>\n",
       "      <td>...</td>\n",
       "      <td>0.0</td>\n",
       "      <td>0.0</td>\n",
       "      <td>0.0</td>\n",
       "      <td>0.0</td>\n",
       "      <td>0.0</td>\n",
       "      <td>0.0</td>\n",
       "      <td>0.0</td>\n",
       "      <td>0.0</td>\n",
       "      <td>0.0</td>\n",
       "      <td>0.0</td>\n",
       "    </tr>\n",
       "    <tr>\n",
       "      <th>3</th>\n",
       "      <td>0.0</td>\n",
       "      <td>0.0</td>\n",
       "      <td>0.0</td>\n",
       "      <td>0.0</td>\n",
       "      <td>0.0</td>\n",
       "      <td>0.0</td>\n",
       "      <td>0.0</td>\n",
       "      <td>0.0</td>\n",
       "      <td>0.0</td>\n",
       "      <td>0.0</td>\n",
       "      <td>...</td>\n",
       "      <td>0.0</td>\n",
       "      <td>0.0</td>\n",
       "      <td>0.0</td>\n",
       "      <td>0.0</td>\n",
       "      <td>0.0</td>\n",
       "      <td>0.0</td>\n",
       "      <td>0.0</td>\n",
       "      <td>0.0</td>\n",
       "      <td>0.0</td>\n",
       "      <td>0.0</td>\n",
       "    </tr>\n",
       "    <tr>\n",
       "      <th>4</th>\n",
       "      <td>0.0</td>\n",
       "      <td>0.0</td>\n",
       "      <td>0.0</td>\n",
       "      <td>0.0</td>\n",
       "      <td>0.0</td>\n",
       "      <td>0.0</td>\n",
       "      <td>0.0</td>\n",
       "      <td>0.0</td>\n",
       "      <td>0.0</td>\n",
       "      <td>0.0</td>\n",
       "      <td>...</td>\n",
       "      <td>0.0</td>\n",
       "      <td>0.0</td>\n",
       "      <td>0.0</td>\n",
       "      <td>0.0</td>\n",
       "      <td>0.0</td>\n",
       "      <td>0.0</td>\n",
       "      <td>0.0</td>\n",
       "      <td>0.0</td>\n",
       "      <td>0.0</td>\n",
       "      <td>0.0</td>\n",
       "    </tr>\n",
       "  </tbody>\n",
       "</table>\n",
       "<p>5 rows × 303 columns</p>\n",
       "</div>"
      ],
      "text/plain": [
       "   cod  fig  egg  gin  ham  oat  nut  pea  rum  rye  ...  fortified wine  \\\n",
       "0  0.0  0.0  0.0  0.0  0.0  0.0  0.0  0.0  0.0  0.0  ...             0.0   \n",
       "1  0.0  0.0  0.0  0.0  0.0  0.0  0.0  0.0  0.0  0.0  ...             0.0   \n",
       "2  0.0  0.0  0.0  0.0  0.0  0.0  0.0  0.0  0.0  0.0  ...             0.0   \n",
       "3  0.0  0.0  0.0  0.0  0.0  0.0  0.0  0.0  0.0  0.0  ...             0.0   \n",
       "4  0.0  0.0  0.0  0.0  0.0  0.0  0.0  0.0  0.0  0.0  ...             0.0   \n",
       "\n",
       "   sparkling wine  sugar snap pea  beef tenderloin  cranberry sauce  \\\n",
       "0             0.0             0.0              0.0              0.0   \n",
       "1             0.0             0.0              0.0              0.0   \n",
       "2             0.0             0.0              0.0              0.0   \n",
       "3             0.0             0.0              0.0              0.0   \n",
       "4             0.0             0.0              0.0              0.0   \n",
       "\n",
       "   pork tenderloin  poultry sausage  pomegranate juice  jerusalem artichoke  \\\n",
       "0              0.0              0.0                0.0                  0.0   \n",
       "1              0.0              0.0                0.0                  0.0   \n",
       "2              0.0              0.0                0.0                  0.0   \n",
       "3              0.0              0.0                0.0                  0.0   \n",
       "4              0.0              0.0                0.0                  0.0   \n",
       "\n",
       "   hominy/cornmeal/masa  \n",
       "0                   0.0  \n",
       "1                   0.0  \n",
       "2                   0.0  \n",
       "3                   0.0  \n",
       "4                   0.0  \n",
       "\n",
       "[5 rows x 303 columns]"
      ]
     },
     "execution_count": 6,
     "metadata": {},
     "output_type": "execute_result"
    }
   ],
   "source": [
    "X.head()"
   ]
  },
  {
   "cell_type": "code",
   "execution_count": 7,
   "id": "6617bd4a",
   "metadata": {},
   "outputs": [
    {
     "data": {
      "text/html": [
       "<div>\n",
       "<style scoped>\n",
       "    .dataframe tbody tr th:only-of-type {\n",
       "        vertical-align: middle;\n",
       "    }\n",
       "\n",
       "    .dataframe tbody tr th {\n",
       "        vertical-align: top;\n",
       "    }\n",
       "\n",
       "    .dataframe thead th {\n",
       "        text-align: right;\n",
       "    }\n",
       "</style>\n",
       "<table border=\"1\" class=\"dataframe\">\n",
       "  <thead>\n",
       "    <tr style=\"text-align: right;\">\n",
       "      <th></th>\n",
       "      <th>rating</th>\n",
       "    </tr>\n",
       "  </thead>\n",
       "  <tbody>\n",
       "    <tr>\n",
       "      <th>0</th>\n",
       "      <td>2.500</td>\n",
       "    </tr>\n",
       "    <tr>\n",
       "      <th>1</th>\n",
       "      <td>4.375</td>\n",
       "    </tr>\n",
       "    <tr>\n",
       "      <th>2</th>\n",
       "      <td>3.750</td>\n",
       "    </tr>\n",
       "    <tr>\n",
       "      <th>3</th>\n",
       "      <td>5.000</td>\n",
       "    </tr>\n",
       "    <tr>\n",
       "      <th>4</th>\n",
       "      <td>3.125</td>\n",
       "    </tr>\n",
       "  </tbody>\n",
       "</table>\n",
       "</div>"
      ],
      "text/plain": [
       "   rating\n",
       "0   2.500\n",
       "1   4.375\n",
       "2   3.750\n",
       "3   5.000\n",
       "4   3.125"
      ]
     },
     "execution_count": 7,
     "metadata": {},
     "output_type": "execute_result"
    }
   ],
   "source": [
    "y.head()"
   ]
  },
  {
   "cell_type": "markdown",
   "id": "0b63f0a1",
   "metadata": {},
   "source": [
    "Use `train_test_split()` function for splitting `y` target:"
   ]
  },
  {
   "cell_type": "code",
   "execution_count": 8,
   "id": "89f26d1c",
   "metadata": {},
   "outputs": [],
   "source": [
    "X_train, X_test, y_train, y_test = train_test_split(\n",
    "    X,\n",
    "    y,\n",
    "    test_size=0.2,\n",
    "    random_state=21,\n",
    ")"
   ]
  },
  {
   "cell_type": "markdown",
   "id": "412af511",
   "metadata": {},
   "source": [
    "Check `X_train`, `X_test`, `y_train`, `y_test` variables:"
   ]
  },
  {
   "cell_type": "code",
   "execution_count": 9,
   "id": "4ee0d92d",
   "metadata": {},
   "outputs": [
    {
     "data": {
      "text/html": [
       "<div>\n",
       "<style scoped>\n",
       "    .dataframe tbody tr th:only-of-type {\n",
       "        vertical-align: middle;\n",
       "    }\n",
       "\n",
       "    .dataframe tbody tr th {\n",
       "        vertical-align: top;\n",
       "    }\n",
       "\n",
       "    .dataframe thead th {\n",
       "        text-align: right;\n",
       "    }\n",
       "</style>\n",
       "<table border=\"1\" class=\"dataframe\">\n",
       "  <thead>\n",
       "    <tr style=\"text-align: right;\">\n",
       "      <th></th>\n",
       "      <th>cod</th>\n",
       "      <th>fig</th>\n",
       "      <th>egg</th>\n",
       "      <th>gin</th>\n",
       "      <th>ham</th>\n",
       "      <th>oat</th>\n",
       "      <th>nut</th>\n",
       "      <th>pea</th>\n",
       "      <th>rum</th>\n",
       "      <th>rye</th>\n",
       "      <th>...</th>\n",
       "      <th>fortified wine</th>\n",
       "      <th>sparkling wine</th>\n",
       "      <th>sugar snap pea</th>\n",
       "      <th>beef tenderloin</th>\n",
       "      <th>cranberry sauce</th>\n",
       "      <th>pork tenderloin</th>\n",
       "      <th>poultry sausage</th>\n",
       "      <th>pomegranate juice</th>\n",
       "      <th>jerusalem artichoke</th>\n",
       "      <th>hominy/cornmeal/masa</th>\n",
       "    </tr>\n",
       "  </thead>\n",
       "  <tbody>\n",
       "    <tr>\n",
       "      <th>15035</th>\n",
       "      <td>0.0</td>\n",
       "      <td>0.0</td>\n",
       "      <td>0.0</td>\n",
       "      <td>0.0</td>\n",
       "      <td>0.0</td>\n",
       "      <td>0.0</td>\n",
       "      <td>0.0</td>\n",
       "      <td>0.0</td>\n",
       "      <td>0.0</td>\n",
       "      <td>0.0</td>\n",
       "      <td>...</td>\n",
       "      <td>0.0</td>\n",
       "      <td>1.0</td>\n",
       "      <td>0.0</td>\n",
       "      <td>0.0</td>\n",
       "      <td>0.0</td>\n",
       "      <td>0.0</td>\n",
       "      <td>0.0</td>\n",
       "      <td>0.0</td>\n",
       "      <td>0.0</td>\n",
       "      <td>0.0</td>\n",
       "    </tr>\n",
       "    <tr>\n",
       "      <th>15435</th>\n",
       "      <td>0.0</td>\n",
       "      <td>0.0</td>\n",
       "      <td>0.0</td>\n",
       "      <td>0.0</td>\n",
       "      <td>0.0</td>\n",
       "      <td>0.0</td>\n",
       "      <td>0.0</td>\n",
       "      <td>0.0</td>\n",
       "      <td>0.0</td>\n",
       "      <td>0.0</td>\n",
       "      <td>...</td>\n",
       "      <td>0.0</td>\n",
       "      <td>0.0</td>\n",
       "      <td>0.0</td>\n",
       "      <td>0.0</td>\n",
       "      <td>0.0</td>\n",
       "      <td>0.0</td>\n",
       "      <td>0.0</td>\n",
       "      <td>0.0</td>\n",
       "      <td>0.0</td>\n",
       "      <td>0.0</td>\n",
       "    </tr>\n",
       "    <tr>\n",
       "      <th>1790</th>\n",
       "      <td>0.0</td>\n",
       "      <td>0.0</td>\n",
       "      <td>0.0</td>\n",
       "      <td>1.0</td>\n",
       "      <td>0.0</td>\n",
       "      <td>0.0</td>\n",
       "      <td>0.0</td>\n",
       "      <td>0.0</td>\n",
       "      <td>0.0</td>\n",
       "      <td>0.0</td>\n",
       "      <td>...</td>\n",
       "      <td>0.0</td>\n",
       "      <td>0.0</td>\n",
       "      <td>0.0</td>\n",
       "      <td>0.0</td>\n",
       "      <td>0.0</td>\n",
       "      <td>0.0</td>\n",
       "      <td>0.0</td>\n",
       "      <td>0.0</td>\n",
       "      <td>0.0</td>\n",
       "      <td>0.0</td>\n",
       "    </tr>\n",
       "    <tr>\n",
       "      <th>8329</th>\n",
       "      <td>0.0</td>\n",
       "      <td>0.0</td>\n",
       "      <td>0.0</td>\n",
       "      <td>0.0</td>\n",
       "      <td>0.0</td>\n",
       "      <td>0.0</td>\n",
       "      <td>0.0</td>\n",
       "      <td>0.0</td>\n",
       "      <td>0.0</td>\n",
       "      <td>0.0</td>\n",
       "      <td>...</td>\n",
       "      <td>0.0</td>\n",
       "      <td>0.0</td>\n",
       "      <td>0.0</td>\n",
       "      <td>0.0</td>\n",
       "      <td>0.0</td>\n",
       "      <td>0.0</td>\n",
       "      <td>0.0</td>\n",
       "      <td>0.0</td>\n",
       "      <td>0.0</td>\n",
       "      <td>0.0</td>\n",
       "    </tr>\n",
       "    <tr>\n",
       "      <th>3195</th>\n",
       "      <td>0.0</td>\n",
       "      <td>0.0</td>\n",
       "      <td>0.0</td>\n",
       "      <td>0.0</td>\n",
       "      <td>0.0</td>\n",
       "      <td>0.0</td>\n",
       "      <td>0.0</td>\n",
       "      <td>0.0</td>\n",
       "      <td>0.0</td>\n",
       "      <td>0.0</td>\n",
       "      <td>...</td>\n",
       "      <td>0.0</td>\n",
       "      <td>0.0</td>\n",
       "      <td>0.0</td>\n",
       "      <td>0.0</td>\n",
       "      <td>0.0</td>\n",
       "      <td>0.0</td>\n",
       "      <td>0.0</td>\n",
       "      <td>0.0</td>\n",
       "      <td>0.0</td>\n",
       "      <td>0.0</td>\n",
       "    </tr>\n",
       "  </tbody>\n",
       "</table>\n",
       "<p>5 rows × 303 columns</p>\n",
       "</div>"
      ],
      "text/plain": [
       "       cod  fig  egg  gin  ham  oat  nut  pea  rum  rye  ...  fortified wine  \\\n",
       "15035  0.0  0.0  0.0  0.0  0.0  0.0  0.0  0.0  0.0  0.0  ...             0.0   \n",
       "15435  0.0  0.0  0.0  0.0  0.0  0.0  0.0  0.0  0.0  0.0  ...             0.0   \n",
       "1790   0.0  0.0  0.0  1.0  0.0  0.0  0.0  0.0  0.0  0.0  ...             0.0   \n",
       "8329   0.0  0.0  0.0  0.0  0.0  0.0  0.0  0.0  0.0  0.0  ...             0.0   \n",
       "3195   0.0  0.0  0.0  0.0  0.0  0.0  0.0  0.0  0.0  0.0  ...             0.0   \n",
       "\n",
       "       sparkling wine  sugar snap pea  beef tenderloin  cranberry sauce  \\\n",
       "15035             1.0             0.0              0.0              0.0   \n",
       "15435             0.0             0.0              0.0              0.0   \n",
       "1790              0.0             0.0              0.0              0.0   \n",
       "8329              0.0             0.0              0.0              0.0   \n",
       "3195              0.0             0.0              0.0              0.0   \n",
       "\n",
       "       pork tenderloin  poultry sausage  pomegranate juice  \\\n",
       "15035              0.0              0.0                0.0   \n",
       "15435              0.0              0.0                0.0   \n",
       "1790               0.0              0.0                0.0   \n",
       "8329               0.0              0.0                0.0   \n",
       "3195               0.0              0.0                0.0   \n",
       "\n",
       "       jerusalem artichoke  hominy/cornmeal/masa  \n",
       "15035                  0.0                   0.0  \n",
       "15435                  0.0                   0.0  \n",
       "1790                   0.0                   0.0  \n",
       "8329                   0.0                   0.0  \n",
       "3195                   0.0                   0.0  \n",
       "\n",
       "[5 rows x 303 columns]"
      ]
     },
     "execution_count": 9,
     "metadata": {},
     "output_type": "execute_result"
    }
   ],
   "source": [
    "X_train.head()"
   ]
  },
  {
   "cell_type": "code",
   "execution_count": 10,
   "id": "98eb60ed",
   "metadata": {},
   "outputs": [
    {
     "data": {
      "text/html": [
       "<div>\n",
       "<style scoped>\n",
       "    .dataframe tbody tr th:only-of-type {\n",
       "        vertical-align: middle;\n",
       "    }\n",
       "\n",
       "    .dataframe tbody tr th {\n",
       "        vertical-align: top;\n",
       "    }\n",
       "\n",
       "    .dataframe thead th {\n",
       "        text-align: right;\n",
       "    }\n",
       "</style>\n",
       "<table border=\"1\" class=\"dataframe\">\n",
       "  <thead>\n",
       "    <tr style=\"text-align: right;\">\n",
       "      <th></th>\n",
       "      <th>cod</th>\n",
       "      <th>fig</th>\n",
       "      <th>egg</th>\n",
       "      <th>gin</th>\n",
       "      <th>ham</th>\n",
       "      <th>oat</th>\n",
       "      <th>nut</th>\n",
       "      <th>pea</th>\n",
       "      <th>rum</th>\n",
       "      <th>rye</th>\n",
       "      <th>...</th>\n",
       "      <th>fortified wine</th>\n",
       "      <th>sparkling wine</th>\n",
       "      <th>sugar snap pea</th>\n",
       "      <th>beef tenderloin</th>\n",
       "      <th>cranberry sauce</th>\n",
       "      <th>pork tenderloin</th>\n",
       "      <th>poultry sausage</th>\n",
       "      <th>pomegranate juice</th>\n",
       "      <th>jerusalem artichoke</th>\n",
       "      <th>hominy/cornmeal/masa</th>\n",
       "    </tr>\n",
       "  </thead>\n",
       "  <tbody>\n",
       "    <tr>\n",
       "      <th>8900</th>\n",
       "      <td>0.0</td>\n",
       "      <td>0.0</td>\n",
       "      <td>0.0</td>\n",
       "      <td>0.0</td>\n",
       "      <td>0.0</td>\n",
       "      <td>0.0</td>\n",
       "      <td>0.0</td>\n",
       "      <td>0.0</td>\n",
       "      <td>0.0</td>\n",
       "      <td>0.0</td>\n",
       "      <td>...</td>\n",
       "      <td>0.0</td>\n",
       "      <td>0.0</td>\n",
       "      <td>0.0</td>\n",
       "      <td>0.0</td>\n",
       "      <td>0.0</td>\n",
       "      <td>0.0</td>\n",
       "      <td>0.0</td>\n",
       "      <td>0.0</td>\n",
       "      <td>0.0</td>\n",
       "      <td>0.0</td>\n",
       "    </tr>\n",
       "    <tr>\n",
       "      <th>17863</th>\n",
       "      <td>0.0</td>\n",
       "      <td>0.0</td>\n",
       "      <td>0.0</td>\n",
       "      <td>0.0</td>\n",
       "      <td>0.0</td>\n",
       "      <td>0.0</td>\n",
       "      <td>0.0</td>\n",
       "      <td>0.0</td>\n",
       "      <td>0.0</td>\n",
       "      <td>0.0</td>\n",
       "      <td>...</td>\n",
       "      <td>0.0</td>\n",
       "      <td>0.0</td>\n",
       "      <td>0.0</td>\n",
       "      <td>0.0</td>\n",
       "      <td>0.0</td>\n",
       "      <td>0.0</td>\n",
       "      <td>0.0</td>\n",
       "      <td>0.0</td>\n",
       "      <td>0.0</td>\n",
       "      <td>0.0</td>\n",
       "    </tr>\n",
       "    <tr>\n",
       "      <th>10688</th>\n",
       "      <td>0.0</td>\n",
       "      <td>0.0</td>\n",
       "      <td>0.0</td>\n",
       "      <td>0.0</td>\n",
       "      <td>0.0</td>\n",
       "      <td>0.0</td>\n",
       "      <td>0.0</td>\n",
       "      <td>0.0</td>\n",
       "      <td>0.0</td>\n",
       "      <td>0.0</td>\n",
       "      <td>...</td>\n",
       "      <td>0.0</td>\n",
       "      <td>0.0</td>\n",
       "      <td>0.0</td>\n",
       "      <td>0.0</td>\n",
       "      <td>0.0</td>\n",
       "      <td>1.0</td>\n",
       "      <td>0.0</td>\n",
       "      <td>0.0</td>\n",
       "      <td>0.0</td>\n",
       "      <td>0.0</td>\n",
       "    </tr>\n",
       "    <tr>\n",
       "      <th>17923</th>\n",
       "      <td>0.0</td>\n",
       "      <td>0.0</td>\n",
       "      <td>0.0</td>\n",
       "      <td>0.0</td>\n",
       "      <td>0.0</td>\n",
       "      <td>0.0</td>\n",
       "      <td>0.0</td>\n",
       "      <td>0.0</td>\n",
       "      <td>0.0</td>\n",
       "      <td>0.0</td>\n",
       "      <td>...</td>\n",
       "      <td>0.0</td>\n",
       "      <td>0.0</td>\n",
       "      <td>0.0</td>\n",
       "      <td>0.0</td>\n",
       "      <td>0.0</td>\n",
       "      <td>0.0</td>\n",
       "      <td>0.0</td>\n",
       "      <td>0.0</td>\n",
       "      <td>0.0</td>\n",
       "      <td>0.0</td>\n",
       "    </tr>\n",
       "    <tr>\n",
       "      <th>3607</th>\n",
       "      <td>0.0</td>\n",
       "      <td>0.0</td>\n",
       "      <td>0.0</td>\n",
       "      <td>0.0</td>\n",
       "      <td>0.0</td>\n",
       "      <td>0.0</td>\n",
       "      <td>0.0</td>\n",
       "      <td>0.0</td>\n",
       "      <td>0.0</td>\n",
       "      <td>0.0</td>\n",
       "      <td>...</td>\n",
       "      <td>0.0</td>\n",
       "      <td>0.0</td>\n",
       "      <td>0.0</td>\n",
       "      <td>0.0</td>\n",
       "      <td>0.0</td>\n",
       "      <td>0.0</td>\n",
       "      <td>0.0</td>\n",
       "      <td>0.0</td>\n",
       "      <td>0.0</td>\n",
       "      <td>0.0</td>\n",
       "    </tr>\n",
       "  </tbody>\n",
       "</table>\n",
       "<p>5 rows × 303 columns</p>\n",
       "</div>"
      ],
      "text/plain": [
       "       cod  fig  egg  gin  ham  oat  nut  pea  rum  rye  ...  fortified wine  \\\n",
       "8900   0.0  0.0  0.0  0.0  0.0  0.0  0.0  0.0  0.0  0.0  ...             0.0   \n",
       "17863  0.0  0.0  0.0  0.0  0.0  0.0  0.0  0.0  0.0  0.0  ...             0.0   \n",
       "10688  0.0  0.0  0.0  0.0  0.0  0.0  0.0  0.0  0.0  0.0  ...             0.0   \n",
       "17923  0.0  0.0  0.0  0.0  0.0  0.0  0.0  0.0  0.0  0.0  ...             0.0   \n",
       "3607   0.0  0.0  0.0  0.0  0.0  0.0  0.0  0.0  0.0  0.0  ...             0.0   \n",
       "\n",
       "       sparkling wine  sugar snap pea  beef tenderloin  cranberry sauce  \\\n",
       "8900              0.0             0.0              0.0              0.0   \n",
       "17863             0.0             0.0              0.0              0.0   \n",
       "10688             0.0             0.0              0.0              0.0   \n",
       "17923             0.0             0.0              0.0              0.0   \n",
       "3607              0.0             0.0              0.0              0.0   \n",
       "\n",
       "       pork tenderloin  poultry sausage  pomegranate juice  \\\n",
       "8900               0.0              0.0                0.0   \n",
       "17863              0.0              0.0                0.0   \n",
       "10688              1.0              0.0                0.0   \n",
       "17923              0.0              0.0                0.0   \n",
       "3607               0.0              0.0                0.0   \n",
       "\n",
       "       jerusalem artichoke  hominy/cornmeal/masa  \n",
       "8900                   0.0                   0.0  \n",
       "17863                  0.0                   0.0  \n",
       "10688                  0.0                   0.0  \n",
       "17923                  0.0                   0.0  \n",
       "3607                   0.0                   0.0  \n",
       "\n",
       "[5 rows x 303 columns]"
      ]
     },
     "execution_count": 10,
     "metadata": {},
     "output_type": "execute_result"
    }
   ],
   "source": [
    "X_test.head()"
   ]
  },
  {
   "cell_type": "code",
   "execution_count": 11,
   "id": "4c152e2d",
   "metadata": {},
   "outputs": [
    {
     "data": {
      "text/html": [
       "<div>\n",
       "<style scoped>\n",
       "    .dataframe tbody tr th:only-of-type {\n",
       "        vertical-align: middle;\n",
       "    }\n",
       "\n",
       "    .dataframe tbody tr th {\n",
       "        vertical-align: top;\n",
       "    }\n",
       "\n",
       "    .dataframe thead th {\n",
       "        text-align: right;\n",
       "    }\n",
       "</style>\n",
       "<table border=\"1\" class=\"dataframe\">\n",
       "  <thead>\n",
       "    <tr style=\"text-align: right;\">\n",
       "      <th></th>\n",
       "      <th>rating</th>\n",
       "    </tr>\n",
       "  </thead>\n",
       "  <tbody>\n",
       "    <tr>\n",
       "      <th>15035</th>\n",
       "      <td>0.000</td>\n",
       "    </tr>\n",
       "    <tr>\n",
       "      <th>15435</th>\n",
       "      <td>3.125</td>\n",
       "    </tr>\n",
       "    <tr>\n",
       "      <th>1790</th>\n",
       "      <td>0.000</td>\n",
       "    </tr>\n",
       "    <tr>\n",
       "      <th>8329</th>\n",
       "      <td>0.000</td>\n",
       "    </tr>\n",
       "    <tr>\n",
       "      <th>3195</th>\n",
       "      <td>3.750</td>\n",
       "    </tr>\n",
       "  </tbody>\n",
       "</table>\n",
       "</div>"
      ],
      "text/plain": [
       "       rating\n",
       "15035   0.000\n",
       "15435   3.125\n",
       "1790    0.000\n",
       "8329    0.000\n",
       "3195    3.750"
      ]
     },
     "execution_count": 11,
     "metadata": {},
     "output_type": "execute_result"
    }
   ],
   "source": [
    "y_train.head()"
   ]
  },
  {
   "cell_type": "code",
   "execution_count": 12,
   "id": "bc4ddaa3",
   "metadata": {},
   "outputs": [
    {
     "data": {
      "text/html": [
       "<div>\n",
       "<style scoped>\n",
       "    .dataframe tbody tr th:only-of-type {\n",
       "        vertical-align: middle;\n",
       "    }\n",
       "\n",
       "    .dataframe tbody tr th {\n",
       "        vertical-align: top;\n",
       "    }\n",
       "\n",
       "    .dataframe thead th {\n",
       "        text-align: right;\n",
       "    }\n",
       "</style>\n",
       "<table border=\"1\" class=\"dataframe\">\n",
       "  <thead>\n",
       "    <tr style=\"text-align: right;\">\n",
       "      <th></th>\n",
       "      <th>rating</th>\n",
       "    </tr>\n",
       "  </thead>\n",
       "  <tbody>\n",
       "    <tr>\n",
       "      <th>8900</th>\n",
       "      <td>4.375</td>\n",
       "    </tr>\n",
       "    <tr>\n",
       "      <th>17863</th>\n",
       "      <td>4.375</td>\n",
       "    </tr>\n",
       "    <tr>\n",
       "      <th>10688</th>\n",
       "      <td>4.375</td>\n",
       "    </tr>\n",
       "    <tr>\n",
       "      <th>17923</th>\n",
       "      <td>4.375</td>\n",
       "    </tr>\n",
       "    <tr>\n",
       "      <th>3607</th>\n",
       "      <td>4.375</td>\n",
       "    </tr>\n",
       "  </tbody>\n",
       "</table>\n",
       "</div>"
      ],
      "text/plain": [
       "       rating\n",
       "8900    4.375\n",
       "17863   4.375\n",
       "10688   4.375\n",
       "17923   4.375\n",
       "3607    4.375"
      ]
     },
     "execution_count": 12,
     "metadata": {},
     "output_type": "execute_result"
    }
   ],
   "source": [
    "y_test.head()"
   ]
  },
  {
   "cell_type": "markdown",
   "id": "bfbddda6",
   "metadata": {},
   "source": [
    "## Prediction:"
   ]
  },
  {
   "cell_type": "markdown",
   "id": "ab38e648",
   "metadata": {},
   "source": [
    "### Naive solution:"
   ]
  },
  {
   "cell_type": "markdown",
   "id": "91bbc3ba",
   "metadata": {},
   "source": [
    "Print the naive solution `RMSE` metric score:"
   ]
  },
  {
   "cell_type": "code",
   "execution_count": 13,
   "id": "7137b0a1",
   "metadata": {},
   "outputs": [
    {
     "name": "stdout",
     "output_type": "stream",
     "text": [
      "The naive solution RMSE metric is 1.341.\n"
     ]
    }
   ],
   "source": [
    "print(\n",
    "    f\"The naive solution RMSE metric is {\n",
    "        mean_squared_error(\n",
    "            y,\n",
    "            [round(average(y, ), 3, ), ] * len(y, ),\n",
    "        ) ** 0.5:.3f\n",
    "    }.\",\n",
    ")"
   ]
  },
  {
   "cell_type": "markdown",
   "id": "381cde9b",
   "metadata": {},
   "source": [
    "### *Linear regression* model:"
   ]
  },
  {
   "cell_type": "markdown",
   "id": "cadb2690",
   "metadata": {},
   "source": [
    "Create a model of *linear regression*:"
   ]
  },
  {
   "cell_type": "code",
   "execution_count": 14,
   "id": "8fc88689",
   "metadata": {},
   "outputs": [],
   "source": [
    "lin_reg_model: LinearRegression = LinearRegression(n_jobs=-1, )"
   ]
  },
  {
   "cell_type": "markdown",
   "id": "6a0e928d",
   "metadata": {},
   "source": [
    "Print the *linear regression cross-validation* model *RMSE* metric score:"
   ]
  },
  {
   "cell_type": "code",
   "execution_count": 15,
   "id": "23e722c3",
   "metadata": {},
   "outputs": [
    {
     "name": "stdout",
     "output_type": "stream",
     "text": [
      "The linear regression cross-validation model RMSE metric score is 1.286.\n"
     ]
    }
   ],
   "source": [
    "print(\n",
    "    f\"The linear regression cross-validation model RMSE metric score is {\n",
    "        -cross_val_score(\n",
    "            X=X,\n",
    "            y=y,\n",
    "            cv=15,\n",
    "            n_jobs=-1,\n",
    "            estimator=lin_reg_model,\n",
    "            scoring=\"neg_root_mean_squared_error\",\n",
    "        ).mean():.3f\n",
    "    }.\",\n",
    ")"
   ]
  },
  {
   "cell_type": "markdown",
   "id": "e2af0fff",
   "metadata": {},
   "source": [
    "Create a parameters grid for the *linear regression* model:"
   ]
  },
  {
   "cell_type": "code",
   "execution_count": 16,
   "id": "3166b987",
   "metadata": {},
   "outputs": [],
   "source": [
    "lin_reg_model_params_grid: dict[str, list[bool]] = {\n",
    "    \"positive\": [True, False, ],\n",
    "    \"fit_intercept\": [True, False, ],\n",
    "}"
   ]
  },
  {
   "cell_type": "markdown",
   "id": "54a0158f",
   "metadata": {},
   "source": [
    "Create a *gridsearch* model of the *linear regression* model:"
   ]
  },
  {
   "cell_type": "code",
   "execution_count": 17,
   "id": "ff7b9c33",
   "metadata": {},
   "outputs": [],
   "source": [
    "lin_reg_grid_search_model: GridSearchCV = GridSearchCV(\n",
    "    cv=10,\n",
    "    n_jobs=-1,\n",
    "    estimator=lin_reg_model,\n",
    "    param_grid=lin_reg_model_params_grid,\n",
    "    scoring=\"neg_root_mean_squared_error\",\n",
    ")"
   ]
  },
  {
   "cell_type": "markdown",
   "id": "260d9f81",
   "metadata": {},
   "source": [
    "Train the *gridsearch* model of the *linear regression* model:"
   ]
  },
  {
   "cell_type": "code",
   "execution_count": 18,
   "id": "aecf23df",
   "metadata": {},
   "outputs": [],
   "source": [
    "lin_reg_grid_search_model.fit(X, y, );"
   ]
  },
  {
   "cell_type": "markdown",
   "id": "a1eb4122",
   "metadata": {},
   "source": [
    "Print the best *linear regression* model *RMSE* metric score:"
   ]
  },
  {
   "cell_type": "code",
   "execution_count": 19,
   "id": "51b60f56",
   "metadata": {},
   "outputs": [
    {
     "name": "stdout",
     "output_type": "stream",
     "text": [
      "The best linear regression model RMSE metric score is 1.286.\n"
     ]
    }
   ],
   "source": [
    "print(\n",
    "    f\"The best linear regression model RMSE metric score is {\n",
    "        -lin_reg_grid_search_model.best_score_:.3f\n",
    "    }.\",\n",
    ")"
   ]
  },
  {
   "cell_type": "markdown",
   "id": "d95fa9d6",
   "metadata": {},
   "source": [
    "### *Ridge linear regression* model:"
   ]
  },
  {
   "cell_type": "markdown",
   "id": "1c8bd147",
   "metadata": {},
   "source": [
    "Create a model of *ridge linear regression*:"
   ]
  },
  {
   "cell_type": "code",
   "execution_count": 20,
   "id": "a99aabd8",
   "metadata": {},
   "outputs": [],
   "source": [
    "ridge_lin_reg_model: Ridge = Ridge(random_state=21, )"
   ]
  },
  {
   "cell_type": "markdown",
   "id": "950488c0",
   "metadata": {},
   "source": [
    "Print the *ridge linear regression cross-validation* model *RMSE* metric score:"
   ]
  },
  {
   "cell_type": "code",
   "execution_count": 21,
   "id": "acc46f20",
   "metadata": {},
   "outputs": [
    {
     "name": "stdout",
     "output_type": "stream",
     "text": [
      "The ridge linear regression cross-validation model RMSE metric score is 1.284.\n"
     ]
    }
   ],
   "source": [
    "print(\n",
    "    f\"The ridge linear regression cross-validation model RMSE metric score is {\n",
    "        -cross_val_score(\n",
    "            X=X,\n",
    "            y=y,\n",
    "            cv=20,\n",
    "            n_jobs=-1,\n",
    "            estimator=ridge_lin_reg_model,\n",
    "            scoring=\"neg_root_mean_squared_error\",\n",
    "        ).mean():.3f\n",
    "    }.\",\n",
    ")"
   ]
  },
  {
   "cell_type": "markdown",
   "id": "83603982",
   "metadata": {},
   "source": [
    "Create a parameters grid for the *ridge linear regression* model:"
   ]
  },
  {
   "cell_type": "code",
   "execution_count": 22,
   "id": "8b6f367b",
   "metadata": {},
   "outputs": [],
   "source": [
    "ridge_lin_reg_model_params_grid: dict[str, list[Any]] = {\n",
    "    \"positive\": [True, False, ],\n",
    "    \"fit_intercept\": [True, False, ],\n",
    "    \"alpha\": [\n",
    "        0,\n",
    "        0.5,\n",
    "        1,\n",
    "        1.5,\n",
    "    ],\n",
    "    \"solver\": [\n",
    "        \"svd\",\n",
    "        \"sag\",\n",
    "        \"lsqr\",\n",
    "        \"saga\",\n",
    "        \"lbfgs\",\n",
    "        \"cholesky\",\n",
    "        \"sparse_cg\",\n",
    "    ],\n",
    "}"
   ]
  },
  {
   "cell_type": "markdown",
   "id": "bb0251a8",
   "metadata": {},
   "source": [
    "Create a *gridsearch* model of the *ridge linear regression* model:"
   ]
  },
  {
   "cell_type": "code",
   "execution_count": 23,
   "id": "d32c2ea9",
   "metadata": {},
   "outputs": [],
   "source": [
    "ridge_lin_reg_grid_search_model: GridSearchCV = GridSearchCV(\n",
    "    cv=5,\n",
    "    n_jobs=-1,\n",
    "    estimator=ridge_lin_reg_model,\n",
    "    scoring=\"neg_root_mean_squared_error\",\n",
    "    param_grid=ridge_lin_reg_model_params_grid,\n",
    ")"
   ]
  },
  {
   "cell_type": "markdown",
   "id": "383ad923",
   "metadata": {},
   "source": [
    "Train the *gridsearch* model of the *ridge linear regression* model:"
   ]
  },
  {
   "cell_type": "code",
   "execution_count": 24,
   "id": "1c0d0e1c",
   "metadata": {},
   "outputs": [],
   "source": [
    "ridge_lin_reg_grid_search_model.fit(X, y, );"
   ]
  },
  {
   "cell_type": "markdown",
   "id": "70de0af7",
   "metadata": {},
   "source": [
    "Print the best *ridge linear regression* model *RMSE* metric score:"
   ]
  },
  {
   "cell_type": "code",
   "execution_count": 25,
   "id": "da088dfa",
   "metadata": {},
   "outputs": [
    {
     "name": "stdout",
     "output_type": "stream",
     "text": [
      "The best ridge linear regression model RMSE metric score is 1.287.\n"
     ]
    }
   ],
   "source": [
    "print(\n",
    "    f\"The best ridge linear regression model RMSE metric score is {\n",
    "        -ridge_lin_reg_grid_search_model.best_score_:.3f\n",
    "    }.\",\n",
    ")"
   ]
  },
  {
   "cell_type": "markdown",
   "id": "109e65b2",
   "metadata": {},
   "source": [
    "### *Lasso linear regression* model:"
   ]
  },
  {
   "cell_type": "markdown",
   "id": "23a6e275",
   "metadata": {},
   "source": [
    "Create a model of *lasso linear regression*:"
   ]
  },
  {
   "cell_type": "code",
   "execution_count": 26,
   "id": "f24258c1",
   "metadata": {},
   "outputs": [],
   "source": [
    "lasso_lin_reg_model: Lasso = Lasso(random_state=21, )"
   ]
  },
  {
   "cell_type": "markdown",
   "id": "acb15e1a",
   "metadata": {},
   "source": [
    "Print the *lasso linear regression cross-validation* model *RMSE* metric score:"
   ]
  },
  {
   "cell_type": "code",
   "execution_count": 27,
   "id": "6346e845",
   "metadata": {},
   "outputs": [
    {
     "name": "stdout",
     "output_type": "stream",
     "text": [
      "The lasso linear regression cross-validation model RMSE metric score is 1.340.\n"
     ]
    }
   ],
   "source": [
    "print(\n",
    "    f\"The lasso linear regression cross-validation model RMSE metric score is {\n",
    "        -cross_val_score(\n",
    "            X=X,\n",
    "            y=y,\n",
    "            cv=20,\n",
    "            n_jobs=-1,\n",
    "            estimator=lasso_lin_reg_model,\n",
    "            scoring=\"neg_root_mean_squared_error\",\n",
    "        ).mean():.3f\n",
    "    }.\",\n",
    ")"
   ]
  },
  {
   "cell_type": "markdown",
   "id": "d7de44a6",
   "metadata": {},
   "source": [
    "Create a parameters grid for the *lasso linear regression* model:"
   ]
  },
  {
   "cell_type": "code",
   "execution_count": 28,
   "id": "a13c455e",
   "metadata": {},
   "outputs": [],
   "source": [
    "lasso_lin_reg_model_params_grid: dict[str, list[Any]] = {\n",
    "    \"positive\": [True, False, ],\n",
    "    \"warm_start\": [True, False, ],\n",
    "    \"fit_intercept\": [True, False, ],\n",
    "    \"selection\": [\"random\", \"cyclic\", ],\n",
    "    \"alpha\": [\n",
    "        0.1,\n",
    "        0.5,\n",
    "        1,\n",
    "        1.5,\n",
    "    ],\n",
    "}"
   ]
  },
  {
   "cell_type": "markdown",
   "id": "f7002110",
   "metadata": {},
   "source": [
    "Create a *gridsearch* model of the *lasso linear regression* model:"
   ]
  },
  {
   "cell_type": "code",
   "execution_count": 29,
   "id": "3f33c775",
   "metadata": {},
   "outputs": [],
   "source": [
    "lasso_lin_reg_grid_search_model: GridSearchCV = GridSearchCV(\n",
    "    cv=10,\n",
    "    n_jobs=-1,\n",
    "    estimator=lasso_lin_reg_model,\n",
    "    scoring=\"neg_root_mean_squared_error\",\n",
    "    param_grid=lasso_lin_reg_model_params_grid,\n",
    ")"
   ]
  },
  {
   "cell_type": "markdown",
   "id": "5641d662",
   "metadata": {},
   "source": [
    "Train the *gridsearch* model of the *lasso linear regression* model:"
   ]
  },
  {
   "cell_type": "code",
   "execution_count": 30,
   "id": "b9c0428b",
   "metadata": {},
   "outputs": [],
   "source": [
    "lasso_lin_reg_grid_search_model.fit(X, y, );"
   ]
  },
  {
   "cell_type": "markdown",
   "id": "19682eda",
   "metadata": {},
   "source": [
    "Print the best *lasso linear regression* model *RMSE* metric score:"
   ]
  },
  {
   "cell_type": "code",
   "execution_count": 31,
   "id": "0b7de973",
   "metadata": {},
   "outputs": [
    {
     "name": "stdout",
     "output_type": "stream",
     "text": [
      "The best lasso linear regression model RMSE metric score is 1.341.\n"
     ]
    }
   ],
   "source": [
    "print(\n",
    "    f\"The best lasso linear regression model RMSE metric score is {\n",
    "        -lasso_lin_reg_grid_search_model.best_score_:.3f\n",
    "    }.\",\n",
    ")"
   ]
  },
  {
   "cell_type": "markdown",
   "id": "0ab936a2",
   "metadata": {},
   "source": [
    "### *Elastic net linear regression* model:"
   ]
  },
  {
   "cell_type": "markdown",
   "id": "990691e3",
   "metadata": {},
   "source": [
    "Create a model of *elastic net linear regression*:"
   ]
  },
  {
   "cell_type": "code",
   "execution_count": 32,
   "id": "a68dc049",
   "metadata": {},
   "outputs": [],
   "source": [
    "elastic_net_lin_reg_model: ElasticNet = ElasticNet(random_state=21, )"
   ]
  },
  {
   "cell_type": "markdown",
   "id": "61081fcd",
   "metadata": {},
   "source": [
    "Print the *elastic net linear regression cross-validation* model *RMSE* metric score:"
   ]
  },
  {
   "cell_type": "code",
   "execution_count": 33,
   "id": "721a29c6",
   "metadata": {},
   "outputs": [
    {
     "name": "stdout",
     "output_type": "stream",
     "text": [
      "The elastic net linear regression cross-validation model RMSE metric score is 1.340.\n"
     ]
    }
   ],
   "source": [
    "print(\n",
    "    \"The elastic net linear regression cross-validation model RMSE metric \" +\n",
    "    f\"score is {\n",
    "        -cross_val_score(\n",
    "            X=X,\n",
    "            y=y,\n",
    "            cv=20,\n",
    "            n_jobs=-1,\n",
    "            estimator=elastic_net_lin_reg_model,\n",
    "            scoring=\"neg_root_mean_squared_error\",\n",
    "        ).mean():.3f\n",
    "    }.\",\n",
    ")"
   ]
  },
  {
   "cell_type": "markdown",
   "id": "b3b3d995",
   "metadata": {},
   "source": [
    "Create a parameters grid for the *elastic net linear regression* model:"
   ]
  },
  {
   "cell_type": "code",
   "execution_count": 34,
   "id": "8a88e1ec",
   "metadata": {},
   "outputs": [],
   "source": [
    "elastic_net_lin_reg_model_params_grid: dict[str, list[Any]] = {\n",
    "    \"positive\": [True, False, ],\n",
    "    \"warm_start\": [True, False, ],\n",
    "    \"fit_intercept\": [True, False, ],\n",
    "    \"selection\": [\"random\", \"cyclic\", ],\n",
    "    \"l1_ratio\": [\n",
    "        0.25,\n",
    "        0.5,\n",
    "        0.75,\n",
    "    ],\n",
    "    \"alpha\": [\n",
    "        0.25,\n",
    "        0.5,\n",
    "        1,\n",
    "        1.5,\n",
    "    ],\n",
    "}"
   ]
  },
  {
   "cell_type": "markdown",
   "id": "1a85a11a",
   "metadata": {},
   "source": [
    "Create a *gridsearch* model of the *elastic net linear regression* model:"
   ]
  },
  {
   "cell_type": "code",
   "execution_count": 35,
   "id": "93c50aa9",
   "metadata": {},
   "outputs": [],
   "source": [
    "elastic_net_lin_reg_grid_search_model: GridSearchCV = GridSearchCV(\n",
    "    cv=10,\n",
    "    n_jobs=-1,\n",
    "    estimator=elastic_net_lin_reg_model,\n",
    "    scoring=\"neg_root_mean_squared_error\",\n",
    "    param_grid=elastic_net_lin_reg_model_params_grid,\n",
    ")"
   ]
  },
  {
   "cell_type": "markdown",
   "id": "fa8bc39e",
   "metadata": {},
   "source": [
    "Train the *gridsearch* model of the *elastic net linear regression* model:"
   ]
  },
  {
   "cell_type": "code",
   "execution_count": 36,
   "id": "d9c95f3d",
   "metadata": {},
   "outputs": [],
   "source": [
    "elastic_net_lin_reg_grid_search_model.fit(X, y, );"
   ]
  },
  {
   "cell_type": "markdown",
   "id": "ce6a26c4",
   "metadata": {},
   "source": [
    "Print the best *elastic net linear regression* model *RMSE* metric score:"
   ]
  },
  {
   "cell_type": "code",
   "execution_count": 37,
   "id": "e90267f5",
   "metadata": {},
   "outputs": [
    {
     "name": "stdout",
     "output_type": "stream",
     "text": [
      "The best elastic net linear regression model RMSE metric score is 1.341.\n"
     ]
    }
   ],
   "source": [
    "print(\n",
    "    f\"The best elastic net linear regression model RMSE metric score is {\n",
    "        -elastic_net_lin_reg_grid_search_model.best_score_:.3f\n",
    "    }.\",\n",
    ")"
   ]
  },
  {
   "cell_type": "markdown",
   "id": "cd470e0f",
   "metadata": {},
   "source": [
    "### *Huber regression* model:"
   ]
  },
  {
   "cell_type": "markdown",
   "id": "f5b26430",
   "metadata": {},
   "source": [
    "Create a model of *huber regression*:"
   ]
  },
  {
   "cell_type": "code",
   "execution_count": 38,
   "id": "64236eec",
   "metadata": {},
   "outputs": [],
   "source": [
    "hub_reg_model: HuberRegressor = HuberRegressor()"
   ]
  },
  {
   "cell_type": "markdown",
   "id": "d3b661be",
   "metadata": {},
   "source": [
    "Print the *huber regression cross-validation* model *RMSE* metric score:"
   ]
  },
  {
   "cell_type": "code",
   "execution_count": 39,
   "id": "ab28a775",
   "metadata": {},
   "outputs": [
    {
     "name": "stdout",
     "output_type": "stream",
     "text": [
      "The huber regression cross-validation model RMSE metric score is 1.342.\n"
     ]
    }
   ],
   "source": [
    "print(\n",
    "    f\"The huber regression cross-validation model RMSE metric score is {\n",
    "        -cross_val_score(\n",
    "            X=X,\n",
    "            y=y,\n",
    "            cv=10,\n",
    "            n_jobs=-1,\n",
    "            estimator=hub_reg_model,\n",
    "            scoring=\"neg_root_mean_squared_error\",\n",
    "        ).mean():.3f\n",
    "    }.\",\n",
    ")"
   ]
  },
  {
   "cell_type": "markdown",
   "id": "9da1a961",
   "metadata": {},
   "source": [
    "Create a parameters grid for the *huber regression* model:"
   ]
  },
  {
   "cell_type": "code",
   "execution_count": 40,
   "id": "3ece66f0",
   "metadata": {},
   "outputs": [],
   "source": [
    "hub_reg_model_params_grid: dict[str, list[Any]] = {\n",
    "    \"fit_intercept\": [True, False, ],\n",
    "    \"epsilon\": [\n",
    "        1,\n",
    "        1.2,\n",
    "        1.4,\n",
    "        1.6,\n",
    "    ],\n",
    "}"
   ]
  },
  {
   "cell_type": "markdown",
   "id": "e3576a6c",
   "metadata": {},
   "source": [
    "Create a *gridsearch* model of the *huber regression* model:"
   ]
  },
  {
   "cell_type": "code",
   "execution_count": 41,
   "id": "58872374",
   "metadata": {},
   "outputs": [],
   "source": [
    "hub_reg_grid_search_model: GridSearchCV = GridSearchCV(\n",
    "    cv=5,\n",
    "    n_jobs=-1,\n",
    "    estimator=hub_reg_model,\n",
    "    param_grid=hub_reg_model_params_grid,\n",
    "    scoring=\"neg_root_mean_squared_error\",\n",
    ")"
   ]
  },
  {
   "cell_type": "markdown",
   "id": "9fa12209",
   "metadata": {},
   "source": [
    "Train the *gridsearch* model of the *huber regression* model:"
   ]
  },
  {
   "cell_type": "code",
   "execution_count": 42,
   "id": "66737e29",
   "metadata": {},
   "outputs": [],
   "source": [
    "hub_reg_grid_search_model.fit(X, y, );"
   ]
  },
  {
   "cell_type": "markdown",
   "id": "ab823602",
   "metadata": {},
   "source": [
    "Print the best *huber regression* model *RMSE* metric score:"
   ]
  },
  {
   "cell_type": "code",
   "execution_count": 43,
   "id": "caa18f67",
   "metadata": {},
   "outputs": [
    {
     "name": "stdout",
     "output_type": "stream",
     "text": [
      "The best huber regression model RMSE metric score is 1.329.\n"
     ]
    }
   ],
   "source": [
    "print(\n",
    "    f\"The best huber regression model RMSE metric score is {\n",
    "        -hub_reg_grid_search_model.best_score_:.3f\n",
    "    }.\",\n",
    ")"
   ]
  },
  {
   "cell_type": "markdown",
   "id": "1657e3b5",
   "metadata": {},
   "source": [
    "### *KNN regression* model:"
   ]
  },
  {
   "cell_type": "markdown",
   "id": "ce10e590",
   "metadata": {},
   "source": [
    "Create a model of *KNN regression*:"
   ]
  },
  {
   "cell_type": "code",
   "execution_count": 44,
   "id": "a66cb87b",
   "metadata": {},
   "outputs": [],
   "source": [
    "knn_reg_model: KNeighborsRegressor = KNeighborsRegressor(n_jobs=-1, )"
   ]
  },
  {
   "cell_type": "markdown",
   "id": "dbd8ee75",
   "metadata": {},
   "source": [
    "Print the *KNN regression cross-validation* model *RMSE* metric score:"
   ]
  },
  {
   "cell_type": "code",
   "execution_count": 45,
   "id": "a3878f80",
   "metadata": {},
   "outputs": [
    {
     "name": "stdout",
     "output_type": "stream",
     "text": [
      "The KNN regression cross-validation model RMSE metric score is 1.398.\n"
     ]
    }
   ],
   "source": [
    "print(\n",
    "    f\"The KNN regression cross-validation model RMSE metric score is {\n",
    "        -cross_val_score(\n",
    "            X=X,\n",
    "            y=y,\n",
    "            cv=15,\n",
    "            n_jobs=-1,\n",
    "            estimator=knn_reg_model,\n",
    "            scoring=\"neg_root_mean_squared_error\",\n",
    "        ).mean():.3f\n",
    "    }.\",\n",
    ")"
   ]
  },
  {
   "cell_type": "markdown",
   "id": "87fe553d",
   "metadata": {},
   "source": [
    "Create a parameters grid for the *KNN regression* model:"
   ]
  },
  {
   "cell_type": "code",
   "execution_count": 46,
   "id": "249a9bbf",
   "metadata": {},
   "outputs": [],
   "source": [
    "knn_reg_model_params_grid: dict[str, list[Any]] = {\n",
    "    \"n_neighbors\": [\n",
    "        3,\n",
    "        4,\n",
    "    ],\n",
    "    \"weights\": [\n",
    "        \"uniform\",\n",
    "        \"distance\",\n",
    "    ],\n",
    "    \"algorithm\": [\n",
    "        \"brute\",\n",
    "        \"kd_tree\",\n",
    "        \"ball_tree\",\n",
    "    ],\n",
    "}"
   ]
  },
  {
   "cell_type": "markdown",
   "id": "a59ad9ea",
   "metadata": {},
   "source": [
    "Create a *gridsearch* model of the *KNN regression* model:"
   ]
  },
  {
   "cell_type": "code",
   "execution_count": 47,
   "id": "057239b8",
   "metadata": {},
   "outputs": [],
   "source": [
    "knn_reg_grid_search_model: GridSearchCV = GridSearchCV(\n",
    "    cv=4,\n",
    "    n_jobs=-1,\n",
    "    estimator=knn_reg_model,\n",
    "    param_grid=knn_reg_model_params_grid,\n",
    "    scoring=\"neg_root_mean_squared_error\",\n",
    ")"
   ]
  },
  {
   "cell_type": "markdown",
   "id": "b35bce81",
   "metadata": {},
   "source": [
    "Train the *gridsearch* model of the *KNN regression* model:"
   ]
  },
  {
   "cell_type": "code",
   "execution_count": 48,
   "id": "2bc6a4b6",
   "metadata": {},
   "outputs": [],
   "source": [
    "knn_reg_grid_search_model.fit(X, y, );"
   ]
  },
  {
   "cell_type": "markdown",
   "id": "40c4937f",
   "metadata": {},
   "source": [
    "Print the best *KNN regression* model *RMSE* metric score:"
   ]
  },
  {
   "cell_type": "code",
   "execution_count": 49,
   "id": "f3cee302",
   "metadata": {},
   "outputs": [
    {
     "name": "stdout",
     "output_type": "stream",
     "text": [
      "The best KNN regression model RMSE metric score is 1.423.\n"
     ]
    }
   ],
   "source": [
    "print(\n",
    "    f\"The best KNN regression model RMSE metric score is {\n",
    "        -knn_reg_grid_search_model.best_score_:.3f\n",
    "    }.\",\n",
    ")"
   ]
  },
  {
   "cell_type": "markdown",
   "id": "bef498f4",
   "metadata": {},
   "source": [
    "### *Decision tree* model:"
   ]
  },
  {
   "cell_type": "markdown",
   "id": "c282b43c",
   "metadata": {},
   "source": [
    "Create a model of *decision tree*:"
   ]
  },
  {
   "cell_type": "code",
   "execution_count": 50,
   "id": "c17805ad",
   "metadata": {},
   "outputs": [],
   "source": [
    "tree_model: DecisionTreeRegressor = DecisionTreeRegressor(random_state=21, )"
   ]
  },
  {
   "cell_type": "markdown",
   "id": "b4669af0",
   "metadata": {},
   "source": [
    "Print the *decision tree cross-validation* model *RMSE* metric score:"
   ]
  },
  {
   "cell_type": "code",
   "execution_count": 51,
   "id": "6a44cf9b",
   "metadata": {},
   "outputs": [
    {
     "name": "stdout",
     "output_type": "stream",
     "text": [
      "The decision tree cross-validation model RMSE metric score is 1.576.\n"
     ]
    }
   ],
   "source": [
    "print(\n",
    "    f\"The decision tree cross-validation model RMSE metric score is {\n",
    "        -cross_val_score(\n",
    "            X=X,\n",
    "            y=y,\n",
    "            cv=15,\n",
    "            n_jobs=-1,\n",
    "            estimator=tree_model,\n",
    "            scoring=\"neg_root_mean_squared_error\",\n",
    "        ).mean():.3f\n",
    "    }.\",\n",
    ")"
   ]
  },
  {
   "cell_type": "markdown",
   "id": "3fed7892",
   "metadata": {},
   "source": [
    "Create a parameters grid for the *decision tree* model:"
   ]
  },
  {
   "cell_type": "code",
   "execution_count": 52,
   "id": "b9d60fbe",
   "metadata": {},
   "outputs": [],
   "source": [
    "tree_model_params_grid: dict[str, list[Any]] = {\n",
    "    \"max_depth\": range(26, ),\n",
    "    \"splitter\": [\"random\", \"best\", ],\n",
    "    \"ccp_alpha\": [\n",
    "        0,\n",
    "        0.5,\n",
    "        1,\n",
    "    ],\n",
    "    \"criterion\": [\n",
    "        \"poisson\",\n",
    "        \"friedman_mse\",\n",
    "        \"asbsolute_error\",\n",
    "    ],\n",
    "    \"max_features\": [\n",
    "        None,\n",
    "        \"auto\",\n",
    "        \"sqrt\",\n",
    "        \"log2\",\n",
    "    ],\n",
    "}"
   ]
  },
  {
   "cell_type": "markdown",
   "id": "62eb95c7",
   "metadata": {},
   "source": [
    "Create a *gridsearch* model of the *decision tree* model:"
   ]
  },
  {
   "cell_type": "code",
   "execution_count": 53,
   "id": "98cfaa9c",
   "metadata": {},
   "outputs": [],
   "source": [
    "tree_grid_search_model: GridSearchCV = GridSearchCV(\n",
    "    cv=5,\n",
    "    n_jobs=-1,\n",
    "    estimator=tree_model,\n",
    "    param_grid=tree_model_params_grid,\n",
    "    scoring=\"neg_root_mean_squared_error\",\n",
    ")"
   ]
  },
  {
   "cell_type": "markdown",
   "id": "f727354f",
   "metadata": {},
   "source": [
    "Train the *gridsearch* model of the *decision tree* model:"
   ]
  },
  {
   "cell_type": "code",
   "execution_count": 54,
   "id": "8cce016b",
   "metadata": {},
   "outputs": [],
   "source": [
    "tree_grid_search_model.fit(X, y, );"
   ]
  },
  {
   "cell_type": "markdown",
   "id": "6c7e2295",
   "metadata": {},
   "source": [
    "Print the best *decision tree* model *RMSE* metric score:"
   ]
  },
  {
   "cell_type": "code",
   "execution_count": 55,
   "id": "8d6b7668",
   "metadata": {},
   "outputs": [
    {
     "name": "stdout",
     "output_type": "stream",
     "text": [
      "The best decision tree model RMSE metric score is 1.304.\n"
     ]
    }
   ],
   "source": [
    "print(\n",
    "    f\"The best decision tree model RMSE metric score is {\n",
    "        -tree_grid_search_model.best_score_:.3f\n",
    "    }.\",\n",
    ")"
   ]
  },
  {
   "cell_type": "markdown",
   "id": "ff068d4c",
   "metadata": {},
   "source": [
    "### *SVR* model:"
   ]
  },
  {
   "cell_type": "markdown",
   "id": "93cca7eb",
   "metadata": {},
   "source": [
    "Create a model of *SVR*:"
   ]
  },
  {
   "cell_type": "code",
   "execution_count": 56,
   "id": "d494c178",
   "metadata": {},
   "outputs": [],
   "source": [
    "svr_model: SVR = SVR()"
   ]
  },
  {
   "cell_type": "markdown",
   "id": "64760492",
   "metadata": {},
   "source": [
    "Print the *SVR cross-validation* model *RMSE* metric score:"
   ]
  },
  {
   "cell_type": "code",
   "execution_count": 57,
   "id": "0e9255fe",
   "metadata": {},
   "outputs": [
    {
     "name": "stdout",
     "output_type": "stream",
     "text": [
      "The SVR cross-validation model RMSE metric score is 1.325.\n"
     ]
    }
   ],
   "source": [
    "print(\n",
    "    f\"The SVR cross-validation model RMSE metric score is {\n",
    "        -cross_val_score(\n",
    "            X=X,\n",
    "            y=y,\n",
    "            cv=4,\n",
    "            n_jobs=-1,\n",
    "            estimator=svr_model,\n",
    "            scoring=\"neg_root_mean_squared_error\",\n",
    "        ).mean():.3f\n",
    "    }.\",\n",
    ")"
   ]
  },
  {
   "cell_type": "markdown",
   "id": "40658992",
   "metadata": {},
   "source": [
    "Create a parameters grid for the *SVR* model:"
   ]
  },
  {
   "cell_type": "code",
   "execution_count": 58,
   "id": "d6ac52e1",
   "metadata": {},
   "outputs": [],
   "source": [
    "svr_model_params_grid: dict[str, list[str]] = {\n",
    "    \"gamma\": [\"auto\", \"scale\", ],\n",
    "    \"kernel\": [\n",
    "        \"rbf\",\n",
    "        \"poly\",\n",
    "        \"sigmoid\",\n",
    "    ],\n",
    "}"
   ]
  },
  {
   "cell_type": "markdown",
   "id": "a12e2e03",
   "metadata": {},
   "source": [
    "Create a *gridsearch* model of the *SVR* model:"
   ]
  },
  {
   "cell_type": "code",
   "execution_count": 59,
   "id": "d9dcce15",
   "metadata": {},
   "outputs": [],
   "source": [
    "svr_grid_search_model: GridSearchCV = GridSearchCV(\n",
    "    cv=2,\n",
    "    n_jobs=-1,\n",
    "    estimator=svr_model,\n",
    "    param_grid=svr_model_params_grid,\n",
    "    scoring=\"neg_root_mean_squared_error\",\n",
    ")"
   ]
  },
  {
   "cell_type": "markdown",
   "id": "c9c0334c",
   "metadata": {},
   "source": [
    "Train the *gridsearch* model of the *SVR* model:"
   ]
  },
  {
   "cell_type": "code",
   "execution_count": 60,
   "id": "2ec83010",
   "metadata": {},
   "outputs": [],
   "source": [
    "svr_grid_search_model.fit(X, y, );"
   ]
  },
  {
   "cell_type": "markdown",
   "id": "b043c634",
   "metadata": {},
   "source": [
    "Print the best *SVR* model *RMSE* metric score:"
   ]
  },
  {
   "cell_type": "code",
   "execution_count": 61,
   "id": "9abb0f95",
   "metadata": {},
   "outputs": [
    {
     "name": "stdout",
     "output_type": "stream",
     "text": [
      "The best SVR model RMSE metric score is 1.327.\n"
     ]
    }
   ],
   "source": [
    "print(\n",
    "    f\"The best SVR model RMSE metric score is {\n",
    "        -svr_grid_search_model.best_score_:.3f\n",
    "    }.\",\n",
    ")"
   ]
  },
  {
   "cell_type": "markdown",
   "id": "8a2e9dcd",
   "metadata": {},
   "source": [
    "## Model selection:"
   ]
  },
  {
   "cell_type": "markdown",
   "id": "5d3674da",
   "metadata": {},
   "source": [
    "Check the best regression model parameters:"
   ]
  },
  {
   "cell_type": "code",
   "execution_count": 62,
   "id": "d0c2152f",
   "metadata": {},
   "outputs": [
    {
     "data": {
      "text/html": [
       "<style>#sk-container-id-1 {\n",
       "  /* Definition of color scheme common for light and dark mode */\n",
       "  --sklearn-color-text: #000;\n",
       "  --sklearn-color-text-muted: #666;\n",
       "  --sklearn-color-line: gray;\n",
       "  /* Definition of color scheme for unfitted estimators */\n",
       "  --sklearn-color-unfitted-level-0: #fff5e6;\n",
       "  --sklearn-color-unfitted-level-1: #f6e4d2;\n",
       "  --sklearn-color-unfitted-level-2: #ffe0b3;\n",
       "  --sklearn-color-unfitted-level-3: chocolate;\n",
       "  /* Definition of color scheme for fitted estimators */\n",
       "  --sklearn-color-fitted-level-0: #f0f8ff;\n",
       "  --sklearn-color-fitted-level-1: #d4ebff;\n",
       "  --sklearn-color-fitted-level-2: #b3dbfd;\n",
       "  --sklearn-color-fitted-level-3: cornflowerblue;\n",
       "\n",
       "  /* Specific color for light theme */\n",
       "  --sklearn-color-text-on-default-background: var(--sg-text-color, var(--theme-code-foreground, var(--jp-content-font-color1, black)));\n",
       "  --sklearn-color-background: var(--sg-background-color, var(--theme-background, var(--jp-layout-color0, white)));\n",
       "  --sklearn-color-border-box: var(--sg-text-color, var(--theme-code-foreground, var(--jp-content-font-color1, black)));\n",
       "  --sklearn-color-icon: #696969;\n",
       "\n",
       "  @media (prefers-color-scheme: dark) {\n",
       "    /* Redefinition of color scheme for dark theme */\n",
       "    --sklearn-color-text-on-default-background: var(--sg-text-color, var(--theme-code-foreground, var(--jp-content-font-color1, white)));\n",
       "    --sklearn-color-background: var(--sg-background-color, var(--theme-background, var(--jp-layout-color0, #111)));\n",
       "    --sklearn-color-border-box: var(--sg-text-color, var(--theme-code-foreground, var(--jp-content-font-color1, white)));\n",
       "    --sklearn-color-icon: #878787;\n",
       "  }\n",
       "}\n",
       "\n",
       "#sk-container-id-1 {\n",
       "  color: var(--sklearn-color-text);\n",
       "}\n",
       "\n",
       "#sk-container-id-1 pre {\n",
       "  padding: 0;\n",
       "}\n",
       "\n",
       "#sk-container-id-1 input.sk-hidden--visually {\n",
       "  border: 0;\n",
       "  clip: rect(1px 1px 1px 1px);\n",
       "  clip: rect(1px, 1px, 1px, 1px);\n",
       "  height: 1px;\n",
       "  margin: -1px;\n",
       "  overflow: hidden;\n",
       "  padding: 0;\n",
       "  position: absolute;\n",
       "  width: 1px;\n",
       "}\n",
       "\n",
       "#sk-container-id-1 div.sk-dashed-wrapped {\n",
       "  border: 1px dashed var(--sklearn-color-line);\n",
       "  margin: 0 0.4em 0.5em 0.4em;\n",
       "  box-sizing: border-box;\n",
       "  padding-bottom: 0.4em;\n",
       "  background-color: var(--sklearn-color-background);\n",
       "}\n",
       "\n",
       "#sk-container-id-1 div.sk-container {\n",
       "  /* jupyter's `normalize.less` sets `[hidden] { display: none; }`\n",
       "     but bootstrap.min.css set `[hidden] { display: none !important; }`\n",
       "     so we also need the `!important` here to be able to override the\n",
       "     default hidden behavior on the sphinx rendered scikit-learn.org.\n",
       "     See: https://github.com/scikit-learn/scikit-learn/issues/21755 */\n",
       "  display: inline-block !important;\n",
       "  position: relative;\n",
       "}\n",
       "\n",
       "#sk-container-id-1 div.sk-text-repr-fallback {\n",
       "  display: none;\n",
       "}\n",
       "\n",
       "div.sk-parallel-item,\n",
       "div.sk-serial,\n",
       "div.sk-item {\n",
       "  /* draw centered vertical line to link estimators */\n",
       "  background-image: linear-gradient(var(--sklearn-color-text-on-default-background), var(--sklearn-color-text-on-default-background));\n",
       "  background-size: 2px 100%;\n",
       "  background-repeat: no-repeat;\n",
       "  background-position: center center;\n",
       "}\n",
       "\n",
       "/* Parallel-specific style estimator block */\n",
       "\n",
       "#sk-container-id-1 div.sk-parallel-item::after {\n",
       "  content: \"\";\n",
       "  width: 100%;\n",
       "  border-bottom: 2px solid var(--sklearn-color-text-on-default-background);\n",
       "  flex-grow: 1;\n",
       "}\n",
       "\n",
       "#sk-container-id-1 div.sk-parallel {\n",
       "  display: flex;\n",
       "  align-items: stretch;\n",
       "  justify-content: center;\n",
       "  background-color: var(--sklearn-color-background);\n",
       "  position: relative;\n",
       "}\n",
       "\n",
       "#sk-container-id-1 div.sk-parallel-item {\n",
       "  display: flex;\n",
       "  flex-direction: column;\n",
       "}\n",
       "\n",
       "#sk-container-id-1 div.sk-parallel-item:first-child::after {\n",
       "  align-self: flex-end;\n",
       "  width: 50%;\n",
       "}\n",
       "\n",
       "#sk-container-id-1 div.sk-parallel-item:last-child::after {\n",
       "  align-self: flex-start;\n",
       "  width: 50%;\n",
       "}\n",
       "\n",
       "#sk-container-id-1 div.sk-parallel-item:only-child::after {\n",
       "  width: 0;\n",
       "}\n",
       "\n",
       "/* Serial-specific style estimator block */\n",
       "\n",
       "#sk-container-id-1 div.sk-serial {\n",
       "  display: flex;\n",
       "  flex-direction: column;\n",
       "  align-items: center;\n",
       "  background-color: var(--sklearn-color-background);\n",
       "  padding-right: 1em;\n",
       "  padding-left: 1em;\n",
       "}\n",
       "\n",
       "\n",
       "/* Toggleable style: style used for estimator/Pipeline/ColumnTransformer box that is\n",
       "clickable and can be expanded/collapsed.\n",
       "- Pipeline and ColumnTransformer use this feature and define the default style\n",
       "- Estimators will overwrite some part of the style using the `sk-estimator` class\n",
       "*/\n",
       "\n",
       "/* Pipeline and ColumnTransformer style (default) */\n",
       "\n",
       "#sk-container-id-1 div.sk-toggleable {\n",
       "  /* Default theme specific background. It is overwritten whether we have a\n",
       "  specific estimator or a Pipeline/ColumnTransformer */\n",
       "  background-color: var(--sklearn-color-background);\n",
       "}\n",
       "\n",
       "/* Toggleable label */\n",
       "#sk-container-id-1 label.sk-toggleable__label {\n",
       "  cursor: pointer;\n",
       "  display: flex;\n",
       "  width: 100%;\n",
       "  margin-bottom: 0;\n",
       "  padding: 0.5em;\n",
       "  box-sizing: border-box;\n",
       "  text-align: center;\n",
       "  align-items: start;\n",
       "  justify-content: space-between;\n",
       "  gap: 0.5em;\n",
       "}\n",
       "\n",
       "#sk-container-id-1 label.sk-toggleable__label .caption {\n",
       "  font-size: 0.6rem;\n",
       "  font-weight: lighter;\n",
       "  color: var(--sklearn-color-text-muted);\n",
       "}\n",
       "\n",
       "#sk-container-id-1 label.sk-toggleable__label-arrow:before {\n",
       "  /* Arrow on the left of the label */\n",
       "  content: \"▸\";\n",
       "  float: left;\n",
       "  margin-right: 0.25em;\n",
       "  color: var(--sklearn-color-icon);\n",
       "}\n",
       "\n",
       "#sk-container-id-1 label.sk-toggleable__label-arrow:hover:before {\n",
       "  color: var(--sklearn-color-text);\n",
       "}\n",
       "\n",
       "/* Toggleable content - dropdown */\n",
       "\n",
       "#sk-container-id-1 div.sk-toggleable__content {\n",
       "  display: none;\n",
       "  text-align: left;\n",
       "  /* unfitted */\n",
       "  background-color: var(--sklearn-color-unfitted-level-0);\n",
       "}\n",
       "\n",
       "#sk-container-id-1 div.sk-toggleable__content.fitted {\n",
       "  /* fitted */\n",
       "  background-color: var(--sklearn-color-fitted-level-0);\n",
       "}\n",
       "\n",
       "#sk-container-id-1 div.sk-toggleable__content pre {\n",
       "  margin: 0.2em;\n",
       "  border-radius: 0.25em;\n",
       "  color: var(--sklearn-color-text);\n",
       "  /* unfitted */\n",
       "  background-color: var(--sklearn-color-unfitted-level-0);\n",
       "}\n",
       "\n",
       "#sk-container-id-1 div.sk-toggleable__content.fitted pre {\n",
       "  /* unfitted */\n",
       "  background-color: var(--sklearn-color-fitted-level-0);\n",
       "}\n",
       "\n",
       "#sk-container-id-1 input.sk-toggleable__control:checked~div.sk-toggleable__content {\n",
       "  /* Expand drop-down */\n",
       "  display: block;\n",
       "  width: 100%;\n",
       "  overflow: visible;\n",
       "}\n",
       "\n",
       "#sk-container-id-1 input.sk-toggleable__control:checked~label.sk-toggleable__label-arrow:before {\n",
       "  content: \"▾\";\n",
       "}\n",
       "\n",
       "/* Pipeline/ColumnTransformer-specific style */\n",
       "\n",
       "#sk-container-id-1 div.sk-label input.sk-toggleable__control:checked~label.sk-toggleable__label {\n",
       "  color: var(--sklearn-color-text);\n",
       "  background-color: var(--sklearn-color-unfitted-level-2);\n",
       "}\n",
       "\n",
       "#sk-container-id-1 div.sk-label.fitted input.sk-toggleable__control:checked~label.sk-toggleable__label {\n",
       "  background-color: var(--sklearn-color-fitted-level-2);\n",
       "}\n",
       "\n",
       "/* Estimator-specific style */\n",
       "\n",
       "/* Colorize estimator box */\n",
       "#sk-container-id-1 div.sk-estimator input.sk-toggleable__control:checked~label.sk-toggleable__label {\n",
       "  /* unfitted */\n",
       "  background-color: var(--sklearn-color-unfitted-level-2);\n",
       "}\n",
       "\n",
       "#sk-container-id-1 div.sk-estimator.fitted input.sk-toggleable__control:checked~label.sk-toggleable__label {\n",
       "  /* fitted */\n",
       "  background-color: var(--sklearn-color-fitted-level-2);\n",
       "}\n",
       "\n",
       "#sk-container-id-1 div.sk-label label.sk-toggleable__label,\n",
       "#sk-container-id-1 div.sk-label label {\n",
       "  /* The background is the default theme color */\n",
       "  color: var(--sklearn-color-text-on-default-background);\n",
       "}\n",
       "\n",
       "/* On hover, darken the color of the background */\n",
       "#sk-container-id-1 div.sk-label:hover label.sk-toggleable__label {\n",
       "  color: var(--sklearn-color-text);\n",
       "  background-color: var(--sklearn-color-unfitted-level-2);\n",
       "}\n",
       "\n",
       "/* Label box, darken color on hover, fitted */\n",
       "#sk-container-id-1 div.sk-label.fitted:hover label.sk-toggleable__label.fitted {\n",
       "  color: var(--sklearn-color-text);\n",
       "  background-color: var(--sklearn-color-fitted-level-2);\n",
       "}\n",
       "\n",
       "/* Estimator label */\n",
       "\n",
       "#sk-container-id-1 div.sk-label label {\n",
       "  font-family: monospace;\n",
       "  font-weight: bold;\n",
       "  display: inline-block;\n",
       "  line-height: 1.2em;\n",
       "}\n",
       "\n",
       "#sk-container-id-1 div.sk-label-container {\n",
       "  text-align: center;\n",
       "}\n",
       "\n",
       "/* Estimator-specific */\n",
       "#sk-container-id-1 div.sk-estimator {\n",
       "  font-family: monospace;\n",
       "  border: 1px dotted var(--sklearn-color-border-box);\n",
       "  border-radius: 0.25em;\n",
       "  box-sizing: border-box;\n",
       "  margin-bottom: 0.5em;\n",
       "  /* unfitted */\n",
       "  background-color: var(--sklearn-color-unfitted-level-0);\n",
       "}\n",
       "\n",
       "#sk-container-id-1 div.sk-estimator.fitted {\n",
       "  /* fitted */\n",
       "  background-color: var(--sklearn-color-fitted-level-0);\n",
       "}\n",
       "\n",
       "/* on hover */\n",
       "#sk-container-id-1 div.sk-estimator:hover {\n",
       "  /* unfitted */\n",
       "  background-color: var(--sklearn-color-unfitted-level-2);\n",
       "}\n",
       "\n",
       "#sk-container-id-1 div.sk-estimator.fitted:hover {\n",
       "  /* fitted */\n",
       "  background-color: var(--sklearn-color-fitted-level-2);\n",
       "}\n",
       "\n",
       "/* Specification for estimator info (e.g. \"i\" and \"?\") */\n",
       "\n",
       "/* Common style for \"i\" and \"?\" */\n",
       "\n",
       ".sk-estimator-doc-link,\n",
       "a:link.sk-estimator-doc-link,\n",
       "a:visited.sk-estimator-doc-link {\n",
       "  float: right;\n",
       "  font-size: smaller;\n",
       "  line-height: 1em;\n",
       "  font-family: monospace;\n",
       "  background-color: var(--sklearn-color-background);\n",
       "  border-radius: 1em;\n",
       "  height: 1em;\n",
       "  width: 1em;\n",
       "  text-decoration: none !important;\n",
       "  margin-left: 0.5em;\n",
       "  text-align: center;\n",
       "  /* unfitted */\n",
       "  border: var(--sklearn-color-unfitted-level-1) 1pt solid;\n",
       "  color: var(--sklearn-color-unfitted-level-1);\n",
       "}\n",
       "\n",
       ".sk-estimator-doc-link.fitted,\n",
       "a:link.sk-estimator-doc-link.fitted,\n",
       "a:visited.sk-estimator-doc-link.fitted {\n",
       "  /* fitted */\n",
       "  border: var(--sklearn-color-fitted-level-1) 1pt solid;\n",
       "  color: var(--sklearn-color-fitted-level-1);\n",
       "}\n",
       "\n",
       "/* On hover */\n",
       "div.sk-estimator:hover .sk-estimator-doc-link:hover,\n",
       ".sk-estimator-doc-link:hover,\n",
       "div.sk-label-container:hover .sk-estimator-doc-link:hover,\n",
       ".sk-estimator-doc-link:hover {\n",
       "  /* unfitted */\n",
       "  background-color: var(--sklearn-color-unfitted-level-3);\n",
       "  color: var(--sklearn-color-background);\n",
       "  text-decoration: none;\n",
       "}\n",
       "\n",
       "div.sk-estimator.fitted:hover .sk-estimator-doc-link.fitted:hover,\n",
       ".sk-estimator-doc-link.fitted:hover,\n",
       "div.sk-label-container:hover .sk-estimator-doc-link.fitted:hover,\n",
       ".sk-estimator-doc-link.fitted:hover {\n",
       "  /* fitted */\n",
       "  background-color: var(--sklearn-color-fitted-level-3);\n",
       "  color: var(--sklearn-color-background);\n",
       "  text-decoration: none;\n",
       "}\n",
       "\n",
       "/* Span, style for the box shown on hovering the info icon */\n",
       ".sk-estimator-doc-link span {\n",
       "  display: none;\n",
       "  z-index: 9999;\n",
       "  position: relative;\n",
       "  font-weight: normal;\n",
       "  right: .2ex;\n",
       "  padding: .5ex;\n",
       "  margin: .5ex;\n",
       "  width: min-content;\n",
       "  min-width: 20ex;\n",
       "  max-width: 50ex;\n",
       "  color: var(--sklearn-color-text);\n",
       "  box-shadow: 2pt 2pt 4pt #999;\n",
       "  /* unfitted */\n",
       "  background: var(--sklearn-color-unfitted-level-0);\n",
       "  border: .5pt solid var(--sklearn-color-unfitted-level-3);\n",
       "}\n",
       "\n",
       ".sk-estimator-doc-link.fitted span {\n",
       "  /* fitted */\n",
       "  background: var(--sklearn-color-fitted-level-0);\n",
       "  border: var(--sklearn-color-fitted-level-3);\n",
       "}\n",
       "\n",
       ".sk-estimator-doc-link:hover span {\n",
       "  display: block;\n",
       "}\n",
       "\n",
       "/* \"?\"-specific style due to the `<a>` HTML tag */\n",
       "\n",
       "#sk-container-id-1 a.estimator_doc_link {\n",
       "  float: right;\n",
       "  font-size: 1rem;\n",
       "  line-height: 1em;\n",
       "  font-family: monospace;\n",
       "  background-color: var(--sklearn-color-background);\n",
       "  border-radius: 1rem;\n",
       "  height: 1rem;\n",
       "  width: 1rem;\n",
       "  text-decoration: none;\n",
       "  /* unfitted */\n",
       "  color: var(--sklearn-color-unfitted-level-1);\n",
       "  border: var(--sklearn-color-unfitted-level-1) 1pt solid;\n",
       "}\n",
       "\n",
       "#sk-container-id-1 a.estimator_doc_link.fitted {\n",
       "  /* fitted */\n",
       "  border: var(--sklearn-color-fitted-level-1) 1pt solid;\n",
       "  color: var(--sklearn-color-fitted-level-1);\n",
       "}\n",
       "\n",
       "/* On hover */\n",
       "#sk-container-id-1 a.estimator_doc_link:hover {\n",
       "  /* unfitted */\n",
       "  background-color: var(--sklearn-color-unfitted-level-3);\n",
       "  color: var(--sklearn-color-background);\n",
       "  text-decoration: none;\n",
       "}\n",
       "\n",
       "#sk-container-id-1 a.estimator_doc_link.fitted:hover {\n",
       "  /* fitted */\n",
       "  background-color: var(--sklearn-color-fitted-level-3);\n",
       "}\n",
       "\n",
       ".estimator-table summary {\n",
       "    padding: .5rem;\n",
       "    font-family: monospace;\n",
       "    cursor: pointer;\n",
       "}\n",
       "\n",
       ".estimator-table details[open] {\n",
       "    padding-left: 0.1rem;\n",
       "    padding-right: 0.1rem;\n",
       "    padding-bottom: 0.3rem;\n",
       "}\n",
       "\n",
       ".estimator-table .parameters-table {\n",
       "    margin-left: auto !important;\n",
       "    margin-right: auto !important;\n",
       "}\n",
       "\n",
       ".estimator-table .parameters-table tr:nth-child(odd) {\n",
       "    background-color: #fff;\n",
       "}\n",
       "\n",
       ".estimator-table .parameters-table tr:nth-child(even) {\n",
       "    background-color: #f6f6f6;\n",
       "}\n",
       "\n",
       ".estimator-table .parameters-table tr:hover {\n",
       "    background-color: #e0e0e0;\n",
       "}\n",
       "\n",
       ".estimator-table table td {\n",
       "    border: 1px solid rgba(106, 105, 104, 0.232);\n",
       "}\n",
       "\n",
       ".user-set td {\n",
       "    color:rgb(255, 94, 0);\n",
       "    text-align: left;\n",
       "}\n",
       "\n",
       ".user-set td.value pre {\n",
       "    color:rgb(255, 94, 0) !important;\n",
       "    background-color: transparent !important;\n",
       "}\n",
       "\n",
       ".default td {\n",
       "    color: black;\n",
       "    text-align: left;\n",
       "}\n",
       "\n",
       ".user-set td i,\n",
       ".default td i {\n",
       "    color: black;\n",
       "}\n",
       "\n",
       ".copy-paste-icon {\n",
       "    background-image: url(data:image/svg+xml;base64,PHN2ZyB4bWxucz0iaHR0cDovL3d3dy53My5vcmcvMjAwMC9zdmciIHZpZXdCb3g9IjAgMCA0NDggNTEyIj48IS0tIUZvbnQgQXdlc29tZSBGcmVlIDYuNy4yIGJ5IEBmb250YXdlc29tZSAtIGh0dHBzOi8vZm9udGF3ZXNvbWUuY29tIExpY2Vuc2UgLSBodHRwczovL2ZvbnRhd2Vzb21lLmNvbS9saWNlbnNlL2ZyZWUgQ29weXJpZ2h0IDIwMjUgRm9udGljb25zLCBJbmMuLS0+PHBhdGggZD0iTTIwOCAwTDMzMi4xIDBjMTIuNyAwIDI0LjkgNS4xIDMzLjkgMTQuMWw2Ny45IDY3LjljOSA5IDE0LjEgMjEuMiAxNC4xIDMzLjlMNDQ4IDMzNmMwIDI2LjUtMjEuNSA0OC00OCA0OGwtMTkyIDBjLTI2LjUgMC00OC0yMS41LTQ4LTQ4bDAtMjg4YzAtMjYuNSAyMS41LTQ4IDQ4LTQ4ek00OCAxMjhsODAgMCAwIDY0LTY0IDAgMCAyNTYgMTkyIDAgMC0zMiA2NCAwIDAgNDhjMCAyNi41LTIxLjUgNDgtNDggNDhMNDggNTEyYy0yNi41IDAtNDgtMjEuNS00OC00OEwwIDE3NmMwLTI2LjUgMjEuNS00OCA0OC00OHoiLz48L3N2Zz4=);\n",
       "    background-repeat: no-repeat;\n",
       "    background-size: 14px 14px;\n",
       "    background-position: 0;\n",
       "    display: inline-block;\n",
       "    width: 14px;\n",
       "    height: 14px;\n",
       "    cursor: pointer;\n",
       "}\n",
       "</style><body><div id=\"sk-container-id-1\" class=\"sk-top-container\"><div class=\"sk-text-repr-fallback\"><pre>Ridge(random_state=21)</pre><b>In a Jupyter environment, please rerun this cell to show the HTML representation or trust the notebook. <br />On GitHub, the HTML representation is unable to render, please try loading this page with nbviewer.org.</b></div><div class=\"sk-container\" hidden><div class=\"sk-item\"><div class=\"sk-estimator  sk-toggleable\"><input class=\"sk-toggleable__control sk-hidden--visually\" id=\"sk-estimator-id-1\" type=\"checkbox\" checked><label for=\"sk-estimator-id-1\" class=\"sk-toggleable__label  sk-toggleable__label-arrow\"><div><div>Ridge</div></div><div><a class=\"sk-estimator-doc-link \" rel=\"noreferrer\" target=\"_blank\" href=\"https://scikit-learn.org/1.7/modules/generated/sklearn.linear_model.Ridge.html\">?<span>Documentation for Ridge</span></a><span class=\"sk-estimator-doc-link \">i<span>Not fitted</span></span></div></label><div class=\"sk-toggleable__content \" data-param-prefix=\"\">\n",
       "        <div class=\"estimator-table\">\n",
       "            <details>\n",
       "                <summary>Parameters</summary>\n",
       "                <table class=\"parameters-table\">\n",
       "                  <tbody>\n",
       "                    \n",
       "        <tr class=\"default\">\n",
       "            <td><i class=\"copy-paste-icon\"\n",
       "                 onclick=\"copyToClipboard('alpha',\n",
       "                          this.parentElement.nextElementSibling)\"\n",
       "            ></i></td>\n",
       "            <td class=\"param\">alpha&nbsp;</td>\n",
       "            <td class=\"value\">1.0</td>\n",
       "        </tr>\n",
       "    \n",
       "\n",
       "        <tr class=\"default\">\n",
       "            <td><i class=\"copy-paste-icon\"\n",
       "                 onclick=\"copyToClipboard('fit_intercept',\n",
       "                          this.parentElement.nextElementSibling)\"\n",
       "            ></i></td>\n",
       "            <td class=\"param\">fit_intercept&nbsp;</td>\n",
       "            <td class=\"value\">True</td>\n",
       "        </tr>\n",
       "    \n",
       "\n",
       "        <tr class=\"default\">\n",
       "            <td><i class=\"copy-paste-icon\"\n",
       "                 onclick=\"copyToClipboard('copy_X',\n",
       "                          this.parentElement.nextElementSibling)\"\n",
       "            ></i></td>\n",
       "            <td class=\"param\">copy_X&nbsp;</td>\n",
       "            <td class=\"value\">True</td>\n",
       "        </tr>\n",
       "    \n",
       "\n",
       "        <tr class=\"default\">\n",
       "            <td><i class=\"copy-paste-icon\"\n",
       "                 onclick=\"copyToClipboard('max_iter',\n",
       "                          this.parentElement.nextElementSibling)\"\n",
       "            ></i></td>\n",
       "            <td class=\"param\">max_iter&nbsp;</td>\n",
       "            <td class=\"value\">None</td>\n",
       "        </tr>\n",
       "    \n",
       "\n",
       "        <tr class=\"default\">\n",
       "            <td><i class=\"copy-paste-icon\"\n",
       "                 onclick=\"copyToClipboard('tol',\n",
       "                          this.parentElement.nextElementSibling)\"\n",
       "            ></i></td>\n",
       "            <td class=\"param\">tol&nbsp;</td>\n",
       "            <td class=\"value\">0.0001</td>\n",
       "        </tr>\n",
       "    \n",
       "\n",
       "        <tr class=\"default\">\n",
       "            <td><i class=\"copy-paste-icon\"\n",
       "                 onclick=\"copyToClipboard('solver',\n",
       "                          this.parentElement.nextElementSibling)\"\n",
       "            ></i></td>\n",
       "            <td class=\"param\">solver&nbsp;</td>\n",
       "            <td class=\"value\">&#x27;auto&#x27;</td>\n",
       "        </tr>\n",
       "    \n",
       "\n",
       "        <tr class=\"default\">\n",
       "            <td><i class=\"copy-paste-icon\"\n",
       "                 onclick=\"copyToClipboard('positive',\n",
       "                          this.parentElement.nextElementSibling)\"\n",
       "            ></i></td>\n",
       "            <td class=\"param\">positive&nbsp;</td>\n",
       "            <td class=\"value\">False</td>\n",
       "        </tr>\n",
       "    \n",
       "\n",
       "        <tr class=\"user-set\">\n",
       "            <td><i class=\"copy-paste-icon\"\n",
       "                 onclick=\"copyToClipboard('random_state',\n",
       "                          this.parentElement.nextElementSibling)\"\n",
       "            ></i></td>\n",
       "            <td class=\"param\">random_state&nbsp;</td>\n",
       "            <td class=\"value\">21</td>\n",
       "        </tr>\n",
       "    \n",
       "                  </tbody>\n",
       "                </table>\n",
       "            </details>\n",
       "        </div>\n",
       "    </div></div></div></div></div><script>function copyToClipboard(text, element) {\n",
       "    // Get the parameter prefix from the closest toggleable content\n",
       "    const toggleableContent = element.closest('.sk-toggleable__content');\n",
       "    const paramPrefix = toggleableContent ? toggleableContent.dataset.paramPrefix : '';\n",
       "    const fullParamName = paramPrefix ? `${paramPrefix}${text}` : text;\n",
       "\n",
       "    const originalStyle = element.style;\n",
       "    const computedStyle = window.getComputedStyle(element);\n",
       "    const originalWidth = computedStyle.width;\n",
       "    const originalHTML = element.innerHTML.replace('Copied!', '');\n",
       "\n",
       "    navigator.clipboard.writeText(fullParamName)\n",
       "        .then(() => {\n",
       "            element.style.width = originalWidth;\n",
       "            element.style.color = 'green';\n",
       "            element.innerHTML = \"Copied!\";\n",
       "\n",
       "            setTimeout(() => {\n",
       "                element.innerHTML = originalHTML;\n",
       "                element.style = originalStyle;\n",
       "            }, 2000);\n",
       "        })\n",
       "        .catch(err => {\n",
       "            console.error('Failed to copy:', err);\n",
       "            element.style.color = 'red';\n",
       "            element.innerHTML = \"Failed!\";\n",
       "            setTimeout(() => {\n",
       "                element.innerHTML = originalHTML;\n",
       "                element.style = originalStyle;\n",
       "            }, 2000);\n",
       "        });\n",
       "    return false;\n",
       "}\n",
       "\n",
       "document.querySelectorAll('.fa-regular.fa-copy').forEach(function(element) {\n",
       "    const toggleableContent = element.closest('.sk-toggleable__content');\n",
       "    const paramPrefix = toggleableContent ? toggleableContent.dataset.paramPrefix : '';\n",
       "    const paramName = element.parentElement.nextElementSibling.textContent.trim();\n",
       "    const fullParamName = paramPrefix ? `${paramPrefix}${paramName}` : paramName;\n",
       "\n",
       "    element.setAttribute('title', fullParamName);\n",
       "});\n",
       "</script></body>"
      ],
      "text/plain": [
       "Ridge(random_state=21)"
      ]
     },
     "execution_count": 62,
     "metadata": {},
     "output_type": "execute_result"
    }
   ],
   "source": [
    "ridge_lin_reg_model"
   ]
  },
  {
   "cell_type": "markdown",
   "id": "d455308c",
   "metadata": {},
   "source": [
    "Train the best regression model:"
   ]
  },
  {
   "cell_type": "code",
   "execution_count": 63,
   "id": "9a3b8200",
   "metadata": {},
   "outputs": [],
   "source": [
    "ridge_lin_reg_model.fit(X_train, y_train, );"
   ]
  },
  {
   "cell_type": "markdown",
   "id": "156a9e08",
   "metadata": {},
   "source": [
    "Print the best regression model *RMSE* metric score:"
   ]
  },
  {
   "cell_type": "code",
   "execution_count": 64,
   "id": "1f8615f2",
   "metadata": {},
   "outputs": [
    {
     "name": "stdout",
     "output_type": "stream",
     "text": [
      "The best regression model RMSE metric score is 1.272.\n"
     ]
    }
   ],
   "source": [
    "print(\n",
    "    f\"The best regression model RMSE metric score is {\n",
    "        mean_squared_error(\n",
    "            y_test,\n",
    "            ridge_lin_reg_model.predict(X_test, ),\n",
    "        ) ** 0.5:.3f\n",
    "    }.\",\n",
    ")"
   ]
  }
 ],
 "metadata": {
  "kernelspec": {
   "display_name": ".venv",
   "language": "python",
   "name": "python3"
  },
  "language_info": {
   "codemirror_mode": {
    "name": "ipython",
    "version": 3
   },
   "file_extension": ".py",
   "mimetype": "text/x-python",
   "name": "python",
   "nbconvert_exporter": "python",
   "pygments_lexer": "ipython3",
   "version": "3.12.6"
  }
 },
 "nbformat": 4,
 "nbformat_minor": 5
}
