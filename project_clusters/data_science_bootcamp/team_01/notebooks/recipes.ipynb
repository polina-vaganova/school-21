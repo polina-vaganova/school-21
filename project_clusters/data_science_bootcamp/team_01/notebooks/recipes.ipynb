{
 "cells": [
  {
   "cell_type": "markdown",
   "id": "34138e90",
   "metadata": {},
   "source": [
    "# **Recipes**"
   ]
  },
  {
   "cell_type": "markdown",
   "id": "eed10058",
   "metadata": {},
   "source": [
    "## Configuration:"
   ]
  },
  {
   "cell_type": "markdown",
   "id": "91bb0256",
   "metadata": {},
   "source": [
    "Import necessary entities:"
   ]
  },
  {
   "cell_type": "code",
   "execution_count": 1,
   "id": "6a8fb239",
   "metadata": {},
   "outputs": [],
   "source": [
    "import requests\n",
    "\n",
    "from bs4 import BeautifulSoup"
   ]
  },
  {
   "cell_type": "code",
   "execution_count": 2,
   "id": "3e93d9db",
   "metadata": {},
   "outputs": [],
   "source": [
    "def find_link_by_text(url, search_text):\n",
    "    \"\"\"\n",
    "    Находит ссылку по тексту на странице\n",
    "    \"\"\"\n",
    "    try:\n",
    "        # Отправляем запрос к странице\n",
    "        response = requests.get(url)\n",
    "        response.raise_for_status()  # Проверяем успешность запроса\n",
    "        \n",
    "        # Парсим HTML\n",
    "        soup = BeautifulSoup(response.text, 'html.parser')\n",
    "        \n",
    "        # Ищем все ссылки с нужным текстом\n",
    "        links = soup.find_all('a', string=lambda text: text and search_text in text)\n",
    "        \n",
    "        if not links:\n",
    "            print(f\"Ссылка с текстом '{search_text}' не найдена\")\n",
    "            return None\n",
    "        \n",
    "        # Берем первую найденную ссылку\n",
    "        first_link = links[0]\n",
    "        href = first_link.get('href')\n",
    "        \n",
    "        # Если ссылка относительная, преобразуем в абсолютную\n",
    "        if href and href.startswith('/'):\n",
    "            from urllib.parse import urljoin\n",
    "            href = urljoin(url, href)\n",
    "        \n",
    "        print(f\"Найдена ссылка: {href}\")\n",
    "        return href\n",
    "        \n",
    "    except Exception as e:\n",
    "        print(f\"Ошибка: {e}\")\n",
    "        return None"
   ]
  },
  {
   "cell_type": "code",
   "execution_count": 3,
   "id": "f8dc3188",
   "metadata": {},
   "outputs": [
    {
     "name": "stdout",
     "output_type": "stream",
     "text": [
      "Найдена ссылка: https://www.epicurious.com/recipes/food/views/peach-mustard-51239870\n"
     ]
    }
   ],
   "source": [
    "result_link = find_link_by_text(\"https://www.epicurious.com/search?q=Peach+Mustard\", \"Peach Mustard\")"
   ]
  }
 ],
 "metadata": {
  "kernelspec": {
   "display_name": ".venv",
   "language": "python",
   "name": "python3"
  },
  "language_info": {
   "codemirror_mode": {
    "name": "ipython",
    "version": 3
   },
   "file_extension": ".py",
   "mimetype": "text/x-python",
   "name": "python",
   "nbconvert_exporter": "python",
   "pygments_lexer": "ipython3",
   "version": "3.12.6"
  }
 },
 "nbformat": 4,
 "nbformat_minor": 5
}
