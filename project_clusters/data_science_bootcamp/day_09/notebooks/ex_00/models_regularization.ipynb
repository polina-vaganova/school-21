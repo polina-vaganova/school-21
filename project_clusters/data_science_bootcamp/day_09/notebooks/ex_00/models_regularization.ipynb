{
 "cells": [
  {
   "cell_type": "markdown",
   "metadata": {},
   "source": [
    "# **Exercise 00: models *regularization***"
   ]
  },
  {
   "cell_type": "markdown",
   "metadata": {},
   "source": [
    "## Configuration:"
   ]
  },
  {
   "cell_type": "markdown",
   "metadata": {},
   "source": [
    "Import necessary *Python* packages:"
   ]
  },
  {
   "cell_type": "code",
   "execution_count": 1,
   "metadata": {},
   "outputs": [],
   "source": [
    "import sys"
   ]
  },
  {
   "cell_type": "markdown",
   "metadata": {},
   "source": [
    "Add path to own modules:"
   ]
  },
  {
   "cell_type": "code",
   "execution_count": 2,
   "metadata": {},
   "outputs": [],
   "source": [
    "sys.path.append(\"../../src\", )"
   ]
  },
  {
   "cell_type": "markdown",
   "metadata": {},
   "source": [
    "Import necessary entities:"
   ]
  },
  {
   "cell_type": "code",
   "execution_count": 3,
   "metadata": {},
   "outputs": [],
   "source": [
    "from joblib import dump\n",
    "from sklearn.svm import SVC\n",
    "from warnings import filterwarnings\n",
    "from sklearn.metrics import accuracy_score\n",
    "from sklearn.tree import DecisionTreeClassifier\n",
    "from sklearn.ensemble import RandomForestClassifier\n",
    "from sklearn.linear_model import LogisticRegression\n",
    "from sklearn.model_selection import train_test_split\n",
    "from pandas import (\n",
    "    Series,\n",
    "    DataFrame,\n",
    "    read_csv,\n",
    ")"
   ]
  },
  {
   "cell_type": "markdown",
   "metadata": {},
   "source": [
    "Import own necessary entities:"
   ]
  },
  {
   "cell_type": "code",
   "execution_count": 4,
   "metadata": {},
   "outputs": [],
   "source": [
    "from machine_learning_models_utilities import (\n",
    "    print_classification_model_cross_validation,\n",
    ")"
   ]
  },
  {
   "cell_type": "markdown",
   "metadata": {},
   "source": [
    "Ignore all warnings:"
   ]
  },
  {
   "cell_type": "code",
   "execution_count": 5,
   "metadata": {},
   "outputs": [],
   "source": [
    "filterwarnings(\"ignore\", )"
   ]
  },
  {
   "cell_type": "markdown",
   "metadata": {},
   "source": [
    "## Preprocessing:"
   ]
  },
  {
   "cell_type": "markdown",
   "metadata": {},
   "source": [
    "Create a dictionary for `read_csv()` method calling:"
   ]
  },
  {
   "cell_type": "code",
   "execution_count": 6,
   "metadata": {},
   "outputs": [],
   "source": [
    "read_csv_params: dict[str, str] = {\n",
    "    \"file\": \"day_of_week.csv\",\n",
    "    \"file_path\": \"../../data/datasets/\",\n",
    "}"
   ]
  },
  {
   "cell_type": "markdown",
   "metadata": {},
   "source": [
    "Read the file `day_of_week.csv` to a *Pandas* dataframe:"
   ]
  },
  {
   "cell_type": "code",
   "execution_count": 7,
   "metadata": {},
   "outputs": [],
   "source": [
    "df: DataFrame = read_csv(\n",
    "    read_csv_params[\"file_path\"] + read_csv_params[\"file\"],\n",
    "    index_col=0,\n",
    ")"
   ]
  },
  {
   "cell_type": "markdown",
   "metadata": {},
   "source": [
    "Check `df` *Pandas* dataframe:"
   ]
  },
  {
   "cell_type": "code",
   "execution_count": 8,
   "metadata": {},
   "outputs": [
    {
     "data": {
      "text/html": [
       "<div>\n",
       "<style scoped>\n",
       "    .dataframe tbody tr th:only-of-type {\n",
       "        vertical-align: middle;\n",
       "    }\n",
       "\n",
       "    .dataframe tbody tr th {\n",
       "        vertical-align: top;\n",
       "    }\n",
       "\n",
       "    .dataframe thead th {\n",
       "        text-align: right;\n",
       "    }\n",
       "</style>\n",
       "<table border=\"1\" class=\"dataframe\">\n",
       "  <thead>\n",
       "    <tr style=\"text-align: right;\">\n",
       "      <th></th>\n",
       "      <th>uid_user_0</th>\n",
       "      <th>uid_user_1</th>\n",
       "      <th>uid_user_10</th>\n",
       "      <th>uid_user_11</th>\n",
       "      <th>uid_user_12</th>\n",
       "      <th>uid_user_13</th>\n",
       "      <th>uid_user_14</th>\n",
       "      <th>uid_user_15</th>\n",
       "      <th>uid_user_16</th>\n",
       "      <th>uid_user_17</th>\n",
       "      <th>...</th>\n",
       "      <th>labname_laba04</th>\n",
       "      <th>labname_laba04s</th>\n",
       "      <th>labname_laba05</th>\n",
       "      <th>labname_laba06</th>\n",
       "      <th>labname_laba06s</th>\n",
       "      <th>labname_project1</th>\n",
       "      <th>num_trials</th>\n",
       "      <th>hour</th>\n",
       "      <th>day_of_week</th>\n",
       "      <th>naive_prediction</th>\n",
       "    </tr>\n",
       "  </thead>\n",
       "  <tbody>\n",
       "    <tr>\n",
       "      <th>0</th>\n",
       "      <td>0.0</td>\n",
       "      <td>0.0</td>\n",
       "      <td>0.0</td>\n",
       "      <td>0.0</td>\n",
       "      <td>0.0</td>\n",
       "      <td>0.0</td>\n",
       "      <td>0.0</td>\n",
       "      <td>0.0</td>\n",
       "      <td>0.0</td>\n",
       "      <td>0.0</td>\n",
       "      <td>...</td>\n",
       "      <td>0.0</td>\n",
       "      <td>0.0</td>\n",
       "      <td>0.0</td>\n",
       "      <td>0.0</td>\n",
       "      <td>0.0</td>\n",
       "      <td>1.0</td>\n",
       "      <td>-0.788667</td>\n",
       "      <td>-2.562352</td>\n",
       "      <td>4</td>\n",
       "      <td>3</td>\n",
       "    </tr>\n",
       "    <tr>\n",
       "      <th>1</th>\n",
       "      <td>0.0</td>\n",
       "      <td>0.0</td>\n",
       "      <td>0.0</td>\n",
       "      <td>0.0</td>\n",
       "      <td>0.0</td>\n",
       "      <td>0.0</td>\n",
       "      <td>0.0</td>\n",
       "      <td>0.0</td>\n",
       "      <td>0.0</td>\n",
       "      <td>0.0</td>\n",
       "      <td>...</td>\n",
       "      <td>0.0</td>\n",
       "      <td>0.0</td>\n",
       "      <td>0.0</td>\n",
       "      <td>0.0</td>\n",
       "      <td>0.0</td>\n",
       "      <td>1.0</td>\n",
       "      <td>-0.756764</td>\n",
       "      <td>-2.562352</td>\n",
       "      <td>4</td>\n",
       "      <td>3</td>\n",
       "    </tr>\n",
       "    <tr>\n",
       "      <th>2</th>\n",
       "      <td>0.0</td>\n",
       "      <td>0.0</td>\n",
       "      <td>0.0</td>\n",
       "      <td>0.0</td>\n",
       "      <td>0.0</td>\n",
       "      <td>0.0</td>\n",
       "      <td>0.0</td>\n",
       "      <td>0.0</td>\n",
       "      <td>0.0</td>\n",
       "      <td>0.0</td>\n",
       "      <td>...</td>\n",
       "      <td>0.0</td>\n",
       "      <td>0.0</td>\n",
       "      <td>0.0</td>\n",
       "      <td>0.0</td>\n",
       "      <td>0.0</td>\n",
       "      <td>1.0</td>\n",
       "      <td>-0.724861</td>\n",
       "      <td>-2.562352</td>\n",
       "      <td>4</td>\n",
       "      <td>3</td>\n",
       "    </tr>\n",
       "    <tr>\n",
       "      <th>3</th>\n",
       "      <td>0.0</td>\n",
       "      <td>0.0</td>\n",
       "      <td>0.0</td>\n",
       "      <td>0.0</td>\n",
       "      <td>0.0</td>\n",
       "      <td>0.0</td>\n",
       "      <td>0.0</td>\n",
       "      <td>0.0</td>\n",
       "      <td>0.0</td>\n",
       "      <td>0.0</td>\n",
       "      <td>...</td>\n",
       "      <td>0.0</td>\n",
       "      <td>0.0</td>\n",
       "      <td>0.0</td>\n",
       "      <td>0.0</td>\n",
       "      <td>0.0</td>\n",
       "      <td>1.0</td>\n",
       "      <td>-0.692958</td>\n",
       "      <td>-2.562352</td>\n",
       "      <td>4</td>\n",
       "      <td>3</td>\n",
       "    </tr>\n",
       "    <tr>\n",
       "      <th>4</th>\n",
       "      <td>0.0</td>\n",
       "      <td>0.0</td>\n",
       "      <td>0.0</td>\n",
       "      <td>0.0</td>\n",
       "      <td>0.0</td>\n",
       "      <td>0.0</td>\n",
       "      <td>0.0</td>\n",
       "      <td>0.0</td>\n",
       "      <td>0.0</td>\n",
       "      <td>0.0</td>\n",
       "      <td>...</td>\n",
       "      <td>0.0</td>\n",
       "      <td>0.0</td>\n",
       "      <td>0.0</td>\n",
       "      <td>0.0</td>\n",
       "      <td>0.0</td>\n",
       "      <td>1.0</td>\n",
       "      <td>-0.661055</td>\n",
       "      <td>-2.562352</td>\n",
       "      <td>4</td>\n",
       "      <td>3</td>\n",
       "    </tr>\n",
       "  </tbody>\n",
       "</table>\n",
       "<p>5 rows × 45 columns</p>\n",
       "</div>"
      ],
      "text/plain": [
       "   uid_user_0  uid_user_1  uid_user_10  uid_user_11  uid_user_12  uid_user_13  \\\n",
       "0         0.0         0.0          0.0          0.0          0.0          0.0   \n",
       "1         0.0         0.0          0.0          0.0          0.0          0.0   \n",
       "2         0.0         0.0          0.0          0.0          0.0          0.0   \n",
       "3         0.0         0.0          0.0          0.0          0.0          0.0   \n",
       "4         0.0         0.0          0.0          0.0          0.0          0.0   \n",
       "\n",
       "   uid_user_14  uid_user_15  uid_user_16  uid_user_17  ...  labname_laba04  \\\n",
       "0          0.0          0.0          0.0          0.0  ...             0.0   \n",
       "1          0.0          0.0          0.0          0.0  ...             0.0   \n",
       "2          0.0          0.0          0.0          0.0  ...             0.0   \n",
       "3          0.0          0.0          0.0          0.0  ...             0.0   \n",
       "4          0.0          0.0          0.0          0.0  ...             0.0   \n",
       "\n",
       "   labname_laba04s  labname_laba05  labname_laba06  labname_laba06s  \\\n",
       "0              0.0             0.0             0.0              0.0   \n",
       "1              0.0             0.0             0.0              0.0   \n",
       "2              0.0             0.0             0.0              0.0   \n",
       "3              0.0             0.0             0.0              0.0   \n",
       "4              0.0             0.0             0.0              0.0   \n",
       "\n",
       "   labname_project1  num_trials      hour  day_of_week  naive_prediction  \n",
       "0               1.0   -0.788667 -2.562352            4                 3  \n",
       "1               1.0   -0.756764 -2.562352            4                 3  \n",
       "2               1.0   -0.724861 -2.562352            4                 3  \n",
       "3               1.0   -0.692958 -2.562352            4                 3  \n",
       "4               1.0   -0.661055 -2.562352            4                 3  \n",
       "\n",
       "[5 rows x 45 columns]"
      ]
     },
     "execution_count": 8,
     "metadata": {},
     "output_type": "execute_result"
    }
   ],
   "source": [
    "df.head()"
   ]
  },
  {
   "cell_type": "markdown",
   "metadata": {},
   "source": [
    "Prepare features and target variables:"
   ]
  },
  {
   "cell_type": "code",
   "execution_count": 9,
   "metadata": {},
   "outputs": [],
   "source": [
    "X: DataFrame = df.drop(columns=[\"day_of_week\", \"naive_prediction\", ], )\n",
    "y: Series = df[\"day_of_week\"]"
   ]
  },
  {
   "cell_type": "markdown",
   "metadata": {},
   "source": [
    "Check `X` and `y` variables:"
   ]
  },
  {
   "cell_type": "code",
   "execution_count": 10,
   "metadata": {},
   "outputs": [
    {
     "data": {
      "text/html": [
       "<div>\n",
       "<style scoped>\n",
       "    .dataframe tbody tr th:only-of-type {\n",
       "        vertical-align: middle;\n",
       "    }\n",
       "\n",
       "    .dataframe tbody tr th {\n",
       "        vertical-align: top;\n",
       "    }\n",
       "\n",
       "    .dataframe thead th {\n",
       "        text-align: right;\n",
       "    }\n",
       "</style>\n",
       "<table border=\"1\" class=\"dataframe\">\n",
       "  <thead>\n",
       "    <tr style=\"text-align: right;\">\n",
       "      <th></th>\n",
       "      <th>uid_user_0</th>\n",
       "      <th>uid_user_1</th>\n",
       "      <th>uid_user_10</th>\n",
       "      <th>uid_user_11</th>\n",
       "      <th>uid_user_12</th>\n",
       "      <th>uid_user_13</th>\n",
       "      <th>uid_user_14</th>\n",
       "      <th>uid_user_15</th>\n",
       "      <th>uid_user_16</th>\n",
       "      <th>uid_user_17</th>\n",
       "      <th>...</th>\n",
       "      <th>labname_lab03s</th>\n",
       "      <th>labname_lab05s</th>\n",
       "      <th>labname_laba04</th>\n",
       "      <th>labname_laba04s</th>\n",
       "      <th>labname_laba05</th>\n",
       "      <th>labname_laba06</th>\n",
       "      <th>labname_laba06s</th>\n",
       "      <th>labname_project1</th>\n",
       "      <th>num_trials</th>\n",
       "      <th>hour</th>\n",
       "    </tr>\n",
       "  </thead>\n",
       "  <tbody>\n",
       "    <tr>\n",
       "      <th>0</th>\n",
       "      <td>0.0</td>\n",
       "      <td>0.0</td>\n",
       "      <td>0.0</td>\n",
       "      <td>0.0</td>\n",
       "      <td>0.0</td>\n",
       "      <td>0.0</td>\n",
       "      <td>0.0</td>\n",
       "      <td>0.0</td>\n",
       "      <td>0.0</td>\n",
       "      <td>0.0</td>\n",
       "      <td>...</td>\n",
       "      <td>0.0</td>\n",
       "      <td>0.0</td>\n",
       "      <td>0.0</td>\n",
       "      <td>0.0</td>\n",
       "      <td>0.0</td>\n",
       "      <td>0.0</td>\n",
       "      <td>0.0</td>\n",
       "      <td>1.0</td>\n",
       "      <td>-0.788667</td>\n",
       "      <td>-2.562352</td>\n",
       "    </tr>\n",
       "    <tr>\n",
       "      <th>1</th>\n",
       "      <td>0.0</td>\n",
       "      <td>0.0</td>\n",
       "      <td>0.0</td>\n",
       "      <td>0.0</td>\n",
       "      <td>0.0</td>\n",
       "      <td>0.0</td>\n",
       "      <td>0.0</td>\n",
       "      <td>0.0</td>\n",
       "      <td>0.0</td>\n",
       "      <td>0.0</td>\n",
       "      <td>...</td>\n",
       "      <td>0.0</td>\n",
       "      <td>0.0</td>\n",
       "      <td>0.0</td>\n",
       "      <td>0.0</td>\n",
       "      <td>0.0</td>\n",
       "      <td>0.0</td>\n",
       "      <td>0.0</td>\n",
       "      <td>1.0</td>\n",
       "      <td>-0.756764</td>\n",
       "      <td>-2.562352</td>\n",
       "    </tr>\n",
       "    <tr>\n",
       "      <th>2</th>\n",
       "      <td>0.0</td>\n",
       "      <td>0.0</td>\n",
       "      <td>0.0</td>\n",
       "      <td>0.0</td>\n",
       "      <td>0.0</td>\n",
       "      <td>0.0</td>\n",
       "      <td>0.0</td>\n",
       "      <td>0.0</td>\n",
       "      <td>0.0</td>\n",
       "      <td>0.0</td>\n",
       "      <td>...</td>\n",
       "      <td>0.0</td>\n",
       "      <td>0.0</td>\n",
       "      <td>0.0</td>\n",
       "      <td>0.0</td>\n",
       "      <td>0.0</td>\n",
       "      <td>0.0</td>\n",
       "      <td>0.0</td>\n",
       "      <td>1.0</td>\n",
       "      <td>-0.724861</td>\n",
       "      <td>-2.562352</td>\n",
       "    </tr>\n",
       "    <tr>\n",
       "      <th>3</th>\n",
       "      <td>0.0</td>\n",
       "      <td>0.0</td>\n",
       "      <td>0.0</td>\n",
       "      <td>0.0</td>\n",
       "      <td>0.0</td>\n",
       "      <td>0.0</td>\n",
       "      <td>0.0</td>\n",
       "      <td>0.0</td>\n",
       "      <td>0.0</td>\n",
       "      <td>0.0</td>\n",
       "      <td>...</td>\n",
       "      <td>0.0</td>\n",
       "      <td>0.0</td>\n",
       "      <td>0.0</td>\n",
       "      <td>0.0</td>\n",
       "      <td>0.0</td>\n",
       "      <td>0.0</td>\n",
       "      <td>0.0</td>\n",
       "      <td>1.0</td>\n",
       "      <td>-0.692958</td>\n",
       "      <td>-2.562352</td>\n",
       "    </tr>\n",
       "    <tr>\n",
       "      <th>4</th>\n",
       "      <td>0.0</td>\n",
       "      <td>0.0</td>\n",
       "      <td>0.0</td>\n",
       "      <td>0.0</td>\n",
       "      <td>0.0</td>\n",
       "      <td>0.0</td>\n",
       "      <td>0.0</td>\n",
       "      <td>0.0</td>\n",
       "      <td>0.0</td>\n",
       "      <td>0.0</td>\n",
       "      <td>...</td>\n",
       "      <td>0.0</td>\n",
       "      <td>0.0</td>\n",
       "      <td>0.0</td>\n",
       "      <td>0.0</td>\n",
       "      <td>0.0</td>\n",
       "      <td>0.0</td>\n",
       "      <td>0.0</td>\n",
       "      <td>1.0</td>\n",
       "      <td>-0.661055</td>\n",
       "      <td>-2.562352</td>\n",
       "    </tr>\n",
       "  </tbody>\n",
       "</table>\n",
       "<p>5 rows × 43 columns</p>\n",
       "</div>"
      ],
      "text/plain": [
       "   uid_user_0  uid_user_1  uid_user_10  uid_user_11  uid_user_12  uid_user_13  \\\n",
       "0         0.0         0.0          0.0          0.0          0.0          0.0   \n",
       "1         0.0         0.0          0.0          0.0          0.0          0.0   \n",
       "2         0.0         0.0          0.0          0.0          0.0          0.0   \n",
       "3         0.0         0.0          0.0          0.0          0.0          0.0   \n",
       "4         0.0         0.0          0.0          0.0          0.0          0.0   \n",
       "\n",
       "   uid_user_14  uid_user_15  uid_user_16  uid_user_17  ...  labname_lab03s  \\\n",
       "0          0.0          0.0          0.0          0.0  ...             0.0   \n",
       "1          0.0          0.0          0.0          0.0  ...             0.0   \n",
       "2          0.0          0.0          0.0          0.0  ...             0.0   \n",
       "3          0.0          0.0          0.0          0.0  ...             0.0   \n",
       "4          0.0          0.0          0.0          0.0  ...             0.0   \n",
       "\n",
       "   labname_lab05s  labname_laba04  labname_laba04s  labname_laba05  \\\n",
       "0             0.0             0.0              0.0             0.0   \n",
       "1             0.0             0.0              0.0             0.0   \n",
       "2             0.0             0.0              0.0             0.0   \n",
       "3             0.0             0.0              0.0             0.0   \n",
       "4             0.0             0.0              0.0             0.0   \n",
       "\n",
       "   labname_laba06  labname_laba06s  labname_project1  num_trials      hour  \n",
       "0             0.0              0.0               1.0   -0.788667 -2.562352  \n",
       "1             0.0              0.0               1.0   -0.756764 -2.562352  \n",
       "2             0.0              0.0               1.0   -0.724861 -2.562352  \n",
       "3             0.0              0.0               1.0   -0.692958 -2.562352  \n",
       "4             0.0              0.0               1.0   -0.661055 -2.562352  \n",
       "\n",
       "[5 rows x 43 columns]"
      ]
     },
     "execution_count": 10,
     "metadata": {},
     "output_type": "execute_result"
    }
   ],
   "source": [
    "X.head()"
   ]
  },
  {
   "cell_type": "code",
   "execution_count": 11,
   "metadata": {},
   "outputs": [
    {
     "data": {
      "text/plain": [
       "0    4\n",
       "1    4\n",
       "2    4\n",
       "3    4\n",
       "4    4\n",
       "Name: day_of_week, dtype: int64"
      ]
     },
     "execution_count": 11,
     "metadata": {},
     "output_type": "execute_result"
    }
   ],
   "source": [
    "y.head()"
   ]
  },
  {
   "cell_type": "markdown",
   "metadata": {},
   "source": [
    "Use `train_test_split()` function:"
   ]
  },
  {
   "cell_type": "code",
   "execution_count": 12,
   "metadata": {},
   "outputs": [],
   "source": [
    "X_train, X_test, y_train, y_test = train_test_split(\n",
    "    X,\n",
    "    y,\n",
    "    stratify=y,\n",
    "    test_size=0.2,\n",
    "    random_state=21,\n",
    ")"
   ]
  },
  {
   "cell_type": "markdown",
   "metadata": {},
   "source": [
    "Check `X_train`, `X_test`, `y_train`, `y_test` variables:"
   ]
  },
  {
   "cell_type": "code",
   "execution_count": 13,
   "metadata": {},
   "outputs": [
    {
     "data": {
      "text/html": [
       "<div>\n",
       "<style scoped>\n",
       "    .dataframe tbody tr th:only-of-type {\n",
       "        vertical-align: middle;\n",
       "    }\n",
       "\n",
       "    .dataframe tbody tr th {\n",
       "        vertical-align: top;\n",
       "    }\n",
       "\n",
       "    .dataframe thead th {\n",
       "        text-align: right;\n",
       "    }\n",
       "</style>\n",
       "<table border=\"1\" class=\"dataframe\">\n",
       "  <thead>\n",
       "    <tr style=\"text-align: right;\">\n",
       "      <th></th>\n",
       "      <th>uid_user_0</th>\n",
       "      <th>uid_user_1</th>\n",
       "      <th>uid_user_10</th>\n",
       "      <th>uid_user_11</th>\n",
       "      <th>uid_user_12</th>\n",
       "      <th>uid_user_13</th>\n",
       "      <th>uid_user_14</th>\n",
       "      <th>uid_user_15</th>\n",
       "      <th>uid_user_16</th>\n",
       "      <th>uid_user_17</th>\n",
       "      <th>...</th>\n",
       "      <th>labname_lab03s</th>\n",
       "      <th>labname_lab05s</th>\n",
       "      <th>labname_laba04</th>\n",
       "      <th>labname_laba04s</th>\n",
       "      <th>labname_laba05</th>\n",
       "      <th>labname_laba06</th>\n",
       "      <th>labname_laba06s</th>\n",
       "      <th>labname_project1</th>\n",
       "      <th>num_trials</th>\n",
       "      <th>hour</th>\n",
       "    </tr>\n",
       "  </thead>\n",
       "  <tbody>\n",
       "    <tr>\n",
       "      <th>860</th>\n",
       "      <td>0.0</td>\n",
       "      <td>0.0</td>\n",
       "      <td>0.0</td>\n",
       "      <td>0.0</td>\n",
       "      <td>0.0</td>\n",
       "      <td>0.0</td>\n",
       "      <td>0.0</td>\n",
       "      <td>0.0</td>\n",
       "      <td>0.0</td>\n",
       "      <td>0.0</td>\n",
       "      <td>...</td>\n",
       "      <td>0.0</td>\n",
       "      <td>0.0</td>\n",
       "      <td>0.0</td>\n",
       "      <td>0.0</td>\n",
       "      <td>0.0</td>\n",
       "      <td>0.0</td>\n",
       "      <td>0.0</td>\n",
       "      <td>1.0</td>\n",
       "      <td>-0.724861</td>\n",
       "      <td>-0.691561</td>\n",
       "    </tr>\n",
       "    <tr>\n",
       "      <th>385</th>\n",
       "      <td>0.0</td>\n",
       "      <td>0.0</td>\n",
       "      <td>0.0</td>\n",
       "      <td>0.0</td>\n",
       "      <td>0.0</td>\n",
       "      <td>0.0</td>\n",
       "      <td>0.0</td>\n",
       "      <td>0.0</td>\n",
       "      <td>0.0</td>\n",
       "      <td>0.0</td>\n",
       "      <td>...</td>\n",
       "      <td>0.0</td>\n",
       "      <td>0.0</td>\n",
       "      <td>0.0</td>\n",
       "      <td>0.0</td>\n",
       "      <td>1.0</td>\n",
       "      <td>0.0</td>\n",
       "      <td>0.0</td>\n",
       "      <td>0.0</td>\n",
       "      <td>-0.629151</td>\n",
       "      <td>-1.159259</td>\n",
       "    </tr>\n",
       "    <tr>\n",
       "      <th>422</th>\n",
       "      <td>0.0</td>\n",
       "      <td>0.0</td>\n",
       "      <td>0.0</td>\n",
       "      <td>0.0</td>\n",
       "      <td>0.0</td>\n",
       "      <td>0.0</td>\n",
       "      <td>0.0</td>\n",
       "      <td>0.0</td>\n",
       "      <td>0.0</td>\n",
       "      <td>1.0</td>\n",
       "      <td>...</td>\n",
       "      <td>0.0</td>\n",
       "      <td>1.0</td>\n",
       "      <td>0.0</td>\n",
       "      <td>0.0</td>\n",
       "      <td>0.0</td>\n",
       "      <td>0.0</td>\n",
       "      <td>0.0</td>\n",
       "      <td>0.0</td>\n",
       "      <td>-0.788667</td>\n",
       "      <td>-1.393108</td>\n",
       "    </tr>\n",
       "    <tr>\n",
       "      <th>326</th>\n",
       "      <td>0.0</td>\n",
       "      <td>0.0</td>\n",
       "      <td>0.0</td>\n",
       "      <td>0.0</td>\n",
       "      <td>0.0</td>\n",
       "      <td>0.0</td>\n",
       "      <td>0.0</td>\n",
       "      <td>0.0</td>\n",
       "      <td>1.0</td>\n",
       "      <td>0.0</td>\n",
       "      <td>...</td>\n",
       "      <td>0.0</td>\n",
       "      <td>0.0</td>\n",
       "      <td>1.0</td>\n",
       "      <td>0.0</td>\n",
       "      <td>0.0</td>\n",
       "      <td>0.0</td>\n",
       "      <td>0.0</td>\n",
       "      <td>0.0</td>\n",
       "      <td>-0.533442</td>\n",
       "      <td>0.945382</td>\n",
       "    </tr>\n",
       "    <tr>\n",
       "      <th>714</th>\n",
       "      <td>0.0</td>\n",
       "      <td>0.0</td>\n",
       "      <td>0.0</td>\n",
       "      <td>0.0</td>\n",
       "      <td>0.0</td>\n",
       "      <td>0.0</td>\n",
       "      <td>0.0</td>\n",
       "      <td>0.0</td>\n",
       "      <td>0.0</td>\n",
       "      <td>0.0</td>\n",
       "      <td>...</td>\n",
       "      <td>0.0</td>\n",
       "      <td>0.0</td>\n",
       "      <td>0.0</td>\n",
       "      <td>0.0</td>\n",
       "      <td>0.0</td>\n",
       "      <td>0.0</td>\n",
       "      <td>0.0</td>\n",
       "      <td>1.0</td>\n",
       "      <td>0.678880</td>\n",
       "      <td>-0.925410</td>\n",
       "    </tr>\n",
       "  </tbody>\n",
       "</table>\n",
       "<p>5 rows × 43 columns</p>\n",
       "</div>"
      ],
      "text/plain": [
       "     uid_user_0  uid_user_1  uid_user_10  uid_user_11  uid_user_12  \\\n",
       "860         0.0         0.0          0.0          0.0          0.0   \n",
       "385         0.0         0.0          0.0          0.0          0.0   \n",
       "422         0.0         0.0          0.0          0.0          0.0   \n",
       "326         0.0         0.0          0.0          0.0          0.0   \n",
       "714         0.0         0.0          0.0          0.0          0.0   \n",
       "\n",
       "     uid_user_13  uid_user_14  uid_user_15  uid_user_16  uid_user_17  ...  \\\n",
       "860          0.0          0.0          0.0          0.0          0.0  ...   \n",
       "385          0.0          0.0          0.0          0.0          0.0  ...   \n",
       "422          0.0          0.0          0.0          0.0          1.0  ...   \n",
       "326          0.0          0.0          0.0          1.0          0.0  ...   \n",
       "714          0.0          0.0          0.0          0.0          0.0  ...   \n",
       "\n",
       "     labname_lab03s  labname_lab05s  labname_laba04  labname_laba04s  \\\n",
       "860             0.0             0.0             0.0              0.0   \n",
       "385             0.0             0.0             0.0              0.0   \n",
       "422             0.0             1.0             0.0              0.0   \n",
       "326             0.0             0.0             1.0              0.0   \n",
       "714             0.0             0.0             0.0              0.0   \n",
       "\n",
       "     labname_laba05  labname_laba06  labname_laba06s  labname_project1  \\\n",
       "860             0.0             0.0              0.0               1.0   \n",
       "385             1.0             0.0              0.0               0.0   \n",
       "422             0.0             0.0              0.0               0.0   \n",
       "326             0.0             0.0              0.0               0.0   \n",
       "714             0.0             0.0              0.0               1.0   \n",
       "\n",
       "     num_trials      hour  \n",
       "860   -0.724861 -0.691561  \n",
       "385   -0.629151 -1.159259  \n",
       "422   -0.788667 -1.393108  \n",
       "326   -0.533442  0.945382  \n",
       "714    0.678880 -0.925410  \n",
       "\n",
       "[5 rows x 43 columns]"
      ]
     },
     "execution_count": 13,
     "metadata": {},
     "output_type": "execute_result"
    }
   ],
   "source": [
    "X_train.head()"
   ]
  },
  {
   "cell_type": "code",
   "execution_count": 14,
   "metadata": {},
   "outputs": [
    {
     "data": {
      "text/html": [
       "<div>\n",
       "<style scoped>\n",
       "    .dataframe tbody tr th:only-of-type {\n",
       "        vertical-align: middle;\n",
       "    }\n",
       "\n",
       "    .dataframe tbody tr th {\n",
       "        vertical-align: top;\n",
       "    }\n",
       "\n",
       "    .dataframe thead th {\n",
       "        text-align: right;\n",
       "    }\n",
       "</style>\n",
       "<table border=\"1\" class=\"dataframe\">\n",
       "  <thead>\n",
       "    <tr style=\"text-align: right;\">\n",
       "      <th></th>\n",
       "      <th>uid_user_0</th>\n",
       "      <th>uid_user_1</th>\n",
       "      <th>uid_user_10</th>\n",
       "      <th>uid_user_11</th>\n",
       "      <th>uid_user_12</th>\n",
       "      <th>uid_user_13</th>\n",
       "      <th>uid_user_14</th>\n",
       "      <th>uid_user_15</th>\n",
       "      <th>uid_user_16</th>\n",
       "      <th>uid_user_17</th>\n",
       "      <th>...</th>\n",
       "      <th>labname_lab03s</th>\n",
       "      <th>labname_lab05s</th>\n",
       "      <th>labname_laba04</th>\n",
       "      <th>labname_laba04s</th>\n",
       "      <th>labname_laba05</th>\n",
       "      <th>labname_laba06</th>\n",
       "      <th>labname_laba06s</th>\n",
       "      <th>labname_project1</th>\n",
       "      <th>num_trials</th>\n",
       "      <th>hour</th>\n",
       "    </tr>\n",
       "  </thead>\n",
       "  <tbody>\n",
       "    <tr>\n",
       "      <th>1087</th>\n",
       "      <td>0.0</td>\n",
       "      <td>0.0</td>\n",
       "      <td>0.0</td>\n",
       "      <td>0.0</td>\n",
       "      <td>0.0</td>\n",
       "      <td>0.0</td>\n",
       "      <td>1.0</td>\n",
       "      <td>0.0</td>\n",
       "      <td>0.0</td>\n",
       "      <td>0.0</td>\n",
       "      <td>...</td>\n",
       "      <td>0.0</td>\n",
       "      <td>0.0</td>\n",
       "      <td>0.0</td>\n",
       "      <td>0.0</td>\n",
       "      <td>0.0</td>\n",
       "      <td>0.0</td>\n",
       "      <td>0.0</td>\n",
       "      <td>1.0</td>\n",
       "      <td>1.316943</td>\n",
       "      <td>0.243835</td>\n",
       "    </tr>\n",
       "    <tr>\n",
       "      <th>16</th>\n",
       "      <td>0.0</td>\n",
       "      <td>0.0</td>\n",
       "      <td>0.0</td>\n",
       "      <td>0.0</td>\n",
       "      <td>0.0</td>\n",
       "      <td>0.0</td>\n",
       "      <td>0.0</td>\n",
       "      <td>0.0</td>\n",
       "      <td>0.0</td>\n",
       "      <td>0.0</td>\n",
       "      <td>...</td>\n",
       "      <td>0.0</td>\n",
       "      <td>0.0</td>\n",
       "      <td>0.0</td>\n",
       "      <td>1.0</td>\n",
       "      <td>0.0</td>\n",
       "      <td>0.0</td>\n",
       "      <td>0.0</td>\n",
       "      <td>0.0</td>\n",
       "      <td>-0.788667</td>\n",
       "      <td>-0.691561</td>\n",
       "    </tr>\n",
       "    <tr>\n",
       "      <th>563</th>\n",
       "      <td>0.0</td>\n",
       "      <td>0.0</td>\n",
       "      <td>0.0</td>\n",
       "      <td>0.0</td>\n",
       "      <td>1.0</td>\n",
       "      <td>0.0</td>\n",
       "      <td>0.0</td>\n",
       "      <td>0.0</td>\n",
       "      <td>0.0</td>\n",
       "      <td>0.0</td>\n",
       "      <td>...</td>\n",
       "      <td>0.0</td>\n",
       "      <td>0.0</td>\n",
       "      <td>0.0</td>\n",
       "      <td>0.0</td>\n",
       "      <td>1.0</td>\n",
       "      <td>0.0</td>\n",
       "      <td>0.0</td>\n",
       "      <td>0.0</td>\n",
       "      <td>-0.373926</td>\n",
       "      <td>-1.393108</td>\n",
       "    </tr>\n",
       "    <tr>\n",
       "      <th>1381</th>\n",
       "      <td>0.0</td>\n",
       "      <td>0.0</td>\n",
       "      <td>0.0</td>\n",
       "      <td>0.0</td>\n",
       "      <td>0.0</td>\n",
       "      <td>0.0</td>\n",
       "      <td>0.0</td>\n",
       "      <td>0.0</td>\n",
       "      <td>0.0</td>\n",
       "      <td>0.0</td>\n",
       "      <td>...</td>\n",
       "      <td>0.0</td>\n",
       "      <td>0.0</td>\n",
       "      <td>0.0</td>\n",
       "      <td>0.0</td>\n",
       "      <td>0.0</td>\n",
       "      <td>0.0</td>\n",
       "      <td>0.0</td>\n",
       "      <td>1.0</td>\n",
       "      <td>-0.182507</td>\n",
       "      <td>-0.223863</td>\n",
       "    </tr>\n",
       "    <tr>\n",
       "      <th>1199</th>\n",
       "      <td>0.0</td>\n",
       "      <td>0.0</td>\n",
       "      <td>0.0</td>\n",
       "      <td>0.0</td>\n",
       "      <td>0.0</td>\n",
       "      <td>0.0</td>\n",
       "      <td>0.0</td>\n",
       "      <td>0.0</td>\n",
       "      <td>0.0</td>\n",
       "      <td>0.0</td>\n",
       "      <td>...</td>\n",
       "      <td>0.0</td>\n",
       "      <td>0.0</td>\n",
       "      <td>0.0</td>\n",
       "      <td>0.0</td>\n",
       "      <td>0.0</td>\n",
       "      <td>0.0</td>\n",
       "      <td>0.0</td>\n",
       "      <td>1.0</td>\n",
       "      <td>-0.533442</td>\n",
       "      <td>-0.691561</td>\n",
       "    </tr>\n",
       "  </tbody>\n",
       "</table>\n",
       "<p>5 rows × 43 columns</p>\n",
       "</div>"
      ],
      "text/plain": [
       "      uid_user_0  uid_user_1  uid_user_10  uid_user_11  uid_user_12  \\\n",
       "1087         0.0         0.0          0.0          0.0          0.0   \n",
       "16           0.0         0.0          0.0          0.0          0.0   \n",
       "563          0.0         0.0          0.0          0.0          1.0   \n",
       "1381         0.0         0.0          0.0          0.0          0.0   \n",
       "1199         0.0         0.0          0.0          0.0          0.0   \n",
       "\n",
       "      uid_user_13  uid_user_14  uid_user_15  uid_user_16  uid_user_17  ...  \\\n",
       "1087          0.0          1.0          0.0          0.0          0.0  ...   \n",
       "16            0.0          0.0          0.0          0.0          0.0  ...   \n",
       "563           0.0          0.0          0.0          0.0          0.0  ...   \n",
       "1381          0.0          0.0          0.0          0.0          0.0  ...   \n",
       "1199          0.0          0.0          0.0          0.0          0.0  ...   \n",
       "\n",
       "      labname_lab03s  labname_lab05s  labname_laba04  labname_laba04s  \\\n",
       "1087             0.0             0.0             0.0              0.0   \n",
       "16               0.0             0.0             0.0              1.0   \n",
       "563              0.0             0.0             0.0              0.0   \n",
       "1381             0.0             0.0             0.0              0.0   \n",
       "1199             0.0             0.0             0.0              0.0   \n",
       "\n",
       "      labname_laba05  labname_laba06  labname_laba06s  labname_project1  \\\n",
       "1087             0.0             0.0              0.0               1.0   \n",
       "16               0.0             0.0              0.0               0.0   \n",
       "563              1.0             0.0              0.0               0.0   \n",
       "1381             0.0             0.0              0.0               1.0   \n",
       "1199             0.0             0.0              0.0               1.0   \n",
       "\n",
       "      num_trials      hour  \n",
       "1087    1.316943  0.243835  \n",
       "16     -0.788667 -0.691561  \n",
       "563    -0.373926 -1.393108  \n",
       "1381   -0.182507 -0.223863  \n",
       "1199   -0.533442 -0.691561  \n",
       "\n",
       "[5 rows x 43 columns]"
      ]
     },
     "execution_count": 14,
     "metadata": {},
     "output_type": "execute_result"
    }
   ],
   "source": [
    "X_test.head()"
   ]
  },
  {
   "cell_type": "code",
   "execution_count": 15,
   "metadata": {},
   "outputs": [
    {
     "data": {
      "text/plain": [
       "860    6\n",
       "385    4\n",
       "422    5\n",
       "326    6\n",
       "714    1\n",
       "Name: day_of_week, dtype: int64"
      ]
     },
     "execution_count": 15,
     "metadata": {},
     "output_type": "execute_result"
    }
   ],
   "source": [
    "y_train.head()"
   ]
  },
  {
   "cell_type": "code",
   "execution_count": 16,
   "metadata": {},
   "outputs": [
    {
     "data": {
      "text/plain": [
       "1087    1\n",
       "16      5\n",
       "563     6\n",
       "1381    3\n",
       "1199    2\n",
       "Name: day_of_week, dtype: int64"
      ]
     },
     "execution_count": 16,
     "metadata": {},
     "output_type": "execute_result"
    }
   ],
   "source": [
    "y_test.head()"
   ]
  },
  {
   "cell_type": "markdown",
   "metadata": {},
   "source": [
    "## *Logistic regression regularization*:"
   ]
  },
  {
   "cell_type": "markdown",
   "metadata": {},
   "source": [
    "Create a model of *logistic regression*:"
   ]
  },
  {
   "cell_type": "code",
   "execution_count": 17,
   "metadata": {},
   "outputs": [],
   "source": [
    "log_reg_model: LogisticRegression = LogisticRegression(\n",
    "    random_state=21,\n",
    "    fit_intercept=False,\n",
    ")"
   ]
  },
  {
   "cell_type": "markdown",
   "metadata": {},
   "source": [
    "Use *cross-validation* to evaluate the *accuracy* metric of the *logistic regression* model:"
   ]
  },
  {
   "cell_type": "code",
   "execution_count": 18,
   "metadata": {},
   "outputs": [
    {
     "name": "stdout",
     "output_type": "stream",
     "text": [
      "train accuracy - 0.628 | test accuracy - 0.740\n",
      "train accuracy - 0.653 | test accuracy - 0.615\n",
      "train accuracy - 0.654 | test accuracy - 0.609\n",
      "train accuracy - 0.636 | test accuracy - 0.544\n",
      "train accuracy - 0.645 | test accuracy - 0.633\n",
      "train accuracy - 0.645 | test accuracy - 0.580\n",
      "train accuracy - 0.629 | test accuracy - 0.571\n",
      "train accuracy - 0.644 | test accuracy - 0.619\n",
      "train accuracy - 0.636 | test accuracy - 0.601\n",
      "train accuracy - 0.640 | test accuracy - 0.613\n",
      "\n",
      "Classification model STD is 0.038.\n",
      "Classification model average accuracy on cross-validation is 0.627.\n",
      "\n"
     ]
    }
   ],
   "source": [
    "print_classification_model_cross_validation(\n",
    "    X=X,\n",
    "    y=y,\n",
    "    classification_model=log_reg_model,\n",
    ")"
   ]
  },
  {
   "cell_type": "markdown",
   "metadata": {},
   "source": [
    "Get info about *cross-valiadtion* duration for *logistic regression* model:"
   ]
  },
  {
   "cell_type": "code",
   "execution_count": 19,
   "metadata": {},
   "outputs": [
    {
     "name": "stdout",
     "output_type": "stream",
     "text": [
      "295 ms ± 30.9 ms per loop (mean ± std. dev. of 7 runs, 1 loop each)\n"
     ]
    }
   ],
   "source": [
    "%%timeit\n",
    "%%capture\n",
    "print_classification_model_cross_validation(\n",
    "    X=X,\n",
    "    y=y,\n",
    "    classification_model=log_reg_model,\n",
    ")"
   ]
  },
  {
   "cell_type": "markdown",
   "metadata": {},
   "source": [
    "Create a optimized model of *logistic regression* with parameter `penalty=None`:"
   ]
  },
  {
   "cell_type": "code",
   "execution_count": 20,
   "metadata": {},
   "outputs": [],
   "source": [
    "optimized_log_reg_model_one: LogisticRegression = LogisticRegression(\n",
    "    penalty=None,\n",
    "    random_state=21,\n",
    "    fit_intercept=False,\n",
    ")"
   ]
  },
  {
   "cell_type": "markdown",
   "metadata": {},
   "source": [
    "Use *cross-validation* to evaluate the *accuracy* metric of the optimized *logistic regression* model with parameter `penalty=None`:"
   ]
  },
  {
   "cell_type": "code",
   "execution_count": 21,
   "metadata": {},
   "outputs": [
    {
     "name": "stdout",
     "output_type": "stream",
     "text": [
      "train accuracy - 0.661 | test accuracy - 0.751\n",
      "train accuracy - 0.664 | test accuracy - 0.633\n",
      "train accuracy - 0.659 | test accuracy - 0.621\n",
      "train accuracy - 0.660 | test accuracy - 0.574\n",
      "train accuracy - 0.667 | test accuracy - 0.663\n",
      "train accuracy - 0.669 | test accuracy - 0.615\n",
      "train accuracy - 0.658 | test accuracy - 0.619\n",
      "train accuracy - 0.656 | test accuracy - 0.637\n",
      "train accuracy - 0.657 | test accuracy - 0.607\n",
      "train accuracy - 0.675 | test accuracy - 0.637\n",
      "\n",
      "Classification model STD is 0.034.\n",
      "Classification model average accuracy on cross-validation is 0.649.\n",
      "\n"
     ]
    }
   ],
   "source": [
    "print_classification_model_cross_validation(\n",
    "    X=X,\n",
    "    y=y,\n",
    "    classification_model=optimized_log_reg_model_one,\n",
    ")"
   ]
  },
  {
   "cell_type": "markdown",
   "metadata": {},
   "source": [
    "Get info about *cross-valiadtion* duration for optimized *logistic regression* model with parameter `penalty=None`:"
   ]
  },
  {
   "cell_type": "code",
   "execution_count": 22,
   "metadata": {},
   "outputs": [
    {
     "name": "stdout",
     "output_type": "stream",
     "text": [
      "599 ms ± 25.4 ms per loop (mean ± std. dev. of 7 runs, 1 loop each)\n"
     ]
    }
   ],
   "source": [
    "%%timeit\n",
    "%%capture\n",
    "print_classification_model_cross_validation(\n",
    "    X=X,\n",
    "    y=y,\n",
    "    classification_model=optimized_log_reg_model_one,\n",
    ")"
   ]
  },
  {
   "cell_type": "markdown",
   "metadata": {},
   "source": [
    "Create a optimized model of *logistic regression* with parameter `penalty=\"l1\"`:"
   ]
  },
  {
   "cell_type": "code",
   "execution_count": 23,
   "metadata": {},
   "outputs": [],
   "source": [
    "optimized_log_reg_model_two: LogisticRegression = LogisticRegression(\n",
    "    penalty=\"l1\",\n",
    "    random_state=21,\n",
    "    solver=\"liblinear\",\n",
    "    fit_intercept=False,\n",
    ")"
   ]
  },
  {
   "cell_type": "markdown",
   "metadata": {},
   "source": [
    "Use *cross-validation* to evaluate the *accuracy* metric of the optimized *logistic regression* model with parameter `penalty=\"l1\"`:"
   ]
  },
  {
   "cell_type": "code",
   "execution_count": 24,
   "metadata": {},
   "outputs": [
    {
     "name": "stdout",
     "output_type": "stream",
     "text": [
      "train accuracy - 0.612 | test accuracy - 0.686\n",
      "train accuracy - 0.634 | test accuracy - 0.598\n",
      "train accuracy - 0.643 | test accuracy - 0.592\n",
      "train accuracy - 0.615 | test accuracy - 0.533\n",
      "train accuracy - 0.630 | test accuracy - 0.598\n",
      "train accuracy - 0.630 | test accuracy - 0.556\n",
      "train accuracy - 0.625 | test accuracy - 0.554\n",
      "train accuracy - 0.637 | test accuracy - 0.625\n",
      "train accuracy - 0.626 | test accuracy - 0.613\n",
      "train accuracy - 0.622 | test accuracy - 0.589\n",
      "\n",
      "Classification model STD is 0.034.\n",
      "Classification model average accuracy on cross-validation is 0.611.\n",
      "\n"
     ]
    }
   ],
   "source": [
    "print_classification_model_cross_validation(\n",
    "    X=X,\n",
    "    y=y,\n",
    "    classification_model=optimized_log_reg_model_two,\n",
    ")"
   ]
  },
  {
   "cell_type": "markdown",
   "metadata": {},
   "source": [
    "Get info about *cross-valiadtion* duration for optimized *logistic regression* model with parameter `penalty=\"l1\"`:"
   ]
  },
  {
   "cell_type": "code",
   "execution_count": 25,
   "metadata": {},
   "outputs": [
    {
     "name": "stdout",
     "output_type": "stream",
     "text": [
      "190 ms ± 6.96 ms per loop (mean ± std. dev. of 7 runs, 1 loop each)\n"
     ]
    }
   ],
   "source": [
    "%%timeit\n",
    "%%capture\n",
    "print_classification_model_cross_validation(\n",
    "    X=X,\n",
    "    y=y,\n",
    "    classification_model=optimized_log_reg_model_two,\n",
    ")"
   ]
  },
  {
   "cell_type": "markdown",
   "metadata": {},
   "source": [
    "Create a optimized model of *logistic regression* with parameter `penalty=\"l2\"`:"
   ]
  },
  {
   "cell_type": "code",
   "execution_count": 26,
   "metadata": {},
   "outputs": [],
   "source": [
    "optimized_log_reg_model_three: LogisticRegression = LogisticRegression(\n",
    "    penalty=\"l2\",\n",
    "    random_state=21,\n",
    "    fit_intercept=False,\n",
    ")"
   ]
  },
  {
   "cell_type": "markdown",
   "metadata": {},
   "source": [
    "Use *cross-validation* to evaluate the *accuracy* metric of the optimized *logistic regression* model with parameter `penalty=\"l2\"`:"
   ]
  },
  {
   "cell_type": "code",
   "execution_count": 27,
   "metadata": {},
   "outputs": [
    {
     "name": "stdout",
     "output_type": "stream",
     "text": [
      "train accuracy - 0.628 | test accuracy - 0.740\n",
      "train accuracy - 0.653 | test accuracy - 0.615\n",
      "train accuracy - 0.654 | test accuracy - 0.609\n",
      "train accuracy - 0.636 | test accuracy - 0.544\n",
      "train accuracy - 0.645 | test accuracy - 0.633\n",
      "train accuracy - 0.645 | test accuracy - 0.580\n",
      "train accuracy - 0.629 | test accuracy - 0.571\n",
      "train accuracy - 0.644 | test accuracy - 0.619\n",
      "train accuracy - 0.636 | test accuracy - 0.601\n",
      "train accuracy - 0.640 | test accuracy - 0.613\n",
      "\n",
      "Classification model STD is 0.038.\n",
      "Classification model average accuracy on cross-validation is 0.627.\n",
      "\n"
     ]
    }
   ],
   "source": [
    "print_classification_model_cross_validation(\n",
    "    X=X,\n",
    "    y=y,\n",
    "    classification_model=optimized_log_reg_model_three,\n",
    ")"
   ]
  },
  {
   "cell_type": "markdown",
   "metadata": {},
   "source": [
    "Get info about *cross-valiadtion* duration for optimized *logistic regression* model with parameter `penalty=\"l2\"`:"
   ]
  },
  {
   "cell_type": "code",
   "execution_count": 28,
   "metadata": {},
   "outputs": [
    {
     "name": "stdout",
     "output_type": "stream",
     "text": [
      "328 ms ± 48.3 ms per loop (mean ± std. dev. of 7 runs, 1 loop each)\n"
     ]
    }
   ],
   "source": [
    "%%timeit\n",
    "%%capture\n",
    "print_classification_model_cross_validation(\n",
    "    X=X,\n",
    "    y=y,\n",
    "    classification_model=optimized_log_reg_model_three,\n",
    ")"
   ]
  },
  {
   "cell_type": "markdown",
   "metadata": {},
   "source": [
    "Create a optimized model of *logistic regression* with parameter `penalty=\"elasticnet\"`:"
   ]
  },
  {
   "cell_type": "code",
   "execution_count": 29,
   "metadata": {},
   "outputs": [],
   "source": [
    "optimized_log_reg_model_four: LogisticRegression = LogisticRegression(\n",
    "    l1_ratio=0.5,\n",
    "    solver=\"saga\",\n",
    "    random_state=21,\n",
    "    fit_intercept=False,\n",
    "    penalty=\"elasticnet\",\n",
    ")"
   ]
  },
  {
   "cell_type": "markdown",
   "metadata": {},
   "source": [
    "Use *cross-validation* to evaluate the *accuracy* metric of the optimized *logistic regression* model with parameter `penalty=\"elasticnet\"`:"
   ]
  },
  {
   "cell_type": "code",
   "execution_count": 30,
   "metadata": {},
   "outputs": [
    {
     "name": "stdout",
     "output_type": "stream",
     "text": [
      "train accuracy - 0.630 | test accuracy - 0.734\n",
      "train accuracy - 0.651 | test accuracy - 0.615\n",
      "train accuracy - 0.650 | test accuracy - 0.609\n",
      "train accuracy - 0.635 | test accuracy - 0.538\n",
      "train accuracy - 0.647 | test accuracy - 0.633\n",
      "train accuracy - 0.645 | test accuracy - 0.586\n",
      "train accuracy - 0.631 | test accuracy - 0.577\n",
      "train accuracy - 0.644 | test accuracy - 0.631\n",
      "train accuracy - 0.632 | test accuracy - 0.607\n",
      "train accuracy - 0.644 | test accuracy - 0.607\n",
      "\n",
      "Classification model STD is 0.037.\n",
      "Classification model average accuracy on cross-validation is 0.627.\n",
      "\n"
     ]
    }
   ],
   "source": [
    "print_classification_model_cross_validation(\n",
    "    X=X,\n",
    "    y=y,\n",
    "    classification_model=optimized_log_reg_model_four,\n",
    ")"
   ]
  },
  {
   "cell_type": "markdown",
   "metadata": {},
   "source": [
    "Get info about *cross-valiadtion* duration for optimized *logistic regression* model with parameter `penalty=\"elasticnet\"`:"
   ]
  },
  {
   "cell_type": "code",
   "execution_count": 31,
   "metadata": {},
   "outputs": [
    {
     "name": "stdout",
     "output_type": "stream",
     "text": [
      "3.03 s ± 147 ms per loop (mean ± std. dev. of 7 runs, 1 loop each)\n"
     ]
    }
   ],
   "source": [
    "%%timeit\n",
    "%%capture\n",
    "print_classification_model_cross_validation(\n",
    "    X=X,\n",
    "    y=y,\n",
    "    classification_model=optimized_log_reg_model_four,\n",
    ")"
   ]
  },
  {
   "cell_type": "markdown",
   "metadata": {},
   "source": [
    "## *SVC regularization*:"
   ]
  },
  {
   "cell_type": "markdown",
   "metadata": {},
   "source": [
    "Create a model of *SVC*:"
   ]
  },
  {
   "cell_type": "code",
   "execution_count": 32,
   "metadata": {},
   "outputs": [],
   "source": [
    "svc_model: SVC = SVC(\n",
    "    kernel=\"linear\",\n",
    "    random_state=21,\n",
    "    probability=True,\n",
    ")"
   ]
  },
  {
   "cell_type": "markdown",
   "metadata": {},
   "source": [
    "Use *cross-validation* to evaluate the *accuracy* metric of the *SVC* model:"
   ]
  },
  {
   "cell_type": "code",
   "execution_count": 33,
   "metadata": {},
   "outputs": [
    {
     "name": "stdout",
     "output_type": "stream",
     "text": [
      "train accuracy - 0.693 | test accuracy - 0.769\n",
      "train accuracy - 0.711 | test accuracy - 0.686\n",
      "train accuracy - 0.701 | test accuracy - 0.675\n",
      "train accuracy - 0.699 | test accuracy - 0.609\n",
      "train accuracy - 0.701 | test accuracy - 0.698\n",
      "train accuracy - 0.707 | test accuracy - 0.728\n",
      "train accuracy - 0.700 | test accuracy - 0.655\n",
      "train accuracy - 0.711 | test accuracy - 0.637\n",
      "train accuracy - 0.696 | test accuracy - 0.685\n",
      "train accuracy - 0.711 | test accuracy - 0.643\n",
      "\n",
      "Classification model STD is 0.034.\n",
      "Classification model average accuracy on cross-validation is 0.691.\n",
      "\n"
     ]
    }
   ],
   "source": [
    "print_classification_model_cross_validation(\n",
    "    X=X,\n",
    "    y=y,\n",
    "    classification_model=svc_model,\n",
    ")"
   ]
  },
  {
   "cell_type": "markdown",
   "metadata": {},
   "source": [
    "Get info about *cross-valiadtion* duration for *SVC* model:"
   ]
  },
  {
   "cell_type": "code",
   "execution_count": 34,
   "metadata": {},
   "outputs": [
    {
     "name": "stdout",
     "output_type": "stream",
     "text": [
      "4.19 s ± 298 ms per loop (mean ± std. dev. of 7 runs, 1 loop each)\n"
     ]
    }
   ],
   "source": [
    "%%timeit\n",
    "%%capture\n",
    "print_classification_model_cross_validation(\n",
    "    X=X,\n",
    "    y=y,\n",
    "    classification_model=svc_model,\n",
    ")"
   ]
  },
  {
   "cell_type": "markdown",
   "metadata": {},
   "source": [
    "Create a optimized model of *SVC* with parameter `C=0.25`:"
   ]
  },
  {
   "cell_type": "code",
   "execution_count": 35,
   "metadata": {},
   "outputs": [],
   "source": [
    "optimized_svc_model_one: SVC = SVC(\n",
    "    C=0.25,\n",
    "    kernel=\"linear\",\n",
    "    random_state=21,\n",
    "    probability=True,\n",
    ")"
   ]
  },
  {
   "cell_type": "markdown",
   "metadata": {},
   "source": [
    "Use *cross-validation* to evaluate the *accuracy* metric of the optimized *SVC* model with parameter `C=0.25`:"
   ]
  },
  {
   "cell_type": "code",
   "execution_count": 36,
   "metadata": {},
   "outputs": [
    {
     "name": "stdout",
     "output_type": "stream",
     "text": [
      "train accuracy - 0.657 | test accuracy - 0.734\n",
      "train accuracy - 0.660 | test accuracy - 0.633\n",
      "train accuracy - 0.646 | test accuracy - 0.604\n",
      "train accuracy - 0.654 | test accuracy - 0.533\n",
      "train accuracy - 0.654 | test accuracy - 0.675\n",
      "train accuracy - 0.654 | test accuracy - 0.633\n",
      "train accuracy - 0.655 | test accuracy - 0.589\n",
      "train accuracy - 0.661 | test accuracy - 0.595\n",
      "train accuracy - 0.652 | test accuracy - 0.667\n",
      "train accuracy - 0.651 | test accuracy - 0.595\n",
      "\n",
      "Classification model STD is 0.040.\n",
      "Classification model average accuracy on cross-validation is 0.640.\n",
      "\n"
     ]
    }
   ],
   "source": [
    "print_classification_model_cross_validation(\n",
    "    X=X,\n",
    "    y=y,\n",
    "    classification_model=optimized_svc_model_one,\n",
    ")"
   ]
  },
  {
   "cell_type": "markdown",
   "metadata": {},
   "source": [
    "Get info about *cross-valiadtion* duration for optimized *SVC* model with parameter `C=0.25`:"
   ]
  },
  {
   "cell_type": "code",
   "execution_count": 37,
   "metadata": {},
   "outputs": [
    {
     "name": "stdout",
     "output_type": "stream",
     "text": [
      "4.84 s ± 648 ms per loop (mean ± std. dev. of 7 runs, 1 loop each)\n"
     ]
    }
   ],
   "source": [
    "%%timeit\n",
    "%%capture\n",
    "print_classification_model_cross_validation(\n",
    "    X=X,\n",
    "    y=y,\n",
    "    classification_model=optimized_svc_model_one,\n",
    ")"
   ]
  },
  {
   "cell_type": "markdown",
   "metadata": {},
   "source": [
    "Create a optimized model of *SVC* with parameter `C=0.5`:"
   ]
  },
  {
   "cell_type": "code",
   "execution_count": 38,
   "metadata": {},
   "outputs": [],
   "source": [
    "optimized_svc_model_two: SVC = SVC(\n",
    "    C=0.5,\n",
    "    kernel=\"linear\",\n",
    "    random_state=21,\n",
    "    probability=True,\n",
    ")"
   ]
  },
  {
   "cell_type": "markdown",
   "metadata": {},
   "source": [
    "Use *cross-validation* to evaluate the *accuracy* metric of the optimized *SVC* model with parameter `C=0.5`:"
   ]
  },
  {
   "cell_type": "code",
   "execution_count": 39,
   "metadata": {},
   "outputs": [
    {
     "name": "stdout",
     "output_type": "stream",
     "text": [
      "train accuracy - 0.673 | test accuracy - 0.751\n",
      "train accuracy - 0.681 | test accuracy - 0.675\n",
      "train accuracy - 0.680 | test accuracy - 0.663\n",
      "train accuracy - 0.676 | test accuracy - 0.550\n",
      "train accuracy - 0.690 | test accuracy - 0.686\n",
      "train accuracy - 0.678 | test accuracy - 0.686\n",
      "train accuracy - 0.678 | test accuracy - 0.625\n",
      "train accuracy - 0.688 | test accuracy - 0.619\n",
      "train accuracy - 0.678 | test accuracy - 0.679\n",
      "train accuracy - 0.689 | test accuracy - 0.643\n",
      "\n",
      "Classification model STD is 0.038.\n",
      "Classification model average accuracy on cross-validation is 0.669.\n",
      "\n"
     ]
    }
   ],
   "source": [
    "print_classification_model_cross_validation(\n",
    "    X=X,\n",
    "    y=y,\n",
    "    classification_model=optimized_svc_model_two,\n",
    ")"
   ]
  },
  {
   "cell_type": "markdown",
   "metadata": {},
   "source": [
    "Get info about *cross-valiadtion* duration for optimized *SVC* model with parameter `C=0.5`:"
   ]
  },
  {
   "cell_type": "code",
   "execution_count": 40,
   "metadata": {},
   "outputs": [
    {
     "name": "stdout",
     "output_type": "stream",
     "text": [
      "4.77 s ± 314 ms per loop (mean ± std. dev. of 7 runs, 1 loop each)\n"
     ]
    }
   ],
   "source": [
    "%%timeit\n",
    "%%capture\n",
    "print_classification_model_cross_validation(\n",
    "    X=X,\n",
    "    y=y,\n",
    "    classification_model=optimized_svc_model_two,\n",
    ")"
   ]
  },
  {
   "cell_type": "markdown",
   "metadata": {},
   "source": [
    "Create a optimized model of *SVC* with parameter `C=1`:"
   ]
  },
  {
   "cell_type": "code",
   "execution_count": 41,
   "metadata": {},
   "outputs": [],
   "source": [
    "optimized_svc_model_three: SVC = SVC(\n",
    "    C=1,\n",
    "    kernel=\"linear\",\n",
    "    random_state=21,\n",
    "    probability=True,\n",
    ")"
   ]
  },
  {
   "cell_type": "markdown",
   "metadata": {},
   "source": [
    "Use *cross-validation* to evaluate the *accuracy* metric of the optimized *SVC* model with parameter `C=1`:"
   ]
  },
  {
   "cell_type": "code",
   "execution_count": 42,
   "metadata": {},
   "outputs": [
    {
     "name": "stdout",
     "output_type": "stream",
     "text": [
      "train accuracy - 0.693 | test accuracy - 0.769\n",
      "train accuracy - 0.711 | test accuracy - 0.686\n",
      "train accuracy - 0.701 | test accuracy - 0.675\n",
      "train accuracy - 0.699 | test accuracy - 0.609\n",
      "train accuracy - 0.701 | test accuracy - 0.698\n",
      "train accuracy - 0.707 | test accuracy - 0.728\n",
      "train accuracy - 0.700 | test accuracy - 0.655\n",
      "train accuracy - 0.711 | test accuracy - 0.637\n",
      "train accuracy - 0.696 | test accuracy - 0.685\n",
      "train accuracy - 0.711 | test accuracy - 0.643\n",
      "\n",
      "Classification model STD is 0.034.\n",
      "Classification model average accuracy on cross-validation is 0.691.\n",
      "\n"
     ]
    }
   ],
   "source": [
    "print_classification_model_cross_validation(\n",
    "    X=X,\n",
    "    y=y,\n",
    "    classification_model=optimized_svc_model_three,\n",
    ")"
   ]
  },
  {
   "cell_type": "markdown",
   "metadata": {},
   "source": [
    "Get info about *cross-valiadtion* duration for optimized *SVC* model with parameter `C=1`:"
   ]
  },
  {
   "cell_type": "code",
   "execution_count": 43,
   "metadata": {},
   "outputs": [
    {
     "name": "stdout",
     "output_type": "stream",
     "text": [
      "4.25 s ± 332 ms per loop (mean ± std. dev. of 7 runs, 1 loop each)\n"
     ]
    }
   ],
   "source": [
    "%%timeit\n",
    "%%capture\n",
    "print_classification_model_cross_validation(\n",
    "    X=X,\n",
    "    y=y,\n",
    "    classification_model=optimized_svc_model_three,\n",
    ")"
   ]
  },
  {
   "cell_type": "markdown",
   "metadata": {},
   "source": [
    "Create a optimized model of *SVC* with parameter `C=5`:"
   ]
  },
  {
   "cell_type": "code",
   "execution_count": 44,
   "metadata": {},
   "outputs": [],
   "source": [
    "optimized_svc_model_four: SVC = SVC(\n",
    "    C=5,\n",
    "    kernel=\"linear\",\n",
    "    random_state=21,\n",
    "    probability=True,\n",
    ")"
   ]
  },
  {
   "cell_type": "markdown",
   "metadata": {},
   "source": [
    "Use *cross-validation* to evaluate the *accuracy* metric of the optimized *SVC* model with parameter `C=5`:"
   ]
  },
  {
   "cell_type": "code",
   "execution_count": 45,
   "metadata": {},
   "outputs": [
    {
     "name": "stdout",
     "output_type": "stream",
     "text": [
      "train accuracy - 0.761 | test accuracy - 0.817\n",
      "train accuracy - 0.762 | test accuracy - 0.704\n",
      "train accuracy - 0.772 | test accuracy - 0.757\n",
      "train accuracy - 0.769 | test accuracy - 0.686\n",
      "train accuracy - 0.730 | test accuracy - 0.757\n",
      "train accuracy - 0.760 | test accuracy - 0.763\n",
      "train accuracy - 0.762 | test accuracy - 0.696\n",
      "train accuracy - 0.758 | test accuracy - 0.696\n",
      "train accuracy - 0.771 | test accuracy - 0.738\n",
      "train accuracy - 0.773 | test accuracy - 0.690\n",
      "\n",
      "Classification model STD is 0.034.\n",
      "Classification model average accuracy on cross-validation is 0.746.\n",
      "\n"
     ]
    }
   ],
   "source": [
    "print_classification_model_cross_validation(\n",
    "    X=X,\n",
    "    y=y,\n",
    "    classification_model=optimized_svc_model_four,\n",
    ")"
   ]
  },
  {
   "cell_type": "markdown",
   "metadata": {},
   "source": [
    "Get info about *cross-valiadtion* duration for optimized *SVC* model with parameter `C=5`:"
   ]
  },
  {
   "cell_type": "code",
   "execution_count": 46,
   "metadata": {},
   "outputs": [
    {
     "name": "stdout",
     "output_type": "stream",
     "text": [
      "4.94 s ± 309 ms per loop (mean ± std. dev. of 7 runs, 1 loop each)\n"
     ]
    }
   ],
   "source": [
    "%%timeit\n",
    "%%capture\n",
    "print_classification_model_cross_validation(\n",
    "    X=X,\n",
    "    y=y,\n",
    "    classification_model=optimized_svc_model_four,\n",
    ")"
   ]
  },
  {
   "cell_type": "markdown",
   "metadata": {},
   "source": [
    "## *Decision tree regularization*:"
   ]
  },
  {
   "cell_type": "markdown",
   "metadata": {},
   "source": [
    "Create a model of *decision tree*:"
   ]
  },
  {
   "cell_type": "code",
   "execution_count": 47,
   "metadata": {},
   "outputs": [],
   "source": [
    "tree_model: DecisionTreeClassifier = DecisionTreeClassifier(\n",
    "    max_depth=10,\n",
    "    random_state=21,\n",
    ")"
   ]
  },
  {
   "cell_type": "markdown",
   "metadata": {},
   "source": [
    "Use *cross-validation* to evaluate the *accuracy* metric of the *decision tree* model:"
   ]
  },
  {
   "cell_type": "code",
   "execution_count": 48,
   "metadata": {},
   "outputs": [
    {
     "name": "stdout",
     "output_type": "stream",
     "text": [
      "train accuracy - 0.809 | test accuracy - 0.781\n",
      "train accuracy - 0.822 | test accuracy - 0.763\n",
      "train accuracy - 0.817 | test accuracy - 0.740\n",
      "train accuracy - 0.823 | test accuracy - 0.757\n",
      "train accuracy - 0.813 | test accuracy - 0.787\n",
      "train accuracy - 0.821 | test accuracy - 0.822\n",
      "train accuracy - 0.814 | test accuracy - 0.726\n",
      "train accuracy - 0.819 | test accuracy - 0.720\n",
      "train accuracy - 0.824 | test accuracy - 0.762\n",
      "train accuracy - 0.825 | test accuracy - 0.756\n",
      "\n",
      "Classification model STD is 0.035.\n",
      "Classification model average accuracy on cross-validation is 0.790.\n",
      "\n"
     ]
    }
   ],
   "source": [
    "print_classification_model_cross_validation(\n",
    "    X=X,\n",
    "    y=y,\n",
    "    classification_model=tree_model,\n",
    ")"
   ]
  },
  {
   "cell_type": "markdown",
   "metadata": {},
   "source": [
    "Get info about *cross-valiadtion* duration for *decision tree* model:"
   ]
  },
  {
   "cell_type": "code",
   "execution_count": 49,
   "metadata": {},
   "outputs": [
    {
     "name": "stdout",
     "output_type": "stream",
     "text": [
      "107 ms ± 13.8 ms per loop (mean ± std. dev. of 7 runs, 10 loops each)\n"
     ]
    }
   ],
   "source": [
    "%%timeit\n",
    "%%capture\n",
    "print_classification_model_cross_validation(\n",
    "    X=X,\n",
    "    y=y,\n",
    "    classification_model=tree_model,\n",
    ")"
   ]
  },
  {
   "cell_type": "markdown",
   "metadata": {},
   "source": [
    "Create a optimized model of *decision tree* with parameter `max_depth=15`:"
   ]
  },
  {
   "cell_type": "code",
   "execution_count": 50,
   "metadata": {},
   "outputs": [],
   "source": [
    "optimized_tree_model_one: DecisionTreeClassifier = DecisionTreeClassifier(\n",
    "    max_depth=15,\n",
    "    random_state=21,\n",
    ")"
   ]
  },
  {
   "cell_type": "markdown",
   "metadata": {},
   "source": [
    "Use *cross-validation* to evaluate the *accuracy* metric of the optimized *decision tree* model with parameter `max_depth=15`:"
   ]
  },
  {
   "cell_type": "code",
   "execution_count": 51,
   "metadata": {},
   "outputs": [
    {
     "name": "stdout",
     "output_type": "stream",
     "text": [
      "train accuracy - 0.942 | test accuracy - 0.876\n",
      "train accuracy - 0.947 | test accuracy - 0.882\n",
      "train accuracy - 0.955 | test accuracy - 0.864\n",
      "train accuracy - 0.958 | test accuracy - 0.858\n",
      "train accuracy - 0.953 | test accuracy - 0.876\n",
      "train accuracy - 0.956 | test accuracy - 0.917\n",
      "train accuracy - 0.947 | test accuracy - 0.845\n",
      "train accuracy - 0.955 | test accuracy - 0.851\n",
      "train accuracy - 0.947 | test accuracy - 0.839\n",
      "train accuracy - 0.947 | test accuracy - 0.839\n",
      "\n",
      "Classification model STD is 0.046.\n",
      "Classification model average accuracy on cross-validation is 0.908.\n",
      "\n"
     ]
    }
   ],
   "source": [
    "print_classification_model_cross_validation(\n",
    "    X=X,\n",
    "    y=y,\n",
    "    classification_model=optimized_tree_model_one,\n",
    ")"
   ]
  },
  {
   "cell_type": "markdown",
   "metadata": {},
   "source": [
    "Get info about *cross-valiadtion* duration for optimized *decision tree* model with parameter `max_depth=15`:"
   ]
  },
  {
   "cell_type": "code",
   "execution_count": 52,
   "metadata": {},
   "outputs": [
    {
     "name": "stdout",
     "output_type": "stream",
     "text": [
      "101 ms ± 7.29 ms per loop (mean ± std. dev. of 7 runs, 10 loops each)\n"
     ]
    }
   ],
   "source": [
    "%%timeit\n",
    "%%capture\n",
    "print_classification_model_cross_validation(\n",
    "    X=X,\n",
    "    y=y,\n",
    "    classification_model=optimized_tree_model_one,\n",
    ")"
   ]
  },
  {
   "cell_type": "markdown",
   "metadata": {},
   "source": [
    "Create a optimized model of *decision tree* with parameter `max_depth=20`:"
   ]
  },
  {
   "cell_type": "code",
   "execution_count": 53,
   "metadata": {},
   "outputs": [],
   "source": [
    "optimized_tree_model_two: DecisionTreeClassifier = DecisionTreeClassifier(\n",
    "    max_depth=20,\n",
    "    random_state=21,\n",
    ")"
   ]
  },
  {
   "cell_type": "markdown",
   "metadata": {},
   "source": [
    "Use *cross-validation* to evaluate the *accuracy* metric of the optimized *decision tree* model with parameter `max_depth=20`:"
   ]
  },
  {
   "cell_type": "code",
   "execution_count": 54,
   "metadata": {},
   "outputs": [
    {
     "name": "stdout",
     "output_type": "stream",
     "text": [
      "train accuracy - 0.993 | test accuracy - 0.899\n",
      "train accuracy - 0.987 | test accuracy - 0.905\n",
      "train accuracy - 0.990 | test accuracy - 0.888\n",
      "train accuracy - 0.984 | test accuracy - 0.888\n",
      "train accuracy - 0.992 | test accuracy - 0.893\n",
      "train accuracy - 0.986 | test accuracy - 0.929\n",
      "train accuracy - 0.990 | test accuracy - 0.893\n",
      "train accuracy - 0.992 | test accuracy - 0.881\n",
      "train accuracy - 0.989 | test accuracy - 0.857\n",
      "train accuracy - 0.986 | test accuracy - 0.869\n",
      "\n",
      "Classification model STD is 0.051.\n",
      "Classification model average accuracy on cross-validation is 0.940.\n",
      "\n"
     ]
    }
   ],
   "source": [
    "print_classification_model_cross_validation(\n",
    "    X=X,\n",
    "    y=y,\n",
    "    classification_model=optimized_tree_model_two,\n",
    ")"
   ]
  },
  {
   "cell_type": "markdown",
   "metadata": {},
   "source": [
    "Get info about *cross-valiadtion* duration for optimized *decision tree* model with parameter `max_depth=20`:"
   ]
  },
  {
   "cell_type": "code",
   "execution_count": 55,
   "metadata": {},
   "outputs": [
    {
     "name": "stdout",
     "output_type": "stream",
     "text": [
      "117 ms ± 10.1 ms per loop (mean ± std. dev. of 7 runs, 10 loops each)\n"
     ]
    }
   ],
   "source": [
    "%%timeit\n",
    "%%capture\n",
    "print_classification_model_cross_validation(\n",
    "    X=X,\n",
    "    y=y,\n",
    "    classification_model=optimized_tree_model_two,\n",
    ")"
   ]
  },
  {
   "cell_type": "markdown",
   "metadata": {},
   "source": [
    "Create a optimized model of *decision tree* with parameter `min_samples_split=1.0`:"
   ]
  },
  {
   "cell_type": "code",
   "execution_count": 56,
   "metadata": {},
   "outputs": [],
   "source": [
    "optimized_tree_model_three: DecisionTreeClassifier = DecisionTreeClassifier(\n",
    "    max_depth=20,\n",
    "    random_state=21,\n",
    "    min_samples_split=1.0,\n",
    ")"
   ]
  },
  {
   "cell_type": "markdown",
   "metadata": {},
   "source": [
    "Use *cross-validation* to evaluate the *accuracy* metric of the optimized *decision tree* model with parameter `min_sample_split=1.0`:"
   ]
  },
  {
   "cell_type": "code",
   "execution_count": 57,
   "metadata": {},
   "outputs": [
    {
     "name": "stdout",
     "output_type": "stream",
     "text": [
      "train accuracy - 0.351 | test accuracy - 0.414\n",
      "train accuracy - 0.359 | test accuracy - 0.349\n",
      "train accuracy - 0.359 | test accuracy - 0.343\n",
      "train accuracy - 0.359 | test accuracy - 0.349\n",
      "train accuracy - 0.368 | test accuracy - 0.266\n",
      "train accuracy - 0.355 | test accuracy - 0.379\n",
      "train accuracy - 0.363 | test accuracy - 0.310\n",
      "train accuracy - 0.354 | test accuracy - 0.393\n",
      "train accuracy - 0.354 | test accuracy - 0.393\n",
      "train accuracy - 0.355 | test accuracy - 0.381\n",
      "\n",
      "Classification model STD is 0.030.\n",
      "Classification model average accuracy on cross-validation is 0.358.\n",
      "\n"
     ]
    }
   ],
   "source": [
    "print_classification_model_cross_validation(\n",
    "    X=X,\n",
    "    y=y,\n",
    "    classification_model=optimized_tree_model_three,\n",
    ")"
   ]
  },
  {
   "cell_type": "markdown",
   "metadata": {},
   "source": [
    "Get info about *cross-valiadtion* duration for optimized *decision tree* model with parameter `min_sample_split=1.0`:"
   ]
  },
  {
   "cell_type": "code",
   "execution_count": 58,
   "metadata": {},
   "outputs": [
    {
     "name": "stdout",
     "output_type": "stream",
     "text": [
      "73.2 ms ± 5.84 ms per loop (mean ± std. dev. of 7 runs, 10 loops each)\n"
     ]
    }
   ],
   "source": [
    "%%timeit\n",
    "%%capture\n",
    "print_classification_model_cross_validation(\n",
    "    X=X,\n",
    "    y=y,\n",
    "    classification_model=optimized_tree_model_three,\n",
    ")"
   ]
  },
  {
   "cell_type": "markdown",
   "metadata": {},
   "source": [
    "Create a optimized model of *decision tree* with parameter `min_samples_split=2`:"
   ]
  },
  {
   "cell_type": "code",
   "execution_count": 59,
   "metadata": {},
   "outputs": [],
   "source": [
    "optimized_tree_model_four: DecisionTreeClassifier = DecisionTreeClassifier(\n",
    "    max_depth=20,\n",
    "    random_state=21,\n",
    "    min_samples_split=2,\n",
    ")"
   ]
  },
  {
   "cell_type": "markdown",
   "metadata": {},
   "source": [
    "Use *cross-validation* to evaluate the *accuracy* metric of the optimized *decision tree* model with parameter `min_sample_split=2`:"
   ]
  },
  {
   "cell_type": "code",
   "execution_count": 60,
   "metadata": {},
   "outputs": [
    {
     "name": "stdout",
     "output_type": "stream",
     "text": [
      "train accuracy - 0.993 | test accuracy - 0.899\n",
      "train accuracy - 0.987 | test accuracy - 0.905\n",
      "train accuracy - 0.990 | test accuracy - 0.888\n",
      "train accuracy - 0.984 | test accuracy - 0.888\n",
      "train accuracy - 0.992 | test accuracy - 0.893\n",
      "train accuracy - 0.986 | test accuracy - 0.929\n",
      "train accuracy - 0.990 | test accuracy - 0.893\n",
      "train accuracy - 0.992 | test accuracy - 0.881\n",
      "train accuracy - 0.989 | test accuracy - 0.857\n",
      "train accuracy - 0.986 | test accuracy - 0.869\n",
      "\n",
      "Classification model STD is 0.051.\n",
      "Classification model average accuracy on cross-validation is 0.940.\n",
      "\n"
     ]
    }
   ],
   "source": [
    "print_classification_model_cross_validation(\n",
    "    X=X,\n",
    "    y=y,\n",
    "    classification_model=optimized_tree_model_four,\n",
    ")"
   ]
  },
  {
   "cell_type": "markdown",
   "metadata": {},
   "source": [
    "Get info about *cross-valiadtion* duration for optimized *decision tree* model with parameter `min_sample_split=2`:"
   ]
  },
  {
   "cell_type": "code",
   "execution_count": 61,
   "metadata": {},
   "outputs": [
    {
     "name": "stdout",
     "output_type": "stream",
     "text": [
      "102 ms ± 3 ms per loop (mean ± std. dev. of 7 runs, 10 loops each)\n"
     ]
    }
   ],
   "source": [
    "%%timeit\n",
    "%%capture\n",
    "print_classification_model_cross_validation(\n",
    "    X=X,\n",
    "    y=y,\n",
    "    classification_model=optimized_tree_model_four,\n",
    ")"
   ]
  },
  {
   "cell_type": "markdown",
   "metadata": {},
   "source": [
    "## *Random forest tree regularization*:"
   ]
  },
  {
   "cell_type": "markdown",
   "metadata": {},
   "source": [
    "Create a model of *random forest tree*:"
   ]
  },
  {
   "cell_type": "code",
   "execution_count": 62,
   "metadata": {},
   "outputs": [],
   "source": [
    "forest_tree_model: RandomForestClassifier = RandomForestClassifier(\n",
    "    max_depth=14,\n",
    "    random_state=21,\n",
    "    n_estimators=50,\n",
    ")"
   ]
  },
  {
   "cell_type": "markdown",
   "metadata": {},
   "source": [
    "Use *cross-validation* to evaluate the *accuracy* metric of the *random forest tree* model:"
   ]
  },
  {
   "cell_type": "code",
   "execution_count": 63,
   "metadata": {},
   "outputs": [
    {
     "name": "stdout",
     "output_type": "stream",
     "text": [
      "train accuracy - 0.969 | test accuracy - 0.917\n",
      "train accuracy - 0.966 | test accuracy - 0.947\n",
      "train accuracy - 0.963 | test accuracy - 0.888\n",
      "train accuracy - 0.966 | test accuracy - 0.834\n",
      "train accuracy - 0.971 | test accuracy - 0.923\n",
      "train accuracy - 0.968 | test accuracy - 0.923\n",
      "train accuracy - 0.973 | test accuracy - 0.887\n",
      "train accuracy - 0.968 | test accuracy - 0.857\n",
      "train accuracy - 0.969 | test accuracy - 0.899\n",
      "train accuracy - 0.967 | test accuracy - 0.887\n",
      "\n",
      "Classification model STD is 0.042.\n",
      "Classification model average accuracy on cross-validation is 0.932.\n",
      "\n"
     ]
    }
   ],
   "source": [
    "print_classification_model_cross_validation(\n",
    "    X=X,\n",
    "    y=y,\n",
    "    classification_model=forest_tree_model,\n",
    ")"
   ]
  },
  {
   "cell_type": "markdown",
   "metadata": {},
   "source": [
    "Get info about *cross-valiadtion* duration for *random forest tree* model:"
   ]
  },
  {
   "cell_type": "code",
   "execution_count": 64,
   "metadata": {},
   "outputs": [
    {
     "name": "stdout",
     "output_type": "stream",
     "text": [
      "1.02 s ± 50.5 ms per loop (mean ± std. dev. of 7 runs, 1 loop each)\n"
     ]
    }
   ],
   "source": [
    "%%timeit\n",
    "%%capture\n",
    "print_classification_model_cross_validation(\n",
    "    X=X,\n",
    "    y=y,\n",
    "    classification_model=forest_tree_model,\n",
    ")"
   ]
  },
  {
   "cell_type": "markdown",
   "metadata": {},
   "source": [
    "Create a optimized model of *random forest tree* with parameter `max_depth=20`:"
   ]
  },
  {
   "cell_type": "code",
   "execution_count": 65,
   "metadata": {},
   "outputs": [],
   "source": [
    "optimized_forest_tree_model_one: RandomForestClassifier = \\\n",
    "RandomForestClassifier(\n",
    "    max_depth=20,\n",
    "    random_state=21,\n",
    "    n_estimators=50,\n",
    ")"
   ]
  },
  {
   "cell_type": "markdown",
   "metadata": {},
   "source": [
    "Use *cross-validation* to evaluate the *accuracy* metric of the optimized *random forest tree* model with parameter `max_depth=20`:"
   ]
  },
  {
   "cell_type": "code",
   "execution_count": 66,
   "metadata": {},
   "outputs": [
    {
     "name": "stdout",
     "output_type": "stream",
     "text": [
      "train accuracy - 0.997 | test accuracy - 0.935\n",
      "train accuracy - 0.998 | test accuracy - 0.941\n",
      "train accuracy - 0.998 | test accuracy - 0.929\n",
      "train accuracy - 0.995 | test accuracy - 0.905\n",
      "train accuracy - 0.997 | test accuracy - 0.935\n",
      "train accuracy - 0.994 | test accuracy - 0.953\n",
      "train accuracy - 0.997 | test accuracy - 0.905\n",
      "train accuracy - 0.996 | test accuracy - 0.881\n",
      "train accuracy - 0.998 | test accuracy - 0.923\n",
      "train accuracy - 0.997 | test accuracy - 0.923\n",
      "\n",
      "Classification model STD is 0.039.\n",
      "Classification model average accuracy on cross-validation is 0.960.\n",
      "\n"
     ]
    }
   ],
   "source": [
    "print_classification_model_cross_validation(\n",
    "    X=X,\n",
    "    y=y,\n",
    "    classification_model=optimized_forest_tree_model_one,\n",
    ")"
   ]
  },
  {
   "cell_type": "markdown",
   "metadata": {},
   "source": [
    "Get info about *cross-valiadtion* duration for optimized *random forest tree* model with parameter `max_depth=20`:"
   ]
  },
  {
   "cell_type": "code",
   "execution_count": 67,
   "metadata": {},
   "outputs": [
    {
     "name": "stdout",
     "output_type": "stream",
     "text": [
      "1.25 s ± 90.9 ms per loop (mean ± std. dev. of 7 runs, 1 loop each)\n"
     ]
    }
   ],
   "source": [
    "%%timeit\n",
    "%%capture\n",
    "print_classification_model_cross_validation(\n",
    "    X=X,\n",
    "    y=y,\n",
    "    classification_model=optimized_forest_tree_model_one,\n",
    ")"
   ]
  },
  {
   "cell_type": "markdown",
   "metadata": {},
   "source": [
    "Create a optimized model of *random forest tree* with parameter `n_estimators=75`:"
   ]
  },
  {
   "cell_type": "code",
   "execution_count": 68,
   "metadata": {},
   "outputs": [],
   "source": [
    "optimized_forest_tree_model_two: RandomForestClassifier = \\\n",
    "RandomForestClassifier(\n",
    "    max_depth=20,\n",
    "    random_state=21,\n",
    "    n_estimators=75,\n",
    ")"
   ]
  },
  {
   "cell_type": "markdown",
   "metadata": {},
   "source": [
    "Use *cross-validation* to evaluate the *accuracy* metric of the optimized *random forest tree* model with parameter `n_estimators=75`:"
   ]
  },
  {
   "cell_type": "code",
   "execution_count": 69,
   "metadata": {},
   "outputs": [
    {
     "name": "stdout",
     "output_type": "stream",
     "text": [
      "train accuracy - 0.999 | test accuracy - 0.941\n",
      "train accuracy - 0.998 | test accuracy - 0.941\n",
      "train accuracy - 0.999 | test accuracy - 0.917\n",
      "train accuracy - 0.993 | test accuracy - 0.905\n",
      "train accuracy - 0.996 | test accuracy - 0.935\n",
      "train accuracy - 0.995 | test accuracy - 0.953\n",
      "train accuracy - 0.998 | test accuracy - 0.899\n",
      "train accuracy - 0.995 | test accuracy - 0.887\n",
      "train accuracy - 0.997 | test accuracy - 0.923\n",
      "train accuracy - 0.997 | test accuracy - 0.917\n",
      "\n",
      "Classification model STD is 0.040.\n",
      "Classification model average accuracy on cross-validation is 0.959.\n",
      "\n"
     ]
    }
   ],
   "source": [
    "print_classification_model_cross_validation(\n",
    "    X=X,\n",
    "    y=y,\n",
    "    classification_model=optimized_forest_tree_model_two,\n",
    ")"
   ]
  },
  {
   "cell_type": "markdown",
   "metadata": {},
   "source": [
    "Get info about *cross-valiadtion* duration for optimized *random forest tree* model with parameter `n_estimators=75`:"
   ]
  },
  {
   "cell_type": "code",
   "execution_count": 70,
   "metadata": {},
   "outputs": [
    {
     "name": "stdout",
     "output_type": "stream",
     "text": [
      "1.83 s ± 222 ms per loop (mean ± std. dev. of 7 runs, 1 loop each)\n"
     ]
    }
   ],
   "source": [
    "%%timeit\n",
    "%%capture\n",
    "print_classification_model_cross_validation(\n",
    "    X=X,\n",
    "    y=y,\n",
    "    classification_model=optimized_forest_tree_model_two,\n",
    ")"
   ]
  },
  {
   "cell_type": "markdown",
   "metadata": {},
   "source": [
    "Create a optimized model of *random forest tree* with parameter `criterion=\"entropy\"`:"
   ]
  },
  {
   "cell_type": "code",
   "execution_count": 71,
   "metadata": {},
   "outputs": [],
   "source": [
    "optimized_forest_tree_model_three: RandomForestClassifier = \\\n",
    "RandomForestClassifier(\n",
    "    max_depth=20,\n",
    "    random_state=21,\n",
    "    n_estimators=75,\n",
    "    criterion=\"entropy\",\n",
    ")"
   ]
  },
  {
   "cell_type": "markdown",
   "metadata": {},
   "source": [
    "Use *cross-validation* to evaluate the *accuracy* metric of the optimized *random forest tree* model with parameter `criterion=\"entropy\"`:"
   ]
  },
  {
   "cell_type": "code",
   "execution_count": 72,
   "metadata": {},
   "outputs": [
    {
     "name": "stdout",
     "output_type": "stream",
     "text": [
      "train accuracy - 0.999 | test accuracy - 0.935\n",
      "train accuracy - 0.999 | test accuracy - 0.947\n",
      "train accuracy - 1.000 | test accuracy - 0.917\n",
      "train accuracy - 0.998 | test accuracy - 0.911\n",
      "train accuracy - 0.998 | test accuracy - 0.935\n",
      "train accuracy - 0.998 | test accuracy - 0.959\n",
      "train accuracy - 0.999 | test accuracy - 0.899\n",
      "train accuracy - 0.998 | test accuracy - 0.899\n",
      "train accuracy - 0.997 | test accuracy - 0.929\n",
      "train accuracy - 0.999 | test accuracy - 0.911\n",
      "\n",
      "Classification model STD is 0.040.\n",
      "Classification model average accuracy on cross-validation is 0.961.\n",
      "\n"
     ]
    }
   ],
   "source": [
    "print_classification_model_cross_validation(\n",
    "    X=X,\n",
    "    y=y,\n",
    "    classification_model=optimized_forest_tree_model_three,\n",
    ")"
   ]
  },
  {
   "cell_type": "markdown",
   "metadata": {},
   "source": [
    "Get info about *cross-valiadtion* duration for optimized *random forest tree* model with parameter `criterion=\"entropy\"`:"
   ]
  },
  {
   "cell_type": "code",
   "execution_count": 73,
   "metadata": {},
   "outputs": [
    {
     "name": "stdout",
     "output_type": "stream",
     "text": [
      "1.91 s ± 89.1 ms per loop (mean ± std. dev. of 7 runs, 1 loop each)\n"
     ]
    }
   ],
   "source": [
    "%%timeit\n",
    "%%capture\n",
    "print_classification_model_cross_validation(\n",
    "    X=X,\n",
    "    y=y,\n",
    "    classification_model=optimized_forest_tree_model_three,\n",
    ")"
   ]
  },
  {
   "cell_type": "markdown",
   "metadata": {},
   "source": [
    "Create a optimized model of *random forest tree* with parameter `criterion=\"log_loss\"`:"
   ]
  },
  {
   "cell_type": "code",
   "execution_count": 74,
   "metadata": {},
   "outputs": [],
   "source": [
    "optimized_forest_tree_model_four: RandomForestClassifier = \\\n",
    "RandomForestClassifier(\n",
    "    max_depth=20,\n",
    "    random_state=21,\n",
    "    n_estimators=75,\n",
    "    criterion=\"log_loss\",\n",
    ")"
   ]
  },
  {
   "cell_type": "markdown",
   "metadata": {},
   "source": [
    "Use *cross-validation* to evaluate the *accuracy* metric of the optimized *random forest tree* model with parameter `criterion=\"log_loss\"`:"
   ]
  },
  {
   "cell_type": "code",
   "execution_count": 75,
   "metadata": {},
   "outputs": [
    {
     "name": "stdout",
     "output_type": "stream",
     "text": [
      "train accuracy - 0.999 | test accuracy - 0.935\n",
      "train accuracy - 0.999 | test accuracy - 0.947\n",
      "train accuracy - 1.000 | test accuracy - 0.917\n",
      "train accuracy - 0.998 | test accuracy - 0.911\n",
      "train accuracy - 0.998 | test accuracy - 0.935\n",
      "train accuracy - 0.998 | test accuracy - 0.959\n",
      "train accuracy - 0.999 | test accuracy - 0.899\n",
      "train accuracy - 0.998 | test accuracy - 0.899\n",
      "train accuracy - 0.997 | test accuracy - 0.929\n",
      "train accuracy - 0.999 | test accuracy - 0.911\n",
      "\n",
      "Classification model STD is 0.040.\n",
      "Classification model average accuracy on cross-validation is 0.961.\n",
      "\n"
     ]
    }
   ],
   "source": [
    "print_classification_model_cross_validation(\n",
    "    X=X,\n",
    "    y=y,\n",
    "    classification_model=optimized_forest_tree_model_four,\n",
    ")"
   ]
  },
  {
   "cell_type": "markdown",
   "metadata": {},
   "source": [
    "Get info about *cross-valiadtion* duration for optimized *random forest tree* model with parameter `criterion=\"log_loss\"`:"
   ]
  },
  {
   "cell_type": "code",
   "execution_count": 76,
   "metadata": {},
   "outputs": [
    {
     "name": "stdout",
     "output_type": "stream",
     "text": [
      "1.97 s ± 116 ms per loop (mean ± std. dev. of 7 runs, 1 loop each)\n"
     ]
    }
   ],
   "source": [
    "%%timeit\n",
    "%%capture\n",
    "print_classification_model_cross_validation(\n",
    "    X=X,\n",
    "    y=y,\n",
    "    classification_model=optimized_forest_tree_model_four,\n",
    ")"
   ]
  },
  {
   "cell_type": "markdown",
   "metadata": {},
   "source": [
    "## Prediction:"
   ]
  },
  {
   "cell_type": "markdown",
   "metadata": {},
   "source": [
    "Train the `optimized_forest_tree_model_four` best model on the data:"
   ]
  },
  {
   "cell_type": "code",
   "execution_count": 77,
   "metadata": {},
   "outputs": [],
   "source": [
    "optimized_forest_tree_model_four.fit(X_train, y_train, );"
   ]
  },
  {
   "cell_type": "markdown",
   "metadata": {},
   "source": [
    "Calculate the `optimized_forest_tree_model_four` best model *accuracy* metric for the data:"
   ]
  },
  {
   "cell_type": "code",
   "execution_count": 78,
   "metadata": {},
   "outputs": [
    {
     "name": "stdout",
     "output_type": "stream",
     "text": [
      "The best model accuracy metric is 0.920\n"
     ]
    }
   ],
   "source": [
    "print(\n",
    "    f\"The best model accuracy metric is {\n",
    "        accuracy_score(\n",
    "            optimized_forest_tree_model_four.predict(X_test, ),\n",
    "            y_test,\n",
    "        ):.3f\n",
    "    }\",\n",
    ")"
   ]
  },
  {
   "cell_type": "markdown",
   "metadata": {},
   "source": [
    "Create a `prediction` *Pandas* dataframe column:"
   ]
  },
  {
   "cell_type": "code",
   "execution_count": 79,
   "metadata": {},
   "outputs": [],
   "source": [
    "df[\"prediction\"] = optimized_forest_tree_model_four.predict(X, )"
   ]
  },
  {
   "cell_type": "markdown",
   "metadata": {},
   "source": [
    "Calculate the error percentage for each class:"
   ]
  },
  {
   "cell_type": "code",
   "execution_count": 80,
   "metadata": {},
   "outputs": [
    {
     "data": {
      "text/plain": [
       "day_of_week\n",
       "0    5.147059\n",
       "1    2.554745\n",
       "2    2.013423\n",
       "3    0.505051\n",
       "4    2.884615\n",
       "5    1.476015\n",
       "6    0.561798\n",
       "Name: count, dtype: float64"
      ]
     },
     "execution_count": 80,
     "metadata": {},
     "output_type": "execute_result"
    }
   ],
   "source": [
    "(\n",
    "    df[df[\"day_of_week\"] != df[\"prediction\"]][\"day_of_week\"].value_counts() /\n",
    "    df[\"day_of_week\"].value_counts()\n",
    ").dropna() * 100"
   ]
  },
  {
   "cell_type": "markdown",
   "metadata": {},
   "source": [
    "`For which weekday the best model makes the most errors?`"
   ]
  },
  {
   "cell_type": "markdown",
   "metadata": {},
   "source": [
    "Answer: for the `Monday`."
   ]
  },
  {
   "cell_type": "markdown",
   "metadata": {},
   "source": [
    "Save the best model:"
   ]
  },
  {
   "cell_type": "code",
   "execution_count": 81,
   "metadata": {},
   "outputs": [],
   "source": [
    "dump(\n",
    "    optimized_forest_tree_model_four,\n",
    "    \"../../models/ex_00_best_model.joblib\",\n",
    ");"
   ]
  }
 ],
 "metadata": {
  "kernelspec": {
   "display_name": ".venv",
   "language": "python",
   "name": "python3"
  },
  "language_info": {
   "codemirror_mode": {
    "name": "ipython",
    "version": 3
   },
   "file_extension": ".py",
   "mimetype": "text/x-python",
   "name": "python",
   "nbconvert_exporter": "python",
   "pygments_lexer": "ipython3",
   "version": "3.12.6"
  }
 },
 "nbformat": 4,
 "nbformat_minor": 4
}
