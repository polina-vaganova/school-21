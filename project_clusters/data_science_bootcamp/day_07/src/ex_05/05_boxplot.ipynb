{
 "cells": [
  {
   "cell_type": "markdown",
   "metadata": {},
   "source": [
    "# **Exercise 05: boxplot**"
   ]
  },
  {
   "cell_type": "markdown",
   "metadata": {},
   "source": [
    "Prepare the project:"
   ]
  },
  {
   "cell_type": "code",
   "execution_count": 1,
   "metadata": {},
   "outputs": [
    {
     "name": "stdout",
     "output_type": "stream",
     "text": [
      "Requirement already satisfied: pip in c:\\users\\deniz\\downloads\\school21_projects\\ds_bootcamp.day07-1\\.venv\\lib\\site-packages (25.1.1)\n",
      "Note: you may need to restart the kernel to use updated packages.\n"
     ]
    }
   ],
   "source": [
    "%pip install --upgrade pip"
   ]
  },
  {
   "cell_type": "code",
   "execution_count": 2,
   "metadata": {},
   "outputs": [
    {
     "name": "stdout",
     "output_type": "stream",
     "text": [
      "Requirement already satisfied: pandas in c:\\users\\deniz\\downloads\\school21_projects\\ds_bootcamp.day07-1\\.venv\\lib\\site-packages (2.2.3)\n",
      "Requirement already satisfied: numpy>=1.26.0 in c:\\users\\deniz\\downloads\\school21_projects\\ds_bootcamp.day07-1\\.venv\\lib\\site-packages (from pandas) (2.2.6)\n",
      "Requirement already satisfied: python-dateutil>=2.8.2 in c:\\users\\deniz\\downloads\\school21_projects\\ds_bootcamp.day07-1\\.venv\\lib\\site-packages (from pandas) (2.9.0.post0)\n",
      "Requirement already satisfied: pytz>=2020.1 in c:\\users\\deniz\\downloads\\school21_projects\\ds_bootcamp.day07-1\\.venv\\lib\\site-packages (from pandas) (2025.2)\n",
      "Requirement already satisfied: tzdata>=2022.7 in c:\\users\\deniz\\downloads\\school21_projects\\ds_bootcamp.day07-1\\.venv\\lib\\site-packages (from pandas) (2025.2)\n",
      "Requirement already satisfied: six>=1.5 in c:\\users\\deniz\\downloads\\school21_projects\\ds_bootcamp.day07-1\\.venv\\lib\\site-packages (from python-dateutil>=2.8.2->pandas) (1.17.0)\n",
      "Note: you may need to restart the kernel to use updated packages.\n",
      "Requirement already satisfied: matplotlib in c:\\users\\deniz\\downloads\\school21_projects\\ds_bootcamp.day07-1\\.venv\\lib\\site-packages (3.10.3)\n",
      "Requirement already satisfied: contourpy>=1.0.1 in c:\\users\\deniz\\downloads\\school21_projects\\ds_bootcamp.day07-1\\.venv\\lib\\site-packages (from matplotlib) (1.3.2)\n",
      "Requirement already satisfied: cycler>=0.10 in c:\\users\\deniz\\downloads\\school21_projects\\ds_bootcamp.day07-1\\.venv\\lib\\site-packages (from matplotlib) (0.12.1)\n",
      "Requirement already satisfied: fonttools>=4.22.0 in c:\\users\\deniz\\downloads\\school21_projects\\ds_bootcamp.day07-1\\.venv\\lib\\site-packages (from matplotlib) (4.58.1)\n",
      "Requirement already satisfied: kiwisolver>=1.3.1 in c:\\users\\deniz\\downloads\\school21_projects\\ds_bootcamp.day07-1\\.venv\\lib\\site-packages (from matplotlib) (1.4.8)\n",
      "Requirement already satisfied: numpy>=1.23 in c:\\users\\deniz\\downloads\\school21_projects\\ds_bootcamp.day07-1\\.venv\\lib\\site-packages (from matplotlib) (2.2.6)\n",
      "Requirement already satisfied: packaging>=20.0 in c:\\users\\deniz\\downloads\\school21_projects\\ds_bootcamp.day07-1\\.venv\\lib\\site-packages (from matplotlib) (25.0)\n",
      "Requirement already satisfied: pillow>=8 in c:\\users\\deniz\\downloads\\school21_projects\\ds_bootcamp.day07-1\\.venv\\lib\\site-packages (from matplotlib) (11.2.1)\n",
      "Requirement already satisfied: pyparsing>=2.3.1 in c:\\users\\deniz\\downloads\\school21_projects\\ds_bootcamp.day07-1\\.venv\\lib\\site-packages (from matplotlib) (3.2.3)\n",
      "Requirement already satisfied: python-dateutil>=2.7 in c:\\users\\deniz\\downloads\\school21_projects\\ds_bootcamp.day07-1\\.venv\\lib\\site-packages (from matplotlib) (2.9.0.post0)\n",
      "Requirement already satisfied: six>=1.5 in c:\\users\\deniz\\downloads\\school21_projects\\ds_bootcamp.day07-1\\.venv\\lib\\site-packages (from python-dateutil>=2.7->matplotlib) (1.17.0)\n",
      "Note: you may need to restart the kernel to use updated packages.\n"
     ]
    }
   ],
   "source": [
    "%pip install pandas\n",
    "%pip install matplotlib"
   ]
  },
  {
   "cell_type": "markdown",
   "metadata": {},
   "source": [
    "Import allowed modules:"
   ]
  },
  {
   "cell_type": "code",
   "execution_count": 3,
   "metadata": {},
   "outputs": [],
   "source": [
    "import warnings\n",
    "\n",
    "import pandas as pd\n",
    "import matplotlib.pyplot as plt"
   ]
  },
  {
   "cell_type": "markdown",
   "metadata": {},
   "source": [
    "Import allowed entities:"
   ]
  },
  {
   "cell_type": "code",
   "execution_count": 4,
   "metadata": {},
   "outputs": [],
   "source": [
    "from typing import Any\n",
    "from pandas import DataFrame\n",
    "from matplotlib.pyplot import Figure, Axes"
   ]
  },
  {
   "cell_type": "markdown",
   "metadata": {},
   "source": [
    "Depricated all warnings:"
   ]
  },
  {
   "cell_type": "code",
   "execution_count": 5,
   "metadata": {},
   "outputs": [],
   "source": [
    "warnings.filterwarnings(\"ignore\", )"
   ]
  },
  {
   "cell_type": "markdown",
   "metadata": {},
   "source": [
    "Create a dictionary for `read_csv()` method calling:"
   ]
  },
  {
   "cell_type": "code",
   "execution_count": 6,
   "metadata": {},
   "outputs": [],
   "source": [
    "read_csv_params: dict = {\"file\": \"ab-test.csv\", \"file_path\": \"../../data/\", }"
   ]
  },
  {
   "cell_type": "markdown",
   "metadata": {},
   "source": [
    "## Read the data from the [file](https://drive.google.com/file/d/1B6M7Ku89ViIStXvWU6j7PyDnCTb0McEI/view?usp=sharing) to a *Pandas* dataframe:"
   ]
  },
  {
   "cell_type": "code",
   "execution_count": 7,
   "metadata": {},
   "outputs": [],
   "source": [
    "df: DataFrame = pd.read_csv(read_csv_params[\"file_path\"] + read_csv_params[\"file\"], )"
   ]
  },
  {
   "cell_type": "markdown",
   "metadata": {},
   "source": [
    "Check *Pandas* dataframe:"
   ]
  },
  {
   "cell_type": "code",
   "execution_count": 8,
   "metadata": {},
   "outputs": [
    {
     "data": {
      "text/html": [
       "<div>\n",
       "<style scoped>\n",
       "    .dataframe tbody tr th:only-of-type {\n",
       "        vertical-align: middle;\n",
       "    }\n",
       "\n",
       "    .dataframe tbody tr th {\n",
       "        vertical-align: top;\n",
       "    }\n",
       "\n",
       "    .dataframe thead th {\n",
       "        text-align: right;\n",
       "    }\n",
       "</style>\n",
       "<table border=\"1\" class=\"dataframe\">\n",
       "  <thead>\n",
       "    <tr style=\"text-align: right;\">\n",
       "      <th></th>\n",
       "      <th>uid</th>\n",
       "      <th>diff</th>\n",
       "      <th>time</th>\n",
       "      <th>group</th>\n",
       "    </tr>\n",
       "  </thead>\n",
       "  <tbody>\n",
       "    <tr>\n",
       "      <th>0</th>\n",
       "      <td>user_1</td>\n",
       "      <td>-103.333333</td>\n",
       "      <td>after</td>\n",
       "      <td>test</td>\n",
       "    </tr>\n",
       "    <tr>\n",
       "      <th>1</th>\n",
       "      <td>user_1</td>\n",
       "      <td>-6.000000</td>\n",
       "      <td>before</td>\n",
       "      <td>test</td>\n",
       "    </tr>\n",
       "    <tr>\n",
       "      <th>2</th>\n",
       "      <td>user_18</td>\n",
       "      <td>-10.000000</td>\n",
       "      <td>after</td>\n",
       "      <td>test</td>\n",
       "    </tr>\n",
       "    <tr>\n",
       "      <th>3</th>\n",
       "      <td>user_18</td>\n",
       "      <td>-3.500000</td>\n",
       "      <td>before</td>\n",
       "      <td>test</td>\n",
       "    </tr>\n",
       "    <tr>\n",
       "      <th>4</th>\n",
       "      <td>user_19</td>\n",
       "      <td>-82.333333</td>\n",
       "      <td>after</td>\n",
       "      <td>test</td>\n",
       "    </tr>\n",
       "  </tbody>\n",
       "</table>\n",
       "</div>"
      ],
      "text/plain": [
       "       uid        diff    time group\n",
       "0   user_1 -103.333333   after  test\n",
       "1   user_1   -6.000000  before  test\n",
       "2  user_18  -10.000000   after  test\n",
       "3  user_18   -3.500000  before  test\n",
       "4  user_19  -82.333333   after  test"
      ]
     },
     "execution_count": 8,
     "metadata": {},
     "output_type": "execute_result"
    }
   ],
   "source": [
    "df.head()"
   ]
  },
  {
   "cell_type": "markdown",
   "metadata": {},
   "source": [
    "Split *Pandas* dataframe to `before` and `after`:"
   ]
  },
  {
   "cell_type": "code",
   "execution_count": 9,
   "metadata": {},
   "outputs": [],
   "source": [
    "df_after: DataFrame = df[df[\"time\"] == \"after\"].drop(columns=[\"uid\", \"time\", ], )\n",
    "df_before: DataFrame = df[df[\"time\"] == \"before\"].drop(columns=[\"uid\", \"time\", ], )"
   ]
  },
  {
   "cell_type": "markdown",
   "metadata": {},
   "source": [
    "Check them:"
   ]
  },
  {
   "cell_type": "code",
   "execution_count": 10,
   "metadata": {},
   "outputs": [
    {
     "data": {
      "text/html": [
       "<div>\n",
       "<style scoped>\n",
       "    .dataframe tbody tr th:only-of-type {\n",
       "        vertical-align: middle;\n",
       "    }\n",
       "\n",
       "    .dataframe tbody tr th {\n",
       "        vertical-align: top;\n",
       "    }\n",
       "\n",
       "    .dataframe thead th {\n",
       "        text-align: right;\n",
       "    }\n",
       "</style>\n",
       "<table border=\"1\" class=\"dataframe\">\n",
       "  <thead>\n",
       "    <tr style=\"text-align: right;\">\n",
       "      <th></th>\n",
       "      <th>diff</th>\n",
       "      <th>group</th>\n",
       "    </tr>\n",
       "  </thead>\n",
       "  <tbody>\n",
       "    <tr>\n",
       "      <th>0</th>\n",
       "      <td>-103.333333</td>\n",
       "      <td>test</td>\n",
       "    </tr>\n",
       "    <tr>\n",
       "      <th>2</th>\n",
       "      <td>-10.000000</td>\n",
       "      <td>test</td>\n",
       "    </tr>\n",
       "    <tr>\n",
       "      <th>4</th>\n",
       "      <td>-82.333333</td>\n",
       "      <td>test</td>\n",
       "    </tr>\n",
       "    <tr>\n",
       "      <th>6</th>\n",
       "      <td>-78.500000</td>\n",
       "      <td>test</td>\n",
       "    </tr>\n",
       "    <tr>\n",
       "      <th>8</th>\n",
       "      <td>-127.500000</td>\n",
       "      <td>test</td>\n",
       "    </tr>\n",
       "  </tbody>\n",
       "</table>\n",
       "</div>"
      ],
      "text/plain": [
       "         diff group\n",
       "0 -103.333333  test\n",
       "2  -10.000000  test\n",
       "4  -82.333333  test\n",
       "6  -78.500000  test\n",
       "8 -127.500000  test"
      ]
     },
     "execution_count": 10,
     "metadata": {},
     "output_type": "execute_result"
    }
   ],
   "source": [
    "df_after.head()"
   ]
  },
  {
   "cell_type": "code",
   "execution_count": 11,
   "metadata": {},
   "outputs": [
    {
     "data": {
      "text/html": [
       "<div>\n",
       "<style scoped>\n",
       "    .dataframe tbody tr th:only-of-type {\n",
       "        vertical-align: middle;\n",
       "    }\n",
       "\n",
       "    .dataframe tbody tr th {\n",
       "        vertical-align: top;\n",
       "    }\n",
       "\n",
       "    .dataframe thead th {\n",
       "        text-align: right;\n",
       "    }\n",
       "</style>\n",
       "<table border=\"1\" class=\"dataframe\">\n",
       "  <thead>\n",
       "    <tr style=\"text-align: right;\">\n",
       "      <th></th>\n",
       "      <th>diff</th>\n",
       "      <th>group</th>\n",
       "    </tr>\n",
       "  </thead>\n",
       "  <tbody>\n",
       "    <tr>\n",
       "      <th>1</th>\n",
       "      <td>-6.000000</td>\n",
       "      <td>test</td>\n",
       "    </tr>\n",
       "    <tr>\n",
       "      <th>3</th>\n",
       "      <td>-3.500000</td>\n",
       "      <td>test</td>\n",
       "    </tr>\n",
       "    <tr>\n",
       "      <th>5</th>\n",
       "      <td>-148.000000</td>\n",
       "      <td>test</td>\n",
       "    </tr>\n",
       "    <tr>\n",
       "      <th>7</th>\n",
       "      <td>-112.500000</td>\n",
       "      <td>test</td>\n",
       "    </tr>\n",
       "    <tr>\n",
       "      <th>9</th>\n",
       "      <td>-69.333333</td>\n",
       "      <td>test</td>\n",
       "    </tr>\n",
       "  </tbody>\n",
       "</table>\n",
       "</div>"
      ],
      "text/plain": [
       "         diff group\n",
       "1   -6.000000  test\n",
       "3   -3.500000  test\n",
       "5 -148.000000  test\n",
       "7 -112.500000  test\n",
       "9  -69.333333  test"
      ]
     },
     "execution_count": 11,
     "metadata": {},
     "output_type": "execute_result"
    }
   ],
   "source": [
    "df_before.head()"
   ]
  },
  {
   "cell_type": "markdown",
   "metadata": {},
   "source": [
    "Split *pandas* dataframes into 2 groups:"
   ]
  },
  {
   "cell_type": "code",
   "execution_count": 12,
   "metadata": {},
   "outputs": [],
   "source": [
    "df_before_test: DataFrame = df_before[df_before[\"group\"] == \"test\"].drop(columns=[\"group\", ], )\n",
    "df_before_ctrl: DataFrame = df_before[df_before[\"group\"] == \"control\"].drop(columns=[\"group\", ], )"
   ]
  },
  {
   "cell_type": "code",
   "execution_count": 13,
   "metadata": {},
   "outputs": [],
   "source": [
    "df_after_test: DataFrame = df_after[df_after[\"group\"] == \"test\"].drop(columns=[\"group\", ], )\n",
    "df_after_ctrl: DataFrame = df_after[df_after[\"group\"] == \"control\"].drop(columns=[\"group\", ], )"
   ]
  },
  {
   "cell_type": "markdown",
   "metadata": {},
   "source": [
    "Check them:"
   ]
  },
  {
   "cell_type": "code",
   "execution_count": 14,
   "metadata": {},
   "outputs": [
    {
     "data": {
      "text/html": [
       "<div>\n",
       "<style scoped>\n",
       "    .dataframe tbody tr th:only-of-type {\n",
       "        vertical-align: middle;\n",
       "    }\n",
       "\n",
       "    .dataframe tbody tr th {\n",
       "        vertical-align: top;\n",
       "    }\n",
       "\n",
       "    .dataframe thead th {\n",
       "        text-align: right;\n",
       "    }\n",
       "</style>\n",
       "<table border=\"1\" class=\"dataframe\">\n",
       "  <thead>\n",
       "    <tr style=\"text-align: right;\">\n",
       "      <th></th>\n",
       "      <th>diff</th>\n",
       "    </tr>\n",
       "  </thead>\n",
       "  <tbody>\n",
       "    <tr>\n",
       "      <th>1</th>\n",
       "      <td>-6.000000</td>\n",
       "    </tr>\n",
       "    <tr>\n",
       "      <th>3</th>\n",
       "      <td>-3.500000</td>\n",
       "    </tr>\n",
       "    <tr>\n",
       "      <th>5</th>\n",
       "      <td>-148.000000</td>\n",
       "    </tr>\n",
       "    <tr>\n",
       "      <th>7</th>\n",
       "      <td>-112.500000</td>\n",
       "    </tr>\n",
       "    <tr>\n",
       "      <th>9</th>\n",
       "      <td>-69.333333</td>\n",
       "    </tr>\n",
       "  </tbody>\n",
       "</table>\n",
       "</div>"
      ],
      "text/plain": [
       "         diff\n",
       "1   -6.000000\n",
       "3   -3.500000\n",
       "5 -148.000000\n",
       "7 -112.500000\n",
       "9  -69.333333"
      ]
     },
     "execution_count": 14,
     "metadata": {},
     "output_type": "execute_result"
    }
   ],
   "source": [
    "df_before_test.head()"
   ]
  },
  {
   "cell_type": "code",
   "execution_count": 15,
   "metadata": {},
   "outputs": [
    {
     "data": {
      "text/html": [
       "<div>\n",
       "<style scoped>\n",
       "    .dataframe tbody tr th:only-of-type {\n",
       "        vertical-align: middle;\n",
       "    }\n",
       "\n",
       "    .dataframe tbody tr th {\n",
       "        vertical-align: top;\n",
       "    }\n",
       "\n",
       "    .dataframe thead th {\n",
       "        text-align: right;\n",
       "    }\n",
       "</style>\n",
       "<table border=\"1\" class=\"dataframe\">\n",
       "  <thead>\n",
       "    <tr style=\"text-align: right;\">\n",
       "      <th></th>\n",
       "      <th>diff</th>\n",
       "    </tr>\n",
       "  </thead>\n",
       "  <tbody>\n",
       "    <tr>\n",
       "      <th>15</th>\n",
       "      <td>-103.0</td>\n",
       "    </tr>\n",
       "    <tr>\n",
       "      <th>17</th>\n",
       "      <td>-15.5</td>\n",
       "    </tr>\n",
       "    <tr>\n",
       "      <th>19</th>\n",
       "      <td>-3.0</td>\n",
       "    </tr>\n",
       "    <tr>\n",
       "      <th>21</th>\n",
       "      <td>-153.0</td>\n",
       "    </tr>\n",
       "    <tr>\n",
       "      <th>23</th>\n",
       "      <td>-202.0</td>\n",
       "    </tr>\n",
       "  </tbody>\n",
       "</table>\n",
       "</div>"
      ],
      "text/plain": [
       "     diff\n",
       "15 -103.0\n",
       "17  -15.5\n",
       "19   -3.0\n",
       "21 -153.0\n",
       "23 -202.0"
      ]
     },
     "execution_count": 15,
     "metadata": {},
     "output_type": "execute_result"
    }
   ],
   "source": [
    "df_before_ctrl.head()"
   ]
  },
  {
   "cell_type": "code",
   "execution_count": 16,
   "metadata": {},
   "outputs": [
    {
     "data": {
      "text/html": [
       "<div>\n",
       "<style scoped>\n",
       "    .dataframe tbody tr th:only-of-type {\n",
       "        vertical-align: middle;\n",
       "    }\n",
       "\n",
       "    .dataframe tbody tr th {\n",
       "        vertical-align: top;\n",
       "    }\n",
       "\n",
       "    .dataframe thead th {\n",
       "        text-align: right;\n",
       "    }\n",
       "</style>\n",
       "<table border=\"1\" class=\"dataframe\">\n",
       "  <thead>\n",
       "    <tr style=\"text-align: right;\">\n",
       "      <th></th>\n",
       "      <th>diff</th>\n",
       "    </tr>\n",
       "  </thead>\n",
       "  <tbody>\n",
       "    <tr>\n",
       "      <th>0</th>\n",
       "      <td>-103.333333</td>\n",
       "    </tr>\n",
       "    <tr>\n",
       "      <th>2</th>\n",
       "      <td>-10.000000</td>\n",
       "    </tr>\n",
       "    <tr>\n",
       "      <th>4</th>\n",
       "      <td>-82.333333</td>\n",
       "    </tr>\n",
       "    <tr>\n",
       "      <th>6</th>\n",
       "      <td>-78.500000</td>\n",
       "    </tr>\n",
       "    <tr>\n",
       "      <th>8</th>\n",
       "      <td>-127.500000</td>\n",
       "    </tr>\n",
       "  </tbody>\n",
       "</table>\n",
       "</div>"
      ],
      "text/plain": [
       "         diff\n",
       "0 -103.333333\n",
       "2  -10.000000\n",
       "4  -82.333333\n",
       "6  -78.500000\n",
       "8 -127.500000"
      ]
     },
     "execution_count": 16,
     "metadata": {},
     "output_type": "execute_result"
    }
   ],
   "source": [
    "df_after_test.head()"
   ]
  },
  {
   "cell_type": "code",
   "execution_count": 17,
   "metadata": {},
   "outputs": [
    {
     "data": {
      "text/html": [
       "<div>\n",
       "<style scoped>\n",
       "    .dataframe tbody tr th:only-of-type {\n",
       "        vertical-align: middle;\n",
       "    }\n",
       "\n",
       "    .dataframe tbody tr th {\n",
       "        vertical-align: top;\n",
       "    }\n",
       "\n",
       "    .dataframe thead th {\n",
       "        text-align: right;\n",
       "    }\n",
       "</style>\n",
       "<table border=\"1\" class=\"dataframe\">\n",
       "  <thead>\n",
       "    <tr style=\"text-align: right;\">\n",
       "      <th></th>\n",
       "      <th>diff</th>\n",
       "    </tr>\n",
       "  </thead>\n",
       "  <tbody>\n",
       "    <tr>\n",
       "      <th>14</th>\n",
       "      <td>-75.0</td>\n",
       "    </tr>\n",
       "    <tr>\n",
       "      <th>16</th>\n",
       "      <td>-81.5</td>\n",
       "    </tr>\n",
       "    <tr>\n",
       "      <th>18</th>\n",
       "      <td>-32.0</td>\n",
       "    </tr>\n",
       "    <tr>\n",
       "      <th>20</th>\n",
       "      <td>17.5</td>\n",
       "    </tr>\n",
       "    <tr>\n",
       "      <th>22</th>\n",
       "      <td>-94.0</td>\n",
       "    </tr>\n",
       "  </tbody>\n",
       "</table>\n",
       "</div>"
      ],
      "text/plain": [
       "    diff\n",
       "14 -75.0\n",
       "16 -81.5\n",
       "18 -32.0\n",
       "20  17.5\n",
       "22 -94.0"
      ]
     },
     "execution_count": 17,
     "metadata": {},
     "output_type": "execute_result"
    }
   ],
   "source": [
    "df_after_ctrl.head()"
   ]
  },
  {
   "cell_type": "markdown",
   "metadata": {},
   "source": [
    "## The `figsize=` is still the same, you can choose whatever `fontsize=` you like."
   ]
  },
  {
   "cell_type": "markdown",
   "metadata": {},
   "source": [
    "## The color palette should be the same as in the example."
   ]
  },
  {
   "cell_type": "markdown",
   "metadata": {},
   "source": [
    "## The `fontsize=` of the title is `16`."
   ]
  },
  {
   "cell_type": "markdown",
   "metadata": {},
   "source": [
    "## The width of the box lines is `3`, the width of the median lines is `2`:"
   ]
  },
  {
   "cell_type": "markdown",
   "metadata": {},
   "source": [
    "Create a dictionaries for: whiskers, arrows, boxs, medians, fleirs:"
   ]
  },
  {
   "cell_type": "code",
   "execution_count": 18,
   "metadata": {},
   "outputs": [],
   "source": [
    "whiskers_params: dict = dict(color=\"red\", linewidth=1, )\n",
    "boxs_params: dict = dict(color=\"green\", linewidth=3, )\n",
    "medians_params: dict = dict(color=\"red\", linewidth=2, )\n",
    "fliersparams: dict = dict(marker='o', color=\"black\", )\n",
    "arrows_params: dict = dict(\n",
    "    color=\"green\",\n",
    "    linewidth=0.5,\n",
    "    arrowstyle=\"simple,head_length=0.75,head_width=0.5,tail_width=0.5\",\n",
    ")"
   ]
  },
  {
   "cell_type": "markdown",
   "metadata": {},
   "source": [
    "Create a plot:"
   ]
  },
  {
   "cell_type": "code",
   "execution_count": 19,
   "metadata": {},
   "outputs": [],
   "source": [
    "%%capture\n",
    "\n",
    "fig, axes = plt.subplots(  # Subplots\n",
    "    1,\n",
    "    2,\n",
    "    sharey=True,\n",
    "    figsize=(16, 8, ),\n",
    ")\n",
    "boxplot_after: Any = axes[0].boxplot(  # boxplot # 1\n",
    "    [df_after_ctrl[\"diff\"], df_after_test[\"diff\"], ],\n",
    "    boxprops=boxs_params,\n",
    "    flierprops=fliersparams,\n",
    "    capprops=whiskers_params,\n",
    "    medianprops=medians_params,\n",
    "    whiskerprops=whiskers_params,\n",
    ")\n",
    "boxplot_before: Any = axes[1].boxplot(  # boxplot # 2\n",
    "    [df_before_ctrl[\"diff\"], df_before_test[\"diff\"], ],\n",
    "    boxprops=boxs_params,\n",
    "    flierprops=fliersparams,\n",
    "    capprops=whiskers_params,\n",
    "    medianprops=medians_params,\n",
    "    whiskerprops=whiskers_params,\n",
    ")"
   ]
  },
  {
   "cell_type": "markdown",
   "metadata": {},
   "source": [
    "Draw plot:"
   ]
  },
  {
   "cell_type": "code",
   "execution_count": 20,
   "metadata": {},
   "outputs": [
    {
     "data": {
      "image/png": "[encoded data removed]",
      "text/plain": [
       "<Figure size 1600x800 with 2 Axes>"
      ]
     },
     "metadata": {},
     "output_type": "display_data"
    }
   ],
   "source": [
    "x: float = (boxplot_after[\"medians\"][0].get_xdata()[0] + boxplot_after[\"medians\"][0].get_xdata()[1]) / 2\n",
    "y: float = boxplot_after[\"medians\"][0].get_ydata()[0]\n",
    "\n",
    "axes[0].annotate(\n",
    "    '',\n",
    "    xy=(x, y, ),\n",
    "    ha=\"center\",\n",
    "    xytext=(x, y - 9, ),\n",
    "    arrowprops=arrows_params,\n",
    ")\n",
    "\n",
    "x = (boxplot_after[\"medians\"][1].get_xdata()[0] + boxplot_after[\"medians\"][1].get_xdata()[1]) / 2\n",
    "y = boxplot_after[\"medians\"][1].get_ydata()[0]\n",
    "\n",
    "axes[0].annotate(\n",
    "    '',\n",
    "    xy=(x, y + 9, ),\n",
    "    ha=\"center\",\n",
    "    xytext=(x, y, ),\n",
    "    arrowprops=arrows_params,\n",
    ")\n",
    "\n",
    "x = (boxplot_before[\"medians\"][0].get_xdata()[0] + boxplot_before[\"medians\"][0].get_xdata()[1]) / 2\n",
    "y = boxplot_before[\"medians\"][0].get_ydata()[0]\n",
    "\n",
    "axes[1].annotate(\n",
    "    '',\n",
    "    xy=(x, y, ),\n",
    "    ha=\"center\",\n",
    "    xytext=(x, y - 9, ),\n",
    "    arrowprops=arrows_params,\n",
    ")\n",
    "\n",
    "x = (boxplot_before[\"medians\"][1].get_xdata()[0] + boxplot_before[\"medians\"][1].get_xdata()[1]) / 2\n",
    "y = boxplot_before[\"medians\"][1].get_ydata()[0]\n",
    "\n",
    "axes[1].annotate(\n",
    "    '',\n",
    "    xy=(x, y + 9, ),\n",
    "    ha=\"center\",\n",
    "    xytext=(x, y, ),\n",
    "    arrowprops=arrows_params,\n",
    ")\n",
    "\n",
    "axes[0].text(\n",
    "    0.5,\n",
    "    -0.05,\n",
    "    \"[group]\",\n",
    "    ha=\"center\",\n",
    "    fontsize=10,\n",
    "    va=\"center\",\n",
    "    transform=axes[0].transAxes,\n",
    ")\n",
    "axes[1].text(\n",
    "    0.5,\n",
    "    -0.05,\n",
    "    \"[group]\",\n",
    "    ha=\"center\",\n",
    "    fontsize=10,\n",
    "    va=\"center\",\n",
    "    transform=axes[1].transAxes,\n",
    ")\n",
    "\n",
    "axes[0].set_title(\"after\", )\n",
    "axes[0].set_xticklabels([\"control\", \"test\", ], )\n",
    "axes[0].grid(True, axis='x', )\n",
    "axes[0].grid(True, axis='y', )\n",
    "axes[1].set_title(\"before\", )\n",
    "axes[1].set_xticklabels([\"control\", \"test\", ], )\n",
    "axes[1].grid(True, axis='x', )\n",
    "axes[1].grid(True, axis='y', )\n",
    "\n",
    "for ax in axes:\n",
    "    ax.set_facecolor(\"#f0f0f0\", )\n",
    "\n",
    "fig.suptitle(\"Lag before labs deadlines. After and before the Newsfeed\", fontsize=16, )\n",
    "fig.set_facecolor(\"#f0f0f0\", )\n",
    "\n",
    "display(fig, )"
   ]
  },
  {
   "cell_type": "markdown",
   "metadata": {},
   "source": [
    "## At the end of *Jupyter Notebook*, create a markdown cell and insert the question: `\"What was the *IQR* of the control group before the newsfeed?\"`"
   ]
  },
  {
   "cell_type": "code",
   "execution_count": 21,
   "metadata": {},
   "outputs": [
    {
     "name": "stdout",
     "output_type": "stream",
     "text": [
      "The IQR of the control group before the newsfeed is 150.0.\n"
     ]
    }
   ],
   "source": [
    "print(f\"The IQR of the control group before the newsfeed is {float(df_before_ctrl.quantile(0.75, ) - df_before_ctrl.quantile(0.25, ))}.\", )"
   ]
  }
 ],
 "metadata": {
  "kernelspec": {
   "display_name": ".venv",
   "language": "python",
   "name": "python3"
  },
  "language_info": {
   "codemirror_mode": {
    "name": "ipython",
    "version": 3
   },
   "file_extension": ".py",
   "mimetype": "text/x-python",
   "name": "python",
   "nbconvert_exporter": "python",
   "pygments_lexer": "ipython3",
   "version": "3.12.6"
  }
 },
 "nbformat": 4,
 "nbformat_minor": 2
}
