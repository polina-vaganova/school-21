{
 "cells": [
  {
   "cell_type": "markdown",
   "metadata": {},
   "source": [
    "## **Exercise 04: enrichment and transformations**"
   ]
  },
  {
   "cell_type": "markdown",
   "metadata": {},
   "source": [
    "Prepare the project:"
   ]
  },
  {
   "cell_type": "code",
   "execution_count": 1,
   "metadata": {},
   "outputs": [
    {
     "name": "stdout",
     "output_type": "stream",
     "text": [
      "Defaulting to user installation because normal site-packages is not writeable\n",
      "Requirement already satisfied: pip in c:\\users\\deniz\\appdata\\local\\packages\\pythonsoftwarefoundation.python.3.12_qbz5n2kfra8p0\\localcache\\local-packages\\python312\\site-packages (25.1.1)\n",
      "Note: you may need to restart the kernel to use updated packages.\n",
      "Defaulting to user installation because normal site-packages is not writeableNote: you may need to restart the kernel to use updated packages.\n",
      "\n",
      "Requirement already satisfied: pandas in c:\\users\\deniz\\appdata\\local\\packages\\pythonsoftwarefoundation.python.3.12_qbz5n2kfra8p0\\localcache\\local-packages\\python312\\site-packages (2.2.3)\n",
      "Requirement already satisfied: numpy>=1.26.0 in c:\\users\\deniz\\appdata\\local\\packages\\pythonsoftwarefoundation.python.3.12_qbz5n2kfra8p0\\localcache\\local-packages\\python312\\site-packages (from pandas) (2.1.3)\n",
      "Requirement already satisfied: python-dateutil>=2.8.2 in c:\\users\\deniz\\appdata\\local\\packages\\pythonsoftwarefoundation.python.3.12_qbz5n2kfra8p0\\localcache\\local-packages\\python312\\site-packages (from pandas) (2.9.0.post0)\n",
      "Requirement already satisfied: pytz>=2020.1 in c:\\users\\deniz\\appdata\\local\\packages\\pythonsoftwarefoundation.python.3.12_qbz5n2kfra8p0\\localcache\\local-packages\\python312\\site-packages (from pandas) (2024.2)\n",
      "Requirement already satisfied: tzdata>=2022.7 in c:\\users\\deniz\\appdata\\local\\packages\\pythonsoftwarefoundation.python.3.12_qbz5n2kfra8p0\\localcache\\local-packages\\python312\\site-packages (from pandas) (2024.2)\n",
      "Requirement already satisfied: six>=1.5 in c:\\users\\deniz\\appdata\\local\\packages\\pythonsoftwarefoundation.python.3.12_qbz5n2kfra8p0\\localcache\\local-packages\\python312\\site-packages (from python-dateutil>=2.8.2->pandas) (1.16.0)\n"
     ]
    }
   ],
   "source": [
    "%pip install --upgrade pip\n",
    "%pip install pandas"
   ]
  },
  {
   "cell_type": "markdown",
   "metadata": {},
   "source": [
    "Import allowed modules:"
   ]
  },
  {
   "cell_type": "code",
   "execution_count": 2,
   "metadata": {},
   "outputs": [],
   "source": [
    "import warnings  # For ignoring warnings\n",
    "\n",
    "import numpy as np\n",
    "import pandas as pd"
   ]
  },
  {
   "cell_type": "code",
   "execution_count": 3,
   "metadata": {},
   "outputs": [],
   "source": [
    "warnings.filterwarnings(\"ignore\", )  # Ignore warnings"
   ]
  },
  {
   "cell_type": "markdown",
   "metadata": {},
   "source": [
    "### read the *JSON* file that you saved in `ex02`:"
   ]
  },
  {
   "cell_type": "markdown",
   "metadata": {},
   "source": [
    "* one of the columns has the `float` type, so let us define the format of it in *pandas* using `pd.options.display.float_format`: floats should be displayed with two decimals:"
   ]
  },
  {
   "cell_type": "code",
   "execution_count": 4,
   "metadata": {},
   "outputs": [],
   "source": [
    "pd.options.display.float_format = \"{:.2f}\".format"
   ]
  },
  {
   "cell_type": "markdown",
   "metadata": {},
   "source": [
    "Create a dictionary for `read_json()` method calling:"
   ]
  },
  {
   "cell_type": "code",
   "execution_count": 5,
   "metadata": {},
   "outputs": [],
   "source": [
    "read_json_params: dict = {\"file\": \"auto.json\", \"file_path\": \"../../datasets/\", }"
   ]
  },
  {
   "cell_type": "markdown",
   "metadata": {},
   "source": [
    "Read the data file to *Pandas* dataframe:"
   ]
  },
  {
   "cell_type": "code",
   "execution_count": 6,
   "metadata": {},
   "outputs": [],
   "source": [
    "df: pd.DataFrame = pd.read_json(read_json_params[\"file_path\"] + read_json_params[\"file\"], )"
   ]
  },
  {
   "cell_type": "markdown",
   "metadata": {},
   "source": [
    "Check *pandas* dataframe:"
   ]
  },
  {
   "cell_type": "code",
   "execution_count": 7,
   "metadata": {},
   "outputs": [
    {
     "data": {
      "text/html": [
       "<div>\n",
       "<style scoped>\n",
       "    .dataframe tbody tr th:only-of-type {\n",
       "        vertical-align: middle;\n",
       "    }\n",
       "\n",
       "    .dataframe tbody tr th {\n",
       "        vertical-align: top;\n",
       "    }\n",
       "\n",
       "    .dataframe thead th {\n",
       "        text-align: right;\n",
       "    }\n",
       "</style>\n",
       "<table border=\"1\" class=\"dataframe\">\n",
       "  <thead>\n",
       "    <tr style=\"text-align: right;\">\n",
       "      <th></th>\n",
       "      <th>CarNumber</th>\n",
       "      <th>Refund</th>\n",
       "      <th>Fines</th>\n",
       "      <th>Make</th>\n",
       "      <th>Model</th>\n",
       "    </tr>\n",
       "  </thead>\n",
       "  <tbody>\n",
       "    <tr>\n",
       "      <th>0</th>\n",
       "      <td>Y163O8161RUS</td>\n",
       "      <td>2</td>\n",
       "      <td>3200.00</td>\n",
       "      <td>Ford</td>\n",
       "      <td>Focus</td>\n",
       "    </tr>\n",
       "    <tr>\n",
       "      <th>1</th>\n",
       "      <td>E432XX77RUS</td>\n",
       "      <td>1</td>\n",
       "      <td>6500.00</td>\n",
       "      <td>Toyota</td>\n",
       "      <td>Camry</td>\n",
       "    </tr>\n",
       "    <tr>\n",
       "      <th>2</th>\n",
       "      <td>7184TT36RUS</td>\n",
       "      <td>1</td>\n",
       "      <td>2100.00</td>\n",
       "      <td>Ford</td>\n",
       "      <td>Focus</td>\n",
       "    </tr>\n",
       "    <tr>\n",
       "      <th>3</th>\n",
       "      <td>X582HE161RUS</td>\n",
       "      <td>2</td>\n",
       "      <td>2000.00</td>\n",
       "      <td>Ford</td>\n",
       "      <td>Focus</td>\n",
       "    </tr>\n",
       "    <tr>\n",
       "      <th>4</th>\n",
       "      <td>92918M178RUS</td>\n",
       "      <td>1</td>\n",
       "      <td>5700.00</td>\n",
       "      <td>Ford</td>\n",
       "      <td>Focus</td>\n",
       "    </tr>\n",
       "  </tbody>\n",
       "</table>\n",
       "</div>"
      ],
      "text/plain": [
       "      CarNumber  Refund   Fines    Make  Model\n",
       "0  Y163O8161RUS       2 3200.00    Ford  Focus\n",
       "1   E432XX77RUS       1 6500.00  Toyota  Camry\n",
       "2   7184TT36RUS       1 2100.00    Ford  Focus\n",
       "3  X582HE161RUS       2 2000.00    Ford  Focus\n",
       "4  92918M178RUS       1 5700.00    Ford  Focus"
      ]
     },
     "execution_count": 7,
     "metadata": {},
     "output_type": "execute_result"
    }
   ],
   "source": [
    "df.head()"
   ]
  },
  {
   "cell_type": "markdown",
   "metadata": {},
   "source": [
    "* there are values missing from the `Model`, do not do anything with them."
   ]
  },
  {
   "cell_type": "markdown",
   "metadata": {},
   "source": [
    "### enrich the dataframe using a `sample` from that dataframe:"
   ]
  },
  {
   "cell_type": "markdown",
   "metadata": {},
   "source": [
    "* create a sample with `200` new observations with `random_state = 21`:"
   ]
  },
  {
   "cell_type": "markdown",
   "metadata": {},
   "source": [
    "    * the sample should not have new combinations of the `CarNumber`, `Make`,\n",
    "      `Model`, so the whole dataset will be consistent in these terms:"
   ]
  },
  {
   "cell_type": "code",
   "execution_count": 8,
   "metadata": {},
   "outputs": [],
   "source": [
    "sample: pd.DataFrame = df.sample(\n",
    "    n=200,\n",
    "    replace=False,  # Add duplicates or not\n",
    "    random_state=21,\n",
    ")"
   ]
  },
  {
   "cell_type": "markdown",
   "metadata": {},
   "source": [
    "    * there are no restrictions on the `Refund` and `Fines`, you can take any\n",
    "      value from these columns at random and use it towards any `CarNumber`:"
   ]
  },
  {
   "cell_type": "code",
   "execution_count": 9,
   "metadata": {},
   "outputs": [],
   "source": [
    "sample[\"Fines\"] = df[\"Fines\"].sample(n=200, random_state=21, ).values\n",
    "sample[\"Refund\"] = df[\"Refund\"].sample(n=200, random_state=21, ).values"
   ]
  },
  {
   "cell_type": "markdown",
   "metadata": {},
   "source": [
    "Check `sample` *Pandas* dataframe:"
   ]
  },
  {
   "cell_type": "code",
   "execution_count": 10,
   "metadata": {},
   "outputs": [
    {
     "data": {
      "text/html": [
       "<div>\n",
       "<style scoped>\n",
       "    .dataframe tbody tr th:only-of-type {\n",
       "        vertical-align: middle;\n",
       "    }\n",
       "\n",
       "    .dataframe tbody tr th {\n",
       "        vertical-align: top;\n",
       "    }\n",
       "\n",
       "    .dataframe thead th {\n",
       "        text-align: right;\n",
       "    }\n",
       "</style>\n",
       "<table border=\"1\" class=\"dataframe\">\n",
       "  <thead>\n",
       "    <tr style=\"text-align: right;\">\n",
       "      <th></th>\n",
       "      <th>CarNumber</th>\n",
       "      <th>Refund</th>\n",
       "      <th>Fines</th>\n",
       "      <th>Make</th>\n",
       "      <th>Model</th>\n",
       "    </tr>\n",
       "  </thead>\n",
       "  <tbody>\n",
       "    <tr>\n",
       "      <th>445</th>\n",
       "      <td>M0299X197RUS</td>\n",
       "      <td>2</td>\n",
       "      <td>19200.00</td>\n",
       "      <td>Ford</td>\n",
       "      <td>Focus</td>\n",
       "    </tr>\n",
       "    <tr>\n",
       "      <th>22</th>\n",
       "      <td>83298C154RUS</td>\n",
       "      <td>2</td>\n",
       "      <td>8594.59</td>\n",
       "      <td>Ford</td>\n",
       "      <td>Focus</td>\n",
       "    </tr>\n",
       "    <tr>\n",
       "      <th>93</th>\n",
       "      <td>H957HY161RUS</td>\n",
       "      <td>1</td>\n",
       "      <td>2000.00</td>\n",
       "      <td>Ford</td>\n",
       "      <td>Focus</td>\n",
       "    </tr>\n",
       "    <tr>\n",
       "      <th>173</th>\n",
       "      <td>T941CC96RUS</td>\n",
       "      <td>1</td>\n",
       "      <td>2000.00</td>\n",
       "      <td>Ford</td>\n",
       "      <td>Focus</td>\n",
       "    </tr>\n",
       "    <tr>\n",
       "      <th>697</th>\n",
       "      <td>H966HY161RUS</td>\n",
       "      <td>1</td>\n",
       "      <td>500.00</td>\n",
       "      <td>Ford</td>\n",
       "      <td>Focus</td>\n",
       "    </tr>\n",
       "  </tbody>\n",
       "</table>\n",
       "</div>"
      ],
      "text/plain": [
       "        CarNumber  Refund    Fines  Make  Model\n",
       "445  M0299X197RUS       2 19200.00  Ford  Focus\n",
       "22   83298C154RUS       2  8594.59  Ford  Focus\n",
       "93   H957HY161RUS       1  2000.00  Ford  Focus\n",
       "173   T941CC96RUS       1  2000.00  Ford  Focus\n",
       "697  H966HY161RUS       1   500.00  Ford  Focus"
      ]
     },
     "execution_count": 10,
     "metadata": {},
     "output_type": "execute_result"
    }
   ],
   "source": [
    "sample.head()"
   ]
  },
  {
   "cell_type": "markdown",
   "metadata": {},
   "source": [
    "* concatenate the `sample` with the initial dataframe to a new dataframe `concat_rows`:"
   ]
  },
  {
   "cell_type": "code",
   "execution_count": 11,
   "metadata": {},
   "outputs": [],
   "source": [
    "concat_rows: pd.DataFrame = pd.concat([df, sample, ], ignore_index=True, )"
   ]
  },
  {
   "cell_type": "markdown",
   "metadata": {},
   "source": [
    "Check `concat_rows`:"
   ]
  },
  {
   "cell_type": "code",
   "execution_count": 12,
   "metadata": {},
   "outputs": [
    {
     "data": {
      "text/html": [
       "<div>\n",
       "<style scoped>\n",
       "    .dataframe tbody tr th:only-of-type {\n",
       "        vertical-align: middle;\n",
       "    }\n",
       "\n",
       "    .dataframe tbody tr th {\n",
       "        vertical-align: top;\n",
       "    }\n",
       "\n",
       "    .dataframe thead th {\n",
       "        text-align: right;\n",
       "    }\n",
       "</style>\n",
       "<table border=\"1\" class=\"dataframe\">\n",
       "  <thead>\n",
       "    <tr style=\"text-align: right;\">\n",
       "      <th></th>\n",
       "      <th>CarNumber</th>\n",
       "      <th>Refund</th>\n",
       "      <th>Fines</th>\n",
       "      <th>Make</th>\n",
       "      <th>Model</th>\n",
       "    </tr>\n",
       "  </thead>\n",
       "  <tbody>\n",
       "    <tr>\n",
       "      <th>0</th>\n",
       "      <td>Y163O8161RUS</td>\n",
       "      <td>2</td>\n",
       "      <td>3200.00</td>\n",
       "      <td>Ford</td>\n",
       "      <td>Focus</td>\n",
       "    </tr>\n",
       "    <tr>\n",
       "      <th>1</th>\n",
       "      <td>E432XX77RUS</td>\n",
       "      <td>1</td>\n",
       "      <td>6500.00</td>\n",
       "      <td>Toyota</td>\n",
       "      <td>Camry</td>\n",
       "    </tr>\n",
       "    <tr>\n",
       "      <th>2</th>\n",
       "      <td>7184TT36RUS</td>\n",
       "      <td>1</td>\n",
       "      <td>2100.00</td>\n",
       "      <td>Ford</td>\n",
       "      <td>Focus</td>\n",
       "    </tr>\n",
       "    <tr>\n",
       "      <th>3</th>\n",
       "      <td>X582HE161RUS</td>\n",
       "      <td>2</td>\n",
       "      <td>2000.00</td>\n",
       "      <td>Ford</td>\n",
       "      <td>Focus</td>\n",
       "    </tr>\n",
       "    <tr>\n",
       "      <th>4</th>\n",
       "      <td>92918M178RUS</td>\n",
       "      <td>1</td>\n",
       "      <td>5700.00</td>\n",
       "      <td>Ford</td>\n",
       "      <td>Focus</td>\n",
       "    </tr>\n",
       "  </tbody>\n",
       "</table>\n",
       "</div>"
      ],
      "text/plain": [
       "      CarNumber  Refund   Fines    Make  Model\n",
       "0  Y163O8161RUS       2 3200.00    Ford  Focus\n",
       "1   E432XX77RUS       1 6500.00  Toyota  Camry\n",
       "2   7184TT36RUS       1 2100.00    Ford  Focus\n",
       "3  X582HE161RUS       2 2000.00    Ford  Focus\n",
       "4  92918M178RUS       1 5700.00    Ford  Focus"
      ]
     },
     "execution_count": 12,
     "metadata": {},
     "output_type": "execute_result"
    }
   ],
   "source": [
    "concat_rows.head()"
   ]
  },
  {
   "cell_type": "markdown",
   "metadata": {},
   "source": [
    "### enrich the dataframe `concat_rows` by a new column with the data generated:"
   ]
  },
  {
   "cell_type": "markdown",
   "metadata": {},
   "source": [
    "* use `np.random.seed(21, )` before generating the years:"
   ]
  },
  {
   "cell_type": "code",
   "execution_count": 13,
   "metadata": {},
   "outputs": [],
   "source": [
    "np.random.seed(21, )  # Fix random seed"
   ]
  },
  {
   "cell_type": "markdown",
   "metadata": {},
   "source": [
    "* create a *Pandas* series with the name `Year` using random integers from `1980` to `2019`:"
   ]
  },
  {
   "cell_type": "code",
   "execution_count": 14,
   "metadata": {},
   "outputs": [],
   "source": [
    "year: pd.Series = pd.Series(np.random.randint(\n",
    "    1980,\n",
    "    2019,\n",
    "    size=concat_rows.shape[0],\n",
    "), )"
   ]
  },
  {
   "cell_type": "markdown",
   "metadata": {},
   "source": [
    "* concatenate the series with the dataframe and name it `Year`:"
   ]
  },
  {
   "cell_type": "code",
   "execution_count": 15,
   "metadata": {},
   "outputs": [],
   "source": [
    "concat_rows = pd.concat([concat_rows, year, ], axis=1, )"
   ]
  },
  {
   "cell_type": "code",
   "execution_count": 16,
   "metadata": {},
   "outputs": [],
   "source": [
    "concat_rows.rename(columns={0: \"Year\", }, inplace=True, )"
   ]
  },
  {
   "cell_type": "markdown",
   "metadata": {},
   "source": [
    "Check updated *Pandas* dataframe:"
   ]
  },
  {
   "cell_type": "code",
   "execution_count": 17,
   "metadata": {},
   "outputs": [
    {
     "data": {
      "text/html": [
       "<div>\n",
       "<style scoped>\n",
       "    .dataframe tbody tr th:only-of-type {\n",
       "        vertical-align: middle;\n",
       "    }\n",
       "\n",
       "    .dataframe tbody tr th {\n",
       "        vertical-align: top;\n",
       "    }\n",
       "\n",
       "    .dataframe thead th {\n",
       "        text-align: right;\n",
       "    }\n",
       "</style>\n",
       "<table border=\"1\" class=\"dataframe\">\n",
       "  <thead>\n",
       "    <tr style=\"text-align: right;\">\n",
       "      <th></th>\n",
       "      <th>CarNumber</th>\n",
       "      <th>Refund</th>\n",
       "      <th>Fines</th>\n",
       "      <th>Make</th>\n",
       "      <th>Model</th>\n",
       "      <th>Year</th>\n",
       "    </tr>\n",
       "  </thead>\n",
       "  <tbody>\n",
       "    <tr>\n",
       "      <th>0</th>\n",
       "      <td>Y163O8161RUS</td>\n",
       "      <td>2</td>\n",
       "      <td>3200.00</td>\n",
       "      <td>Ford</td>\n",
       "      <td>Focus</td>\n",
       "      <td>1989</td>\n",
       "    </tr>\n",
       "    <tr>\n",
       "      <th>1</th>\n",
       "      <td>E432XX77RUS</td>\n",
       "      <td>1</td>\n",
       "      <td>6500.00</td>\n",
       "      <td>Toyota</td>\n",
       "      <td>Camry</td>\n",
       "      <td>1995</td>\n",
       "    </tr>\n",
       "    <tr>\n",
       "      <th>2</th>\n",
       "      <td>7184TT36RUS</td>\n",
       "      <td>1</td>\n",
       "      <td>2100.00</td>\n",
       "      <td>Ford</td>\n",
       "      <td>Focus</td>\n",
       "      <td>1984</td>\n",
       "    </tr>\n",
       "    <tr>\n",
       "      <th>3</th>\n",
       "      <td>X582HE161RUS</td>\n",
       "      <td>2</td>\n",
       "      <td>2000.00</td>\n",
       "      <td>Ford</td>\n",
       "      <td>Focus</td>\n",
       "      <td>2015</td>\n",
       "    </tr>\n",
       "    <tr>\n",
       "      <th>4</th>\n",
       "      <td>92918M178RUS</td>\n",
       "      <td>1</td>\n",
       "      <td>5700.00</td>\n",
       "      <td>Ford</td>\n",
       "      <td>Focus</td>\n",
       "      <td>2014</td>\n",
       "    </tr>\n",
       "  </tbody>\n",
       "</table>\n",
       "</div>"
      ],
      "text/plain": [
       "      CarNumber  Refund   Fines    Make  Model  Year\n",
       "0  Y163O8161RUS       2 3200.00    Ford  Focus  1989\n",
       "1   E432XX77RUS       1 6500.00  Toyota  Camry  1995\n",
       "2   7184TT36RUS       1 2100.00    Ford  Focus  1984\n",
       "3  X582HE161RUS       2 2000.00    Ford  Focus  2015\n",
       "4  92918M178RUS       1 5700.00    Ford  Focus  2014"
      ]
     },
     "execution_count": 17,
     "metadata": {},
     "output_type": "execute_result"
    }
   ],
   "source": [
    "concat_rows.head()"
   ]
  },
  {
   "cell_type": "markdown",
   "metadata": {},
   "source": [
    "### enrich the dataframe with the data from another dataframe:"
   ]
  },
  {
   "cell_type": "markdown",
   "metadata": {},
   "source": [
    "* create a new dataframe with the `CarNumber` and their owners:"
   ]
  },
  {
   "cell_type": "markdown",
   "metadata": {},
   "source": [
    "    * get the most popular surnames in the *US*:"
   ]
  },
  {
   "cell_type": "markdown",
   "metadata": {},
   "source": [
    "Create a dictionary for `read_json()` method calling:"
   ]
  },
  {
   "cell_type": "code",
   "execution_count": 18,
   "metadata": {},
   "outputs": [],
   "source": [
    "read_json_params: dict = {\"file\": \"surname.json\", \"file_path\": \"../../datasets/\", }"
   ]
  },
  {
   "cell_type": "markdown",
   "metadata": {},
   "source": [
    "Get popular *US* surnames:"
   ]
  },
  {
   "cell_type": "code",
   "execution_count": 19,
   "metadata": {},
   "outputs": [],
   "source": [
    "sec_df: pd.DataFrame = pd.read_json(read_json_params[\"file_path\"] + read_json_params[\"file\"], )"
   ]
  },
  {
   "cell_type": "markdown",
   "metadata": {},
   "source": [
    "Check *Pandas* dataframe:"
   ]
  },
  {
   "cell_type": "code",
   "execution_count": 20,
   "metadata": {},
   "outputs": [
    {
     "data": {
      "text/html": [
       "<div>\n",
       "<style scoped>\n",
       "    .dataframe tbody tr th:only-of-type {\n",
       "        vertical-align: middle;\n",
       "    }\n",
       "\n",
       "    .dataframe tbody tr th {\n",
       "        vertical-align: top;\n",
       "    }\n",
       "\n",
       "    .dataframe thead th {\n",
       "        text-align: right;\n",
       "    }\n",
       "</style>\n",
       "<table border=\"1\" class=\"dataframe\">\n",
       "  <thead>\n",
       "    <tr style=\"text-align: right;\">\n",
       "      <th></th>\n",
       "      <th>0</th>\n",
       "      <th>1</th>\n",
       "      <th>2</th>\n",
       "    </tr>\n",
       "  </thead>\n",
       "  <tbody>\n",
       "    <tr>\n",
       "      <th>0</th>\n",
       "      <td>NAME</td>\n",
       "      <td>COUNT</td>\n",
       "      <td>RANK</td>\n",
       "    </tr>\n",
       "    <tr>\n",
       "      <th>1</th>\n",
       "      <td>ADAMS</td>\n",
       "      <td>427865</td>\n",
       "      <td>42</td>\n",
       "    </tr>\n",
       "    <tr>\n",
       "      <th>2</th>\n",
       "      <td>ALLEN</td>\n",
       "      <td>482607</td>\n",
       "      <td>33</td>\n",
       "    </tr>\n",
       "    <tr>\n",
       "      <th>3</th>\n",
       "      <td>ALVAREZ</td>\n",
       "      <td>233983</td>\n",
       "      <td>92</td>\n",
       "    </tr>\n",
       "    <tr>\n",
       "      <th>4</th>\n",
       "      <td>ANDERSON</td>\n",
       "      <td>784404</td>\n",
       "      <td>15</td>\n",
       "    </tr>\n",
       "  </tbody>\n",
       "</table>\n",
       "</div>"
      ],
      "text/plain": [
       "          0       1     2\n",
       "0      NAME   COUNT  RANK\n",
       "1     ADAMS  427865    42\n",
       "2     ALLEN  482607    33\n",
       "3   ALVAREZ  233983    92\n",
       "4  ANDERSON  784404    15"
      ]
     },
     "execution_count": 20,
     "metadata": {},
     "output_type": "execute_result"
    }
   ],
   "source": [
    "sec_df.head()"
   ]
  },
  {
   "cell_type": "markdown",
   "metadata": {},
   "source": [
    "Set first dataset row as column name row:"
   ]
  },
  {
   "cell_type": "code",
   "execution_count": 21,
   "metadata": {},
   "outputs": [],
   "source": [
    "sec_df.columns = sec_df.iloc[0]\n",
    "sec_df = sec_df.drop(0, )"
   ]
  },
  {
   "cell_type": "markdown",
   "metadata": {},
   "source": [
    "Check *Pandas* dataframe again:"
   ]
  },
  {
   "cell_type": "code",
   "execution_count": 22,
   "metadata": {},
   "outputs": [
    {
     "data": {
      "text/html": [
       "<div>\n",
       "<style scoped>\n",
       "    .dataframe tbody tr th:only-of-type {\n",
       "        vertical-align: middle;\n",
       "    }\n",
       "\n",
       "    .dataframe tbody tr th {\n",
       "        vertical-align: top;\n",
       "    }\n",
       "\n",
       "    .dataframe thead th {\n",
       "        text-align: right;\n",
       "    }\n",
       "</style>\n",
       "<table border=\"1\" class=\"dataframe\">\n",
       "  <thead>\n",
       "    <tr style=\"text-align: right;\">\n",
       "      <th></th>\n",
       "      <th>NAME</th>\n",
       "      <th>COUNT</th>\n",
       "      <th>RANK</th>\n",
       "    </tr>\n",
       "  </thead>\n",
       "  <tbody>\n",
       "    <tr>\n",
       "      <th>1</th>\n",
       "      <td>ADAMS</td>\n",
       "      <td>427865</td>\n",
       "      <td>42</td>\n",
       "    </tr>\n",
       "    <tr>\n",
       "      <th>2</th>\n",
       "      <td>ALLEN</td>\n",
       "      <td>482607</td>\n",
       "      <td>33</td>\n",
       "    </tr>\n",
       "    <tr>\n",
       "      <th>3</th>\n",
       "      <td>ALVAREZ</td>\n",
       "      <td>233983</td>\n",
       "      <td>92</td>\n",
       "    </tr>\n",
       "    <tr>\n",
       "      <th>4</th>\n",
       "      <td>ANDERSON</td>\n",
       "      <td>784404</td>\n",
       "      <td>15</td>\n",
       "    </tr>\n",
       "    <tr>\n",
       "      <th>5</th>\n",
       "      <td>BAILEY</td>\n",
       "      <td>277845</td>\n",
       "      <td>72</td>\n",
       "    </tr>\n",
       "  </tbody>\n",
       "</table>\n",
       "</div>"
      ],
      "text/plain": [
       "0      NAME   COUNT RANK\n",
       "1     ADAMS  427865   42\n",
       "2     ALLEN  482607   33\n",
       "3   ALVAREZ  233983   92\n",
       "4  ANDERSON  784404   15\n",
       "5    BAILEY  277845   72"
      ]
     },
     "execution_count": 22,
     "metadata": {},
     "output_type": "execute_result"
    }
   ],
   "source": [
    "sec_df.head()"
   ]
  },
  {
   "cell_type": "markdown",
   "metadata": {},
   "source": [
    "    * create a new series with the surnames from the data you gathered, the count should be equal to the number of unique `CarNumber` using the `sample`:"
   ]
  },
  {
   "cell_type": "markdown",
   "metadata": {},
   "source": [
    "Calculate count of unique `CarNumber`:"
   ]
  },
  {
   "cell_type": "code",
   "execution_count": 23,
   "metadata": {},
   "outputs": [],
   "source": [
    "cnt_uniq_car_nums: int = sample[\"CarNumber\"].nunique()"
   ]
  },
  {
   "cell_type": "markdown",
   "metadata": {},
   "source": [
    "Check it:"
   ]
  },
  {
   "cell_type": "code",
   "execution_count": 24,
   "metadata": {},
   "outputs": [
    {
     "data": {
      "text/plain": [
       "180"
      ]
     },
     "execution_count": 24,
     "metadata": {},
     "output_type": "execute_result"
    }
   ],
   "source": [
    "cnt_uniq_car_nums"
   ]
  },
  {
   "cell_type": "markdown",
   "metadata": {},
   "source": [
    "Create *Pandas* series:"
   ]
  },
  {
   "cell_type": "code",
   "execution_count": 25,
   "metadata": {},
   "outputs": [],
   "source": [
    "surnames: pd.Series = sec_df[\"NAME\"].sample(\n",
    "    n=cnt_uniq_car_nums,\n",
    "    replace=True,  # Add duplicates or not\n",
    "    random_state=21,\n",
    ")"
   ]
  },
  {
   "cell_type": "markdown",
   "metadata": {},
   "source": [
    "    * create the dataframe owners with `2` columns: `CarNumber`, `Surname`:\n"
   ]
  },
  {
   "cell_type": "code",
   "execution_count": 26,
   "metadata": {},
   "outputs": [],
   "source": [
    "owners: pd.DataFrame = pd.DataFrame({\"CarNumber\": sample[\"CarNumber\"].drop_duplicates().values, \"Surname\": surnames.values, }, )"
   ]
  },
  {
   "cell_type": "markdown",
   "metadata": {},
   "source": [
    "Check new dataframe:"
   ]
  },
  {
   "cell_type": "code",
   "execution_count": 27,
   "metadata": {},
   "outputs": [
    {
     "data": {
      "text/html": [
       "<div>\n",
       "<style scoped>\n",
       "    .dataframe tbody tr th:only-of-type {\n",
       "        vertical-align: middle;\n",
       "    }\n",
       "\n",
       "    .dataframe tbody tr th {\n",
       "        vertical-align: top;\n",
       "    }\n",
       "\n",
       "    .dataframe thead th {\n",
       "        text-align: right;\n",
       "    }\n",
       "</style>\n",
       "<table border=\"1\" class=\"dataframe\">\n",
       "  <thead>\n",
       "    <tr style=\"text-align: right;\">\n",
       "      <th></th>\n",
       "      <th>CarNumber</th>\n",
       "      <th>Surname</th>\n",
       "    </tr>\n",
       "  </thead>\n",
       "  <tbody>\n",
       "    <tr>\n",
       "      <th>0</th>\n",
       "      <td>M0299X197RUS</td>\n",
       "      <td>RICHARDSON</td>\n",
       "    </tr>\n",
       "    <tr>\n",
       "      <th>1</th>\n",
       "      <td>83298C154RUS</td>\n",
       "      <td>ROSS</td>\n",
       "    </tr>\n",
       "    <tr>\n",
       "      <th>2</th>\n",
       "      <td>H957HY161RUS</td>\n",
       "      <td>MORGAN</td>\n",
       "    </tr>\n",
       "    <tr>\n",
       "      <th>3</th>\n",
       "      <td>T941CC96RUS</td>\n",
       "      <td>BAILEY</td>\n",
       "    </tr>\n",
       "    <tr>\n",
       "      <th>4</th>\n",
       "      <td>H966HY161RUS</td>\n",
       "      <td>LOPEZ</td>\n",
       "    </tr>\n",
       "  </tbody>\n",
       "</table>\n",
       "</div>"
      ],
      "text/plain": [
       "      CarNumber     Surname\n",
       "0  M0299X197RUS  RICHARDSON\n",
       "1  83298C154RUS        ROSS\n",
       "2  H957HY161RUS      MORGAN\n",
       "3   T941CC96RUS      BAILEY\n",
       "4  H966HY161RUS       LOPEZ"
      ]
     },
     "execution_count": 27,
     "metadata": {},
     "output_type": "execute_result"
    }
   ],
   "source": [
    "owners.head()"
   ]
  },
  {
   "cell_type": "markdown",
   "metadata": {},
   "source": [
    "* append `5` more observations to the `owners` dataframe:"
   ]
  },
  {
   "cell_type": "markdown",
   "metadata": {},
   "source": [
    "Create a new observations:"
   ]
  },
  {
   "cell_type": "code",
   "execution_count": 28,
   "metadata": {},
   "outputs": [],
   "source": [
    "observations: pd.DataFrame = pd.DataFrame({\n",
    "    \"CarNumber\": [\n",
    "        \"83298C228RUS\",\n",
    "        \"8329C1337RUS\",\n",
    "        \"33328C154RUS\",\n",
    "        \"88005C154RUS\",\n",
    "        \"77777C154RUS\",\n",
    "    ],\n",
    "    \"Surname\": [\n",
    "        \"ERDOGAN\",\n",
    "        \"PUTKIN\",\n",
    "        \"VODER\",\n",
    "        \"SOCKER\",\n",
    "        \"DOCKER\",\n",
    "    ],\n",
    "}, )"
   ]
  },
  {
   "cell_type": "markdown",
   "metadata": {},
   "source": [
    "Check them:"
   ]
  },
  {
   "cell_type": "code",
   "execution_count": 29,
   "metadata": {},
   "outputs": [
    {
     "data": {
      "text/html": [
       "<div>\n",
       "<style scoped>\n",
       "    .dataframe tbody tr th:only-of-type {\n",
       "        vertical-align: middle;\n",
       "    }\n",
       "\n",
       "    .dataframe tbody tr th {\n",
       "        vertical-align: top;\n",
       "    }\n",
       "\n",
       "    .dataframe thead th {\n",
       "        text-align: right;\n",
       "    }\n",
       "</style>\n",
       "<table border=\"1\" class=\"dataframe\">\n",
       "  <thead>\n",
       "    <tr style=\"text-align: right;\">\n",
       "      <th></th>\n",
       "      <th>CarNumber</th>\n",
       "      <th>Surname</th>\n",
       "    </tr>\n",
       "  </thead>\n",
       "  <tbody>\n",
       "    <tr>\n",
       "      <th>0</th>\n",
       "      <td>83298C228RUS</td>\n",
       "      <td>ERDOGAN</td>\n",
       "    </tr>\n",
       "    <tr>\n",
       "      <th>1</th>\n",
       "      <td>8329C1337RUS</td>\n",
       "      <td>PUTKIN</td>\n",
       "    </tr>\n",
       "    <tr>\n",
       "      <th>2</th>\n",
       "      <td>33328C154RUS</td>\n",
       "      <td>VODER</td>\n",
       "    </tr>\n",
       "    <tr>\n",
       "      <th>3</th>\n",
       "      <td>88005C154RUS</td>\n",
       "      <td>SOCKER</td>\n",
       "    </tr>\n",
       "    <tr>\n",
       "      <th>4</th>\n",
       "      <td>77777C154RUS</td>\n",
       "      <td>DOCKER</td>\n",
       "    </tr>\n",
       "  </tbody>\n",
       "</table>\n",
       "</div>"
      ],
      "text/plain": [
       "      CarNumber  Surname\n",
       "0  83298C228RUS  ERDOGAN\n",
       "1  8329C1337RUS   PUTKIN\n",
       "2  33328C154RUS    VODER\n",
       "3  88005C154RUS   SOCKER\n",
       "4  77777C154RUS   DOCKER"
      ]
     },
     "execution_count": 29,
     "metadata": {},
     "output_type": "execute_result"
    }
   ],
   "source": [
    "observations.head()"
   ]
  },
  {
   "cell_type": "markdown",
   "metadata": {},
   "source": [
    "Append them to `owners`:"
   ]
  },
  {
   "cell_type": "code",
   "execution_count": 30,
   "metadata": {},
   "outputs": [],
   "source": [
    "owners = pd.concat([owners, observations, ], ignore_index=True, )"
   ]
  },
  {
   "cell_type": "markdown",
   "metadata": {},
   "source": [
    "Check updated dataframe:"
   ]
  },
  {
   "cell_type": "code",
   "execution_count": 31,
   "metadata": {},
   "outputs": [
    {
     "data": {
      "text/html": [
       "<div>\n",
       "<style scoped>\n",
       "    .dataframe tbody tr th:only-of-type {\n",
       "        vertical-align: middle;\n",
       "    }\n",
       "\n",
       "    .dataframe tbody tr th {\n",
       "        vertical-align: top;\n",
       "    }\n",
       "\n",
       "    .dataframe thead th {\n",
       "        text-align: right;\n",
       "    }\n",
       "</style>\n",
       "<table border=\"1\" class=\"dataframe\">\n",
       "  <thead>\n",
       "    <tr style=\"text-align: right;\">\n",
       "      <th></th>\n",
       "      <th>CarNumber</th>\n",
       "      <th>Surname</th>\n",
       "    </tr>\n",
       "  </thead>\n",
       "  <tbody>\n",
       "    <tr>\n",
       "      <th>180</th>\n",
       "      <td>83298C228RUS</td>\n",
       "      <td>ERDOGAN</td>\n",
       "    </tr>\n",
       "    <tr>\n",
       "      <th>181</th>\n",
       "      <td>8329C1337RUS</td>\n",
       "      <td>PUTKIN</td>\n",
       "    </tr>\n",
       "    <tr>\n",
       "      <th>182</th>\n",
       "      <td>33328C154RUS</td>\n",
       "      <td>VODER</td>\n",
       "    </tr>\n",
       "    <tr>\n",
       "      <th>183</th>\n",
       "      <td>88005C154RUS</td>\n",
       "      <td>SOCKER</td>\n",
       "    </tr>\n",
       "    <tr>\n",
       "      <th>184</th>\n",
       "      <td>77777C154RUS</td>\n",
       "      <td>DOCKER</td>\n",
       "    </tr>\n",
       "  </tbody>\n",
       "</table>\n",
       "</div>"
      ],
      "text/plain": [
       "        CarNumber  Surname\n",
       "180  83298C228RUS  ERDOGAN\n",
       "181  8329C1337RUS   PUTKIN\n",
       "182  33328C154RUS    VODER\n",
       "183  88005C154RUS   SOCKER\n",
       "184  77777C154RUS   DOCKER"
      ]
     },
     "execution_count": 31,
     "metadata": {},
     "output_type": "execute_result"
    }
   ],
   "source": [
    "owners.tail()"
   ]
  },
  {
   "cell_type": "markdown",
   "metadata": {},
   "source": [
    "* delete the dataframe last `20` observations from the `owners` and add `3` new observations:"
   ]
  },
  {
   "cell_type": "markdown",
   "metadata": {},
   "source": [
    "Delete last `20` rows:"
   ]
  },
  {
   "cell_type": "code",
   "execution_count": 32,
   "metadata": {},
   "outputs": [],
   "source": [
    "owners = owners.iloc[: -20]"
   ]
  },
  {
   "cell_type": "markdown",
   "metadata": {},
   "source": [
    "Check updated dataframe:"
   ]
  },
  {
   "cell_type": "code",
   "execution_count": 33,
   "metadata": {},
   "outputs": [
    {
     "data": {
      "text/html": [
       "<div>\n",
       "<style scoped>\n",
       "    .dataframe tbody tr th:only-of-type {\n",
       "        vertical-align: middle;\n",
       "    }\n",
       "\n",
       "    .dataframe tbody tr th {\n",
       "        vertical-align: top;\n",
       "    }\n",
       "\n",
       "    .dataframe thead th {\n",
       "        text-align: right;\n",
       "    }\n",
       "</style>\n",
       "<table border=\"1\" class=\"dataframe\">\n",
       "  <thead>\n",
       "    <tr style=\"text-align: right;\">\n",
       "      <th></th>\n",
       "      <th>CarNumber</th>\n",
       "      <th>Surname</th>\n",
       "    </tr>\n",
       "  </thead>\n",
       "  <tbody>\n",
       "    <tr>\n",
       "      <th>160</th>\n",
       "      <td>98047H178RUS</td>\n",
       "      <td>WHITE</td>\n",
       "    </tr>\n",
       "    <tr>\n",
       "      <th>161</th>\n",
       "      <td>X522OM161RUS</td>\n",
       "      <td>CHAVEZ</td>\n",
       "    </tr>\n",
       "    <tr>\n",
       "      <th>162</th>\n",
       "      <td>O136HO197RUS</td>\n",
       "      <td>HOWARD</td>\n",
       "    </tr>\n",
       "    <tr>\n",
       "      <th>163</th>\n",
       "      <td>7089H8163RUS</td>\n",
       "      <td>WRIGHT</td>\n",
       "    </tr>\n",
       "    <tr>\n",
       "      <th>164</th>\n",
       "      <td>7608EE777RUS</td>\n",
       "      <td>SANDERS</td>\n",
       "    </tr>\n",
       "  </tbody>\n",
       "</table>\n",
       "</div>"
      ],
      "text/plain": [
       "        CarNumber  Surname\n",
       "160  98047H178RUS    WHITE\n",
       "161  X522OM161RUS   CHAVEZ\n",
       "162  O136HO197RUS   HOWARD\n",
       "163  7089H8163RUS   WRIGHT\n",
       "164  7608EE777RUS  SANDERS"
      ]
     },
     "execution_count": 33,
     "metadata": {},
     "output_type": "execute_result"
    }
   ],
   "source": [
    "owners.tail()"
   ]
  },
  {
   "cell_type": "markdown",
   "metadata": {},
   "source": [
    "Create a new observations:"
   ]
  },
  {
   "cell_type": "code",
   "execution_count": 34,
   "metadata": {},
   "outputs": [],
   "source": [
    "new_observations: pd.DataFrame = pd.DataFrame({\n",
    "    \"CarNumber\": [\n",
    "        \"8-800-555RUS\",\n",
    "        \"212121212RUS\",\n",
    "        \"zxc424124RUS\",\n",
    "    ],\n",
    "    \"Surname\": [\n",
    "        \"CURSED\",\n",
    "        \"OBAMA\",\n",
    "        \"TRUMP\",\n",
    "    ],\n",
    "}, )"
   ]
  },
  {
   "cell_type": "markdown",
   "metadata": {},
   "source": [
    "Check them:"
   ]
  },
  {
   "cell_type": "code",
   "execution_count": 35,
   "metadata": {},
   "outputs": [
    {
     "data": {
      "text/html": [
       "<div>\n",
       "<style scoped>\n",
       "    .dataframe tbody tr th:only-of-type {\n",
       "        vertical-align: middle;\n",
       "    }\n",
       "\n",
       "    .dataframe tbody tr th {\n",
       "        vertical-align: top;\n",
       "    }\n",
       "\n",
       "    .dataframe thead th {\n",
       "        text-align: right;\n",
       "    }\n",
       "</style>\n",
       "<table border=\"1\" class=\"dataframe\">\n",
       "  <thead>\n",
       "    <tr style=\"text-align: right;\">\n",
       "      <th></th>\n",
       "      <th>CarNumber</th>\n",
       "      <th>Surname</th>\n",
       "    </tr>\n",
       "  </thead>\n",
       "  <tbody>\n",
       "    <tr>\n",
       "      <th>0</th>\n",
       "      <td>8-800-555RUS</td>\n",
       "      <td>CURSED</td>\n",
       "    </tr>\n",
       "    <tr>\n",
       "      <th>1</th>\n",
       "      <td>212121212RUS</td>\n",
       "      <td>OBAMA</td>\n",
       "    </tr>\n",
       "    <tr>\n",
       "      <th>2</th>\n",
       "      <td>zxc424124RUS</td>\n",
       "      <td>TRUMP</td>\n",
       "    </tr>\n",
       "  </tbody>\n",
       "</table>\n",
       "</div>"
      ],
      "text/plain": [
       "      CarNumber Surname\n",
       "0  8-800-555RUS  CURSED\n",
       "1  212121212RUS   OBAMA\n",
       "2  zxc424124RUS   TRUMP"
      ]
     },
     "execution_count": 35,
     "metadata": {},
     "output_type": "execute_result"
    }
   ],
   "source": [
    "new_observations.head()"
   ]
  },
  {
   "cell_type": "markdown",
   "metadata": {},
   "source": [
    "Append them to `owners`:"
   ]
  },
  {
   "cell_type": "code",
   "execution_count": 36,
   "metadata": {},
   "outputs": [],
   "source": [
    "owners = pd.concat([owners, new_observations, ], ignore_index=True, )"
   ]
  },
  {
   "cell_type": "markdown",
   "metadata": {},
   "source": [
    "Check updated dataframe:"
   ]
  },
  {
   "cell_type": "code",
   "execution_count": 37,
   "metadata": {},
   "outputs": [
    {
     "data": {
      "text/html": [
       "<div>\n",
       "<style scoped>\n",
       "    .dataframe tbody tr th:only-of-type {\n",
       "        vertical-align: middle;\n",
       "    }\n",
       "\n",
       "    .dataframe tbody tr th {\n",
       "        vertical-align: top;\n",
       "    }\n",
       "\n",
       "    .dataframe thead th {\n",
       "        text-align: right;\n",
       "    }\n",
       "</style>\n",
       "<table border=\"1\" class=\"dataframe\">\n",
       "  <thead>\n",
       "    <tr style=\"text-align: right;\">\n",
       "      <th></th>\n",
       "      <th>CarNumber</th>\n",
       "      <th>Surname</th>\n",
       "    </tr>\n",
       "  </thead>\n",
       "  <tbody>\n",
       "    <tr>\n",
       "      <th>163</th>\n",
       "      <td>7089H8163RUS</td>\n",
       "      <td>WRIGHT</td>\n",
       "    </tr>\n",
       "    <tr>\n",
       "      <th>164</th>\n",
       "      <td>7608EE777RUS</td>\n",
       "      <td>SANDERS</td>\n",
       "    </tr>\n",
       "    <tr>\n",
       "      <th>165</th>\n",
       "      <td>8-800-555RUS</td>\n",
       "      <td>CURSED</td>\n",
       "    </tr>\n",
       "    <tr>\n",
       "      <th>166</th>\n",
       "      <td>212121212RUS</td>\n",
       "      <td>OBAMA</td>\n",
       "    </tr>\n",
       "    <tr>\n",
       "      <th>167</th>\n",
       "      <td>zxc424124RUS</td>\n",
       "      <td>TRUMP</td>\n",
       "    </tr>\n",
       "  </tbody>\n",
       "</table>\n",
       "</div>"
      ],
      "text/plain": [
       "        CarNumber  Surname\n",
       "163  7089H8163RUS   WRIGHT\n",
       "164  7608EE777RUS  SANDERS\n",
       "165  8-800-555RUS   CURSED\n",
       "166  212121212RUS    OBAMA\n",
       "167  zxc424124RUS    TRUMP"
      ]
     },
     "execution_count": 37,
     "metadata": {},
     "output_type": "execute_result"
    }
   ],
   "source": [
    "owners.tail()"
   ]
  },
  {
   "cell_type": "markdown",
   "metadata": {},
   "source": [
    "* join both dataframes:"
   ]
  },
  {
   "cell_type": "markdown",
   "metadata": {},
   "source": [
    "    * the new dataframe should have only the `CarNumber` that exist in both dataframes:"
   ]
  },
  {
   "cell_type": "code",
   "execution_count": 38,
   "metadata": {},
   "outputs": [],
   "source": [
    "res: pd.DataFrame = pd.merge(\n",
    "    owners,\n",
    "    concat_rows,\n",
    "    on=\"CarNumber\",\n",
    ")"
   ]
  },
  {
   "cell_type": "markdown",
   "metadata": {},
   "source": [
    "Check result:"
   ]
  },
  {
   "cell_type": "code",
   "execution_count": 39,
   "metadata": {},
   "outputs": [
    {
     "data": {
      "text/html": [
       "<div>\n",
       "<style scoped>\n",
       "    .dataframe tbody tr th:only-of-type {\n",
       "        vertical-align: middle;\n",
       "    }\n",
       "\n",
       "    .dataframe tbody tr th {\n",
       "        vertical-align: top;\n",
       "    }\n",
       "\n",
       "    .dataframe thead th {\n",
       "        text-align: right;\n",
       "    }\n",
       "</style>\n",
       "<table border=\"1\" class=\"dataframe\">\n",
       "  <thead>\n",
       "    <tr style=\"text-align: right;\">\n",
       "      <th></th>\n",
       "      <th>CarNumber</th>\n",
       "      <th>Surname</th>\n",
       "      <th>Refund</th>\n",
       "      <th>Fines</th>\n",
       "      <th>Make</th>\n",
       "      <th>Model</th>\n",
       "      <th>Year</th>\n",
       "    </tr>\n",
       "  </thead>\n",
       "  <tbody>\n",
       "    <tr>\n",
       "      <th>0</th>\n",
       "      <td>M0299X197RUS</td>\n",
       "      <td>RICHARDSON</td>\n",
       "      <td>2</td>\n",
       "      <td>67200.00</td>\n",
       "      <td>Ford</td>\n",
       "      <td>Focus</td>\n",
       "      <td>1995</td>\n",
       "    </tr>\n",
       "    <tr>\n",
       "      <th>1</th>\n",
       "      <td>M0299X197RUS</td>\n",
       "      <td>RICHARDSON</td>\n",
       "      <td>2</td>\n",
       "      <td>19200.00</td>\n",
       "      <td>Ford</td>\n",
       "      <td>Focus</td>\n",
       "      <td>2005</td>\n",
       "    </tr>\n",
       "    <tr>\n",
       "      <th>2</th>\n",
       "      <td>M0299X197RUS</td>\n",
       "      <td>RICHARDSON</td>\n",
       "      <td>1</td>\n",
       "      <td>9600.00</td>\n",
       "      <td>Ford</td>\n",
       "      <td>Focus</td>\n",
       "      <td>2007</td>\n",
       "    </tr>\n",
       "    <tr>\n",
       "      <th>3</th>\n",
       "      <td>M0299X197RUS</td>\n",
       "      <td>RICHARDSON</td>\n",
       "      <td>2</td>\n",
       "      <td>19200.00</td>\n",
       "      <td>Ford</td>\n",
       "      <td>Focus</td>\n",
       "      <td>1989</td>\n",
       "    </tr>\n",
       "    <tr>\n",
       "      <th>4</th>\n",
       "      <td>83298C154RUS</td>\n",
       "      <td>ROSS</td>\n",
       "      <td>2</td>\n",
       "      <td>8594.59</td>\n",
       "      <td>Ford</td>\n",
       "      <td>Focus</td>\n",
       "      <td>2013</td>\n",
       "    </tr>\n",
       "  </tbody>\n",
       "</table>\n",
       "</div>"
      ],
      "text/plain": [
       "      CarNumber     Surname  Refund    Fines  Make  Model  Year\n",
       "0  M0299X197RUS  RICHARDSON       2 67200.00  Ford  Focus  1995\n",
       "1  M0299X197RUS  RICHARDSON       2 19200.00  Ford  Focus  2005\n",
       "2  M0299X197RUS  RICHARDSON       1  9600.00  Ford  Focus  2007\n",
       "3  M0299X197RUS  RICHARDSON       2 19200.00  Ford  Focus  1989\n",
       "4  83298C154RUS        ROSS       2  8594.59  Ford  Focus  2013"
      ]
     },
     "execution_count": 39,
     "metadata": {},
     "output_type": "execute_result"
    }
   ],
   "source": [
    "res.head()"
   ]
  },
  {
   "cell_type": "markdown",
   "metadata": {},
   "source": [
    "    * the new dataframe should have all the `CarNumber` that exist in both dataframes:"
   ]
  },
  {
   "cell_type": "code",
   "execution_count": 40,
   "metadata": {},
   "outputs": [],
   "source": [
    "res: pd.DataFrame = pd.merge(\n",
    "    owners,\n",
    "    concat_rows,\n",
    "    on=\"CarNumber\",\n",
    "    how=\"outer\",\n",
    ")"
   ]
  },
  {
   "cell_type": "markdown",
   "metadata": {},
   "source": [
    "Check result:"
   ]
  },
  {
   "cell_type": "code",
   "execution_count": 41,
   "metadata": {},
   "outputs": [
    {
     "data": {
      "text/html": [
       "<div>\n",
       "<style scoped>\n",
       "    .dataframe tbody tr th:only-of-type {\n",
       "        vertical-align: middle;\n",
       "    }\n",
       "\n",
       "    .dataframe tbody tr th {\n",
       "        vertical-align: top;\n",
       "    }\n",
       "\n",
       "    .dataframe thead th {\n",
       "        text-align: right;\n",
       "    }\n",
       "</style>\n",
       "<table border=\"1\" class=\"dataframe\">\n",
       "  <thead>\n",
       "    <tr style=\"text-align: right;\">\n",
       "      <th></th>\n",
       "      <th>CarNumber</th>\n",
       "      <th>Surname</th>\n",
       "      <th>Refund</th>\n",
       "      <th>Fines</th>\n",
       "      <th>Make</th>\n",
       "      <th>Model</th>\n",
       "      <th>Year</th>\n",
       "    </tr>\n",
       "  </thead>\n",
       "  <tbody>\n",
       "    <tr>\n",
       "      <th>0</th>\n",
       "      <td>212121212RUS</td>\n",
       "      <td>OBAMA</td>\n",
       "      <td>NaN</td>\n",
       "      <td>NaN</td>\n",
       "      <td>NaN</td>\n",
       "      <td>NaN</td>\n",
       "      <td>NaN</td>\n",
       "    </tr>\n",
       "    <tr>\n",
       "      <th>1</th>\n",
       "      <td>704687163RUS</td>\n",
       "      <td>NaN</td>\n",
       "      <td>2.00</td>\n",
       "      <td>1400.00</td>\n",
       "      <td>Ford</td>\n",
       "      <td>Focus</td>\n",
       "      <td>2014.00</td>\n",
       "    </tr>\n",
       "    <tr>\n",
       "      <th>2</th>\n",
       "      <td>704787163RUS</td>\n",
       "      <td>NaN</td>\n",
       "      <td>2.00</td>\n",
       "      <td>2800.00</td>\n",
       "      <td>Ford</td>\n",
       "      <td>Focus</td>\n",
       "      <td>2005.00</td>\n",
       "    </tr>\n",
       "    <tr>\n",
       "      <th>3</th>\n",
       "      <td>704987163RUS</td>\n",
       "      <td>NaN</td>\n",
       "      <td>2.00</td>\n",
       "      <td>8594.59</td>\n",
       "      <td>Ford</td>\n",
       "      <td>Focus</td>\n",
       "      <td>2014.00</td>\n",
       "    </tr>\n",
       "    <tr>\n",
       "      <th>4</th>\n",
       "      <td>705287163RUS</td>\n",
       "      <td>NaN</td>\n",
       "      <td>2.00</td>\n",
       "      <td>2000.00</td>\n",
       "      <td>Ford</td>\n",
       "      <td>Focus</td>\n",
       "      <td>1990.00</td>\n",
       "    </tr>\n",
       "  </tbody>\n",
       "</table>\n",
       "</div>"
      ],
      "text/plain": [
       "      CarNumber Surname  Refund   Fines  Make  Model    Year\n",
       "0  212121212RUS   OBAMA     NaN     NaN   NaN    NaN     NaN\n",
       "1  704687163RUS     NaN    2.00 1400.00  Ford  Focus 2014.00\n",
       "2  704787163RUS     NaN    2.00 2800.00  Ford  Focus 2005.00\n",
       "3  704987163RUS     NaN    2.00 8594.59  Ford  Focus 2014.00\n",
       "4  705287163RUS     NaN    2.00 2000.00  Ford  Focus 1990.00"
      ]
     },
     "execution_count": 41,
     "metadata": {},
     "output_type": "execute_result"
    }
   ],
   "source": [
    "res.head()"
   ]
  },
  {
   "cell_type": "markdown",
   "metadata": {},
   "source": [
    "    * the new dataframe should have only the `CarNumber` from the `concat_rows` dataframe:"
   ]
  },
  {
   "cell_type": "code",
   "execution_count": 42,
   "metadata": {},
   "outputs": [],
   "source": [
    "res: pd.DataFrame = pd.merge(\n",
    "    owners,\n",
    "    concat_rows,\n",
    "    on=\"CarNumber\",\n",
    "    how=\"right\",\n",
    ")"
   ]
  },
  {
   "cell_type": "markdown",
   "metadata": {},
   "source": [
    "Check result:"
   ]
  },
  {
   "cell_type": "code",
   "execution_count": 43,
   "metadata": {},
   "outputs": [
    {
     "data": {
      "text/html": [
       "<div>\n",
       "<style scoped>\n",
       "    .dataframe tbody tr th:only-of-type {\n",
       "        vertical-align: middle;\n",
       "    }\n",
       "\n",
       "    .dataframe tbody tr th {\n",
       "        vertical-align: top;\n",
       "    }\n",
       "\n",
       "    .dataframe thead th {\n",
       "        text-align: right;\n",
       "    }\n",
       "</style>\n",
       "<table border=\"1\" class=\"dataframe\">\n",
       "  <thead>\n",
       "    <tr style=\"text-align: right;\">\n",
       "      <th></th>\n",
       "      <th>CarNumber</th>\n",
       "      <th>Surname</th>\n",
       "      <th>Refund</th>\n",
       "      <th>Fines</th>\n",
       "      <th>Make</th>\n",
       "      <th>Model</th>\n",
       "      <th>Year</th>\n",
       "    </tr>\n",
       "  </thead>\n",
       "  <tbody>\n",
       "    <tr>\n",
       "      <th>0</th>\n",
       "      <td>Y163O8161RUS</td>\n",
       "      <td>NaN</td>\n",
       "      <td>2</td>\n",
       "      <td>3200.00</td>\n",
       "      <td>Ford</td>\n",
       "      <td>Focus</td>\n",
       "      <td>1989</td>\n",
       "    </tr>\n",
       "    <tr>\n",
       "      <th>1</th>\n",
       "      <td>E432XX77RUS</td>\n",
       "      <td>NaN</td>\n",
       "      <td>1</td>\n",
       "      <td>6500.00</td>\n",
       "      <td>Toyota</td>\n",
       "      <td>Camry</td>\n",
       "      <td>1995</td>\n",
       "    </tr>\n",
       "    <tr>\n",
       "      <th>2</th>\n",
       "      <td>7184TT36RUS</td>\n",
       "      <td>NaN</td>\n",
       "      <td>1</td>\n",
       "      <td>2100.00</td>\n",
       "      <td>Ford</td>\n",
       "      <td>Focus</td>\n",
       "      <td>1984</td>\n",
       "    </tr>\n",
       "    <tr>\n",
       "      <th>3</th>\n",
       "      <td>X582HE161RUS</td>\n",
       "      <td>NaN</td>\n",
       "      <td>2</td>\n",
       "      <td>2000.00</td>\n",
       "      <td>Ford</td>\n",
       "      <td>Focus</td>\n",
       "      <td>2015</td>\n",
       "    </tr>\n",
       "    <tr>\n",
       "      <th>4</th>\n",
       "      <td>92918M178RUS</td>\n",
       "      <td>MORGAN</td>\n",
       "      <td>1</td>\n",
       "      <td>5700.00</td>\n",
       "      <td>Ford</td>\n",
       "      <td>Focus</td>\n",
       "      <td>2014</td>\n",
       "    </tr>\n",
       "  </tbody>\n",
       "</table>\n",
       "</div>"
      ],
      "text/plain": [
       "      CarNumber Surname  Refund   Fines    Make  Model  Year\n",
       "0  Y163O8161RUS     NaN       2 3200.00    Ford  Focus  1989\n",
       "1   E432XX77RUS     NaN       1 6500.00  Toyota  Camry  1995\n",
       "2   7184TT36RUS     NaN       1 2100.00    Ford  Focus  1984\n",
       "3  X582HE161RUS     NaN       2 2000.00    Ford  Focus  2015\n",
       "4  92918M178RUS  MORGAN       1 5700.00    Ford  Focus  2014"
      ]
     },
     "execution_count": 43,
     "metadata": {},
     "output_type": "execute_result"
    }
   ],
   "source": [
    "res.head()"
   ]
  },
  {
   "cell_type": "markdown",
   "metadata": {},
   "source": [
    "    * the new dataframe should have only the `CarNumber` from the `owners` dataframe:"
   ]
  },
  {
   "cell_type": "code",
   "execution_count": 44,
   "metadata": {},
   "outputs": [],
   "source": [
    "res: pd.DataFrame = pd.merge(\n",
    "    owners,\n",
    "    concat_rows,\n",
    "    on=\"CarNumber\",\n",
    "    how=\"left\",\n",
    ")"
   ]
  },
  {
   "cell_type": "markdown",
   "metadata": {},
   "source": [
    "Check result:"
   ]
  },
  {
   "cell_type": "code",
   "execution_count": 45,
   "metadata": {},
   "outputs": [
    {
     "data": {
      "text/html": [
       "<div>\n",
       "<style scoped>\n",
       "    .dataframe tbody tr th:only-of-type {\n",
       "        vertical-align: middle;\n",
       "    }\n",
       "\n",
       "    .dataframe tbody tr th {\n",
       "        vertical-align: top;\n",
       "    }\n",
       "\n",
       "    .dataframe thead th {\n",
       "        text-align: right;\n",
       "    }\n",
       "</style>\n",
       "<table border=\"1\" class=\"dataframe\">\n",
       "  <thead>\n",
       "    <tr style=\"text-align: right;\">\n",
       "      <th></th>\n",
       "      <th>CarNumber</th>\n",
       "      <th>Surname</th>\n",
       "      <th>Refund</th>\n",
       "      <th>Fines</th>\n",
       "      <th>Make</th>\n",
       "      <th>Model</th>\n",
       "      <th>Year</th>\n",
       "    </tr>\n",
       "  </thead>\n",
       "  <tbody>\n",
       "    <tr>\n",
       "      <th>0</th>\n",
       "      <td>M0299X197RUS</td>\n",
       "      <td>RICHARDSON</td>\n",
       "      <td>2.00</td>\n",
       "      <td>67200.00</td>\n",
       "      <td>Ford</td>\n",
       "      <td>Focus</td>\n",
       "      <td>1995.00</td>\n",
       "    </tr>\n",
       "    <tr>\n",
       "      <th>1</th>\n",
       "      <td>M0299X197RUS</td>\n",
       "      <td>RICHARDSON</td>\n",
       "      <td>2.00</td>\n",
       "      <td>19200.00</td>\n",
       "      <td>Ford</td>\n",
       "      <td>Focus</td>\n",
       "      <td>2005.00</td>\n",
       "    </tr>\n",
       "    <tr>\n",
       "      <th>2</th>\n",
       "      <td>M0299X197RUS</td>\n",
       "      <td>RICHARDSON</td>\n",
       "      <td>1.00</td>\n",
       "      <td>9600.00</td>\n",
       "      <td>Ford</td>\n",
       "      <td>Focus</td>\n",
       "      <td>2007.00</td>\n",
       "    </tr>\n",
       "    <tr>\n",
       "      <th>3</th>\n",
       "      <td>M0299X197RUS</td>\n",
       "      <td>RICHARDSON</td>\n",
       "      <td>2.00</td>\n",
       "      <td>19200.00</td>\n",
       "      <td>Ford</td>\n",
       "      <td>Focus</td>\n",
       "      <td>1989.00</td>\n",
       "    </tr>\n",
       "    <tr>\n",
       "      <th>4</th>\n",
       "      <td>83298C154RUS</td>\n",
       "      <td>ROSS</td>\n",
       "      <td>2.00</td>\n",
       "      <td>8594.59</td>\n",
       "      <td>Ford</td>\n",
       "      <td>Focus</td>\n",
       "      <td>2013.00</td>\n",
       "    </tr>\n",
       "  </tbody>\n",
       "</table>\n",
       "</div>"
      ],
      "text/plain": [
       "      CarNumber     Surname  Refund    Fines  Make  Model    Year\n",
       "0  M0299X197RUS  RICHARDSON    2.00 67200.00  Ford  Focus 1995.00\n",
       "1  M0299X197RUS  RICHARDSON    2.00 19200.00  Ford  Focus 2005.00\n",
       "2  M0299X197RUS  RICHARDSON    1.00  9600.00  Ford  Focus 2007.00\n",
       "3  M0299X197RUS  RICHARDSON    2.00 19200.00  Ford  Focus 1989.00\n",
       "4  83298C154RUS        ROSS    2.00  8594.59  Ford  Focus 2013.00"
      ]
     },
     "execution_count": 45,
     "metadata": {},
     "output_type": "execute_result"
    }
   ],
   "source": [
    "res.head()"
   ]
  },
  {
   "cell_type": "markdown",
   "metadata": {},
   "source": [
    "### create a pivot table from the `concat_rows` dataframe:\n"
   ]
  },
  {
   "cell_type": "code",
   "execution_count": 46,
   "metadata": {},
   "outputs": [],
   "source": [
    "pivot_table: pd.DataFrame = pd.pivot_table(\n",
    "    concat_rows,\n",
    "    values=\"Fines\",\n",
    "    index=[\"Make\", \"Model\", ],\n",
    "    columns=\"Year\",\n",
    "    aggfunc=\"sum\",\n",
    "    fill_value=\"nan\",\n",
    ")"
   ]
  },
  {
   "cell_type": "markdown",
   "metadata": {},
   "source": [
    "Check the pivot table:"
   ]
  },
  {
   "cell_type": "code",
   "execution_count": 47,
   "metadata": {},
   "outputs": [
    {
     "name": "stdout",
     "output_type": "stream",
     "text": [
      "Year                   1980      1981      1982      1983      1984      1985  \\\n",
      "Make       Model                                                                \n",
      "Ford       Focus   89194.59 266783.76 107283.76 147289.17 106000.00 307494.59   \n",
      "           Mondeo       nan       nan  46200.00       nan       nan       nan   \n",
      "Skoda      Octavia 13794.59   1900.00   8894.59       nan   1300.00 153594.59   \n",
      "Toyota     Camry   12000.00       nan   1000.00   8594.59   1000.00       nan   \n",
      "           Corolla      nan   6800.00       nan  12800.00       nan   4400.00   \n",
      "Volkswagen Golf    20800.00   8594.59   5000.00    200.00       nan 168000.00   \n",
      "           Jetta        nan   1000.00       nan       nan       nan   9000.00   \n",
      "           Passat    900.00  12500.00       nan   1100.00   8594.59       nan   \n",
      "           Touareg      nan       nan       nan       nan       nan       nan   \n",
      "\n",
      "Year                   1986     1987     1988      1989  ...      2009  \\\n",
      "Make       Model                                         ...             \n",
      "Ford       Focus   69700.00 98189.17 69667.52 200889.17  ... 159894.59   \n",
      "           Mondeo       nan      nan      nan       nan  ...       nan   \n",
      "Skoda      Octavia      nan  6000.00  5100.00   8594.59  ...       nan   \n",
      "Toyota     Camry   19800.00      nan      nan    800.00  ...       nan   \n",
      "           Corolla      nan 54300.00      nan   7800.00  ...   8594.59   \n",
      "Volkswagen Golf         nan   300.00      nan    300.00  ...       nan   \n",
      "           Jetta        nan      nan 46000.00   4000.00  ...       nan   \n",
      "           Passat  16000.00  2000.00  8594.59       nan  ...   3200.00   \n",
      "           Touareg      nan      nan      nan       nan  ...   5800.00   \n",
      "\n",
      "Year                   2010      2011      2012      2013     2014      2015  \\\n",
      "Make       Model                                                               \n",
      "Ford       Focus   96000.00 117194.59 152989.17 297378.35 90378.35 172700.00   \n",
      "           Mondeo       nan       nan       nan  41100.00      nan       nan   \n",
      "Skoda      Octavia  3000.00   3000.00   1700.00  11800.00 18900.00  16394.59   \n",
      "Toyota     Camry   22400.00       nan   7500.00       nan      nan       nan   \n",
      "           Corolla  6000.00   3400.00       nan       nan      nan  30300.00   \n",
      "Volkswagen Golf         nan       nan       nan       nan 13900.00   4600.00   \n",
      "           Jetta        nan       nan       nan       nan      nan       nan   \n",
      "           Passat   9500.00       nan   1000.00   1600.00 15000.00       nan   \n",
      "           Touareg      nan       nan       nan       nan      nan       nan   \n",
      "\n",
      "Year                    2016      2017      2018  \n",
      "Make       Model                                  \n",
      "Ford       Focus   110789.17 114089.17 107800.00  \n",
      "           Mondeo        nan   8600.00       nan  \n",
      "Skoda      Octavia  35700.00   2400.00 153200.00  \n",
      "Toyota     Camry      800.00       nan       nan  \n",
      "           Corolla       nan   6900.00       nan  \n",
      "Volkswagen Golf          nan       nan   1000.00  \n",
      "           Jetta         nan       nan       nan  \n",
      "           Passat        nan       nan       nan  \n",
      "           Touareg       nan       nan       nan  \n",
      "\n",
      "[9 rows x 39 columns]\n"
     ]
    }
   ],
   "source": [
    "print(pivot_table, )"
   ]
  },
  {
   "cell_type": "markdown",
   "metadata": {},
   "source": [
    "* save both the `concat_rows` and `owners` dataframes to `.csv` files without an index:"
   ]
  },
  {
   "cell_type": "markdown",
   "metadata": {},
   "source": [
    "Create a dictionary for saving dataframes to `.csv` files:"
   ]
  },
  {
   "cell_type": "code",
   "execution_count": 48,
   "metadata": {},
   "outputs": [],
   "source": [
    "to_csv_params: dict = {\n",
    "    \"file_path\": \"../../datasets/\",\n",
    "    \"file_one\": \"concat_rows.csv\",\n",
    "    \"file_two\": \"owners.csv\",\n",
    "}"
   ]
  },
  {
   "cell_type": "markdown",
   "metadata": {},
   "source": [
    "Safe *Pandas* dataframes to `.csv` files:"
   ]
  },
  {
   "cell_type": "code",
   "execution_count": 49,
   "metadata": {},
   "outputs": [],
   "source": [
    "concat_rows.to_csv(to_csv_params[\"file_path\"] + to_csv_params[\"file_one\"], index=False, )"
   ]
  },
  {
   "cell_type": "code",
   "execution_count": 50,
   "metadata": {},
   "outputs": [],
   "source": [
    "concat_rows.to_csv(to_csv_params[\"file_path\"] + to_csv_params[\"file_two\"], index=False, )"
   ]
  }
 ],
 "metadata": {
  "kernelspec": {
   "display_name": "Python 3",
   "language": "python",
   "name": "python3"
  },
  "language_info": {
   "codemirror_mode": {
    "name": "ipython",
    "version": 3
   },
   "file_extension": ".py",
   "mimetype": "text/x-python",
   "name": "python",
   "nbconvert_exporter": "python",
   "pygments_lexer": "ipython3",
   "version": "3.12.10"
  }
 },
 "nbformat": 4,
 "nbformat_minor": 2
}
