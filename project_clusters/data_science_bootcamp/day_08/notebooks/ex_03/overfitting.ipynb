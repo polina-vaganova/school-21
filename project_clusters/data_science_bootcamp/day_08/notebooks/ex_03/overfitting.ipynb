{
 "cells": [
  {
   "cell_type": "markdown",
   "id": "4e891055",
   "metadata": {},
   "source": [
    "# **Exercise 03: *overfitting***"
   ]
  },
  {
   "cell_type": "markdown",
   "id": "b16c5f1f",
   "metadata": {},
   "source": [
    "Import necessary *Python* packages:"
   ]
  },
  {
   "cell_type": "code",
   "execution_count": 1,
   "id": "90a86997",
   "metadata": {},
   "outputs": [],
   "source": [
    "import sys"
   ]
  },
  {
   "cell_type": "markdown",
   "id": "4f7a5afc",
   "metadata": {},
   "source": [
    "Add path to own modules:"
   ]
  },
  {
   "cell_type": "code",
   "execution_count": 2,
   "id": "d49f0f40",
   "metadata": {},
   "outputs": [],
   "source": [
    "sys.path.append(\"../../src\", )"
   ]
  },
  {
   "cell_type": "markdown",
   "id": "f2ea1830",
   "metadata": {},
   "source": [
    "Import necessary entities:"
   ]
  },
  {
   "cell_type": "code",
   "execution_count": 3,
   "id": "be1797d3",
   "metadata": {},
   "outputs": [],
   "source": [
    "from numpy import ndarray\n",
    "from sklearn.svm import SVC\n",
    "from joblib import dump, load\n",
    "from warnings import filterwarnings\n",
    "from sklearn.metrics import accuracy_score\n",
    "from sklearn.tree import DecisionTreeClassifier\n",
    "from sklearn.multiclass import OneVsRestClassifier\n",
    "from sklearn.ensemble import RandomForestClassifier\n",
    "from sklearn.model_selection import cross_val_score\n",
    "from sklearn.linear_model import LogisticRegression\n",
    "from sklearn.model_selection import train_test_split\n",
    "from pandas import (\n",
    "    Series,\n",
    "    DataFrame,\n",
    "    read_csv,\n",
    ")"
   ]
  },
  {
   "cell_type": "markdown",
   "id": "d73b4bb7",
   "metadata": {},
   "source": [
    "Import own necessary entities:"
   ]
  },
  {
   "cell_type": "code",
   "execution_count": 4,
   "id": "edddc210",
   "metadata": {},
   "outputs": [],
   "source": [
    "from plot_utils import draw_top_important_features"
   ]
  },
  {
   "cell_type": "markdown",
   "id": "18154474",
   "metadata": {},
   "source": [
    "Ignore all warnings:"
   ]
  },
  {
   "cell_type": "code",
   "execution_count": 5,
   "id": "5b5c1ec4",
   "metadata": {},
   "outputs": [],
   "source": [
    "filterwarnings(\"ignore\", )"
   ]
  },
  {
   "cell_type": "markdown",
   "id": "e901d432",
   "metadata": {},
   "source": [
    "Create a dictionary for `read_csv()` method calling:"
   ]
  },
  {
   "cell_type": "code",
   "execution_count": 6,
   "id": "56adcc31",
   "metadata": {},
   "outputs": [],
   "source": [
    "read_csv_params: dict[str, str] = {\n",
    "    \"file\": \"dayofweek.csv\",\n",
    "    \"file_path\": \"../../data/datasets/\",\n",
    "}"
   ]
  },
  {
   "cell_type": "markdown",
   "id": "ce7a13a5",
   "metadata": {},
   "source": [
    "Read the file `dayofweek.csv` to a *Pandas* dataframe:"
   ]
  },
  {
   "cell_type": "code",
   "execution_count": 7,
   "id": "8957befb",
   "metadata": {},
   "outputs": [],
   "source": [
    "df: DataFrame = read_csv(\n",
    "    read_csv_params[\"file_path\"] + read_csv_params[\"file\"],\n",
    "    index_col=0,\n",
    ")"
   ]
  },
  {
   "cell_type": "markdown",
   "id": "f1096dfd",
   "metadata": {},
   "source": [
    "Check `df` *Pandas* dataframe:"
   ]
  },
  {
   "cell_type": "code",
   "execution_count": 8,
   "id": "16a9ff54",
   "metadata": {},
   "outputs": [
    {
     "data": {
      "text/html": [
       "<div>\n",
       "<style scoped>\n",
       "    .dataframe tbody tr th:only-of-type {\n",
       "        vertical-align: middle;\n",
       "    }\n",
       "\n",
       "    .dataframe tbody tr th {\n",
       "        vertical-align: top;\n",
       "    }\n",
       "\n",
       "    .dataframe thead th {\n",
       "        text-align: right;\n",
       "    }\n",
       "</style>\n",
       "<table border=\"1\" class=\"dataframe\">\n",
       "  <thead>\n",
       "    <tr style=\"text-align: right;\">\n",
       "      <th></th>\n",
       "      <th>uid_user_0</th>\n",
       "      <th>uid_user_1</th>\n",
       "      <th>uid_user_10</th>\n",
       "      <th>uid_user_11</th>\n",
       "      <th>uid_user_12</th>\n",
       "      <th>uid_user_13</th>\n",
       "      <th>uid_user_14</th>\n",
       "      <th>uid_user_15</th>\n",
       "      <th>uid_user_16</th>\n",
       "      <th>uid_user_17</th>\n",
       "      <th>...</th>\n",
       "      <th>labname_laba04</th>\n",
       "      <th>labname_laba04s</th>\n",
       "      <th>labname_laba05</th>\n",
       "      <th>labname_laba06</th>\n",
       "      <th>labname_laba06s</th>\n",
       "      <th>labname_project1</th>\n",
       "      <th>numTrials</th>\n",
       "      <th>hour</th>\n",
       "      <th>dayofweek</th>\n",
       "      <th>naive_prediction</th>\n",
       "    </tr>\n",
       "  </thead>\n",
       "  <tbody>\n",
       "    <tr>\n",
       "      <th>0</th>\n",
       "      <td>0.0</td>\n",
       "      <td>0.0</td>\n",
       "      <td>0.0</td>\n",
       "      <td>0.0</td>\n",
       "      <td>0.0</td>\n",
       "      <td>0.0</td>\n",
       "      <td>0.0</td>\n",
       "      <td>0.0</td>\n",
       "      <td>0.0</td>\n",
       "      <td>0.0</td>\n",
       "      <td>...</td>\n",
       "      <td>0.0</td>\n",
       "      <td>0.0</td>\n",
       "      <td>0.0</td>\n",
       "      <td>0.0</td>\n",
       "      <td>0.0</td>\n",
       "      <td>1.0</td>\n",
       "      <td>-0.788667</td>\n",
       "      <td>-2.562352</td>\n",
       "      <td>4</td>\n",
       "      <td>3</td>\n",
       "    </tr>\n",
       "    <tr>\n",
       "      <th>1</th>\n",
       "      <td>0.0</td>\n",
       "      <td>0.0</td>\n",
       "      <td>0.0</td>\n",
       "      <td>0.0</td>\n",
       "      <td>0.0</td>\n",
       "      <td>0.0</td>\n",
       "      <td>0.0</td>\n",
       "      <td>0.0</td>\n",
       "      <td>0.0</td>\n",
       "      <td>0.0</td>\n",
       "      <td>...</td>\n",
       "      <td>0.0</td>\n",
       "      <td>0.0</td>\n",
       "      <td>0.0</td>\n",
       "      <td>0.0</td>\n",
       "      <td>0.0</td>\n",
       "      <td>1.0</td>\n",
       "      <td>-0.756764</td>\n",
       "      <td>-2.562352</td>\n",
       "      <td>4</td>\n",
       "      <td>3</td>\n",
       "    </tr>\n",
       "    <tr>\n",
       "      <th>2</th>\n",
       "      <td>0.0</td>\n",
       "      <td>0.0</td>\n",
       "      <td>0.0</td>\n",
       "      <td>0.0</td>\n",
       "      <td>0.0</td>\n",
       "      <td>0.0</td>\n",
       "      <td>0.0</td>\n",
       "      <td>0.0</td>\n",
       "      <td>0.0</td>\n",
       "      <td>0.0</td>\n",
       "      <td>...</td>\n",
       "      <td>0.0</td>\n",
       "      <td>0.0</td>\n",
       "      <td>0.0</td>\n",
       "      <td>0.0</td>\n",
       "      <td>0.0</td>\n",
       "      <td>1.0</td>\n",
       "      <td>-0.724861</td>\n",
       "      <td>-2.562352</td>\n",
       "      <td>4</td>\n",
       "      <td>3</td>\n",
       "    </tr>\n",
       "    <tr>\n",
       "      <th>3</th>\n",
       "      <td>0.0</td>\n",
       "      <td>0.0</td>\n",
       "      <td>0.0</td>\n",
       "      <td>0.0</td>\n",
       "      <td>0.0</td>\n",
       "      <td>0.0</td>\n",
       "      <td>0.0</td>\n",
       "      <td>0.0</td>\n",
       "      <td>0.0</td>\n",
       "      <td>0.0</td>\n",
       "      <td>...</td>\n",
       "      <td>0.0</td>\n",
       "      <td>0.0</td>\n",
       "      <td>0.0</td>\n",
       "      <td>0.0</td>\n",
       "      <td>0.0</td>\n",
       "      <td>1.0</td>\n",
       "      <td>-0.692958</td>\n",
       "      <td>-2.562352</td>\n",
       "      <td>4</td>\n",
       "      <td>3</td>\n",
       "    </tr>\n",
       "    <tr>\n",
       "      <th>4</th>\n",
       "      <td>0.0</td>\n",
       "      <td>0.0</td>\n",
       "      <td>0.0</td>\n",
       "      <td>0.0</td>\n",
       "      <td>0.0</td>\n",
       "      <td>0.0</td>\n",
       "      <td>0.0</td>\n",
       "      <td>0.0</td>\n",
       "      <td>0.0</td>\n",
       "      <td>0.0</td>\n",
       "      <td>...</td>\n",
       "      <td>0.0</td>\n",
       "      <td>0.0</td>\n",
       "      <td>0.0</td>\n",
       "      <td>0.0</td>\n",
       "      <td>0.0</td>\n",
       "      <td>1.0</td>\n",
       "      <td>-0.661055</td>\n",
       "      <td>-2.562352</td>\n",
       "      <td>4</td>\n",
       "      <td>3</td>\n",
       "    </tr>\n",
       "  </tbody>\n",
       "</table>\n",
       "<p>5 rows × 45 columns</p>\n",
       "</div>"
      ],
      "text/plain": [
       "   uid_user_0  uid_user_1  uid_user_10  uid_user_11  uid_user_12  uid_user_13  \\\n",
       "0         0.0         0.0          0.0          0.0          0.0          0.0   \n",
       "1         0.0         0.0          0.0          0.0          0.0          0.0   \n",
       "2         0.0         0.0          0.0          0.0          0.0          0.0   \n",
       "3         0.0         0.0          0.0          0.0          0.0          0.0   \n",
       "4         0.0         0.0          0.0          0.0          0.0          0.0   \n",
       "\n",
       "   uid_user_14  uid_user_15  uid_user_16  uid_user_17  ...  labname_laba04  \\\n",
       "0          0.0          0.0          0.0          0.0  ...             0.0   \n",
       "1          0.0          0.0          0.0          0.0  ...             0.0   \n",
       "2          0.0          0.0          0.0          0.0  ...             0.0   \n",
       "3          0.0          0.0          0.0          0.0  ...             0.0   \n",
       "4          0.0          0.0          0.0          0.0  ...             0.0   \n",
       "\n",
       "   labname_laba04s  labname_laba05  labname_laba06  labname_laba06s  \\\n",
       "0              0.0             0.0             0.0              0.0   \n",
       "1              0.0             0.0             0.0              0.0   \n",
       "2              0.0             0.0             0.0              0.0   \n",
       "3              0.0             0.0             0.0              0.0   \n",
       "4              0.0             0.0             0.0              0.0   \n",
       "\n",
       "   labname_project1  numTrials      hour  dayofweek  naive_prediction  \n",
       "0               1.0  -0.788667 -2.562352          4                 3  \n",
       "1               1.0  -0.756764 -2.562352          4                 3  \n",
       "2               1.0  -0.724861 -2.562352          4                 3  \n",
       "3               1.0  -0.692958 -2.562352          4                 3  \n",
       "4               1.0  -0.661055 -2.562352          4                 3  \n",
       "\n",
       "[5 rows x 45 columns]"
      ]
     },
     "execution_count": 8,
     "metadata": {},
     "output_type": "execute_result"
    }
   ],
   "source": [
    "df.head()"
   ]
  },
  {
   "cell_type": "markdown",
   "id": "5d1dfebe",
   "metadata": {},
   "source": [
    "Prepare features and target variables:"
   ]
  },
  {
   "cell_type": "code",
   "execution_count": 9,
   "id": "6d187f6d",
   "metadata": {},
   "outputs": [],
   "source": [
    "X: DataFrame = df.drop(\n",
    "    columns=[\"dayofweek\", \"naive_prediction\", ],\n",
    ")\n",
    "y: Series = df[\"dayofweek\"]"
   ]
  },
  {
   "cell_type": "markdown",
   "id": "5f6c7ef4",
   "metadata": {},
   "source": [
    "Check `X` and `y` variables:"
   ]
  },
  {
   "cell_type": "code",
   "execution_count": 10,
   "id": "bdae73d2",
   "metadata": {},
   "outputs": [
    {
     "data": {
      "text/html": [
       "<div>\n",
       "<style scoped>\n",
       "    .dataframe tbody tr th:only-of-type {\n",
       "        vertical-align: middle;\n",
       "    }\n",
       "\n",
       "    .dataframe tbody tr th {\n",
       "        vertical-align: top;\n",
       "    }\n",
       "\n",
       "    .dataframe thead th {\n",
       "        text-align: right;\n",
       "    }\n",
       "</style>\n",
       "<table border=\"1\" class=\"dataframe\">\n",
       "  <thead>\n",
       "    <tr style=\"text-align: right;\">\n",
       "      <th></th>\n",
       "      <th>uid_user_0</th>\n",
       "      <th>uid_user_1</th>\n",
       "      <th>uid_user_10</th>\n",
       "      <th>uid_user_11</th>\n",
       "      <th>uid_user_12</th>\n",
       "      <th>uid_user_13</th>\n",
       "      <th>uid_user_14</th>\n",
       "      <th>uid_user_15</th>\n",
       "      <th>uid_user_16</th>\n",
       "      <th>uid_user_17</th>\n",
       "      <th>...</th>\n",
       "      <th>labname_lab03s</th>\n",
       "      <th>labname_lab05s</th>\n",
       "      <th>labname_laba04</th>\n",
       "      <th>labname_laba04s</th>\n",
       "      <th>labname_laba05</th>\n",
       "      <th>labname_laba06</th>\n",
       "      <th>labname_laba06s</th>\n",
       "      <th>labname_project1</th>\n",
       "      <th>numTrials</th>\n",
       "      <th>hour</th>\n",
       "    </tr>\n",
       "  </thead>\n",
       "  <tbody>\n",
       "    <tr>\n",
       "      <th>0</th>\n",
       "      <td>0.0</td>\n",
       "      <td>0.0</td>\n",
       "      <td>0.0</td>\n",
       "      <td>0.0</td>\n",
       "      <td>0.0</td>\n",
       "      <td>0.0</td>\n",
       "      <td>0.0</td>\n",
       "      <td>0.0</td>\n",
       "      <td>0.0</td>\n",
       "      <td>0.0</td>\n",
       "      <td>...</td>\n",
       "      <td>0.0</td>\n",
       "      <td>0.0</td>\n",
       "      <td>0.0</td>\n",
       "      <td>0.0</td>\n",
       "      <td>0.0</td>\n",
       "      <td>0.0</td>\n",
       "      <td>0.0</td>\n",
       "      <td>1.0</td>\n",
       "      <td>-0.788667</td>\n",
       "      <td>-2.562352</td>\n",
       "    </tr>\n",
       "    <tr>\n",
       "      <th>1</th>\n",
       "      <td>0.0</td>\n",
       "      <td>0.0</td>\n",
       "      <td>0.0</td>\n",
       "      <td>0.0</td>\n",
       "      <td>0.0</td>\n",
       "      <td>0.0</td>\n",
       "      <td>0.0</td>\n",
       "      <td>0.0</td>\n",
       "      <td>0.0</td>\n",
       "      <td>0.0</td>\n",
       "      <td>...</td>\n",
       "      <td>0.0</td>\n",
       "      <td>0.0</td>\n",
       "      <td>0.0</td>\n",
       "      <td>0.0</td>\n",
       "      <td>0.0</td>\n",
       "      <td>0.0</td>\n",
       "      <td>0.0</td>\n",
       "      <td>1.0</td>\n",
       "      <td>-0.756764</td>\n",
       "      <td>-2.562352</td>\n",
       "    </tr>\n",
       "    <tr>\n",
       "      <th>2</th>\n",
       "      <td>0.0</td>\n",
       "      <td>0.0</td>\n",
       "      <td>0.0</td>\n",
       "      <td>0.0</td>\n",
       "      <td>0.0</td>\n",
       "      <td>0.0</td>\n",
       "      <td>0.0</td>\n",
       "      <td>0.0</td>\n",
       "      <td>0.0</td>\n",
       "      <td>0.0</td>\n",
       "      <td>...</td>\n",
       "      <td>0.0</td>\n",
       "      <td>0.0</td>\n",
       "      <td>0.0</td>\n",
       "      <td>0.0</td>\n",
       "      <td>0.0</td>\n",
       "      <td>0.0</td>\n",
       "      <td>0.0</td>\n",
       "      <td>1.0</td>\n",
       "      <td>-0.724861</td>\n",
       "      <td>-2.562352</td>\n",
       "    </tr>\n",
       "    <tr>\n",
       "      <th>3</th>\n",
       "      <td>0.0</td>\n",
       "      <td>0.0</td>\n",
       "      <td>0.0</td>\n",
       "      <td>0.0</td>\n",
       "      <td>0.0</td>\n",
       "      <td>0.0</td>\n",
       "      <td>0.0</td>\n",
       "      <td>0.0</td>\n",
       "      <td>0.0</td>\n",
       "      <td>0.0</td>\n",
       "      <td>...</td>\n",
       "      <td>0.0</td>\n",
       "      <td>0.0</td>\n",
       "      <td>0.0</td>\n",
       "      <td>0.0</td>\n",
       "      <td>0.0</td>\n",
       "      <td>0.0</td>\n",
       "      <td>0.0</td>\n",
       "      <td>1.0</td>\n",
       "      <td>-0.692958</td>\n",
       "      <td>-2.562352</td>\n",
       "    </tr>\n",
       "    <tr>\n",
       "      <th>4</th>\n",
       "      <td>0.0</td>\n",
       "      <td>0.0</td>\n",
       "      <td>0.0</td>\n",
       "      <td>0.0</td>\n",
       "      <td>0.0</td>\n",
       "      <td>0.0</td>\n",
       "      <td>0.0</td>\n",
       "      <td>0.0</td>\n",
       "      <td>0.0</td>\n",
       "      <td>0.0</td>\n",
       "      <td>...</td>\n",
       "      <td>0.0</td>\n",
       "      <td>0.0</td>\n",
       "      <td>0.0</td>\n",
       "      <td>0.0</td>\n",
       "      <td>0.0</td>\n",
       "      <td>0.0</td>\n",
       "      <td>0.0</td>\n",
       "      <td>1.0</td>\n",
       "      <td>-0.661055</td>\n",
       "      <td>-2.562352</td>\n",
       "    </tr>\n",
       "  </tbody>\n",
       "</table>\n",
       "<p>5 rows × 43 columns</p>\n",
       "</div>"
      ],
      "text/plain": [
       "   uid_user_0  uid_user_1  uid_user_10  uid_user_11  uid_user_12  uid_user_13  \\\n",
       "0         0.0         0.0          0.0          0.0          0.0          0.0   \n",
       "1         0.0         0.0          0.0          0.0          0.0          0.0   \n",
       "2         0.0         0.0          0.0          0.0          0.0          0.0   \n",
       "3         0.0         0.0          0.0          0.0          0.0          0.0   \n",
       "4         0.0         0.0          0.0          0.0          0.0          0.0   \n",
       "\n",
       "   uid_user_14  uid_user_15  uid_user_16  uid_user_17  ...  labname_lab03s  \\\n",
       "0          0.0          0.0          0.0          0.0  ...             0.0   \n",
       "1          0.0          0.0          0.0          0.0  ...             0.0   \n",
       "2          0.0          0.0          0.0          0.0  ...             0.0   \n",
       "3          0.0          0.0          0.0          0.0  ...             0.0   \n",
       "4          0.0          0.0          0.0          0.0  ...             0.0   \n",
       "\n",
       "   labname_lab05s  labname_laba04  labname_laba04s  labname_laba05  \\\n",
       "0             0.0             0.0              0.0             0.0   \n",
       "1             0.0             0.0              0.0             0.0   \n",
       "2             0.0             0.0              0.0             0.0   \n",
       "3             0.0             0.0              0.0             0.0   \n",
       "4             0.0             0.0              0.0             0.0   \n",
       "\n",
       "   labname_laba06  labname_laba06s  labname_project1  numTrials      hour  \n",
       "0             0.0              0.0               1.0  -0.788667 -2.562352  \n",
       "1             0.0              0.0               1.0  -0.756764 -2.562352  \n",
       "2             0.0              0.0               1.0  -0.724861 -2.562352  \n",
       "3             0.0              0.0               1.0  -0.692958 -2.562352  \n",
       "4             0.0              0.0               1.0  -0.661055 -2.562352  \n",
       "\n",
       "[5 rows x 43 columns]"
      ]
     },
     "execution_count": 10,
     "metadata": {},
     "output_type": "execute_result"
    }
   ],
   "source": [
    "X.head()"
   ]
  },
  {
   "cell_type": "code",
   "execution_count": 11,
   "id": "c8e436d8",
   "metadata": {},
   "outputs": [
    {
     "data": {
      "text/plain": [
       "0    4\n",
       "1    4\n",
       "2    4\n",
       "3    4\n",
       "4    4\n",
       "Name: dayofweek, dtype: int64"
      ]
     },
     "execution_count": 11,
     "metadata": {},
     "output_type": "execute_result"
    }
   ],
   "source": [
    "y.head()"
   ]
  },
  {
   "cell_type": "markdown",
   "id": "166541ff",
   "metadata": {},
   "source": [
    "## Using `train_test_split()` with parameters `test_size=0.2`, `random_state=21` get `X_train`, `y_train`, `X_test`, `y_test`:"
   ]
  },
  {
   "cell_type": "code",
   "execution_count": 12,
   "id": "5cd02341",
   "metadata": {},
   "outputs": [],
   "source": [
    "X_train, X_test, y_train, y_test = train_test_split(\n",
    "    X,\n",
    "    y,\n",
    "    test_size=0.2,\n",
    "    random_state=21,\n",
    ")"
   ]
  },
  {
   "cell_type": "markdown",
   "id": "35403bec",
   "metadata": {},
   "source": [
    "Check `X_train`, `X_test`, `y_train`, `y_test` variables:"
   ]
  },
  {
   "cell_type": "code",
   "execution_count": 13,
   "id": "79c75e59",
   "metadata": {},
   "outputs": [
    {
     "data": {
      "text/html": [
       "<div>\n",
       "<style scoped>\n",
       "    .dataframe tbody tr th:only-of-type {\n",
       "        vertical-align: middle;\n",
       "    }\n",
       "\n",
       "    .dataframe tbody tr th {\n",
       "        vertical-align: top;\n",
       "    }\n",
       "\n",
       "    .dataframe thead th {\n",
       "        text-align: right;\n",
       "    }\n",
       "</style>\n",
       "<table border=\"1\" class=\"dataframe\">\n",
       "  <thead>\n",
       "    <tr style=\"text-align: right;\">\n",
       "      <th></th>\n",
       "      <th>uid_user_0</th>\n",
       "      <th>uid_user_1</th>\n",
       "      <th>uid_user_10</th>\n",
       "      <th>uid_user_11</th>\n",
       "      <th>uid_user_12</th>\n",
       "      <th>uid_user_13</th>\n",
       "      <th>uid_user_14</th>\n",
       "      <th>uid_user_15</th>\n",
       "      <th>uid_user_16</th>\n",
       "      <th>uid_user_17</th>\n",
       "      <th>...</th>\n",
       "      <th>labname_lab03s</th>\n",
       "      <th>labname_lab05s</th>\n",
       "      <th>labname_laba04</th>\n",
       "      <th>labname_laba04s</th>\n",
       "      <th>labname_laba05</th>\n",
       "      <th>labname_laba06</th>\n",
       "      <th>labname_laba06s</th>\n",
       "      <th>labname_project1</th>\n",
       "      <th>numTrials</th>\n",
       "      <th>hour</th>\n",
       "    </tr>\n",
       "  </thead>\n",
       "  <tbody>\n",
       "    <tr>\n",
       "      <th>1236</th>\n",
       "      <td>0.0</td>\n",
       "      <td>0.0</td>\n",
       "      <td>0.0</td>\n",
       "      <td>0.0</td>\n",
       "      <td>0.0</td>\n",
       "      <td>0.0</td>\n",
       "      <td>0.0</td>\n",
       "      <td>0.0</td>\n",
       "      <td>0.0</td>\n",
       "      <td>0.0</td>\n",
       "      <td>...</td>\n",
       "      <td>0.0</td>\n",
       "      <td>0.0</td>\n",
       "      <td>0.0</td>\n",
       "      <td>0.0</td>\n",
       "      <td>0.0</td>\n",
       "      <td>0.0</td>\n",
       "      <td>0.0</td>\n",
       "      <td>1.0</td>\n",
       "      <td>0.008912</td>\n",
       "      <td>0.711533</td>\n",
       "    </tr>\n",
       "    <tr>\n",
       "      <th>173</th>\n",
       "      <td>0.0</td>\n",
       "      <td>0.0</td>\n",
       "      <td>0.0</td>\n",
       "      <td>0.0</td>\n",
       "      <td>0.0</td>\n",
       "      <td>0.0</td>\n",
       "      <td>0.0</td>\n",
       "      <td>0.0</td>\n",
       "      <td>0.0</td>\n",
       "      <td>0.0</td>\n",
       "      <td>...</td>\n",
       "      <td>0.0</td>\n",
       "      <td>0.0</td>\n",
       "      <td>1.0</td>\n",
       "      <td>0.0</td>\n",
       "      <td>0.0</td>\n",
       "      <td>0.0</td>\n",
       "      <td>0.0</td>\n",
       "      <td>0.0</td>\n",
       "      <td>-0.310119</td>\n",
       "      <td>-0.223863</td>\n",
       "    </tr>\n",
       "    <tr>\n",
       "      <th>1067</th>\n",
       "      <td>0.0</td>\n",
       "      <td>0.0</td>\n",
       "      <td>0.0</td>\n",
       "      <td>0.0</td>\n",
       "      <td>0.0</td>\n",
       "      <td>0.0</td>\n",
       "      <td>1.0</td>\n",
       "      <td>0.0</td>\n",
       "      <td>0.0</td>\n",
       "      <td>0.0</td>\n",
       "      <td>...</td>\n",
       "      <td>0.0</td>\n",
       "      <td>0.0</td>\n",
       "      <td>0.0</td>\n",
       "      <td>0.0</td>\n",
       "      <td>0.0</td>\n",
       "      <td>0.0</td>\n",
       "      <td>0.0</td>\n",
       "      <td>1.0</td>\n",
       "      <td>0.806492</td>\n",
       "      <td>0.009986</td>\n",
       "    </tr>\n",
       "    <tr>\n",
       "      <th>1584</th>\n",
       "      <td>0.0</td>\n",
       "      <td>0.0</td>\n",
       "      <td>0.0</td>\n",
       "      <td>0.0</td>\n",
       "      <td>0.0</td>\n",
       "      <td>0.0</td>\n",
       "      <td>0.0</td>\n",
       "      <td>0.0</td>\n",
       "      <td>0.0</td>\n",
       "      <td>0.0</td>\n",
       "      <td>...</td>\n",
       "      <td>0.0</td>\n",
       "      <td>0.0</td>\n",
       "      <td>0.0</td>\n",
       "      <td>0.0</td>\n",
       "      <td>0.0</td>\n",
       "      <td>0.0</td>\n",
       "      <td>0.0</td>\n",
       "      <td>1.0</td>\n",
       "      <td>0.104622</td>\n",
       "      <td>-1.393108</td>\n",
       "    </tr>\n",
       "    <tr>\n",
       "      <th>45</th>\n",
       "      <td>0.0</td>\n",
       "      <td>0.0</td>\n",
       "      <td>0.0</td>\n",
       "      <td>0.0</td>\n",
       "      <td>0.0</td>\n",
       "      <td>0.0</td>\n",
       "      <td>1.0</td>\n",
       "      <td>0.0</td>\n",
       "      <td>0.0</td>\n",
       "      <td>0.0</td>\n",
       "      <td>...</td>\n",
       "      <td>0.0</td>\n",
       "      <td>0.0</td>\n",
       "      <td>1.0</td>\n",
       "      <td>0.0</td>\n",
       "      <td>0.0</td>\n",
       "      <td>0.0</td>\n",
       "      <td>0.0</td>\n",
       "      <td>0.0</td>\n",
       "      <td>-0.246313</td>\n",
       "      <td>0.945382</td>\n",
       "    </tr>\n",
       "  </tbody>\n",
       "</table>\n",
       "<p>5 rows × 43 columns</p>\n",
       "</div>"
      ],
      "text/plain": [
       "      uid_user_0  uid_user_1  uid_user_10  uid_user_11  uid_user_12  \\\n",
       "1236         0.0         0.0          0.0          0.0          0.0   \n",
       "173          0.0         0.0          0.0          0.0          0.0   \n",
       "1067         0.0         0.0          0.0          0.0          0.0   \n",
       "1584         0.0         0.0          0.0          0.0          0.0   \n",
       "45           0.0         0.0          0.0          0.0          0.0   \n",
       "\n",
       "      uid_user_13  uid_user_14  uid_user_15  uid_user_16  uid_user_17  ...  \\\n",
       "1236          0.0          0.0          0.0          0.0          0.0  ...   \n",
       "173           0.0          0.0          0.0          0.0          0.0  ...   \n",
       "1067          0.0          1.0          0.0          0.0          0.0  ...   \n",
       "1584          0.0          0.0          0.0          0.0          0.0  ...   \n",
       "45            0.0          1.0          0.0          0.0          0.0  ...   \n",
       "\n",
       "      labname_lab03s  labname_lab05s  labname_laba04  labname_laba04s  \\\n",
       "1236             0.0             0.0             0.0              0.0   \n",
       "173              0.0             0.0             1.0              0.0   \n",
       "1067             0.0             0.0             0.0              0.0   \n",
       "1584             0.0             0.0             0.0              0.0   \n",
       "45               0.0             0.0             1.0              0.0   \n",
       "\n",
       "      labname_laba05  labname_laba06  labname_laba06s  labname_project1  \\\n",
       "1236             0.0             0.0              0.0               1.0   \n",
       "173              0.0             0.0              0.0               0.0   \n",
       "1067             0.0             0.0              0.0               1.0   \n",
       "1584             0.0             0.0              0.0               1.0   \n",
       "45               0.0             0.0              0.0               0.0   \n",
       "\n",
       "      numTrials      hour  \n",
       "1236   0.008912  0.711533  \n",
       "173   -0.310119 -0.223863  \n",
       "1067   0.806492  0.009986  \n",
       "1584   0.104622 -1.393108  \n",
       "45    -0.246313  0.945382  \n",
       "\n",
       "[5 rows x 43 columns]"
      ]
     },
     "execution_count": 13,
     "metadata": {},
     "output_type": "execute_result"
    }
   ],
   "source": [
    "X_train.head()"
   ]
  },
  {
   "cell_type": "code",
   "execution_count": 14,
   "id": "b525ae4f",
   "metadata": {},
   "outputs": [
    {
     "data": {
      "text/html": [
       "<div>\n",
       "<style scoped>\n",
       "    .dataframe tbody tr th:only-of-type {\n",
       "        vertical-align: middle;\n",
       "    }\n",
       "\n",
       "    .dataframe tbody tr th {\n",
       "        vertical-align: top;\n",
       "    }\n",
       "\n",
       "    .dataframe thead th {\n",
       "        text-align: right;\n",
       "    }\n",
       "</style>\n",
       "<table border=\"1\" class=\"dataframe\">\n",
       "  <thead>\n",
       "    <tr style=\"text-align: right;\">\n",
       "      <th></th>\n",
       "      <th>uid_user_0</th>\n",
       "      <th>uid_user_1</th>\n",
       "      <th>uid_user_10</th>\n",
       "      <th>uid_user_11</th>\n",
       "      <th>uid_user_12</th>\n",
       "      <th>uid_user_13</th>\n",
       "      <th>uid_user_14</th>\n",
       "      <th>uid_user_15</th>\n",
       "      <th>uid_user_16</th>\n",
       "      <th>uid_user_17</th>\n",
       "      <th>...</th>\n",
       "      <th>labname_lab03s</th>\n",
       "      <th>labname_lab05s</th>\n",
       "      <th>labname_laba04</th>\n",
       "      <th>labname_laba04s</th>\n",
       "      <th>labname_laba05</th>\n",
       "      <th>labname_laba06</th>\n",
       "      <th>labname_laba06s</th>\n",
       "      <th>labname_project1</th>\n",
       "      <th>numTrials</th>\n",
       "      <th>hour</th>\n",
       "    </tr>\n",
       "  </thead>\n",
       "  <tbody>\n",
       "    <tr>\n",
       "      <th>12</th>\n",
       "      <td>0.0</td>\n",
       "      <td>0.0</td>\n",
       "      <td>0.0</td>\n",
       "      <td>0.0</td>\n",
       "      <td>0.0</td>\n",
       "      <td>0.0</td>\n",
       "      <td>0.0</td>\n",
       "      <td>0.0</td>\n",
       "      <td>0.0</td>\n",
       "      <td>0.0</td>\n",
       "      <td>...</td>\n",
       "      <td>0.0</td>\n",
       "      <td>0.0</td>\n",
       "      <td>0.0</td>\n",
       "      <td>1.0</td>\n",
       "      <td>0.0</td>\n",
       "      <td>0.0</td>\n",
       "      <td>0.0</td>\n",
       "      <td>0.0</td>\n",
       "      <td>-0.724861</td>\n",
       "      <td>-0.925410</td>\n",
       "    </tr>\n",
       "    <tr>\n",
       "      <th>1520</th>\n",
       "      <td>0.0</td>\n",
       "      <td>1.0</td>\n",
       "      <td>0.0</td>\n",
       "      <td>0.0</td>\n",
       "      <td>0.0</td>\n",
       "      <td>0.0</td>\n",
       "      <td>0.0</td>\n",
       "      <td>0.0</td>\n",
       "      <td>0.0</td>\n",
       "      <td>0.0</td>\n",
       "      <td>...</td>\n",
       "      <td>0.0</td>\n",
       "      <td>0.0</td>\n",
       "      <td>0.0</td>\n",
       "      <td>0.0</td>\n",
       "      <td>0.0</td>\n",
       "      <td>0.0</td>\n",
       "      <td>0.0</td>\n",
       "      <td>1.0</td>\n",
       "      <td>-0.724861</td>\n",
       "      <td>0.945382</td>\n",
       "    </tr>\n",
       "    <tr>\n",
       "      <th>500</th>\n",
       "      <td>0.0</td>\n",
       "      <td>0.0</td>\n",
       "      <td>0.0</td>\n",
       "      <td>0.0</td>\n",
       "      <td>0.0</td>\n",
       "      <td>0.0</td>\n",
       "      <td>0.0</td>\n",
       "      <td>0.0</td>\n",
       "      <td>0.0</td>\n",
       "      <td>0.0</td>\n",
       "      <td>...</td>\n",
       "      <td>0.0</td>\n",
       "      <td>0.0</td>\n",
       "      <td>0.0</td>\n",
       "      <td>0.0</td>\n",
       "      <td>1.0</td>\n",
       "      <td>0.0</td>\n",
       "      <td>0.0</td>\n",
       "      <td>0.0</td>\n",
       "      <td>-0.756764</td>\n",
       "      <td>-0.457712</td>\n",
       "    </tr>\n",
       "    <tr>\n",
       "      <th>323</th>\n",
       "      <td>0.0</td>\n",
       "      <td>0.0</td>\n",
       "      <td>0.0</td>\n",
       "      <td>0.0</td>\n",
       "      <td>0.0</td>\n",
       "      <td>0.0</td>\n",
       "      <td>0.0</td>\n",
       "      <td>0.0</td>\n",
       "      <td>0.0</td>\n",
       "      <td>0.0</td>\n",
       "      <td>...</td>\n",
       "      <td>0.0</td>\n",
       "      <td>0.0</td>\n",
       "      <td>0.0</td>\n",
       "      <td>1.0</td>\n",
       "      <td>0.0</td>\n",
       "      <td>0.0</td>\n",
       "      <td>0.0</td>\n",
       "      <td>0.0</td>\n",
       "      <td>-0.629151</td>\n",
       "      <td>0.945382</td>\n",
       "    </tr>\n",
       "    <tr>\n",
       "      <th>142</th>\n",
       "      <td>0.0</td>\n",
       "      <td>0.0</td>\n",
       "      <td>0.0</td>\n",
       "      <td>0.0</td>\n",
       "      <td>0.0</td>\n",
       "      <td>0.0</td>\n",
       "      <td>0.0</td>\n",
       "      <td>0.0</td>\n",
       "      <td>0.0</td>\n",
       "      <td>0.0</td>\n",
       "      <td>...</td>\n",
       "      <td>0.0</td>\n",
       "      <td>0.0</td>\n",
       "      <td>0.0</td>\n",
       "      <td>0.0</td>\n",
       "      <td>0.0</td>\n",
       "      <td>0.0</td>\n",
       "      <td>0.0</td>\n",
       "      <td>1.0</td>\n",
       "      <td>-0.086797</td>\n",
       "      <td>0.243835</td>\n",
       "    </tr>\n",
       "  </tbody>\n",
       "</table>\n",
       "<p>5 rows × 43 columns</p>\n",
       "</div>"
      ],
      "text/plain": [
       "      uid_user_0  uid_user_1  uid_user_10  uid_user_11  uid_user_12  \\\n",
       "12           0.0         0.0          0.0          0.0          0.0   \n",
       "1520         0.0         1.0          0.0          0.0          0.0   \n",
       "500          0.0         0.0          0.0          0.0          0.0   \n",
       "323          0.0         0.0          0.0          0.0          0.0   \n",
       "142          0.0         0.0          0.0          0.0          0.0   \n",
       "\n",
       "      uid_user_13  uid_user_14  uid_user_15  uid_user_16  uid_user_17  ...  \\\n",
       "12            0.0          0.0          0.0          0.0          0.0  ...   \n",
       "1520          0.0          0.0          0.0          0.0          0.0  ...   \n",
       "500           0.0          0.0          0.0          0.0          0.0  ...   \n",
       "323           0.0          0.0          0.0          0.0          0.0  ...   \n",
       "142           0.0          0.0          0.0          0.0          0.0  ...   \n",
       "\n",
       "      labname_lab03s  labname_lab05s  labname_laba04  labname_laba04s  \\\n",
       "12               0.0             0.0             0.0              1.0   \n",
       "1520             0.0             0.0             0.0              0.0   \n",
       "500              0.0             0.0             0.0              0.0   \n",
       "323              0.0             0.0             0.0              1.0   \n",
       "142              0.0             0.0             0.0              0.0   \n",
       "\n",
       "      labname_laba05  labname_laba06  labname_laba06s  labname_project1  \\\n",
       "12               0.0             0.0              0.0               0.0   \n",
       "1520             0.0             0.0              0.0               1.0   \n",
       "500              1.0             0.0              0.0               0.0   \n",
       "323              0.0             0.0              0.0               0.0   \n",
       "142              0.0             0.0              0.0               1.0   \n",
       "\n",
       "      numTrials      hour  \n",
       "12    -0.724861 -0.925410  \n",
       "1520  -0.724861  0.945382  \n",
       "500   -0.756764 -0.457712  \n",
       "323   -0.629151  0.945382  \n",
       "142   -0.086797  0.243835  \n",
       "\n",
       "[5 rows x 43 columns]"
      ]
     },
     "execution_count": 14,
     "metadata": {},
     "output_type": "execute_result"
    }
   ],
   "source": [
    "X_test.head()"
   ]
  },
  {
   "cell_type": "code",
   "execution_count": 15,
   "id": "d0f4a3ae",
   "metadata": {},
   "outputs": [
    {
     "data": {
      "text/plain": [
       "1236    2\n",
       "173     5\n",
       "1067    1\n",
       "1584    4\n",
       "45      5\n",
       "Name: dayofweek, dtype: int64"
      ]
     },
     "execution_count": 15,
     "metadata": {},
     "output_type": "execute_result"
    }
   ],
   "source": [
    "y_train.head()"
   ]
  },
  {
   "cell_type": "code",
   "execution_count": 16,
   "id": "0e5005f9",
   "metadata": {},
   "outputs": [
    {
     "data": {
      "text/plain": [
       "12      4\n",
       "1520    3\n",
       "500     5\n",
       "323     6\n",
       "142     4\n",
       "Name: dayofweek, dtype: int64"
      ]
     },
     "execution_count": 16,
     "metadata": {},
     "output_type": "execute_result"
    }
   ],
   "source": [
    "y_test.head()"
   ]
  },
  {
   "cell_type": "markdown",
   "id": "3a72e50f",
   "metadata": {},
   "source": [
    "## Check the distribution of classes is similar in train and test:"
   ]
  },
  {
   "cell_type": "code",
   "execution_count": 17,
   "id": "4d7333f6",
   "metadata": {},
   "outputs": [
    {
     "data": {
      "image/png": "[encoded data removed]",
      "text/plain": [
       "<Figure size 1400x600 with 1 Axes>"
      ]
     },
     "metadata": {},
     "output_type": "display_data"
    }
   ],
   "source": [
    "DataFrame({\n",
    "    \"train target\": y_train.value_counts(normalize=True, ),\n",
    "    \"test target\": y_test.value_counts(normalize=True, ),\n",
    "}, ).plot(\n",
    "    kind=\"bar\",\n",
    "    title=\"Distribution of train and test targets\",\n",
    "    figsize=(14, 6, ),\n",
    "    rot=0,\n",
    ");"
   ]
  },
  {
   "cell_type": "markdown",
   "id": "648f2c63",
   "metadata": {},
   "source": [
    "## Add the parameter `stratify=` and check the distribution again:"
   ]
  },
  {
   "cell_type": "code",
   "execution_count": 18,
   "id": "0d8bbf15",
   "metadata": {},
   "outputs": [],
   "source": [
    "X_train, X_test, y_train, y_test = train_test_split(\n",
    "    X,\n",
    "    y,\n",
    "    stratify=y,\n",
    "    test_size=0.2,\n",
    "    random_state=21,\n",
    ")"
   ]
  },
  {
   "cell_type": "markdown",
   "id": "284ff6ab",
   "metadata": {},
   "source": [
    "Check `X_train`, `X_test`, `y_train`, `y_test` variables:"
   ]
  },
  {
   "cell_type": "code",
   "execution_count": 19,
   "id": "b0665da2",
   "metadata": {},
   "outputs": [
    {
     "data": {
      "text/html": [
       "<div>\n",
       "<style scoped>\n",
       "    .dataframe tbody tr th:only-of-type {\n",
       "        vertical-align: middle;\n",
       "    }\n",
       "\n",
       "    .dataframe tbody tr th {\n",
       "        vertical-align: top;\n",
       "    }\n",
       "\n",
       "    .dataframe thead th {\n",
       "        text-align: right;\n",
       "    }\n",
       "</style>\n",
       "<table border=\"1\" class=\"dataframe\">\n",
       "  <thead>\n",
       "    <tr style=\"text-align: right;\">\n",
       "      <th></th>\n",
       "      <th>uid_user_0</th>\n",
       "      <th>uid_user_1</th>\n",
       "      <th>uid_user_10</th>\n",
       "      <th>uid_user_11</th>\n",
       "      <th>uid_user_12</th>\n",
       "      <th>uid_user_13</th>\n",
       "      <th>uid_user_14</th>\n",
       "      <th>uid_user_15</th>\n",
       "      <th>uid_user_16</th>\n",
       "      <th>uid_user_17</th>\n",
       "      <th>...</th>\n",
       "      <th>labname_lab03s</th>\n",
       "      <th>labname_lab05s</th>\n",
       "      <th>labname_laba04</th>\n",
       "      <th>labname_laba04s</th>\n",
       "      <th>labname_laba05</th>\n",
       "      <th>labname_laba06</th>\n",
       "      <th>labname_laba06s</th>\n",
       "      <th>labname_project1</th>\n",
       "      <th>numTrials</th>\n",
       "      <th>hour</th>\n",
       "    </tr>\n",
       "  </thead>\n",
       "  <tbody>\n",
       "    <tr>\n",
       "      <th>860</th>\n",
       "      <td>0.0</td>\n",
       "      <td>0.0</td>\n",
       "      <td>0.0</td>\n",
       "      <td>0.0</td>\n",
       "      <td>0.0</td>\n",
       "      <td>0.0</td>\n",
       "      <td>0.0</td>\n",
       "      <td>0.0</td>\n",
       "      <td>0.0</td>\n",
       "      <td>0.0</td>\n",
       "      <td>...</td>\n",
       "      <td>0.0</td>\n",
       "      <td>0.0</td>\n",
       "      <td>0.0</td>\n",
       "      <td>0.0</td>\n",
       "      <td>0.0</td>\n",
       "      <td>0.0</td>\n",
       "      <td>0.0</td>\n",
       "      <td>1.0</td>\n",
       "      <td>-0.724861</td>\n",
       "      <td>-0.691561</td>\n",
       "    </tr>\n",
       "    <tr>\n",
       "      <th>385</th>\n",
       "      <td>0.0</td>\n",
       "      <td>0.0</td>\n",
       "      <td>0.0</td>\n",
       "      <td>0.0</td>\n",
       "      <td>0.0</td>\n",
       "      <td>0.0</td>\n",
       "      <td>0.0</td>\n",
       "      <td>0.0</td>\n",
       "      <td>0.0</td>\n",
       "      <td>0.0</td>\n",
       "      <td>...</td>\n",
       "      <td>0.0</td>\n",
       "      <td>0.0</td>\n",
       "      <td>0.0</td>\n",
       "      <td>0.0</td>\n",
       "      <td>1.0</td>\n",
       "      <td>0.0</td>\n",
       "      <td>0.0</td>\n",
       "      <td>0.0</td>\n",
       "      <td>-0.629151</td>\n",
       "      <td>-1.159259</td>\n",
       "    </tr>\n",
       "    <tr>\n",
       "      <th>422</th>\n",
       "      <td>0.0</td>\n",
       "      <td>0.0</td>\n",
       "      <td>0.0</td>\n",
       "      <td>0.0</td>\n",
       "      <td>0.0</td>\n",
       "      <td>0.0</td>\n",
       "      <td>0.0</td>\n",
       "      <td>0.0</td>\n",
       "      <td>0.0</td>\n",
       "      <td>1.0</td>\n",
       "      <td>...</td>\n",
       "      <td>0.0</td>\n",
       "      <td>1.0</td>\n",
       "      <td>0.0</td>\n",
       "      <td>0.0</td>\n",
       "      <td>0.0</td>\n",
       "      <td>0.0</td>\n",
       "      <td>0.0</td>\n",
       "      <td>0.0</td>\n",
       "      <td>-0.788667</td>\n",
       "      <td>-1.393108</td>\n",
       "    </tr>\n",
       "    <tr>\n",
       "      <th>326</th>\n",
       "      <td>0.0</td>\n",
       "      <td>0.0</td>\n",
       "      <td>0.0</td>\n",
       "      <td>0.0</td>\n",
       "      <td>0.0</td>\n",
       "      <td>0.0</td>\n",
       "      <td>0.0</td>\n",
       "      <td>0.0</td>\n",
       "      <td>1.0</td>\n",
       "      <td>0.0</td>\n",
       "      <td>...</td>\n",
       "      <td>0.0</td>\n",
       "      <td>0.0</td>\n",
       "      <td>1.0</td>\n",
       "      <td>0.0</td>\n",
       "      <td>0.0</td>\n",
       "      <td>0.0</td>\n",
       "      <td>0.0</td>\n",
       "      <td>0.0</td>\n",
       "      <td>-0.533442</td>\n",
       "      <td>0.945382</td>\n",
       "    </tr>\n",
       "    <tr>\n",
       "      <th>714</th>\n",
       "      <td>0.0</td>\n",
       "      <td>0.0</td>\n",
       "      <td>0.0</td>\n",
       "      <td>0.0</td>\n",
       "      <td>0.0</td>\n",
       "      <td>0.0</td>\n",
       "      <td>0.0</td>\n",
       "      <td>0.0</td>\n",
       "      <td>0.0</td>\n",
       "      <td>0.0</td>\n",
       "      <td>...</td>\n",
       "      <td>0.0</td>\n",
       "      <td>0.0</td>\n",
       "      <td>0.0</td>\n",
       "      <td>0.0</td>\n",
       "      <td>0.0</td>\n",
       "      <td>0.0</td>\n",
       "      <td>0.0</td>\n",
       "      <td>1.0</td>\n",
       "      <td>0.678880</td>\n",
       "      <td>-0.925410</td>\n",
       "    </tr>\n",
       "  </tbody>\n",
       "</table>\n",
       "<p>5 rows × 43 columns</p>\n",
       "</div>"
      ],
      "text/plain": [
       "     uid_user_0  uid_user_1  uid_user_10  uid_user_11  uid_user_12  \\\n",
       "860         0.0         0.0          0.0          0.0          0.0   \n",
       "385         0.0         0.0          0.0          0.0          0.0   \n",
       "422         0.0         0.0          0.0          0.0          0.0   \n",
       "326         0.0         0.0          0.0          0.0          0.0   \n",
       "714         0.0         0.0          0.0          0.0          0.0   \n",
       "\n",
       "     uid_user_13  uid_user_14  uid_user_15  uid_user_16  uid_user_17  ...  \\\n",
       "860          0.0          0.0          0.0          0.0          0.0  ...   \n",
       "385          0.0          0.0          0.0          0.0          0.0  ...   \n",
       "422          0.0          0.0          0.0          0.0          1.0  ...   \n",
       "326          0.0          0.0          0.0          1.0          0.0  ...   \n",
       "714          0.0          0.0          0.0          0.0          0.0  ...   \n",
       "\n",
       "     labname_lab03s  labname_lab05s  labname_laba04  labname_laba04s  \\\n",
       "860             0.0             0.0             0.0              0.0   \n",
       "385             0.0             0.0             0.0              0.0   \n",
       "422             0.0             1.0             0.0              0.0   \n",
       "326             0.0             0.0             1.0              0.0   \n",
       "714             0.0             0.0             0.0              0.0   \n",
       "\n",
       "     labname_laba05  labname_laba06  labname_laba06s  labname_project1  \\\n",
       "860             0.0             0.0              0.0               1.0   \n",
       "385             1.0             0.0              0.0               0.0   \n",
       "422             0.0             0.0              0.0               0.0   \n",
       "326             0.0             0.0              0.0               0.0   \n",
       "714             0.0             0.0              0.0               1.0   \n",
       "\n",
       "     numTrials      hour  \n",
       "860  -0.724861 -0.691561  \n",
       "385  -0.629151 -1.159259  \n",
       "422  -0.788667 -1.393108  \n",
       "326  -0.533442  0.945382  \n",
       "714   0.678880 -0.925410  \n",
       "\n",
       "[5 rows x 43 columns]"
      ]
     },
     "execution_count": 19,
     "metadata": {},
     "output_type": "execute_result"
    }
   ],
   "source": [
    "X_train.head()"
   ]
  },
  {
   "cell_type": "code",
   "execution_count": 20,
   "id": "25be821d",
   "metadata": {},
   "outputs": [
    {
     "data": {
      "text/html": [
       "<div>\n",
       "<style scoped>\n",
       "    .dataframe tbody tr th:only-of-type {\n",
       "        vertical-align: middle;\n",
       "    }\n",
       "\n",
       "    .dataframe tbody tr th {\n",
       "        vertical-align: top;\n",
       "    }\n",
       "\n",
       "    .dataframe thead th {\n",
       "        text-align: right;\n",
       "    }\n",
       "</style>\n",
       "<table border=\"1\" class=\"dataframe\">\n",
       "  <thead>\n",
       "    <tr style=\"text-align: right;\">\n",
       "      <th></th>\n",
       "      <th>uid_user_0</th>\n",
       "      <th>uid_user_1</th>\n",
       "      <th>uid_user_10</th>\n",
       "      <th>uid_user_11</th>\n",
       "      <th>uid_user_12</th>\n",
       "      <th>uid_user_13</th>\n",
       "      <th>uid_user_14</th>\n",
       "      <th>uid_user_15</th>\n",
       "      <th>uid_user_16</th>\n",
       "      <th>uid_user_17</th>\n",
       "      <th>...</th>\n",
       "      <th>labname_lab03s</th>\n",
       "      <th>labname_lab05s</th>\n",
       "      <th>labname_laba04</th>\n",
       "      <th>labname_laba04s</th>\n",
       "      <th>labname_laba05</th>\n",
       "      <th>labname_laba06</th>\n",
       "      <th>labname_laba06s</th>\n",
       "      <th>labname_project1</th>\n",
       "      <th>numTrials</th>\n",
       "      <th>hour</th>\n",
       "    </tr>\n",
       "  </thead>\n",
       "  <tbody>\n",
       "    <tr>\n",
       "      <th>1087</th>\n",
       "      <td>0.0</td>\n",
       "      <td>0.0</td>\n",
       "      <td>0.0</td>\n",
       "      <td>0.0</td>\n",
       "      <td>0.0</td>\n",
       "      <td>0.0</td>\n",
       "      <td>1.0</td>\n",
       "      <td>0.0</td>\n",
       "      <td>0.0</td>\n",
       "      <td>0.0</td>\n",
       "      <td>...</td>\n",
       "      <td>0.0</td>\n",
       "      <td>0.0</td>\n",
       "      <td>0.0</td>\n",
       "      <td>0.0</td>\n",
       "      <td>0.0</td>\n",
       "      <td>0.0</td>\n",
       "      <td>0.0</td>\n",
       "      <td>1.0</td>\n",
       "      <td>1.316943</td>\n",
       "      <td>0.243835</td>\n",
       "    </tr>\n",
       "    <tr>\n",
       "      <th>16</th>\n",
       "      <td>0.0</td>\n",
       "      <td>0.0</td>\n",
       "      <td>0.0</td>\n",
       "      <td>0.0</td>\n",
       "      <td>0.0</td>\n",
       "      <td>0.0</td>\n",
       "      <td>0.0</td>\n",
       "      <td>0.0</td>\n",
       "      <td>0.0</td>\n",
       "      <td>0.0</td>\n",
       "      <td>...</td>\n",
       "      <td>0.0</td>\n",
       "      <td>0.0</td>\n",
       "      <td>0.0</td>\n",
       "      <td>1.0</td>\n",
       "      <td>0.0</td>\n",
       "      <td>0.0</td>\n",
       "      <td>0.0</td>\n",
       "      <td>0.0</td>\n",
       "      <td>-0.788667</td>\n",
       "      <td>-0.691561</td>\n",
       "    </tr>\n",
       "    <tr>\n",
       "      <th>563</th>\n",
       "      <td>0.0</td>\n",
       "      <td>0.0</td>\n",
       "      <td>0.0</td>\n",
       "      <td>0.0</td>\n",
       "      <td>1.0</td>\n",
       "      <td>0.0</td>\n",
       "      <td>0.0</td>\n",
       "      <td>0.0</td>\n",
       "      <td>0.0</td>\n",
       "      <td>0.0</td>\n",
       "      <td>...</td>\n",
       "      <td>0.0</td>\n",
       "      <td>0.0</td>\n",
       "      <td>0.0</td>\n",
       "      <td>0.0</td>\n",
       "      <td>1.0</td>\n",
       "      <td>0.0</td>\n",
       "      <td>0.0</td>\n",
       "      <td>0.0</td>\n",
       "      <td>-0.373926</td>\n",
       "      <td>-1.393108</td>\n",
       "    </tr>\n",
       "    <tr>\n",
       "      <th>1381</th>\n",
       "      <td>0.0</td>\n",
       "      <td>0.0</td>\n",
       "      <td>0.0</td>\n",
       "      <td>0.0</td>\n",
       "      <td>0.0</td>\n",
       "      <td>0.0</td>\n",
       "      <td>0.0</td>\n",
       "      <td>0.0</td>\n",
       "      <td>0.0</td>\n",
       "      <td>0.0</td>\n",
       "      <td>...</td>\n",
       "      <td>0.0</td>\n",
       "      <td>0.0</td>\n",
       "      <td>0.0</td>\n",
       "      <td>0.0</td>\n",
       "      <td>0.0</td>\n",
       "      <td>0.0</td>\n",
       "      <td>0.0</td>\n",
       "      <td>1.0</td>\n",
       "      <td>-0.182507</td>\n",
       "      <td>-0.223863</td>\n",
       "    </tr>\n",
       "    <tr>\n",
       "      <th>1199</th>\n",
       "      <td>0.0</td>\n",
       "      <td>0.0</td>\n",
       "      <td>0.0</td>\n",
       "      <td>0.0</td>\n",
       "      <td>0.0</td>\n",
       "      <td>0.0</td>\n",
       "      <td>0.0</td>\n",
       "      <td>0.0</td>\n",
       "      <td>0.0</td>\n",
       "      <td>0.0</td>\n",
       "      <td>...</td>\n",
       "      <td>0.0</td>\n",
       "      <td>0.0</td>\n",
       "      <td>0.0</td>\n",
       "      <td>0.0</td>\n",
       "      <td>0.0</td>\n",
       "      <td>0.0</td>\n",
       "      <td>0.0</td>\n",
       "      <td>1.0</td>\n",
       "      <td>-0.533442</td>\n",
       "      <td>-0.691561</td>\n",
       "    </tr>\n",
       "  </tbody>\n",
       "</table>\n",
       "<p>5 rows × 43 columns</p>\n",
       "</div>"
      ],
      "text/plain": [
       "      uid_user_0  uid_user_1  uid_user_10  uid_user_11  uid_user_12  \\\n",
       "1087         0.0         0.0          0.0          0.0          0.0   \n",
       "16           0.0         0.0          0.0          0.0          0.0   \n",
       "563          0.0         0.0          0.0          0.0          1.0   \n",
       "1381         0.0         0.0          0.0          0.0          0.0   \n",
       "1199         0.0         0.0          0.0          0.0          0.0   \n",
       "\n",
       "      uid_user_13  uid_user_14  uid_user_15  uid_user_16  uid_user_17  ...  \\\n",
       "1087          0.0          1.0          0.0          0.0          0.0  ...   \n",
       "16            0.0          0.0          0.0          0.0          0.0  ...   \n",
       "563           0.0          0.0          0.0          0.0          0.0  ...   \n",
       "1381          0.0          0.0          0.0          0.0          0.0  ...   \n",
       "1199          0.0          0.0          0.0          0.0          0.0  ...   \n",
       "\n",
       "      labname_lab03s  labname_lab05s  labname_laba04  labname_laba04s  \\\n",
       "1087             0.0             0.0             0.0              0.0   \n",
       "16               0.0             0.0             0.0              1.0   \n",
       "563              0.0             0.0             0.0              0.0   \n",
       "1381             0.0             0.0             0.0              0.0   \n",
       "1199             0.0             0.0             0.0              0.0   \n",
       "\n",
       "      labname_laba05  labname_laba06  labname_laba06s  labname_project1  \\\n",
       "1087             0.0             0.0              0.0               1.0   \n",
       "16               0.0             0.0              0.0               0.0   \n",
       "563              1.0             0.0              0.0               0.0   \n",
       "1381             0.0             0.0              0.0               1.0   \n",
       "1199             0.0             0.0              0.0               1.0   \n",
       "\n",
       "      numTrials      hour  \n",
       "1087   1.316943  0.243835  \n",
       "16    -0.788667 -0.691561  \n",
       "563   -0.373926 -1.393108  \n",
       "1381  -0.182507 -0.223863  \n",
       "1199  -0.533442 -0.691561  \n",
       "\n",
       "[5 rows x 43 columns]"
      ]
     },
     "execution_count": 20,
     "metadata": {},
     "output_type": "execute_result"
    }
   ],
   "source": [
    "X_test.head()"
   ]
  },
  {
   "cell_type": "code",
   "execution_count": 21,
   "id": "31ac0c0e",
   "metadata": {},
   "outputs": [
    {
     "data": {
      "text/plain": [
       "860    6\n",
       "385    4\n",
       "422    5\n",
       "326    6\n",
       "714    1\n",
       "Name: dayofweek, dtype: int64"
      ]
     },
     "execution_count": 21,
     "metadata": {},
     "output_type": "execute_result"
    }
   ],
   "source": [
    "y_train.head()"
   ]
  },
  {
   "cell_type": "code",
   "execution_count": 22,
   "id": "5745b82a",
   "metadata": {},
   "outputs": [
    {
     "data": {
      "text/plain": [
       "1087    1\n",
       "16      5\n",
       "563     6\n",
       "1381    3\n",
       "1199    2\n",
       "Name: dayofweek, dtype: int64"
      ]
     },
     "execution_count": 22,
     "metadata": {},
     "output_type": "execute_result"
    }
   ],
   "source": [
    "y_test.head()"
   ]
  },
  {
   "cell_type": "markdown",
   "id": "d7da6b1a",
   "metadata": {},
   "source": [
    "Check `target` distribution again:"
   ]
  },
  {
   "cell_type": "code",
   "execution_count": 23,
   "id": "a830c0f3",
   "metadata": {},
   "outputs": [
    {
     "data": {
      "image/png": "[encoded data removed]",
      "text/plain": [
       "<Figure size 1400x600 with 1 Axes>"
      ]
     },
     "metadata": {},
     "output_type": "display_data"
    }
   ],
   "source": [
    "DataFrame({\n",
    "    \"train target\": y_train.value_counts(normalize=True, ),\n",
    "    \"test target\": y_test.value_counts(normalize=True, ),\n",
    "}, ).plot(\n",
    "    kind=\"bar\",\n",
    "    title=\"Distribution of train and test targets\",\n",
    "    figsize=(14, 6, ),\n",
    "    rot=0,\n",
    ");"
   ]
  },
  {
   "cell_type": "markdown",
   "id": "a2313291",
   "metadata": {},
   "source": [
    "Create a model of *logistic regression*:"
   ]
  },
  {
   "cell_type": "code",
   "execution_count": 24,
   "id": "48de0595",
   "metadata": {},
   "outputs": [],
   "source": [
    "log_reg_model: LogisticRegression = LogisticRegression(\n",
    "    random_state=21,\n",
    "    solver=\"liblinear\",\n",
    "    fit_intercept=False,\n",
    ")"
   ]
  },
  {
   "cell_type": "markdown",
   "id": "88fa962d",
   "metadata": {},
   "source": [
    "Train *logistic regression* model on the data:"
   ]
  },
  {
   "cell_type": "code",
   "execution_count": 25,
   "id": "93563c96",
   "metadata": {},
   "outputs": [],
   "source": [
    "log_reg_model.fit(X_train, y_train, );"
   ]
  },
  {
   "cell_type": "markdown",
   "id": "75e1cc16",
   "metadata": {},
   "source": [
    "Calculate *logistic regression* model accuracy for the data:"
   ]
  },
  {
   "cell_type": "code",
   "execution_count": 26,
   "id": "6fa2b1d5",
   "metadata": {},
   "outputs": [
    {
     "name": "stdout",
     "output_type": "stream",
     "text": [
      "The logistic regression model accuracy is: 0.615\n"
     ]
    }
   ],
   "source": [
    "print(\n",
    "    \"The logistic regression model accuracy is:\",\n",
    "    round(\n",
    "        accuracy_score(\n",
    "            y_test,\n",
    "            log_reg_model.predict(X_test, ),\n",
    "        ),\n",
    "        3,\n",
    "    ),\n",
    ")"
   ]
  },
  {
   "cell_type": "markdown",
   "id": "0785d8fb",
   "metadata": {},
   "source": [
    "Create a model of *SVC*:"
   ]
  },
  {
   "cell_type": "code",
   "execution_count": 27,
   "id": "c96687d5",
   "metadata": {},
   "outputs": [],
   "source": [
    "svc_model: SVC = SVC(\n",
    "    kernel=\"linear\",\n",
    "    random_state=21,\n",
    "    probability=True,\n",
    ")"
   ]
  },
  {
   "cell_type": "markdown",
   "id": "b85172c4",
   "metadata": {},
   "source": [
    "Use `OneVsRestClassifier` over the *SVC* model:"
   ]
  },
  {
   "cell_type": "code",
   "execution_count": 28,
   "id": "79fdfb74",
   "metadata": {},
   "outputs": [],
   "source": [
    "svc_multi_model: OneVsRestClassifier = OneVsRestClassifier(svc_model, )"
   ]
  },
  {
   "cell_type": "markdown",
   "id": "e20cf142",
   "metadata": {},
   "source": [
    "Train *SVC* model on the data:"
   ]
  },
  {
   "cell_type": "code",
   "execution_count": 29,
   "id": "1ef242eb",
   "metadata": {},
   "outputs": [],
   "source": [
    "svc_multi_model.fit(X_train, y_train, );"
   ]
  },
  {
   "cell_type": "markdown",
   "id": "bffe147b",
   "metadata": {},
   "source": [
    "Calculate *SVC* model accuracy for the data:"
   ]
  },
  {
   "cell_type": "code",
   "execution_count": 30,
   "id": "a277dc79",
   "metadata": {},
   "outputs": [
    {
     "name": "stdout",
     "output_type": "stream",
     "text": [
      "The SVC model accuracy is: 0.618\n"
     ]
    }
   ],
   "source": [
    "print(\n",
    "    \"The SVC model accuracy is:\",\n",
    "    round(\n",
    "        accuracy_score(\n",
    "            y_test,\n",
    "            svc_multi_model.predict(X_test, ),\n",
    "        ),\n",
    "        3,\n",
    "    ),\n",
    ")"
   ]
  },
  {
   "cell_type": "markdown",
   "id": "ea6509de",
   "metadata": {},
   "source": [
    "Create a model of *decision tree*:"
   ]
  },
  {
   "cell_type": "code",
   "execution_count": 31,
   "id": "78ae2805",
   "metadata": {},
   "outputs": [],
   "source": [
    "tree_model: DecisionTreeClassifier = DecisionTreeClassifier(\n",
    "    max_depth=4,\n",
    "    random_state=21,\n",
    ")"
   ]
  },
  {
   "cell_type": "markdown",
   "id": "3d1a7f7c",
   "metadata": {},
   "source": [
    "Train *decision tree* model on the data:"
   ]
  },
  {
   "cell_type": "code",
   "execution_count": 32,
   "id": "ce7835d3",
   "metadata": {},
   "outputs": [],
   "source": [
    "tree_model.fit(X_train, y_train, );"
   ]
  },
  {
   "cell_type": "markdown",
   "id": "566e4c8f",
   "metadata": {},
   "source": [
    "Calculate *decision tree* model accuracy for the data:"
   ]
  },
  {
   "cell_type": "code",
   "execution_count": 33,
   "id": "fad7a2c1",
   "metadata": {},
   "outputs": [
    {
     "name": "stdout",
     "output_type": "stream",
     "text": [
      "The decision tree model accuracy is: 0.53\n"
     ]
    }
   ],
   "source": [
    "print(\n",
    "    \"The decision tree model accuracy is:\",\n",
    "    round(\n",
    "        accuracy_score(\n",
    "            y_test,\n",
    "            tree_model.predict(X_test, ),\n",
    "        ),\n",
    "        3,\n",
    "    ),\n",
    ")"
   ]
  },
  {
   "cell_type": "markdown",
   "id": "daaf00be",
   "metadata": {},
   "source": [
    "Create a model of *random forest*:"
   ]
  },
  {
   "cell_type": "code",
   "execution_count": 34,
   "id": "9900103e",
   "metadata": {},
   "outputs": [],
   "source": [
    "forest_tree_model: RandomForestClassifier = RandomForestClassifier(\n",
    "    max_depth=25,\n",
    "    random_state=21,\n",
    "    n_estimators=100,\n",
    ")"
   ]
  },
  {
   "cell_type": "markdown",
   "id": "8b50a6a9",
   "metadata": {},
   "source": [
    "Train *random forest* model on the data:"
   ]
  },
  {
   "cell_type": "code",
   "execution_count": 35,
   "id": "341477cb",
   "metadata": {},
   "outputs": [],
   "source": [
    "forest_tree_model.fit(X_train, y_train, );"
   ]
  },
  {
   "cell_type": "markdown",
   "id": "7b446ab0",
   "metadata": {},
   "source": [
    "Calculate *random forest* model accuracy for the data:"
   ]
  },
  {
   "cell_type": "code",
   "execution_count": 36,
   "id": "aee47e30",
   "metadata": {},
   "outputs": [
    {
     "name": "stdout",
     "output_type": "stream",
     "text": [
      "The random forest model accuracy is: 0.932\n"
     ]
    }
   ],
   "source": [
    "print(\n",
    "    \"The random forest model accuracy is:\",\n",
    "    round(\n",
    "        accuracy_score(\n",
    "            y_test,\n",
    "            forest_tree_model.predict(X_test, ),\n",
    "        ),\n",
    "        3,\n",
    "    ),\n",
    ")"
   ]
  },
  {
   "cell_type": "markdown",
   "id": "6b8e014a",
   "metadata": {},
   "source": [
    "## `Did all the models show the similar values of the metric?`"
   ]
  },
  {
   "cell_type": "markdown",
   "id": "fae98ad3",
   "metadata": {},
   "source": [
    "Answer: no, metrics values have dropped."
   ]
  },
  {
   "cell_type": "markdown",
   "id": "76aae328",
   "metadata": {},
   "source": [
    "## `Which one has the largest difference comparing the current exercise and the previous?`"
   ]
  },
  {
   "cell_type": "markdown",
   "id": "d0f4359c",
   "metadata": {},
   "source": [
    "Answer: `RandomForestClassifier`."
   ]
  },
  {
   "cell_type": "markdown",
   "id": "c99c947b",
   "metadata": {},
   "source": [
    "## Test dataset is only for checking quality of a final model.\n",
    "## There is another way of solving the problem – *crossvalidation*.\n",
    "## It does not use test dataset, but creates one more split of train dataset.\n",
    "## There is a validation dataset that is used for hyperparameters optimization."
   ]
  },
  {
   "cell_type": "markdown",
   "id": "c037049d",
   "metadata": {},
   "source": [
    "## Using `cross_val_score` with `cv=10` calculate the mean accuracy and standard deviation for every model:"
   ]
  },
  {
   "cell_type": "code",
   "execution_count": 37,
   "id": "a7f47006",
   "metadata": {},
   "outputs": [],
   "source": [
    "log_reg_model_scores: ndarray = cross_val_score(\n",
    "    log_reg_model,\n",
    "    X,\n",
    "    y,\n",
    "    cv=10,\n",
    "    scoring=\"accuracy\",\n",
    ")"
   ]
  },
  {
   "cell_type": "markdown",
   "id": "559f5fa9",
   "metadata": {},
   "source": [
    "Calculate *logistic regression* model mean accuracy for the data:"
   ]
  },
  {
   "cell_type": "code",
   "execution_count": 38,
   "id": "3d1c318e",
   "metadata": {},
   "outputs": [
    {
     "name": "stdout",
     "output_type": "stream",
     "text": [
      "The mean logistic regression model accuracy is: 0.453\n"
     ]
    }
   ],
   "source": [
    "print(\n",
    "    \"The mean logistic regression model accuracy is:\",\n",
    "    round(\n",
    "        log_reg_model_scores.mean(),\n",
    "        3,\n",
    "    ),\n",
    ")"
   ]
  },
  {
   "cell_type": "markdown",
   "id": "6cf23770",
   "metadata": {},
   "source": [
    "Calculate *logistic regression* model std accuracy for the data:"
   ]
  },
  {
   "cell_type": "code",
   "execution_count": 39,
   "id": "179f7d6a",
   "metadata": {},
   "outputs": [
    {
     "name": "stdout",
     "output_type": "stream",
     "text": [
      "The std logistic regression model accuracy is: 0.17\n"
     ]
    }
   ],
   "source": [
    "print(\n",
    "    \"The std logistic regression model accuracy is:\",\n",
    "    round(\n",
    "        log_reg_model_scores.std(),\n",
    "        3,\n",
    "    ),\n",
    ")"
   ]
  },
  {
   "cell_type": "markdown",
   "id": "14d38287",
   "metadata": {},
   "source": [
    "Calculate *cross validation* scores for *SVC* model:"
   ]
  },
  {
   "cell_type": "code",
   "execution_count": 40,
   "id": "ac1208fa",
   "metadata": {},
   "outputs": [],
   "source": [
    "svc_multi_model_scores: ndarray = cross_val_score(\n",
    "    svc_multi_model,\n",
    "    X,\n",
    "    y,\n",
    "    cv=10,\n",
    "    scoring=\"accuracy\",\n",
    ")"
   ]
  },
  {
   "cell_type": "markdown",
   "id": "493e712f",
   "metadata": {},
   "source": [
    "Calculate *SVC* model mean accuracy for the data:"
   ]
  },
  {
   "cell_type": "code",
   "execution_count": 41,
   "id": "bd6c1f53",
   "metadata": {},
   "outputs": [
    {
     "name": "stdout",
     "output_type": "stream",
     "text": [
      "The mean SVC model accuracy is: 0.444\n"
     ]
    }
   ],
   "source": [
    "print(\n",
    "    \"The mean SVC model accuracy is:\",\n",
    "    round(\n",
    "        svc_multi_model_scores.mean(),\n",
    "        3,\n",
    "    ),\n",
    ")"
   ]
  },
  {
   "cell_type": "markdown",
   "id": "b3b91958",
   "metadata": {},
   "source": [
    "Calculate *SVC* model std accuracy for the data:"
   ]
  },
  {
   "cell_type": "code",
   "execution_count": 42,
   "id": "a7c950f0",
   "metadata": {},
   "outputs": [
    {
     "name": "stdout",
     "output_type": "stream",
     "text": [
      "The std SVC model accuracy is: 0.143\n"
     ]
    }
   ],
   "source": [
    "print(\n",
    "    \"The std SVC model accuracy is:\",\n",
    "    round(\n",
    "        svc_multi_model_scores.std(),\n",
    "        3,\n",
    "    ),\n",
    ")"
   ]
  },
  {
   "cell_type": "markdown",
   "id": "1d07b31a",
   "metadata": {},
   "source": [
    "Calculate *cross validation* scores for *decision tree* model:"
   ]
  },
  {
   "cell_type": "code",
   "execution_count": 43,
   "id": "7624288b",
   "metadata": {},
   "outputs": [],
   "source": [
    "tree_model_scores: ndarray = cross_val_score(\n",
    "    tree_model,\n",
    "    X,\n",
    "    y,\n",
    "    cv=10,\n",
    "    scoring=\"accuracy\",\n",
    ")"
   ]
  },
  {
   "cell_type": "markdown",
   "id": "3b6a1fe0",
   "metadata": {},
   "source": [
    "Calculate *decision tree* model mean accuracy for the data:"
   ]
  },
  {
   "cell_type": "code",
   "execution_count": 44,
   "id": "b6772501",
   "metadata": {},
   "outputs": [
    {
     "name": "stdout",
     "output_type": "stream",
     "text": [
      "The mean decision tree model accuracy is: 0.388\n"
     ]
    }
   ],
   "source": [
    "print(\n",
    "    \"The mean decision tree model accuracy is:\",\n",
    "    round(\n",
    "        tree_model_scores.mean(),\n",
    "        3,\n",
    "    ),\n",
    ")"
   ]
  },
  {
   "cell_type": "markdown",
   "id": "592c04ae",
   "metadata": {},
   "source": [
    "Calculate *decision tree* model std accuracy for the data:"
   ]
  },
  {
   "cell_type": "code",
   "execution_count": 45,
   "id": "e35fa7c0",
   "metadata": {},
   "outputs": [
    {
     "name": "stdout",
     "output_type": "stream",
     "text": [
      "The std decision tree model accuracy is: 0.118\n"
     ]
    }
   ],
   "source": [
    "print(\n",
    "    \"The std decision tree model accuracy is:\",\n",
    "    round(\n",
    "        tree_model_scores.std(),\n",
    "        3,\n",
    "    ),\n",
    ")"
   ]
  },
  {
   "cell_type": "markdown",
   "id": "ac0a2fd7",
   "metadata": {},
   "source": [
    "Calculate *cross validation* scores for *random forest* model:"
   ]
  },
  {
   "cell_type": "code",
   "execution_count": 46,
   "id": "8719605a",
   "metadata": {},
   "outputs": [],
   "source": [
    "forest_tree_model_scores: ndarray = cross_val_score(\n",
    "    forest_tree_model,\n",
    "    X,\n",
    "    y,\n",
    "    cv=10,\n",
    "    scoring=\"accuracy\",\n",
    ")"
   ]
  },
  {
   "cell_type": "markdown",
   "id": "e6755357",
   "metadata": {},
   "source": [
    "Calculate *random forest* model mean accuracy for the data:"
   ]
  },
  {
   "cell_type": "code",
   "execution_count": 47,
   "id": "87fc770d",
   "metadata": {},
   "outputs": [
    {
     "name": "stdout",
     "output_type": "stream",
     "text": [
      "The mean random forest model accuracy is: 0.656\n"
     ]
    }
   ],
   "source": [
    "print(\n",
    "    \"The mean random forest model accuracy is:\",\n",
    "    round(\n",
    "        forest_tree_model_scores.mean(),\n",
    "        3,\n",
    "    ),\n",
    ")"
   ]
  },
  {
   "cell_type": "markdown",
   "id": "fee9c5b7",
   "metadata": {},
   "source": [
    "Calculate *random forest* model std accuracy for the data:"
   ]
  },
  {
   "cell_type": "code",
   "execution_count": 48,
   "id": "47ef41d2",
   "metadata": {},
   "outputs": [
    {
     "name": "stdout",
     "output_type": "stream",
     "text": [
      "The std random forest model accuracy is: 0.183\n"
     ]
    }
   ],
   "source": [
    "print(\n",
    "    \"The std random forest model accuracy is:\",\n",
    "    round(\n",
    "        forest_tree_model_scores.std(),\n",
    "        3,\n",
    "    ),\n",
    ")"
   ]
  },
  {
   "cell_type": "markdown",
   "id": "48d5b223",
   "metadata": {},
   "source": [
    "## Choose the best model and play with the parameters on cross-validation:"
   ]
  },
  {
   "cell_type": "markdown",
   "id": "8fb9ff5c",
   "metadata": {},
   "source": [
    "Create a list with differents *random forest* model `max_depth` parameter values:"
   ]
  },
  {
   "cell_type": "code",
   "execution_count": 49,
   "id": "4b5a45ae",
   "metadata": {},
   "outputs": [],
   "source": [
    "max_depths: list[int] = [max_depth for max_depth in range(5, 21, )]"
   ]
  },
  {
   "cell_type": "markdown",
   "id": "ad41ba73",
   "metadata": {},
   "source": [
    "Create a list with differents *random forest* model `n_estimators` parameter values:"
   ]
  },
  {
   "cell_type": "code",
   "execution_count": 50,
   "id": "468f824c",
   "metadata": {},
   "outputs": [],
   "source": [
    "n_estimators: list[int] = [\n",
    "    curr_n_estimators\n",
    "    for curr_n_estimators\n",
    "    in range(50, 200, 10, )\n",
    "]"
   ]
  },
  {
   "cell_type": "markdown",
   "id": "a2d0d9c6",
   "metadata": {},
   "source": [
    "Try differents *random forest* model values of parameters:"
   ]
  },
  {
   "cell_type": "code",
   "execution_count": 51,
   "id": "28ec6f43",
   "metadata": {},
   "outputs": [],
   "source": [
    "best_max_depth_val: int = 0\n",
    "best_n_estimators_val: int = 0\n",
    "best_accuracy_val: float = 0.0\n",
    "\n",
    "for max_depth in max_depths:\n",
    "    for curr_n_estimators in n_estimators:\n",
    "        loc_forest_tree_model: RandomForestClassifier = RandomForestClassifier(\n",
    "            n_estimators=curr_n_estimators,\n",
    "            max_depth=max_depth,\n",
    "            random_state=21,\n",
    "        )\n",
    "        loc_accuracy_val: float = round(\n",
    "            cross_val_score(\n",
    "                loc_forest_tree_model,\n",
    "                X,\n",
    "                y,\n",
    "                cv=10,\n",
    "                scoring=\"accuracy\",\n",
    "            ).mean(),\n",
    "            3,\n",
    "        )\n",
    "\n",
    "        if loc_accuracy_val > best_accuracy_val:\n",
    "            best_max_depth_val = max_depth\n",
    "            best_accuracy_val = loc_accuracy_val\n",
    "            best_n_estimators_val = curr_n_estimators"
   ]
  },
  {
   "cell_type": "markdown",
   "id": "5f001d99",
   "metadata": {},
   "source": [
    "Find the best *random forest* model parameters values:"
   ]
  },
  {
   "cell_type": "code",
   "execution_count": 52,
   "id": "b7e5d70d",
   "metadata": {},
   "outputs": [
    {
     "name": "stdout",
     "output_type": "stream",
     "text": [
      "The best random forest model parameters are: \n",
      "The best `max_depth` is: 15 \n",
      "The best `n_estimators` is: 60 \n",
      "The best accuracy value is: 0.672\n"
     ]
    }
   ],
   "source": [
    "print(\n",
    "    \"The best random forest model parameters are:\",\n",
    "    \"\\nThe best `max_depth` is:\",\n",
    "    best_max_depth_val,\n",
    "    \"\\nThe best `n_estimators` is:\",\n",
    "    best_n_estimators_val,\n",
    "    \"\\nThe best accuracy value is:\",\n",
    "    best_accuracy_val,\n",
    ")"
   ]
  },
  {
   "cell_type": "markdown",
   "id": "eea00641",
   "metadata": {},
   "source": [
    "Create a optimized model of *random forest*:"
   ]
  },
  {
   "cell_type": "code",
   "execution_count": 53,
   "id": "0308f094",
   "metadata": {},
   "outputs": [],
   "source": [
    "optimized_forest_tree_model: RandomForestClassifier = RandomForestClassifier(\n",
    "    random_state=21,\n",
    "    max_depth=best_max_depth_val,\n",
    "    n_estimators=best_n_estimators_val,\n",
    ")"
   ]
  },
  {
   "cell_type": "markdown",
   "id": "babe625c",
   "metadata": {},
   "source": [
    "Train optimized *random forest* model on the data:"
   ]
  },
  {
   "cell_type": "code",
   "execution_count": 54,
   "id": "27e0ef8a",
   "metadata": {},
   "outputs": [],
   "source": [
    "optimized_forest_tree_model.fit(X_train, y_train, );"
   ]
  },
  {
   "cell_type": "markdown",
   "id": "5405777c",
   "metadata": {},
   "source": [
    "Calculate optimized *random forest* model accuracy for the data:"
   ]
  },
  {
   "cell_type": "code",
   "execution_count": 55,
   "id": "bb458dc3",
   "metadata": {},
   "outputs": [
    {
     "name": "stdout",
     "output_type": "stream",
     "text": [
      "The optimized random forest model accuracy is: 0.899\n"
     ]
    }
   ],
   "source": [
    "print(\n",
    "    \"The optimized random forest model accuracy is:\",\n",
    "    round(\n",
    "        accuracy_score(\n",
    "            y_test,\n",
    "            optimized_forest_tree_model.predict(X_test, ),\n",
    "        ),\n",
    "        3,\n",
    "    ),\n",
    ")"
   ]
  },
  {
   "cell_type": "markdown",
   "id": "cf39dd97",
   "metadata": {},
   "source": [
    "## Draw a plot for the optimized *random forest* model with top `10` most important features:"
   ]
  },
  {
   "cell_type": "code",
   "execution_count": 56,
   "id": "5b960f78",
   "metadata": {},
   "outputs": [
    {
     "data": {
      "image/png": "[encoded data removed]",
      "text/plain": [
       "<Figure size 640x480 with 1 Axes>"
      ]
     },
     "metadata": {},
     "output_type": "display_data"
    }
   ],
   "source": [
    "draw_top_important_features(\n",
    "    optimized_forest_tree_model.feature_names_in_,\n",
    "    optimized_forest_tree_model.feature_importances_,\n",
    ")"
   ]
  },
  {
   "cell_type": "markdown",
   "id": "6f04d578",
   "metadata": {},
   "source": [
    "## Save the optimized *random forest* model using `joblib`:"
   ]
  },
  {
   "cell_type": "code",
   "execution_count": 57,
   "id": "f6018240",
   "metadata": {},
   "outputs": [],
   "source": [
    "dump(\n",
    "    optimized_forest_tree_model,\n",
    "    \"../../models/optimized_random_forest_model.joblib\",\n",
    ");"
   ]
  },
  {
   "cell_type": "markdown",
   "id": "8f833029",
   "metadata": {},
   "source": [
    "## Load the optimized *random forest* model:"
   ]
  },
  {
   "cell_type": "code",
   "execution_count": 58,
   "id": "647efc6f",
   "metadata": {},
   "outputs": [],
   "source": [
    "optimized_forest_tree_model: RandomForestClassifier = load(\n",
    "    \"../../models/optimized_random_forest_model.joblib\",\n",
    ")"
   ]
  },
  {
   "cell_type": "markdown",
   "id": "0d914f04",
   "metadata": {},
   "source": [
    "Calculate optimized *random forest* model accuracy for the data:"
   ]
  },
  {
   "cell_type": "code",
   "execution_count": 59,
   "id": "df62c648",
   "metadata": {},
   "outputs": [
    {
     "name": "stdout",
     "output_type": "stream",
     "text": [
      "The optimized random forest model accuracy is: 0.899\n"
     ]
    }
   ],
   "source": [
    "print(\n",
    "    \"The optimized random forest model accuracy is:\",\n",
    "    round(\n",
    "        accuracy_score(\n",
    "            y_test,\n",
    "            optimized_forest_tree_model.predict(X_test, ),\n",
    "        ),\n",
    "        3,\n",
    "    ),\n",
    ")"
   ]
  }
 ],
 "metadata": {
  "kernelspec": {
   "display_name": ".venv",
   "language": "python",
   "name": "python3"
  },
  "language_info": {
   "codemirror_mode": {
    "name": "ipython",
    "version": 3
   },
   "file_extension": ".py",
   "mimetype": "text/x-python",
   "name": "python",
   "nbconvert_exporter": "python",
   "pygments_lexer": "ipython3",
   "version": "3.12.6"
  }
 },
 "nbformat": 4,
 "nbformat_minor": 5
}
