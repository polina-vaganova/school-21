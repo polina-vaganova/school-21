{
 "cells": [
  {
   "cell_type": "markdown",
   "id": "0261cfcb",
   "metadata": {},
   "source": [
    "# **Exercise 04: regression models**"
   ]
  },
  {
   "cell_type": "markdown",
   "id": "bf719518",
   "metadata": {},
   "source": [
    "Import necessary *Python* packages:"
   ]
  },
  {
   "cell_type": "code",
   "execution_count": 1,
   "id": "1036648d",
   "metadata": {},
   "outputs": [],
   "source": [
    "import sys\n",
    "\n",
    "import matplotlib.pyplot as plt"
   ]
  },
  {
   "cell_type": "markdown",
   "id": "1459ea73",
   "metadata": {},
   "source": [
    "Add path to own modules:"
   ]
  },
  {
   "cell_type": "code",
   "execution_count": 2,
   "id": "f3d8c285",
   "metadata": {},
   "outputs": [],
   "source": [
    "sys.path.append(\"../../src\", )"
   ]
  },
  {
   "cell_type": "markdown",
   "id": "0ddf728c",
   "metadata": {},
   "source": [
    "Import necessary entities:"
   ]
  },
  {
   "cell_type": "code",
   "execution_count": 3,
   "id": "a6edf197",
   "metadata": {},
   "outputs": [],
   "source": [
    "from seaborn import scatterplot\n",
    "from sklearn.tree import DecisionTreeRegressor\n",
    "from sklearn.linear_model import LinearRegression\n",
    "from sklearn.ensemble import RandomForestRegressor\n",
    "from sklearn.model_selection import train_test_split\n",
    "from pandas import (\n",
    "    Series,\n",
    "    DataFrame,\n",
    "    read_csv,\n",
    ")"
   ]
  },
  {
   "cell_type": "markdown",
   "id": "6346ea22",
   "metadata": {},
   "source": [
    "Import own necessary entities:"
   ]
  },
  {
   "cell_type": "code",
   "execution_count": 4,
   "id": "58105325",
   "metadata": {},
   "outputs": [],
   "source": [
    "from utils import print_regression_model_cross_validation"
   ]
  },
  {
   "cell_type": "markdown",
   "id": "a729f762",
   "metadata": {},
   "source": [
    "Create a dictionary for `read_csv()` method calling:"
   ]
  },
  {
   "cell_type": "code",
   "execution_count": 5,
   "id": "c5295295",
   "metadata": {},
   "outputs": [],
   "source": [
    "read_csv_params: dict[str, str] = {\n",
    "    \"file\": \"checker_regression.csv\",\n",
    "    \"file_path\": \"../../data/datasets/\",\n",
    "}"
   ]
  },
  {
   "cell_type": "markdown",
   "id": "6ec01a98",
   "metadata": {},
   "source": [
    "Read the file `checker_regression.csv` to a *Pandas* dataframe:"
   ]
  },
  {
   "cell_type": "code",
   "execution_count": 6,
   "id": "bcb74325",
   "metadata": {},
   "outputs": [],
   "source": [
    "df: DataFrame = read_csv(\n",
    "    read_csv_params[\"file_path\"] + read_csv_params[\"file\"],\n",
    ").groupby(\n",
    "    \"uid\",\n",
    ").first().fillna(\n",
    "    0,\n",
    ")"
   ]
  },
  {
   "cell_type": "markdown",
   "id": "48c1e79c",
   "metadata": {},
   "source": [
    "Check `df` *Pandas* dataframe:"
   ]
  },
  {
   "cell_type": "code",
   "execution_count": 7,
   "id": "e4c9cb67",
   "metadata": {},
   "outputs": [
    {
     "data": {
      "text/html": [
       "<div>\n",
       "<style scoped>\n",
       "    .dataframe tbody tr th:only-of-type {\n",
       "        vertical-align: middle;\n",
       "    }\n",
       "\n",
       "    .dataframe tbody tr th {\n",
       "        vertical-align: top;\n",
       "    }\n",
       "\n",
       "    .dataframe thead th {\n",
       "        text-align: right;\n",
       "    }\n",
       "</style>\n",
       "<table border=\"1\" class=\"dataframe\">\n",
       "  <thead>\n",
       "    <tr style=\"text-align: right;\">\n",
       "      <th></th>\n",
       "      <th>num_commits</th>\n",
       "      <th>pageviews</th>\n",
       "      <th>AVG(diff)</th>\n",
       "    </tr>\n",
       "    <tr>\n",
       "      <th>uid</th>\n",
       "      <th></th>\n",
       "      <th></th>\n",
       "      <th></th>\n",
       "    </tr>\n",
       "  </thead>\n",
       "  <tbody>\n",
       "    <tr>\n",
       "      <th>user_1</th>\n",
       "      <td>62</td>\n",
       "      <td>28.0</td>\n",
       "      <td>0.0</td>\n",
       "    </tr>\n",
       "    <tr>\n",
       "      <th>user_10</th>\n",
       "      <td>20</td>\n",
       "      <td>89.0</td>\n",
       "      <td>0.0</td>\n",
       "    </tr>\n",
       "    <tr>\n",
       "      <th>user_11</th>\n",
       "      <td>7</td>\n",
       "      <td>0.0</td>\n",
       "      <td>-2.0</td>\n",
       "    </tr>\n",
       "    <tr>\n",
       "      <th>user_12</th>\n",
       "      <td>86</td>\n",
       "      <td>0.0</td>\n",
       "      <td>-89.0</td>\n",
       "    </tr>\n",
       "    <tr>\n",
       "      <th>user_13</th>\n",
       "      <td>52</td>\n",
       "      <td>0.0</td>\n",
       "      <td>-48.5</td>\n",
       "    </tr>\n",
       "  </tbody>\n",
       "</table>\n",
       "</div>"
      ],
      "text/plain": [
       "         num_commits  pageviews  AVG(diff)\n",
       "uid                                       \n",
       "user_1            62       28.0        0.0\n",
       "user_10           20       89.0        0.0\n",
       "user_11            7        0.0       -2.0\n",
       "user_12           86        0.0      -89.0\n",
       "user_13           52        0.0      -48.5"
      ]
     },
     "execution_count": 7,
     "metadata": {},
     "output_type": "execute_result"
    }
   ],
   "source": [
    "df.head()"
   ]
  },
  {
   "cell_type": "markdown",
   "id": "25604f83",
   "metadata": {},
   "source": [
    "Prepare features and target variables:"
   ]
  },
  {
   "cell_type": "code",
   "execution_count": 8,
   "id": "520e718a",
   "metadata": {},
   "outputs": [],
   "source": [
    "X: DataFrame = df.drop(\n",
    "    columns=[\"AVG(diff)\", ],\n",
    ")\n",
    "y: Series = df[\"AVG(diff)\"]"
   ]
  },
  {
   "cell_type": "markdown",
   "id": "97d07e0c",
   "metadata": {},
   "source": [
    "Check `X` and `y` variables:"
   ]
  },
  {
   "cell_type": "code",
   "execution_count": 9,
   "id": "61dc88d8",
   "metadata": {},
   "outputs": [
    {
     "data": {
      "text/html": [
       "<div>\n",
       "<style scoped>\n",
       "    .dataframe tbody tr th:only-of-type {\n",
       "        vertical-align: middle;\n",
       "    }\n",
       "\n",
       "    .dataframe tbody tr th {\n",
       "        vertical-align: top;\n",
       "    }\n",
       "\n",
       "    .dataframe thead th {\n",
       "        text-align: right;\n",
       "    }\n",
       "</style>\n",
       "<table border=\"1\" class=\"dataframe\">\n",
       "  <thead>\n",
       "    <tr style=\"text-align: right;\">\n",
       "      <th></th>\n",
       "      <th>num_commits</th>\n",
       "      <th>pageviews</th>\n",
       "    </tr>\n",
       "    <tr>\n",
       "      <th>uid</th>\n",
       "      <th></th>\n",
       "      <th></th>\n",
       "    </tr>\n",
       "  </thead>\n",
       "  <tbody>\n",
       "    <tr>\n",
       "      <th>user_1</th>\n",
       "      <td>62</td>\n",
       "      <td>28.0</td>\n",
       "    </tr>\n",
       "    <tr>\n",
       "      <th>user_10</th>\n",
       "      <td>20</td>\n",
       "      <td>89.0</td>\n",
       "    </tr>\n",
       "    <tr>\n",
       "      <th>user_11</th>\n",
       "      <td>7</td>\n",
       "      <td>0.0</td>\n",
       "    </tr>\n",
       "    <tr>\n",
       "      <th>user_12</th>\n",
       "      <td>86</td>\n",
       "      <td>0.0</td>\n",
       "    </tr>\n",
       "    <tr>\n",
       "      <th>user_13</th>\n",
       "      <td>52</td>\n",
       "      <td>0.0</td>\n",
       "    </tr>\n",
       "  </tbody>\n",
       "</table>\n",
       "</div>"
      ],
      "text/plain": [
       "         num_commits  pageviews\n",
       "uid                            \n",
       "user_1            62       28.0\n",
       "user_10           20       89.0\n",
       "user_11            7        0.0\n",
       "user_12           86        0.0\n",
       "user_13           52        0.0"
      ]
     },
     "execution_count": 9,
     "metadata": {},
     "output_type": "execute_result"
    }
   ],
   "source": [
    "X.head()"
   ]
  },
  {
   "cell_type": "code",
   "execution_count": 10,
   "id": "91cd39df",
   "metadata": {},
   "outputs": [
    {
     "data": {
      "text/plain": [
       "uid\n",
       "user_1      0.0\n",
       "user_10     0.0\n",
       "user_11    -2.0\n",
       "user_12   -89.0\n",
       "user_13   -48.5\n",
       "Name: AVG(diff), dtype: float64"
      ]
     },
     "execution_count": 10,
     "metadata": {},
     "output_type": "execute_result"
    }
   ],
   "source": [
    "y.head()"
   ]
  },
  {
   "cell_type": "markdown",
   "id": "e593c9a2",
   "metadata": {},
   "source": [
    "## Make a split of dataset on train and test:"
   ]
  },
  {
   "cell_type": "code",
   "execution_count": 11,
   "id": "a45a3469",
   "metadata": {},
   "outputs": [],
   "source": [
    "X_train, X_test, y_train, y_test = train_test_split(\n",
    "    X,\n",
    "    y,\n",
    "    test_size=0.2,\n",
    "    random_state=21,\n",
    ")"
   ]
  },
  {
   "cell_type": "markdown",
   "id": "695405b3",
   "metadata": {},
   "source": [
    "Check `X_train`, `X_test`, `y_train`, `y_test` variables:"
   ]
  },
  {
   "cell_type": "code",
   "execution_count": 12,
   "id": "90f45ff4",
   "metadata": {},
   "outputs": [
    {
     "data": {
      "text/html": [
       "<div>\n",
       "<style scoped>\n",
       "    .dataframe tbody tr th:only-of-type {\n",
       "        vertical-align: middle;\n",
       "    }\n",
       "\n",
       "    .dataframe tbody tr th {\n",
       "        vertical-align: top;\n",
       "    }\n",
       "\n",
       "    .dataframe thead th {\n",
       "        text-align: right;\n",
       "    }\n",
       "</style>\n",
       "<table border=\"1\" class=\"dataframe\">\n",
       "  <thead>\n",
       "    <tr style=\"text-align: right;\">\n",
       "      <th></th>\n",
       "      <th>num_commits</th>\n",
       "      <th>pageviews</th>\n",
       "    </tr>\n",
       "    <tr>\n",
       "      <th>uid</th>\n",
       "      <th></th>\n",
       "      <th></th>\n",
       "    </tr>\n",
       "  </thead>\n",
       "  <tbody>\n",
       "    <tr>\n",
       "      <th>user_3</th>\n",
       "      <td>18</td>\n",
       "      <td>317.0</td>\n",
       "    </tr>\n",
       "    <tr>\n",
       "      <th>user_28</th>\n",
       "      <td>60</td>\n",
       "      <td>149.0</td>\n",
       "    </tr>\n",
       "    <tr>\n",
       "      <th>user_30</th>\n",
       "      <td>34</td>\n",
       "      <td>3.0</td>\n",
       "    </tr>\n",
       "    <tr>\n",
       "      <th>user_4</th>\n",
       "      <td>40</td>\n",
       "      <td>0.0</td>\n",
       "    </tr>\n",
       "    <tr>\n",
       "      <th>user_1</th>\n",
       "      <td>62</td>\n",
       "      <td>28.0</td>\n",
       "    </tr>\n",
       "  </tbody>\n",
       "</table>\n",
       "</div>"
      ],
      "text/plain": [
       "         num_commits  pageviews\n",
       "uid                            \n",
       "user_3            18      317.0\n",
       "user_28           60      149.0\n",
       "user_30           34        3.0\n",
       "user_4            40        0.0\n",
       "user_1            62       28.0"
      ]
     },
     "execution_count": 12,
     "metadata": {},
     "output_type": "execute_result"
    }
   ],
   "source": [
    "X_train.head()"
   ]
  },
  {
   "cell_type": "code",
   "execution_count": 13,
   "id": "c21f7e7f",
   "metadata": {},
   "outputs": [
    {
     "data": {
      "text/html": [
       "<div>\n",
       "<style scoped>\n",
       "    .dataframe tbody tr th:only-of-type {\n",
       "        vertical-align: middle;\n",
       "    }\n",
       "\n",
       "    .dataframe tbody tr th {\n",
       "        vertical-align: top;\n",
       "    }\n",
       "\n",
       "    .dataframe thead th {\n",
       "        text-align: right;\n",
       "    }\n",
       "</style>\n",
       "<table border=\"1\" class=\"dataframe\">\n",
       "  <thead>\n",
       "    <tr style=\"text-align: right;\">\n",
       "      <th></th>\n",
       "      <th>num_commits</th>\n",
       "      <th>pageviews</th>\n",
       "    </tr>\n",
       "    <tr>\n",
       "      <th>uid</th>\n",
       "      <th></th>\n",
       "      <th></th>\n",
       "    </tr>\n",
       "  </thead>\n",
       "  <tbody>\n",
       "    <tr>\n",
       "      <th>user_26</th>\n",
       "      <td>36</td>\n",
       "      <td>0.0</td>\n",
       "    </tr>\n",
       "    <tr>\n",
       "      <th>user_29</th>\n",
       "      <td>51</td>\n",
       "      <td>0.0</td>\n",
       "    </tr>\n",
       "    <tr>\n",
       "      <th>user_10</th>\n",
       "      <td>20</td>\n",
       "      <td>89.0</td>\n",
       "    </tr>\n",
       "    <tr>\n",
       "      <th>user_2</th>\n",
       "      <td>46</td>\n",
       "      <td>0.0</td>\n",
       "    </tr>\n",
       "    <tr>\n",
       "      <th>user_14</th>\n",
       "      <td>61</td>\n",
       "      <td>143.0</td>\n",
       "    </tr>\n",
       "  </tbody>\n",
       "</table>\n",
       "</div>"
      ],
      "text/plain": [
       "         num_commits  pageviews\n",
       "uid                            \n",
       "user_26           36        0.0\n",
       "user_29           51        0.0\n",
       "user_10           20       89.0\n",
       "user_2            46        0.0\n",
       "user_14           61      143.0"
      ]
     },
     "execution_count": 13,
     "metadata": {},
     "output_type": "execute_result"
    }
   ],
   "source": [
    "X_test.head()"
   ]
  },
  {
   "cell_type": "code",
   "execution_count": 14,
   "id": "ec4efe71",
   "metadata": {},
   "outputs": [
    {
     "data": {
      "text/plain": [
       "uid\n",
       "user_3       0.0\n",
       "user_28      0.0\n",
       "user_30      0.0\n",
       "user_4    -175.6\n",
       "user_1       0.0\n",
       "Name: AVG(diff), dtype: float64"
      ]
     },
     "execution_count": 14,
     "metadata": {},
     "output_type": "execute_result"
    }
   ],
   "source": [
    "y_train.head()"
   ]
  },
  {
   "cell_type": "code",
   "execution_count": 15,
   "id": "916d9b8f",
   "metadata": {},
   "outputs": [
    {
     "data": {
      "text/plain": [
       "uid\n",
       "user_26    -52.333333\n",
       "user_29   -157.400000\n",
       "user_10      0.000000\n",
       "user_2    -137.200000\n",
       "user_14      0.000000\n",
       "Name: AVG(diff), dtype: float64"
      ]
     },
     "execution_count": 15,
     "metadata": {},
     "output_type": "execute_result"
    }
   ],
   "source": [
    "y_test.head()"
   ]
  },
  {
   "cell_type": "markdown",
   "id": "205e8da0",
   "metadata": {},
   "source": [
    "Create a model of *linear regression*:"
   ]
  },
  {
   "cell_type": "code",
   "execution_count": 16,
   "id": "8dd75acc",
   "metadata": {},
   "outputs": [],
   "source": [
    "lin_reg_model: LinearRegression = LinearRegression(fit_intercept=False, )"
   ]
  },
  {
   "cell_type": "markdown",
   "id": "3f0ad9ad",
   "metadata": {},
   "source": [
    "Print *cross validation* for *linear regression* model:"
   ]
  },
  {
   "cell_type": "code",
   "execution_count": 17,
   "id": "df761fae",
   "metadata": {},
   "outputs": [
    {
     "name": "stdout",
     "output_type": "stream",
     "text": [
      "train RMSE - 72.77 | test RMSE - 66.001\n",
      "train RMSE - 73.572 | test RMSE - 56.94\n",
      "train RMSE - 73.522 | test RMSE - 90.186\n",
      "train RMSE - 70.196 | test RMSE - 85.932\n",
      "train RMSE - 70.546 | test RMSE - 84.885\n",
      "train RMSE - 69.828 | test RMSE - 89.034\n",
      "train RMSE - 70.874 | test RMSE - 93.485\n",
      "train RMSE - 75.398 | test RMSE - 28.364\n",
      "train RMSE - 66.276 | test RMSE - 110.268\n",
      "train RMSE - 73.046 | test RMSE - 55.395\n",
      "Average RMSE on regression model cross validation is 73.826\n"
     ]
    }
   ],
   "source": [
    "print_regression_model_cross_validation(\n",
    "    X=X,\n",
    "    y=y,\n",
    "    reg_model=lin_reg_model,\n",
    ")"
   ]
  },
  {
   "cell_type": "markdown",
   "id": "492f3df6",
   "metadata": {},
   "source": [
    "Create a model of *decision tree*:"
   ]
  },
  {
   "cell_type": "code",
   "execution_count": 18,
   "id": "aae77d3c",
   "metadata": {},
   "outputs": [],
   "source": [
    "tree_model: DecisionTreeRegressor = DecisionTreeRegressor(\n",
    "    random_state=21,\n",
    "    max_depth=20,\n",
    ")"
   ]
  },
  {
   "cell_type": "markdown",
   "id": "4f137184",
   "metadata": {},
   "source": [
    "Print *cross validation* for *decision tree* model:"
   ]
  },
  {
   "cell_type": "code",
   "execution_count": 19,
   "id": "aafc7041",
   "metadata": {},
   "outputs": [
    {
     "name": "stdout",
     "output_type": "stream",
     "text": [
      "train RMSE - 0.0 | test RMSE - 117.177\n",
      "train RMSE - 0.0 | test RMSE - 79.533\n",
      "train RMSE - 0.0 | test RMSE - 0.0\n",
      "train RMSE - 0.0 | test RMSE - 78.987\n",
      "train RMSE - 0.0 | test RMSE - 101.367\n",
      "train RMSE - 0.0 | test RMSE - 35.388\n",
      "train RMSE - 0.0 | test RMSE - 0.0\n",
      "train RMSE - 0.0 | test RMSE - 69.81\n",
      "train RMSE - 0.0 | test RMSE - 117.529\n",
      "train RMSE - 0.0 | test RMSE - 40.588\n",
      "Average RMSE on regression model cross validation is 32.019\n"
     ]
    }
   ],
   "source": [
    "print_regression_model_cross_validation(\n",
    "    X=X,\n",
    "    y=y,\n",
    "    reg_model=tree_model,\n",
    ")"
   ]
  },
  {
   "cell_type": "markdown",
   "id": "e549b9bf",
   "metadata": {},
   "source": [
    "Create a model of *random forest*:"
   ]
  },
  {
   "cell_type": "code",
   "execution_count": 20,
   "id": "b0d6511d",
   "metadata": {},
   "outputs": [],
   "source": [
    "tree_forest_model: RandomForestRegressor = RandomForestRegressor(\n",
    "    max_depth=25,\n",
    "    random_state=21,\n",
    "    n_estimators=200,\n",
    ")"
   ]
  },
  {
   "cell_type": "markdown",
   "id": "2516d2c4",
   "metadata": {},
   "source": [
    "Print *cross validation* for *random forest* model:"
   ]
  },
  {
   "cell_type": "code",
   "execution_count": 21,
   "id": "4f91b135",
   "metadata": {},
   "outputs": [
    {
     "name": "stdout",
     "output_type": "stream",
     "text": [
      "train RMSE - 21.351 | test RMSE - 94.282\n",
      "train RMSE - 22.4 | test RMSE - 79.523\n",
      "train RMSE - 26.843 | test RMSE - 22.189\n",
      "train RMSE - 24.411 | test RMSE - 55.74\n",
      "train RMSE - 24.106 | test RMSE - 78.34\n",
      "train RMSE - 24.136 | test RMSE - 55.767\n",
      "train RMSE - 26.034 | test RMSE - 5.207\n",
      "train RMSE - 23.636 | test RMSE - 58.708\n",
      "train RMSE - 22.085 | test RMSE - 90.77\n",
      "train RMSE - 26.059 | test RMSE - 30.487\n",
      "Average RMSE on regression model cross validation is 40.604\n"
     ]
    }
   ],
   "source": [
    "print_regression_model_cross_validation(\n",
    "    X=X,\n",
    "    y=y,\n",
    "    reg_model=tree_forest_model,\n",
    ")"
   ]
  },
  {
   "cell_type": "markdown",
   "id": "f6631272",
   "metadata": {},
   "source": [
    "Create `models_predictions` *Pandas* dataframe with models predictions:"
   ]
  },
  {
   "cell_type": "code",
   "execution_count": 22,
   "id": "f77643a8",
   "metadata": {},
   "outputs": [],
   "source": [
    "models_predictions: DataFrame = DataFrame(\n",
    "    {\n",
    "        \"AVG (diff)\": y_test,\n",
    "        \"decision_tree\": tree_model.predict(X_test, ),\n",
    "        \"linear_regression\": lin_reg_model.predict(X_test, ),\n",
    "        \"random_forest\": tree_forest_model.predict(X_test, ),\n",
    "    },\n",
    ")"
   ]
  },
  {
   "cell_type": "markdown",
   "id": "ad9948c4",
   "metadata": {},
   "source": [
    "## Draw a plot for each of the models where the `x` - an average difference, the `y` - a model predictions:"
   ]
  },
  {
   "cell_type": "code",
   "execution_count": 23,
   "id": "aa3b7579",
   "metadata": {},
   "outputs": [
    {
     "data": {
      "image/png": "[encoded data removed]",
      "text/plain": [
       "<Figure size 1400x600 with 1 Axes>"
      ]
     },
     "metadata": {},
     "output_type": "display_data"
    },
    {
     "data": {
      "image/png": "[encoded data removed]",
      "text/plain": [
       "<Figure size 1400x600 with 1 Axes>"
      ]
     },
     "metadata": {},
     "output_type": "display_data"
    },
    {
     "data": {
      "image/png": "[encoded data removed]",
      "text/plain": [
       "<Figure size 1400x600 with 1 Axes>"
      ]
     },
     "metadata": {},
     "output_type": "display_data"
    }
   ],
   "source": [
    "for model_name in list(models_predictions.columns, )[1 :]:\n",
    "    plt.figure(figsize=(14, 6, ), )\n",
    "    scatterplot(\n",
    "        data=models_predictions,\n",
    "        x=\"AVG (diff)\",\n",
    "        y=model_name,\n",
    "    )\n",
    "    plt.title(f\"Scatter plot of AVG (diff) of {model_name} model\", )\n",
    "    plt.xlabel(\"model predictions\", )\n",
    "    plt.ylabel(\"actual values\", )\n",
    "    plt.grid()\n",
    "    plt.show()"
   ]
  },
  {
   "cell_type": "markdown",
   "id": "85cf831a",
   "metadata": {},
   "source": [
    "## `How would plot look like in the ideal case?`"
   ]
  },
  {
   "cell_type": "markdown",
   "id": "1849be9f",
   "metadata": {},
   "source": [
    "Answer: a diagonal line."
   ]
  }
 ],
 "metadata": {
  "kernelspec": {
   "display_name": ".venv",
   "language": "python",
   "name": "python3"
  },
  "language_info": {
   "codemirror_mode": {
    "name": "ipython",
    "version": 3
   },
   "file_extension": ".py",
   "mimetype": "text/x-python",
   "name": "python",
   "nbconvert_exporter": "python",
   "pygments_lexer": "ipython3",
   "version": "3.12.6"
  }
 },
 "nbformat": 4,
 "nbformat_minor": 5
}
