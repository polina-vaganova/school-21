{
 "cells": [
  {
   "cell_type": "markdown",
   "id": "8fdae5c1",
   "metadata": {},
   "source": [
    "# **Exercise 02: multiclass classification models**"
   ]
  },
  {
   "cell_type": "markdown",
   "id": "bb352525",
   "metadata": {},
   "source": [
    "Import necessary *Python* packages:"
   ]
  },
  {
   "cell_type": "code",
   "execution_count": 1,
   "id": "d7be587b",
   "metadata": {},
   "outputs": [],
   "source": [
    "import sys"
   ]
  },
  {
   "cell_type": "markdown",
   "id": "8475e29c",
   "metadata": {},
   "source": [
    "Add path to own modules:"
   ]
  },
  {
   "cell_type": "code",
   "execution_count": 2,
   "id": "05bc1cfd",
   "metadata": {},
   "outputs": [],
   "source": [
    "sys.path.append(\"../../src\", )"
   ]
  },
  {
   "cell_type": "markdown",
   "id": "95899ecd",
   "metadata": {},
   "source": [
    "Import necessary entities:"
   ]
  },
  {
   "cell_type": "code",
   "execution_count": 3,
   "id": "6d58f0b6",
   "metadata": {},
   "outputs": [],
   "source": [
    "from sklearn.svm import SVC\n",
    "from sklearn.metrics import accuracy_score\n",
    "from sklearn.tree import DecisionTreeClassifier\n",
    "from sklearn.multiclass import OneVsRestClassifier\n",
    "from sklearn.ensemble import RandomForestClassifier\n",
    "from sklearn.linear_model import LogisticRegression\n",
    "from sklearn.preprocessing import OneHotEncoder, StandardScaler\n",
    "from numpy import (\n",
    "    abs,\n",
    "    sum,\n",
    "    vstack,\n",
    ")\n",
    "from pandas import (\n",
    "    Series,\n",
    "    DataFrame,\n",
    "    concat,\n",
    "    read_csv,\n",
    ")"
   ]
  },
  {
   "cell_type": "markdown",
   "id": "c70c8d1f",
   "metadata": {},
   "source": [
    "Import own necessary entities:"
   ]
  },
  {
   "cell_type": "code",
   "execution_count": 4,
   "id": "fe575ac0",
   "metadata": {},
   "outputs": [],
   "source": [
    "from plot_utils import draw_top_important_features"
   ]
  },
  {
   "cell_type": "markdown",
   "id": "f5db2079",
   "metadata": {},
   "source": [
    "Create a dictionary for `read_csv()` method calling:"
   ]
  },
  {
   "cell_type": "code",
   "execution_count": 5,
   "id": "4eecfb2e",
   "metadata": {},
   "outputs": [],
   "source": [
    "read_csv_params: dict[str, str | list] = {\n",
    "    \"file\": \"checker_submits.csv\",\n",
    "    \"file_path\": \"../../data/datasets/\",\n",
    "    \"parse_dates\": [\"timestamp\", ],\n",
    "}"
   ]
  },
  {
   "cell_type": "markdown",
   "id": "5c2deb7d",
   "metadata": {},
   "source": [
    "Read the file `checker_submits.csv` to a *Pandas* dataframe:"
   ]
  },
  {
   "cell_type": "code",
   "execution_count": 6,
   "id": "d8100037",
   "metadata": {},
   "outputs": [],
   "source": [
    "df: DataFrame = read_csv(\n",
    "    read_csv_params[\"file_path\"] + read_csv_params[\"file\"],\n",
    "    parse_dates=read_csv_params[\"parse_dates\"],\n",
    ")"
   ]
  },
  {
   "cell_type": "markdown",
   "id": "011f516d",
   "metadata": {},
   "source": [
    "Check `df` *Pandas* dataframe:"
   ]
  },
  {
   "cell_type": "code",
   "execution_count": 7,
   "id": "4fbe816a",
   "metadata": {},
   "outputs": [
    {
     "data": {
      "text/html": [
       "<div>\n",
       "<style scoped>\n",
       "    .dataframe tbody tr th:only-of-type {\n",
       "        vertical-align: middle;\n",
       "    }\n",
       "\n",
       "    .dataframe tbody tr th {\n",
       "        vertical-align: top;\n",
       "    }\n",
       "\n",
       "    .dataframe thead th {\n",
       "        text-align: right;\n",
       "    }\n",
       "</style>\n",
       "<table border=\"1\" class=\"dataframe\">\n",
       "  <thead>\n",
       "    <tr style=\"text-align: right;\">\n",
       "      <th></th>\n",
       "      <th>uid</th>\n",
       "      <th>labname</th>\n",
       "      <th>numTrials</th>\n",
       "      <th>timestamp</th>\n",
       "    </tr>\n",
       "  </thead>\n",
       "  <tbody>\n",
       "    <tr>\n",
       "      <th>0</th>\n",
       "      <td>user_4</td>\n",
       "      <td>project1</td>\n",
       "      <td>1</td>\n",
       "      <td>2020-04-17 05:19:02.744528</td>\n",
       "    </tr>\n",
       "    <tr>\n",
       "      <th>1</th>\n",
       "      <td>user_4</td>\n",
       "      <td>project1</td>\n",
       "      <td>2</td>\n",
       "      <td>2020-04-17 05:22:45.549397</td>\n",
       "    </tr>\n",
       "    <tr>\n",
       "      <th>2</th>\n",
       "      <td>user_4</td>\n",
       "      <td>project1</td>\n",
       "      <td>3</td>\n",
       "      <td>2020-04-17 05:34:24.422370</td>\n",
       "    </tr>\n",
       "    <tr>\n",
       "      <th>3</th>\n",
       "      <td>user_4</td>\n",
       "      <td>project1</td>\n",
       "      <td>4</td>\n",
       "      <td>2020-04-17 05:43:27.773992</td>\n",
       "    </tr>\n",
       "    <tr>\n",
       "      <th>4</th>\n",
       "      <td>user_4</td>\n",
       "      <td>project1</td>\n",
       "      <td>5</td>\n",
       "      <td>2020-04-17 05:46:32.275104</td>\n",
       "    </tr>\n",
       "  </tbody>\n",
       "</table>\n",
       "</div>"
      ],
      "text/plain": [
       "      uid   labname  numTrials                  timestamp\n",
       "0  user_4  project1          1 2020-04-17 05:19:02.744528\n",
       "1  user_4  project1          2 2020-04-17 05:22:45.549397\n",
       "2  user_4  project1          3 2020-04-17 05:34:24.422370\n",
       "3  user_4  project1          4 2020-04-17 05:43:27.773992\n",
       "4  user_4  project1          5 2020-04-17 05:46:32.275104"
      ]
     },
     "execution_count": 7,
     "metadata": {},
     "output_type": "execute_result"
    }
   ],
   "source": [
    "df.head()"
   ]
  },
  {
   "cell_type": "markdown",
   "id": "3d4c510e",
   "metadata": {},
   "source": [
    "## Create a *Pandas* dataframe columns: `hour`, `dayofweek`.\n",
    "## Where `hour` - extracted from the `timestamp` as well as the `dayofweek`."
   ]
  },
  {
   "cell_type": "markdown",
   "id": "e410503d",
   "metadata": {},
   "source": [
    "Create a list `feat_cols` of *Pandas* dataframe features columns:"
   ]
  },
  {
   "cell_type": "code",
   "execution_count": 8,
   "id": "e415c8c6",
   "metadata": {},
   "outputs": [],
   "source": [
    "feat_cols: list[str] = [\n",
    "    \"uid\",\n",
    "    \"labname\",\n",
    "    \"numTrials\",\n",
    "    \"hour\",\n",
    "    \"dayofweek\",\n",
    "]"
   ]
  },
  {
   "cell_type": "markdown",
   "id": "f72ab7bc",
   "metadata": {},
   "source": [
    "Create `hour` and `dayofweek` *Pandas* dataframe columns:"
   ]
  },
  {
   "cell_type": "code",
   "execution_count": 9,
   "id": "29cefb59",
   "metadata": {},
   "outputs": [],
   "source": [
    "df[\"hour\"] = df[\"timestamp\"].dt.hour\n",
    "df[\"dayofweek\"] = df[\"timestamp\"].dt.dayofweek"
   ]
  },
  {
   "cell_type": "markdown",
   "id": "f868c8d5",
   "metadata": {},
   "source": [
    "Take necessary `feat_cols` *Pandas* dataframe columns:"
   ]
  },
  {
   "cell_type": "code",
   "execution_count": 10,
   "id": "ad43b12b",
   "metadata": {},
   "outputs": [],
   "source": [
    "df = df[feat_cols]"
   ]
  },
  {
   "cell_type": "markdown",
   "id": "4786d462",
   "metadata": {},
   "source": [
    "Check `df` *Pandas* dataframe:"
   ]
  },
  {
   "cell_type": "code",
   "execution_count": 11,
   "id": "47f3aa79",
   "metadata": {},
   "outputs": [
    {
     "data": {
      "text/html": [
       "<div>\n",
       "<style scoped>\n",
       "    .dataframe tbody tr th:only-of-type {\n",
       "        vertical-align: middle;\n",
       "    }\n",
       "\n",
       "    .dataframe tbody tr th {\n",
       "        vertical-align: top;\n",
       "    }\n",
       "\n",
       "    .dataframe thead th {\n",
       "        text-align: right;\n",
       "    }\n",
       "</style>\n",
       "<table border=\"1\" class=\"dataframe\">\n",
       "  <thead>\n",
       "    <tr style=\"text-align: right;\">\n",
       "      <th></th>\n",
       "      <th>uid</th>\n",
       "      <th>labname</th>\n",
       "      <th>numTrials</th>\n",
       "      <th>hour</th>\n",
       "      <th>dayofweek</th>\n",
       "    </tr>\n",
       "  </thead>\n",
       "  <tbody>\n",
       "    <tr>\n",
       "      <th>0</th>\n",
       "      <td>user_4</td>\n",
       "      <td>project1</td>\n",
       "      <td>1</td>\n",
       "      <td>5</td>\n",
       "      <td>4</td>\n",
       "    </tr>\n",
       "    <tr>\n",
       "      <th>1</th>\n",
       "      <td>user_4</td>\n",
       "      <td>project1</td>\n",
       "      <td>2</td>\n",
       "      <td>5</td>\n",
       "      <td>4</td>\n",
       "    </tr>\n",
       "    <tr>\n",
       "      <th>2</th>\n",
       "      <td>user_4</td>\n",
       "      <td>project1</td>\n",
       "      <td>3</td>\n",
       "      <td>5</td>\n",
       "      <td>4</td>\n",
       "    </tr>\n",
       "    <tr>\n",
       "      <th>3</th>\n",
       "      <td>user_4</td>\n",
       "      <td>project1</td>\n",
       "      <td>4</td>\n",
       "      <td>5</td>\n",
       "      <td>4</td>\n",
       "    </tr>\n",
       "    <tr>\n",
       "      <th>4</th>\n",
       "      <td>user_4</td>\n",
       "      <td>project1</td>\n",
       "      <td>5</td>\n",
       "      <td>5</td>\n",
       "      <td>4</td>\n",
       "    </tr>\n",
       "  </tbody>\n",
       "</table>\n",
       "</div>"
      ],
      "text/plain": [
       "      uid   labname  numTrials  hour  dayofweek\n",
       "0  user_4  project1          1     5          4\n",
       "1  user_4  project1          2     5          4\n",
       "2  user_4  project1          3     5          4\n",
       "3  user_4  project1          4     5          4\n",
       "4  user_4  project1          5     5          4"
      ]
     },
     "execution_count": 11,
     "metadata": {},
     "output_type": "execute_result"
    }
   ],
   "source": [
    "df.head()"
   ]
  },
  {
   "cell_type": "markdown",
   "id": "8709aef2",
   "metadata": {},
   "source": [
    "Create a model of *one-hot* encoder:"
   ]
  },
  {
   "cell_type": "code",
   "execution_count": 12,
   "id": "df69ccd9",
   "metadata": {},
   "outputs": [],
   "source": [
    "oh_encoder_model: OneHotEncoder = OneHotEncoder(sparse_output=False, )"
   ]
  },
  {
   "cell_type": "markdown",
   "id": "2af07c3f",
   "metadata": {},
   "source": [
    "Apply *one-hot* encoder model to categorical data:"
   ]
  },
  {
   "cell_type": "code",
   "execution_count": 13,
   "id": "07d1507f",
   "metadata": {},
   "outputs": [],
   "source": [
    "encoded_cat_df: DataFrame = DataFrame(\n",
    "    oh_encoder_model.fit_transform(\n",
    "        df[[\"uid\", \"labname\", ]],\n",
    "    ),\n",
    "    columns=oh_encoder_model.get_feature_names_out(\n",
    "        [\"uid\", \"labname\", ],\n",
    "    ),\n",
    ")"
   ]
  },
  {
   "cell_type": "markdown",
   "id": "fa6e7f48",
   "metadata": {},
   "source": [
    "Check `encoded_cat_df` *Pandas* dataframe:"
   ]
  },
  {
   "cell_type": "code",
   "execution_count": 14,
   "id": "3945eb7c",
   "metadata": {},
   "outputs": [
    {
     "data": {
      "text/html": [
       "<div>\n",
       "<style scoped>\n",
       "    .dataframe tbody tr th:only-of-type {\n",
       "        vertical-align: middle;\n",
       "    }\n",
       "\n",
       "    .dataframe tbody tr th {\n",
       "        vertical-align: top;\n",
       "    }\n",
       "\n",
       "    .dataframe thead th {\n",
       "        text-align: right;\n",
       "    }\n",
       "</style>\n",
       "<table border=\"1\" class=\"dataframe\">\n",
       "  <thead>\n",
       "    <tr style=\"text-align: right;\">\n",
       "      <th></th>\n",
       "      <th>uid_user_0</th>\n",
       "      <th>uid_user_1</th>\n",
       "      <th>uid_user_10</th>\n",
       "      <th>uid_user_11</th>\n",
       "      <th>uid_user_12</th>\n",
       "      <th>uid_user_13</th>\n",
       "      <th>uid_user_14</th>\n",
       "      <th>uid_user_15</th>\n",
       "      <th>uid_user_16</th>\n",
       "      <th>uid_user_17</th>\n",
       "      <th>...</th>\n",
       "      <th>labname_lab02</th>\n",
       "      <th>labname_lab03</th>\n",
       "      <th>labname_lab03s</th>\n",
       "      <th>labname_lab05s</th>\n",
       "      <th>labname_laba04</th>\n",
       "      <th>labname_laba04s</th>\n",
       "      <th>labname_laba05</th>\n",
       "      <th>labname_laba06</th>\n",
       "      <th>labname_laba06s</th>\n",
       "      <th>labname_project1</th>\n",
       "    </tr>\n",
       "  </thead>\n",
       "  <tbody>\n",
       "    <tr>\n",
       "      <th>0</th>\n",
       "      <td>0.0</td>\n",
       "      <td>0.0</td>\n",
       "      <td>0.0</td>\n",
       "      <td>0.0</td>\n",
       "      <td>0.0</td>\n",
       "      <td>0.0</td>\n",
       "      <td>0.0</td>\n",
       "      <td>0.0</td>\n",
       "      <td>0.0</td>\n",
       "      <td>0.0</td>\n",
       "      <td>...</td>\n",
       "      <td>0.0</td>\n",
       "      <td>0.0</td>\n",
       "      <td>0.0</td>\n",
       "      <td>0.0</td>\n",
       "      <td>0.0</td>\n",
       "      <td>0.0</td>\n",
       "      <td>0.0</td>\n",
       "      <td>0.0</td>\n",
       "      <td>0.0</td>\n",
       "      <td>1.0</td>\n",
       "    </tr>\n",
       "    <tr>\n",
       "      <th>1</th>\n",
       "      <td>0.0</td>\n",
       "      <td>0.0</td>\n",
       "      <td>0.0</td>\n",
       "      <td>0.0</td>\n",
       "      <td>0.0</td>\n",
       "      <td>0.0</td>\n",
       "      <td>0.0</td>\n",
       "      <td>0.0</td>\n",
       "      <td>0.0</td>\n",
       "      <td>0.0</td>\n",
       "      <td>...</td>\n",
       "      <td>0.0</td>\n",
       "      <td>0.0</td>\n",
       "      <td>0.0</td>\n",
       "      <td>0.0</td>\n",
       "      <td>0.0</td>\n",
       "      <td>0.0</td>\n",
       "      <td>0.0</td>\n",
       "      <td>0.0</td>\n",
       "      <td>0.0</td>\n",
       "      <td>1.0</td>\n",
       "    </tr>\n",
       "    <tr>\n",
       "      <th>2</th>\n",
       "      <td>0.0</td>\n",
       "      <td>0.0</td>\n",
       "      <td>0.0</td>\n",
       "      <td>0.0</td>\n",
       "      <td>0.0</td>\n",
       "      <td>0.0</td>\n",
       "      <td>0.0</td>\n",
       "      <td>0.0</td>\n",
       "      <td>0.0</td>\n",
       "      <td>0.0</td>\n",
       "      <td>...</td>\n",
       "      <td>0.0</td>\n",
       "      <td>0.0</td>\n",
       "      <td>0.0</td>\n",
       "      <td>0.0</td>\n",
       "      <td>0.0</td>\n",
       "      <td>0.0</td>\n",
       "      <td>0.0</td>\n",
       "      <td>0.0</td>\n",
       "      <td>0.0</td>\n",
       "      <td>1.0</td>\n",
       "    </tr>\n",
       "    <tr>\n",
       "      <th>3</th>\n",
       "      <td>0.0</td>\n",
       "      <td>0.0</td>\n",
       "      <td>0.0</td>\n",
       "      <td>0.0</td>\n",
       "      <td>0.0</td>\n",
       "      <td>0.0</td>\n",
       "      <td>0.0</td>\n",
       "      <td>0.0</td>\n",
       "      <td>0.0</td>\n",
       "      <td>0.0</td>\n",
       "      <td>...</td>\n",
       "      <td>0.0</td>\n",
       "      <td>0.0</td>\n",
       "      <td>0.0</td>\n",
       "      <td>0.0</td>\n",
       "      <td>0.0</td>\n",
       "      <td>0.0</td>\n",
       "      <td>0.0</td>\n",
       "      <td>0.0</td>\n",
       "      <td>0.0</td>\n",
       "      <td>1.0</td>\n",
       "    </tr>\n",
       "    <tr>\n",
       "      <th>4</th>\n",
       "      <td>0.0</td>\n",
       "      <td>0.0</td>\n",
       "      <td>0.0</td>\n",
       "      <td>0.0</td>\n",
       "      <td>0.0</td>\n",
       "      <td>0.0</td>\n",
       "      <td>0.0</td>\n",
       "      <td>0.0</td>\n",
       "      <td>0.0</td>\n",
       "      <td>0.0</td>\n",
       "      <td>...</td>\n",
       "      <td>0.0</td>\n",
       "      <td>0.0</td>\n",
       "      <td>0.0</td>\n",
       "      <td>0.0</td>\n",
       "      <td>0.0</td>\n",
       "      <td>0.0</td>\n",
       "      <td>0.0</td>\n",
       "      <td>0.0</td>\n",
       "      <td>0.0</td>\n",
       "      <td>1.0</td>\n",
       "    </tr>\n",
       "  </tbody>\n",
       "</table>\n",
       "<p>5 rows × 41 columns</p>\n",
       "</div>"
      ],
      "text/plain": [
       "   uid_user_0  uid_user_1  uid_user_10  uid_user_11  uid_user_12  uid_user_13  \\\n",
       "0         0.0         0.0          0.0          0.0          0.0          0.0   \n",
       "1         0.0         0.0          0.0          0.0          0.0          0.0   \n",
       "2         0.0         0.0          0.0          0.0          0.0          0.0   \n",
       "3         0.0         0.0          0.0          0.0          0.0          0.0   \n",
       "4         0.0         0.0          0.0          0.0          0.0          0.0   \n",
       "\n",
       "   uid_user_14  uid_user_15  uid_user_16  uid_user_17  ...  labname_lab02  \\\n",
       "0          0.0          0.0          0.0          0.0  ...            0.0   \n",
       "1          0.0          0.0          0.0          0.0  ...            0.0   \n",
       "2          0.0          0.0          0.0          0.0  ...            0.0   \n",
       "3          0.0          0.0          0.0          0.0  ...            0.0   \n",
       "4          0.0          0.0          0.0          0.0  ...            0.0   \n",
       "\n",
       "   labname_lab03  labname_lab03s  labname_lab05s  labname_laba04  \\\n",
       "0            0.0             0.0             0.0             0.0   \n",
       "1            0.0             0.0             0.0             0.0   \n",
       "2            0.0             0.0             0.0             0.0   \n",
       "3            0.0             0.0             0.0             0.0   \n",
       "4            0.0             0.0             0.0             0.0   \n",
       "\n",
       "   labname_laba04s  labname_laba05  labname_laba06  labname_laba06s  \\\n",
       "0              0.0             0.0             0.0              0.0   \n",
       "1              0.0             0.0             0.0              0.0   \n",
       "2              0.0             0.0             0.0              0.0   \n",
       "3              0.0             0.0             0.0              0.0   \n",
       "4              0.0             0.0             0.0              0.0   \n",
       "\n",
       "   labname_project1  \n",
       "0               1.0  \n",
       "1               1.0  \n",
       "2               1.0  \n",
       "3               1.0  \n",
       "4               1.0  \n",
       "\n",
       "[5 rows x 41 columns]"
      ]
     },
     "execution_count": 14,
     "metadata": {},
     "output_type": "execute_result"
    }
   ],
   "source": [
    "encoded_cat_df.head()"
   ]
  },
  {
   "cell_type": "markdown",
   "id": "d977b42f",
   "metadata": {},
   "source": [
    "Concatenate `encoded_cat_df` *Pandas* dataframe with `df` *Pandas* dataframe:"
   ]
  },
  {
   "cell_type": "code",
   "execution_count": 15,
   "id": "294033ea",
   "metadata": {},
   "outputs": [],
   "source": [
    "df = concat(\n",
    "    [\n",
    "        encoded_cat_df,\n",
    "        df.drop(\n",
    "            columns=[\"uid\", \"labname\", ],\n",
    "        ),\n",
    "    ],\n",
    "    axis=1,\n",
    ")"
   ]
  },
  {
   "cell_type": "markdown",
   "id": "3ff3f2df",
   "metadata": {},
   "source": [
    "Check `df` *Pandas* dataframe:"
   ]
  },
  {
   "cell_type": "code",
   "execution_count": 16,
   "id": "38f8b4a3",
   "metadata": {},
   "outputs": [
    {
     "data": {
      "text/html": [
       "<div>\n",
       "<style scoped>\n",
       "    .dataframe tbody tr th:only-of-type {\n",
       "        vertical-align: middle;\n",
       "    }\n",
       "\n",
       "    .dataframe tbody tr th {\n",
       "        vertical-align: top;\n",
       "    }\n",
       "\n",
       "    .dataframe thead th {\n",
       "        text-align: right;\n",
       "    }\n",
       "</style>\n",
       "<table border=\"1\" class=\"dataframe\">\n",
       "  <thead>\n",
       "    <tr style=\"text-align: right;\">\n",
       "      <th></th>\n",
       "      <th>uid_user_0</th>\n",
       "      <th>uid_user_1</th>\n",
       "      <th>uid_user_10</th>\n",
       "      <th>uid_user_11</th>\n",
       "      <th>uid_user_12</th>\n",
       "      <th>uid_user_13</th>\n",
       "      <th>uid_user_14</th>\n",
       "      <th>uid_user_15</th>\n",
       "      <th>uid_user_16</th>\n",
       "      <th>uid_user_17</th>\n",
       "      <th>...</th>\n",
       "      <th>labname_lab05s</th>\n",
       "      <th>labname_laba04</th>\n",
       "      <th>labname_laba04s</th>\n",
       "      <th>labname_laba05</th>\n",
       "      <th>labname_laba06</th>\n",
       "      <th>labname_laba06s</th>\n",
       "      <th>labname_project1</th>\n",
       "      <th>numTrials</th>\n",
       "      <th>hour</th>\n",
       "      <th>dayofweek</th>\n",
       "    </tr>\n",
       "  </thead>\n",
       "  <tbody>\n",
       "    <tr>\n",
       "      <th>0</th>\n",
       "      <td>0.0</td>\n",
       "      <td>0.0</td>\n",
       "      <td>0.0</td>\n",
       "      <td>0.0</td>\n",
       "      <td>0.0</td>\n",
       "      <td>0.0</td>\n",
       "      <td>0.0</td>\n",
       "      <td>0.0</td>\n",
       "      <td>0.0</td>\n",
       "      <td>0.0</td>\n",
       "      <td>...</td>\n",
       "      <td>0.0</td>\n",
       "      <td>0.0</td>\n",
       "      <td>0.0</td>\n",
       "      <td>0.0</td>\n",
       "      <td>0.0</td>\n",
       "      <td>0.0</td>\n",
       "      <td>1.0</td>\n",
       "      <td>1</td>\n",
       "      <td>5</td>\n",
       "      <td>4</td>\n",
       "    </tr>\n",
       "    <tr>\n",
       "      <th>1</th>\n",
       "      <td>0.0</td>\n",
       "      <td>0.0</td>\n",
       "      <td>0.0</td>\n",
       "      <td>0.0</td>\n",
       "      <td>0.0</td>\n",
       "      <td>0.0</td>\n",
       "      <td>0.0</td>\n",
       "      <td>0.0</td>\n",
       "      <td>0.0</td>\n",
       "      <td>0.0</td>\n",
       "      <td>...</td>\n",
       "      <td>0.0</td>\n",
       "      <td>0.0</td>\n",
       "      <td>0.0</td>\n",
       "      <td>0.0</td>\n",
       "      <td>0.0</td>\n",
       "      <td>0.0</td>\n",
       "      <td>1.0</td>\n",
       "      <td>2</td>\n",
       "      <td>5</td>\n",
       "      <td>4</td>\n",
       "    </tr>\n",
       "    <tr>\n",
       "      <th>2</th>\n",
       "      <td>0.0</td>\n",
       "      <td>0.0</td>\n",
       "      <td>0.0</td>\n",
       "      <td>0.0</td>\n",
       "      <td>0.0</td>\n",
       "      <td>0.0</td>\n",
       "      <td>0.0</td>\n",
       "      <td>0.0</td>\n",
       "      <td>0.0</td>\n",
       "      <td>0.0</td>\n",
       "      <td>...</td>\n",
       "      <td>0.0</td>\n",
       "      <td>0.0</td>\n",
       "      <td>0.0</td>\n",
       "      <td>0.0</td>\n",
       "      <td>0.0</td>\n",
       "      <td>0.0</td>\n",
       "      <td>1.0</td>\n",
       "      <td>3</td>\n",
       "      <td>5</td>\n",
       "      <td>4</td>\n",
       "    </tr>\n",
       "    <tr>\n",
       "      <th>3</th>\n",
       "      <td>0.0</td>\n",
       "      <td>0.0</td>\n",
       "      <td>0.0</td>\n",
       "      <td>0.0</td>\n",
       "      <td>0.0</td>\n",
       "      <td>0.0</td>\n",
       "      <td>0.0</td>\n",
       "      <td>0.0</td>\n",
       "      <td>0.0</td>\n",
       "      <td>0.0</td>\n",
       "      <td>...</td>\n",
       "      <td>0.0</td>\n",
       "      <td>0.0</td>\n",
       "      <td>0.0</td>\n",
       "      <td>0.0</td>\n",
       "      <td>0.0</td>\n",
       "      <td>0.0</td>\n",
       "      <td>1.0</td>\n",
       "      <td>4</td>\n",
       "      <td>5</td>\n",
       "      <td>4</td>\n",
       "    </tr>\n",
       "    <tr>\n",
       "      <th>4</th>\n",
       "      <td>0.0</td>\n",
       "      <td>0.0</td>\n",
       "      <td>0.0</td>\n",
       "      <td>0.0</td>\n",
       "      <td>0.0</td>\n",
       "      <td>0.0</td>\n",
       "      <td>0.0</td>\n",
       "      <td>0.0</td>\n",
       "      <td>0.0</td>\n",
       "      <td>0.0</td>\n",
       "      <td>...</td>\n",
       "      <td>0.0</td>\n",
       "      <td>0.0</td>\n",
       "      <td>0.0</td>\n",
       "      <td>0.0</td>\n",
       "      <td>0.0</td>\n",
       "      <td>0.0</td>\n",
       "      <td>1.0</td>\n",
       "      <td>5</td>\n",
       "      <td>5</td>\n",
       "      <td>4</td>\n",
       "    </tr>\n",
       "  </tbody>\n",
       "</table>\n",
       "<p>5 rows × 44 columns</p>\n",
       "</div>"
      ],
      "text/plain": [
       "   uid_user_0  uid_user_1  uid_user_10  uid_user_11  uid_user_12  uid_user_13  \\\n",
       "0         0.0         0.0          0.0          0.0          0.0          0.0   \n",
       "1         0.0         0.0          0.0          0.0          0.0          0.0   \n",
       "2         0.0         0.0          0.0          0.0          0.0          0.0   \n",
       "3         0.0         0.0          0.0          0.0          0.0          0.0   \n",
       "4         0.0         0.0          0.0          0.0          0.0          0.0   \n",
       "\n",
       "   uid_user_14  uid_user_15  uid_user_16  uid_user_17  ...  labname_lab05s  \\\n",
       "0          0.0          0.0          0.0          0.0  ...             0.0   \n",
       "1          0.0          0.0          0.0          0.0  ...             0.0   \n",
       "2          0.0          0.0          0.0          0.0  ...             0.0   \n",
       "3          0.0          0.0          0.0          0.0  ...             0.0   \n",
       "4          0.0          0.0          0.0          0.0  ...             0.0   \n",
       "\n",
       "   labname_laba04  labname_laba04s  labname_laba05  labname_laba06  \\\n",
       "0             0.0              0.0             0.0             0.0   \n",
       "1             0.0              0.0             0.0             0.0   \n",
       "2             0.0              0.0             0.0             0.0   \n",
       "3             0.0              0.0             0.0             0.0   \n",
       "4             0.0              0.0             0.0             0.0   \n",
       "\n",
       "   labname_laba06s  labname_project1  numTrials  hour  dayofweek  \n",
       "0              0.0               1.0          1     5          4  \n",
       "1              0.0               1.0          2     5          4  \n",
       "2              0.0               1.0          3     5          4  \n",
       "3              0.0               1.0          4     5          4  \n",
       "4              0.0               1.0          5     5          4  \n",
       "\n",
       "[5 rows x 44 columns]"
      ]
     },
     "execution_count": 16,
     "metadata": {},
     "output_type": "execute_result"
    }
   ],
   "source": [
    "df.head()"
   ]
  },
  {
   "cell_type": "markdown",
   "id": "859f4ac8",
   "metadata": {},
   "source": [
    "Create a model of standart scaler:"
   ]
  },
  {
   "cell_type": "code",
   "execution_count": 17,
   "id": "72ea7e71",
   "metadata": {},
   "outputs": [],
   "source": [
    "std_scaler_model: StandardScaler = StandardScaler()"
   ]
  },
  {
   "cell_type": "markdown",
   "id": "6b59ccf0",
   "metadata": {},
   "source": [
    "Apply standart scaler model to the data:"
   ]
  },
  {
   "cell_type": "code",
   "execution_count": 18,
   "id": "0da2db6f",
   "metadata": {},
   "outputs": [],
   "source": [
    "df[[\"numTrials\", \"hour\", ]] = std_scaler_model.fit_transform(\n",
    "    df[[\"numTrials\", \"hour\", ]],\n",
    ")"
   ]
  },
  {
   "cell_type": "markdown",
   "id": "3e483b70",
   "metadata": {},
   "source": [
    "Check `df` *Pandas* dataframe:"
   ]
  },
  {
   "cell_type": "code",
   "execution_count": 19,
   "id": "2cbc40c3",
   "metadata": {},
   "outputs": [
    {
     "data": {
      "text/html": [
       "<div>\n",
       "<style scoped>\n",
       "    .dataframe tbody tr th:only-of-type {\n",
       "        vertical-align: middle;\n",
       "    }\n",
       "\n",
       "    .dataframe tbody tr th {\n",
       "        vertical-align: top;\n",
       "    }\n",
       "\n",
       "    .dataframe thead th {\n",
       "        text-align: right;\n",
       "    }\n",
       "</style>\n",
       "<table border=\"1\" class=\"dataframe\">\n",
       "  <thead>\n",
       "    <tr style=\"text-align: right;\">\n",
       "      <th></th>\n",
       "      <th>uid_user_0</th>\n",
       "      <th>uid_user_1</th>\n",
       "      <th>uid_user_10</th>\n",
       "      <th>uid_user_11</th>\n",
       "      <th>uid_user_12</th>\n",
       "      <th>uid_user_13</th>\n",
       "      <th>uid_user_14</th>\n",
       "      <th>uid_user_15</th>\n",
       "      <th>uid_user_16</th>\n",
       "      <th>uid_user_17</th>\n",
       "      <th>...</th>\n",
       "      <th>labname_lab05s</th>\n",
       "      <th>labname_laba04</th>\n",
       "      <th>labname_laba04s</th>\n",
       "      <th>labname_laba05</th>\n",
       "      <th>labname_laba06</th>\n",
       "      <th>labname_laba06s</th>\n",
       "      <th>labname_project1</th>\n",
       "      <th>numTrials</th>\n",
       "      <th>hour</th>\n",
       "      <th>dayofweek</th>\n",
       "    </tr>\n",
       "  </thead>\n",
       "  <tbody>\n",
       "    <tr>\n",
       "      <th>0</th>\n",
       "      <td>0.0</td>\n",
       "      <td>0.0</td>\n",
       "      <td>0.0</td>\n",
       "      <td>0.0</td>\n",
       "      <td>0.0</td>\n",
       "      <td>0.0</td>\n",
       "      <td>0.0</td>\n",
       "      <td>0.0</td>\n",
       "      <td>0.0</td>\n",
       "      <td>0.0</td>\n",
       "      <td>...</td>\n",
       "      <td>0.0</td>\n",
       "      <td>0.0</td>\n",
       "      <td>0.0</td>\n",
       "      <td>0.0</td>\n",
       "      <td>0.0</td>\n",
       "      <td>0.0</td>\n",
       "      <td>1.0</td>\n",
       "      <td>-0.788667</td>\n",
       "      <td>-2.562352</td>\n",
       "      <td>4</td>\n",
       "    </tr>\n",
       "    <tr>\n",
       "      <th>1</th>\n",
       "      <td>0.0</td>\n",
       "      <td>0.0</td>\n",
       "      <td>0.0</td>\n",
       "      <td>0.0</td>\n",
       "      <td>0.0</td>\n",
       "      <td>0.0</td>\n",
       "      <td>0.0</td>\n",
       "      <td>0.0</td>\n",
       "      <td>0.0</td>\n",
       "      <td>0.0</td>\n",
       "      <td>...</td>\n",
       "      <td>0.0</td>\n",
       "      <td>0.0</td>\n",
       "      <td>0.0</td>\n",
       "      <td>0.0</td>\n",
       "      <td>0.0</td>\n",
       "      <td>0.0</td>\n",
       "      <td>1.0</td>\n",
       "      <td>-0.756764</td>\n",
       "      <td>-2.562352</td>\n",
       "      <td>4</td>\n",
       "    </tr>\n",
       "    <tr>\n",
       "      <th>2</th>\n",
       "      <td>0.0</td>\n",
       "      <td>0.0</td>\n",
       "      <td>0.0</td>\n",
       "      <td>0.0</td>\n",
       "      <td>0.0</td>\n",
       "      <td>0.0</td>\n",
       "      <td>0.0</td>\n",
       "      <td>0.0</td>\n",
       "      <td>0.0</td>\n",
       "      <td>0.0</td>\n",
       "      <td>...</td>\n",
       "      <td>0.0</td>\n",
       "      <td>0.0</td>\n",
       "      <td>0.0</td>\n",
       "      <td>0.0</td>\n",
       "      <td>0.0</td>\n",
       "      <td>0.0</td>\n",
       "      <td>1.0</td>\n",
       "      <td>-0.724861</td>\n",
       "      <td>-2.562352</td>\n",
       "      <td>4</td>\n",
       "    </tr>\n",
       "    <tr>\n",
       "      <th>3</th>\n",
       "      <td>0.0</td>\n",
       "      <td>0.0</td>\n",
       "      <td>0.0</td>\n",
       "      <td>0.0</td>\n",
       "      <td>0.0</td>\n",
       "      <td>0.0</td>\n",
       "      <td>0.0</td>\n",
       "      <td>0.0</td>\n",
       "      <td>0.0</td>\n",
       "      <td>0.0</td>\n",
       "      <td>...</td>\n",
       "      <td>0.0</td>\n",
       "      <td>0.0</td>\n",
       "      <td>0.0</td>\n",
       "      <td>0.0</td>\n",
       "      <td>0.0</td>\n",
       "      <td>0.0</td>\n",
       "      <td>1.0</td>\n",
       "      <td>-0.692958</td>\n",
       "      <td>-2.562352</td>\n",
       "      <td>4</td>\n",
       "    </tr>\n",
       "    <tr>\n",
       "      <th>4</th>\n",
       "      <td>0.0</td>\n",
       "      <td>0.0</td>\n",
       "      <td>0.0</td>\n",
       "      <td>0.0</td>\n",
       "      <td>0.0</td>\n",
       "      <td>0.0</td>\n",
       "      <td>0.0</td>\n",
       "      <td>0.0</td>\n",
       "      <td>0.0</td>\n",
       "      <td>0.0</td>\n",
       "      <td>...</td>\n",
       "      <td>0.0</td>\n",
       "      <td>0.0</td>\n",
       "      <td>0.0</td>\n",
       "      <td>0.0</td>\n",
       "      <td>0.0</td>\n",
       "      <td>0.0</td>\n",
       "      <td>1.0</td>\n",
       "      <td>-0.661055</td>\n",
       "      <td>-2.562352</td>\n",
       "      <td>4</td>\n",
       "    </tr>\n",
       "  </tbody>\n",
       "</table>\n",
       "<p>5 rows × 44 columns</p>\n",
       "</div>"
      ],
      "text/plain": [
       "   uid_user_0  uid_user_1  uid_user_10  uid_user_11  uid_user_12  uid_user_13  \\\n",
       "0         0.0         0.0          0.0          0.0          0.0          0.0   \n",
       "1         0.0         0.0          0.0          0.0          0.0          0.0   \n",
       "2         0.0         0.0          0.0          0.0          0.0          0.0   \n",
       "3         0.0         0.0          0.0          0.0          0.0          0.0   \n",
       "4         0.0         0.0          0.0          0.0          0.0          0.0   \n",
       "\n",
       "   uid_user_14  uid_user_15  uid_user_16  uid_user_17  ...  labname_lab05s  \\\n",
       "0          0.0          0.0          0.0          0.0  ...             0.0   \n",
       "1          0.0          0.0          0.0          0.0  ...             0.0   \n",
       "2          0.0          0.0          0.0          0.0  ...             0.0   \n",
       "3          0.0          0.0          0.0          0.0  ...             0.0   \n",
       "4          0.0          0.0          0.0          0.0  ...             0.0   \n",
       "\n",
       "   labname_laba04  labname_laba04s  labname_laba05  labname_laba06  \\\n",
       "0             0.0              0.0             0.0             0.0   \n",
       "1             0.0              0.0             0.0             0.0   \n",
       "2             0.0              0.0             0.0             0.0   \n",
       "3             0.0              0.0             0.0             0.0   \n",
       "4             0.0              0.0             0.0             0.0   \n",
       "\n",
       "   labname_laba06s  labname_project1  numTrials      hour  dayofweek  \n",
       "0              0.0               1.0  -0.788667 -2.562352          4  \n",
       "1              0.0               1.0  -0.756764 -2.562352          4  \n",
       "2              0.0               1.0  -0.724861 -2.562352          4  \n",
       "3              0.0               1.0  -0.692958 -2.562352          4  \n",
       "4              0.0               1.0  -0.661055 -2.562352          4  \n",
       "\n",
       "[5 rows x 44 columns]"
      ]
     },
     "execution_count": 19,
     "metadata": {},
     "output_type": "execute_result"
    }
   ],
   "source": [
    "df.head()"
   ]
  },
  {
   "cell_type": "markdown",
   "id": "04b7db19",
   "metadata": {},
   "source": [
    "Create `naive_prediction` *Pandas* dataframe column with a value of the most popular class:"
   ]
  },
  {
   "cell_type": "code",
   "execution_count": 20,
   "id": "3aed3580",
   "metadata": {},
   "outputs": [],
   "source": [
    "df[\"naive_prediction\"] = df[\"dayofweek\"].value_counts().index[0]"
   ]
  },
  {
   "cell_type": "markdown",
   "id": "6c3ba3e7",
   "metadata": {},
   "source": [
    "Check `df` *Pandas* dataframe:"
   ]
  },
  {
   "cell_type": "code",
   "execution_count": 21,
   "id": "c3dcc41a",
   "metadata": {},
   "outputs": [
    {
     "data": {
      "text/html": [
       "<div>\n",
       "<style scoped>\n",
       "    .dataframe tbody tr th:only-of-type {\n",
       "        vertical-align: middle;\n",
       "    }\n",
       "\n",
       "    .dataframe tbody tr th {\n",
       "        vertical-align: top;\n",
       "    }\n",
       "\n",
       "    .dataframe thead th {\n",
       "        text-align: right;\n",
       "    }\n",
       "</style>\n",
       "<table border=\"1\" class=\"dataframe\">\n",
       "  <thead>\n",
       "    <tr style=\"text-align: right;\">\n",
       "      <th></th>\n",
       "      <th>uid_user_0</th>\n",
       "      <th>uid_user_1</th>\n",
       "      <th>uid_user_10</th>\n",
       "      <th>uid_user_11</th>\n",
       "      <th>uid_user_12</th>\n",
       "      <th>uid_user_13</th>\n",
       "      <th>uid_user_14</th>\n",
       "      <th>uid_user_15</th>\n",
       "      <th>uid_user_16</th>\n",
       "      <th>uid_user_17</th>\n",
       "      <th>...</th>\n",
       "      <th>labname_laba04</th>\n",
       "      <th>labname_laba04s</th>\n",
       "      <th>labname_laba05</th>\n",
       "      <th>labname_laba06</th>\n",
       "      <th>labname_laba06s</th>\n",
       "      <th>labname_project1</th>\n",
       "      <th>numTrials</th>\n",
       "      <th>hour</th>\n",
       "      <th>dayofweek</th>\n",
       "      <th>naive_prediction</th>\n",
       "    </tr>\n",
       "  </thead>\n",
       "  <tbody>\n",
       "    <tr>\n",
       "      <th>0</th>\n",
       "      <td>0.0</td>\n",
       "      <td>0.0</td>\n",
       "      <td>0.0</td>\n",
       "      <td>0.0</td>\n",
       "      <td>0.0</td>\n",
       "      <td>0.0</td>\n",
       "      <td>0.0</td>\n",
       "      <td>0.0</td>\n",
       "      <td>0.0</td>\n",
       "      <td>0.0</td>\n",
       "      <td>...</td>\n",
       "      <td>0.0</td>\n",
       "      <td>0.0</td>\n",
       "      <td>0.0</td>\n",
       "      <td>0.0</td>\n",
       "      <td>0.0</td>\n",
       "      <td>1.0</td>\n",
       "      <td>-0.788667</td>\n",
       "      <td>-2.562352</td>\n",
       "      <td>4</td>\n",
       "      <td>3</td>\n",
       "    </tr>\n",
       "    <tr>\n",
       "      <th>1</th>\n",
       "      <td>0.0</td>\n",
       "      <td>0.0</td>\n",
       "      <td>0.0</td>\n",
       "      <td>0.0</td>\n",
       "      <td>0.0</td>\n",
       "      <td>0.0</td>\n",
       "      <td>0.0</td>\n",
       "      <td>0.0</td>\n",
       "      <td>0.0</td>\n",
       "      <td>0.0</td>\n",
       "      <td>...</td>\n",
       "      <td>0.0</td>\n",
       "      <td>0.0</td>\n",
       "      <td>0.0</td>\n",
       "      <td>0.0</td>\n",
       "      <td>0.0</td>\n",
       "      <td>1.0</td>\n",
       "      <td>-0.756764</td>\n",
       "      <td>-2.562352</td>\n",
       "      <td>4</td>\n",
       "      <td>3</td>\n",
       "    </tr>\n",
       "    <tr>\n",
       "      <th>2</th>\n",
       "      <td>0.0</td>\n",
       "      <td>0.0</td>\n",
       "      <td>0.0</td>\n",
       "      <td>0.0</td>\n",
       "      <td>0.0</td>\n",
       "      <td>0.0</td>\n",
       "      <td>0.0</td>\n",
       "      <td>0.0</td>\n",
       "      <td>0.0</td>\n",
       "      <td>0.0</td>\n",
       "      <td>...</td>\n",
       "      <td>0.0</td>\n",
       "      <td>0.0</td>\n",
       "      <td>0.0</td>\n",
       "      <td>0.0</td>\n",
       "      <td>0.0</td>\n",
       "      <td>1.0</td>\n",
       "      <td>-0.724861</td>\n",
       "      <td>-2.562352</td>\n",
       "      <td>4</td>\n",
       "      <td>3</td>\n",
       "    </tr>\n",
       "    <tr>\n",
       "      <th>3</th>\n",
       "      <td>0.0</td>\n",
       "      <td>0.0</td>\n",
       "      <td>0.0</td>\n",
       "      <td>0.0</td>\n",
       "      <td>0.0</td>\n",
       "      <td>0.0</td>\n",
       "      <td>0.0</td>\n",
       "      <td>0.0</td>\n",
       "      <td>0.0</td>\n",
       "      <td>0.0</td>\n",
       "      <td>...</td>\n",
       "      <td>0.0</td>\n",
       "      <td>0.0</td>\n",
       "      <td>0.0</td>\n",
       "      <td>0.0</td>\n",
       "      <td>0.0</td>\n",
       "      <td>1.0</td>\n",
       "      <td>-0.692958</td>\n",
       "      <td>-2.562352</td>\n",
       "      <td>4</td>\n",
       "      <td>3</td>\n",
       "    </tr>\n",
       "    <tr>\n",
       "      <th>4</th>\n",
       "      <td>0.0</td>\n",
       "      <td>0.0</td>\n",
       "      <td>0.0</td>\n",
       "      <td>0.0</td>\n",
       "      <td>0.0</td>\n",
       "      <td>0.0</td>\n",
       "      <td>0.0</td>\n",
       "      <td>0.0</td>\n",
       "      <td>0.0</td>\n",
       "      <td>0.0</td>\n",
       "      <td>...</td>\n",
       "      <td>0.0</td>\n",
       "      <td>0.0</td>\n",
       "      <td>0.0</td>\n",
       "      <td>0.0</td>\n",
       "      <td>0.0</td>\n",
       "      <td>1.0</td>\n",
       "      <td>-0.661055</td>\n",
       "      <td>-2.562352</td>\n",
       "      <td>4</td>\n",
       "      <td>3</td>\n",
       "    </tr>\n",
       "  </tbody>\n",
       "</table>\n",
       "<p>5 rows × 45 columns</p>\n",
       "</div>"
      ],
      "text/plain": [
       "   uid_user_0  uid_user_1  uid_user_10  uid_user_11  uid_user_12  uid_user_13  \\\n",
       "0         0.0         0.0          0.0          0.0          0.0          0.0   \n",
       "1         0.0         0.0          0.0          0.0          0.0          0.0   \n",
       "2         0.0         0.0          0.0          0.0          0.0          0.0   \n",
       "3         0.0         0.0          0.0          0.0          0.0          0.0   \n",
       "4         0.0         0.0          0.0          0.0          0.0          0.0   \n",
       "\n",
       "   uid_user_14  uid_user_15  uid_user_16  uid_user_17  ...  labname_laba04  \\\n",
       "0          0.0          0.0          0.0          0.0  ...             0.0   \n",
       "1          0.0          0.0          0.0          0.0  ...             0.0   \n",
       "2          0.0          0.0          0.0          0.0  ...             0.0   \n",
       "3          0.0          0.0          0.0          0.0  ...             0.0   \n",
       "4          0.0          0.0          0.0          0.0  ...             0.0   \n",
       "\n",
       "   labname_laba04s  labname_laba05  labname_laba06  labname_laba06s  \\\n",
       "0              0.0             0.0             0.0              0.0   \n",
       "1              0.0             0.0             0.0              0.0   \n",
       "2              0.0             0.0             0.0              0.0   \n",
       "3              0.0             0.0             0.0              0.0   \n",
       "4              0.0             0.0             0.0              0.0   \n",
       "\n",
       "   labname_project1  numTrials      hour  dayofweek  naive_prediction  \n",
       "0               1.0  -0.788667 -2.562352          4                 3  \n",
       "1               1.0  -0.756764 -2.562352          4                 3  \n",
       "2               1.0  -0.724861 -2.562352          4                 3  \n",
       "3               1.0  -0.692958 -2.562352          4                 3  \n",
       "4               1.0  -0.661055 -2.562352          4                 3  \n",
       "\n",
       "[5 rows x 45 columns]"
      ]
     },
     "execution_count": 21,
     "metadata": {},
     "output_type": "execute_result"
    }
   ],
   "source": [
    "df.head()"
   ]
  },
  {
   "cell_type": "markdown",
   "id": "44769124",
   "metadata": {},
   "source": [
    "Prepare features and target variables:"
   ]
  },
  {
   "cell_type": "code",
   "execution_count": 22,
   "id": "3a41dc75",
   "metadata": {},
   "outputs": [],
   "source": [
    "X: DataFrame = df.drop(\n",
    "    columns=[\"dayofweek\", \"naive_prediction\", ],\n",
    ")\n",
    "y: Series = df[\"dayofweek\"]"
   ]
  },
  {
   "cell_type": "markdown",
   "id": "5df8ea58",
   "metadata": {},
   "source": [
    "Check `X` and `y` variables:"
   ]
  },
  {
   "cell_type": "code",
   "execution_count": 23,
   "id": "8577266b",
   "metadata": {},
   "outputs": [
    {
     "data": {
      "text/html": [
       "<div>\n",
       "<style scoped>\n",
       "    .dataframe tbody tr th:only-of-type {\n",
       "        vertical-align: middle;\n",
       "    }\n",
       "\n",
       "    .dataframe tbody tr th {\n",
       "        vertical-align: top;\n",
       "    }\n",
       "\n",
       "    .dataframe thead th {\n",
       "        text-align: right;\n",
       "    }\n",
       "</style>\n",
       "<table border=\"1\" class=\"dataframe\">\n",
       "  <thead>\n",
       "    <tr style=\"text-align: right;\">\n",
       "      <th></th>\n",
       "      <th>uid_user_0</th>\n",
       "      <th>uid_user_1</th>\n",
       "      <th>uid_user_10</th>\n",
       "      <th>uid_user_11</th>\n",
       "      <th>uid_user_12</th>\n",
       "      <th>uid_user_13</th>\n",
       "      <th>uid_user_14</th>\n",
       "      <th>uid_user_15</th>\n",
       "      <th>uid_user_16</th>\n",
       "      <th>uid_user_17</th>\n",
       "      <th>...</th>\n",
       "      <th>labname_lab03s</th>\n",
       "      <th>labname_lab05s</th>\n",
       "      <th>labname_laba04</th>\n",
       "      <th>labname_laba04s</th>\n",
       "      <th>labname_laba05</th>\n",
       "      <th>labname_laba06</th>\n",
       "      <th>labname_laba06s</th>\n",
       "      <th>labname_project1</th>\n",
       "      <th>numTrials</th>\n",
       "      <th>hour</th>\n",
       "    </tr>\n",
       "  </thead>\n",
       "  <tbody>\n",
       "    <tr>\n",
       "      <th>0</th>\n",
       "      <td>0.0</td>\n",
       "      <td>0.0</td>\n",
       "      <td>0.0</td>\n",
       "      <td>0.0</td>\n",
       "      <td>0.0</td>\n",
       "      <td>0.0</td>\n",
       "      <td>0.0</td>\n",
       "      <td>0.0</td>\n",
       "      <td>0.0</td>\n",
       "      <td>0.0</td>\n",
       "      <td>...</td>\n",
       "      <td>0.0</td>\n",
       "      <td>0.0</td>\n",
       "      <td>0.0</td>\n",
       "      <td>0.0</td>\n",
       "      <td>0.0</td>\n",
       "      <td>0.0</td>\n",
       "      <td>0.0</td>\n",
       "      <td>1.0</td>\n",
       "      <td>-0.788667</td>\n",
       "      <td>-2.562352</td>\n",
       "    </tr>\n",
       "    <tr>\n",
       "      <th>1</th>\n",
       "      <td>0.0</td>\n",
       "      <td>0.0</td>\n",
       "      <td>0.0</td>\n",
       "      <td>0.0</td>\n",
       "      <td>0.0</td>\n",
       "      <td>0.0</td>\n",
       "      <td>0.0</td>\n",
       "      <td>0.0</td>\n",
       "      <td>0.0</td>\n",
       "      <td>0.0</td>\n",
       "      <td>...</td>\n",
       "      <td>0.0</td>\n",
       "      <td>0.0</td>\n",
       "      <td>0.0</td>\n",
       "      <td>0.0</td>\n",
       "      <td>0.0</td>\n",
       "      <td>0.0</td>\n",
       "      <td>0.0</td>\n",
       "      <td>1.0</td>\n",
       "      <td>-0.756764</td>\n",
       "      <td>-2.562352</td>\n",
       "    </tr>\n",
       "    <tr>\n",
       "      <th>2</th>\n",
       "      <td>0.0</td>\n",
       "      <td>0.0</td>\n",
       "      <td>0.0</td>\n",
       "      <td>0.0</td>\n",
       "      <td>0.0</td>\n",
       "      <td>0.0</td>\n",
       "      <td>0.0</td>\n",
       "      <td>0.0</td>\n",
       "      <td>0.0</td>\n",
       "      <td>0.0</td>\n",
       "      <td>...</td>\n",
       "      <td>0.0</td>\n",
       "      <td>0.0</td>\n",
       "      <td>0.0</td>\n",
       "      <td>0.0</td>\n",
       "      <td>0.0</td>\n",
       "      <td>0.0</td>\n",
       "      <td>0.0</td>\n",
       "      <td>1.0</td>\n",
       "      <td>-0.724861</td>\n",
       "      <td>-2.562352</td>\n",
       "    </tr>\n",
       "    <tr>\n",
       "      <th>3</th>\n",
       "      <td>0.0</td>\n",
       "      <td>0.0</td>\n",
       "      <td>0.0</td>\n",
       "      <td>0.0</td>\n",
       "      <td>0.0</td>\n",
       "      <td>0.0</td>\n",
       "      <td>0.0</td>\n",
       "      <td>0.0</td>\n",
       "      <td>0.0</td>\n",
       "      <td>0.0</td>\n",
       "      <td>...</td>\n",
       "      <td>0.0</td>\n",
       "      <td>0.0</td>\n",
       "      <td>0.0</td>\n",
       "      <td>0.0</td>\n",
       "      <td>0.0</td>\n",
       "      <td>0.0</td>\n",
       "      <td>0.0</td>\n",
       "      <td>1.0</td>\n",
       "      <td>-0.692958</td>\n",
       "      <td>-2.562352</td>\n",
       "    </tr>\n",
       "    <tr>\n",
       "      <th>4</th>\n",
       "      <td>0.0</td>\n",
       "      <td>0.0</td>\n",
       "      <td>0.0</td>\n",
       "      <td>0.0</td>\n",
       "      <td>0.0</td>\n",
       "      <td>0.0</td>\n",
       "      <td>0.0</td>\n",
       "      <td>0.0</td>\n",
       "      <td>0.0</td>\n",
       "      <td>0.0</td>\n",
       "      <td>...</td>\n",
       "      <td>0.0</td>\n",
       "      <td>0.0</td>\n",
       "      <td>0.0</td>\n",
       "      <td>0.0</td>\n",
       "      <td>0.0</td>\n",
       "      <td>0.0</td>\n",
       "      <td>0.0</td>\n",
       "      <td>1.0</td>\n",
       "      <td>-0.661055</td>\n",
       "      <td>-2.562352</td>\n",
       "    </tr>\n",
       "  </tbody>\n",
       "</table>\n",
       "<p>5 rows × 43 columns</p>\n",
       "</div>"
      ],
      "text/plain": [
       "   uid_user_0  uid_user_1  uid_user_10  uid_user_11  uid_user_12  uid_user_13  \\\n",
       "0         0.0         0.0          0.0          0.0          0.0          0.0   \n",
       "1         0.0         0.0          0.0          0.0          0.0          0.0   \n",
       "2         0.0         0.0          0.0          0.0          0.0          0.0   \n",
       "3         0.0         0.0          0.0          0.0          0.0          0.0   \n",
       "4         0.0         0.0          0.0          0.0          0.0          0.0   \n",
       "\n",
       "   uid_user_14  uid_user_15  uid_user_16  uid_user_17  ...  labname_lab03s  \\\n",
       "0          0.0          0.0          0.0          0.0  ...             0.0   \n",
       "1          0.0          0.0          0.0          0.0  ...             0.0   \n",
       "2          0.0          0.0          0.0          0.0  ...             0.0   \n",
       "3          0.0          0.0          0.0          0.0  ...             0.0   \n",
       "4          0.0          0.0          0.0          0.0  ...             0.0   \n",
       "\n",
       "   labname_lab05s  labname_laba04  labname_laba04s  labname_laba05  \\\n",
       "0             0.0             0.0              0.0             0.0   \n",
       "1             0.0             0.0              0.0             0.0   \n",
       "2             0.0             0.0              0.0             0.0   \n",
       "3             0.0             0.0              0.0             0.0   \n",
       "4             0.0             0.0              0.0             0.0   \n",
       "\n",
       "   labname_laba06  labname_laba06s  labname_project1  numTrials      hour  \n",
       "0             0.0              0.0               1.0  -0.788667 -2.562352  \n",
       "1             0.0              0.0               1.0  -0.756764 -2.562352  \n",
       "2             0.0              0.0               1.0  -0.724861 -2.562352  \n",
       "3             0.0              0.0               1.0  -0.692958 -2.562352  \n",
       "4             0.0              0.0               1.0  -0.661055 -2.562352  \n",
       "\n",
       "[5 rows x 43 columns]"
      ]
     },
     "execution_count": 23,
     "metadata": {},
     "output_type": "execute_result"
    }
   ],
   "source": [
    "X.head()"
   ]
  },
  {
   "cell_type": "code",
   "execution_count": 24,
   "id": "a757083b",
   "metadata": {},
   "outputs": [
    {
     "data": {
      "text/plain": [
       "0    4\n",
       "1    4\n",
       "2    4\n",
       "3    4\n",
       "4    4\n",
       "Name: dayofweek, dtype: int32"
      ]
     },
     "execution_count": 24,
     "metadata": {},
     "output_type": "execute_result"
    }
   ],
   "source": [
    "y.head()"
   ]
  },
  {
   "cell_type": "markdown",
   "id": "b431c893",
   "metadata": {},
   "source": [
    "## Find out the accuracy of the naive case:"
   ]
  },
  {
   "cell_type": "code",
   "execution_count": 25,
   "id": "9375d3c1",
   "metadata": {},
   "outputs": [
    {
     "name": "stdout",
     "output_type": "stream",
     "text": [
      "The naive case accuracy is: 0.235\n"
     ]
    }
   ],
   "source": [
    "print(\n",
    "    \"The naive case accuracy is:\",\n",
    "    round(\n",
    "        accuracy_score(\n",
    "            df[\"dayofweek\"],\n",
    "            df[\"naive_prediction\"],\n",
    "        ),\n",
    "        3,\n",
    "    ),\n",
    ") "
   ]
  },
  {
   "cell_type": "markdown",
   "id": "416fc733",
   "metadata": {},
   "source": [
    "Create a model of *logistic regression*:"
   ]
  },
  {
   "cell_type": "code",
   "execution_count": 26,
   "id": "d0d7a2fd",
   "metadata": {},
   "outputs": [],
   "source": [
    "log_reg_model: LogisticRegression = LogisticRegression(\n",
    "    random_state=21,\n",
    "    fit_intercept=False,\n",
    ")"
   ]
  },
  {
   "cell_type": "markdown",
   "id": "c6b1cd2b",
   "metadata": {},
   "source": [
    "Train *logistic regression* model on the data:"
   ]
  },
  {
   "cell_type": "code",
   "execution_count": 27,
   "id": "01704b3a",
   "metadata": {},
   "outputs": [],
   "source": [
    "log_reg_model.fit(X, y, );"
   ]
  },
  {
   "cell_type": "markdown",
   "id": "ec70194e",
   "metadata": {},
   "source": [
    "Calculate *logistic regression* model accuracy for the data:"
   ]
  },
  {
   "cell_type": "code",
   "execution_count": 28,
   "id": "4f0f1623",
   "metadata": {},
   "outputs": [
    {
     "name": "stdout",
     "output_type": "stream",
     "text": [
      "The logistic regression model accuracy is: 0.641\n"
     ]
    }
   ],
   "source": [
    "print(\n",
    "    \"The logistic regression model accuracy is:\",\n",
    "    round(\n",
    "        accuracy_score(\n",
    "            df[\"dayofweek\"],\n",
    "            log_reg_model.predict(X, ),\n",
    "        ),\n",
    "        3,\n",
    "    ),\n",
    ")"
   ]
  },
  {
   "cell_type": "markdown",
   "id": "2ca84308",
   "metadata": {},
   "source": [
    "Draw a plot for the *logistic regression* model with top `10` most important features:"
   ]
  },
  {
   "cell_type": "code",
   "execution_count": 29,
   "id": "fb7ccfce",
   "metadata": {},
   "outputs": [
    {
     "data": {
      "image/png": "[encoded data removed]",
      "text/plain": [
       "<Figure size 640x480 with 1 Axes>"
      ]
     },
     "metadata": {},
     "output_type": "display_data"
    }
   ],
   "source": [
    "draw_top_important_features(\n",
    "    log_reg_model.feature_names_in_,\n",
    "    sum(\n",
    "        abs(log_reg_model.coef_, ),\n",
    "        axis=0,\n",
    "    ),\n",
    ")"
   ]
  },
  {
   "cell_type": "markdown",
   "id": "3ab7a72b",
   "metadata": {},
   "source": [
    "Create a model of *SVC*:"
   ]
  },
  {
   "cell_type": "code",
   "execution_count": 30,
   "id": "e3428ea6",
   "metadata": {},
   "outputs": [],
   "source": [
    "svc_model: SVC = SVC(\n",
    "    kernel=\"linear\",\n",
    "    probability=True,\n",
    "    random_state=21,\n",
    ")"
   ]
  },
  {
   "cell_type": "markdown",
   "id": "28de17be",
   "metadata": {},
   "source": [
    "By default *SVC* uses \"one vs one\" strategy of the classification.\n",
    "To calculate importance for a feature you need to use `OneVsRestClassifier` over the *SVC* and sum all the individual feature importances for all the target values:"
   ]
  },
  {
   "cell_type": "code",
   "execution_count": 31,
   "id": "f5908e5f",
   "metadata": {},
   "outputs": [],
   "source": [
    "svc_multi_model: OneVsRestClassifier = OneVsRestClassifier(svc_model, )"
   ]
  },
  {
   "cell_type": "markdown",
   "id": "0ba5bbc8",
   "metadata": {},
   "source": [
    "Train *SVC* model on the data:"
   ]
  },
  {
   "cell_type": "code",
   "execution_count": 32,
   "id": "92669e1e",
   "metadata": {},
   "outputs": [],
   "source": [
    "svc_multi_model.fit(X, y, );"
   ]
  },
  {
   "cell_type": "markdown",
   "id": "408bafa7",
   "metadata": {},
   "source": [
    "Calculate *SVC* model accuracy for the data:"
   ]
  },
  {
   "cell_type": "code",
   "execution_count": 33,
   "id": "0e3d518d",
   "metadata": {},
   "outputs": [
    {
     "name": "stdout",
     "output_type": "stream",
     "text": [
      "The SVC model accuracy is: 0.612\n"
     ]
    }
   ],
   "source": [
    "print(\n",
    "    \"The SVC model accuracy is:\",\n",
    "    round(\n",
    "        accuracy_score(\n",
    "            df[\"dayofweek\"],\n",
    "            svc_multi_model.predict(X, ),\n",
    "        ),\n",
    "        3,\n",
    "    ),\n",
    ")"
   ]
  },
  {
   "cell_type": "markdown",
   "id": "999f1079",
   "metadata": {},
   "source": [
    "Create a dictionary with differents *SVC* model kernels:"
   ]
  },
  {
   "cell_type": "code",
   "execution_count": 34,
   "id": "39503e7f",
   "metadata": {},
   "outputs": [],
   "source": [
    "svc_kernels: dict[str, float] = {\n",
    "    \"rbf\": 0.0,\n",
    "    \"poly\": 0.0,\n",
    "    \"linear\": 0.0,\n",
    "    \"sigmoid\": 0.0,\n",
    "}"
   ]
  },
  {
   "cell_type": "markdown",
   "id": "bb92cef5",
   "metadata": {},
   "source": [
    "Try differents *SVC* model kernels:"
   ]
  },
  {
   "cell_type": "code",
   "execution_count": 35,
   "id": "2be3c461",
   "metadata": {},
   "outputs": [],
   "source": [
    "for svc_kernel in svc_kernels.keys():\n",
    "    loc_svc_model: SVC = SVC(\n",
    "        probability=True,\n",
    "        random_state=21,\n",
    "        kernel=svc_kernel,\n",
    "    )\n",
    "    loc_svc_multi_model: OneVsRestClassifier = OneVsRestClassifier(\n",
    "        loc_svc_model,\n",
    "    )\n",
    "\n",
    "    loc_svc_model.fit(X, y, )\n",
    "\n",
    "    svc_kernels[svc_kernel] = round(\n",
    "        accuracy_score(\n",
    "            df[\"dayofweek\"],\n",
    "            loc_svc_model.predict(X, ),\n",
    "        ),\n",
    "        3,\n",
    "    )"
   ]
  },
  {
   "cell_type": "markdown",
   "id": "cb7a32d8",
   "metadata": {},
   "source": [
    "Find the best *SVC* model kernel:"
   ]
  },
  {
   "cell_type": "code",
   "execution_count": 36,
   "id": "b25adfca",
   "metadata": {},
   "outputs": [
    {
     "name": "stdout",
     "output_type": "stream",
     "text": [
      "The best SVC model kernel is: poly\n"
     ]
    }
   ],
   "source": [
    "print(\n",
    "    f\"The best SVC model kernel is:\",\n",
    "    max(\n",
    "        svc_kernels,\n",
    "        key=lambda svc_kernel: svc_kernel[1],\n",
    "    ),\n",
    ")"
   ]
  },
  {
   "cell_type": "markdown",
   "id": "c56d46ef",
   "metadata": {},
   "source": [
    "Draw a plot for the *SVC* model with top `10` most important features for the `linear` kernel:"
   ]
  },
  {
   "cell_type": "code",
   "execution_count": 37,
   "id": "f1fd25dc",
   "metadata": {},
   "outputs": [
    {
     "data": {
      "image/png": "[encoded data removed]",
      "text/plain": [
       "<Figure size 640x480 with 1 Axes>"
      ]
     },
     "metadata": {},
     "output_type": "display_data"
    }
   ],
   "source": [
    "draw_top_important_features(\n",
    "    svc_multi_model.estimators_[0].feature_names_in_,\n",
    "    sum(\n",
    "        abs(\n",
    "            vstack([\n",
    "                estimator.coef_\n",
    "                for estimator\n",
    "                in svc_multi_model.estimators_\n",
    "            ], ),\n",
    "        ),\n",
    "        axis=0,\n",
    "    ),\n",
    ")"
   ]
  },
  {
   "cell_type": "markdown",
   "id": "f9afcc28",
   "metadata": {},
   "source": [
    "Create a model of *decision tree*:"
   ]
  },
  {
   "cell_type": "code",
   "execution_count": 38,
   "id": "f6f9902c",
   "metadata": {},
   "outputs": [],
   "source": [
    "tree_model: DecisionTreeClassifier = DecisionTreeClassifier(\n",
    "    max_depth=4,\n",
    "    random_state=21,\n",
    ")"
   ]
  },
  {
   "cell_type": "markdown",
   "id": "7ee0787f",
   "metadata": {},
   "source": [
    "Train *decision tree* model on the data:"
   ]
  },
  {
   "cell_type": "code",
   "execution_count": 39,
   "id": "be57d9a6",
   "metadata": {},
   "outputs": [],
   "source": [
    "tree_model.fit(X, y, );"
   ]
  },
  {
   "cell_type": "markdown",
   "id": "5a89cce1",
   "metadata": {},
   "source": [
    "Calculate *decision tree* model accuracy for the data:"
   ]
  },
  {
   "cell_type": "code",
   "execution_count": 40,
   "id": "c439120e",
   "metadata": {},
   "outputs": [
    {
     "name": "stdout",
     "output_type": "stream",
     "text": [
      "The decision tree model accuracy is: 0.552\n"
     ]
    }
   ],
   "source": [
    "print(\n",
    "    \"The decision tree model accuracy is:\",\n",
    "    round(\n",
    "        accuracy_score(\n",
    "            df[\"dayofweek\"],\n",
    "            tree_model.predict(X, ),\n",
    "        ),\n",
    "        3,\n",
    "    ),\n",
    ")"
   ]
  },
  {
   "cell_type": "markdown",
   "id": "f10e2e93",
   "metadata": {},
   "source": [
    "Create a dictionary with differents *decision tree* model `max_depth` parameter values:"
   ]
  },
  {
   "cell_type": "code",
   "execution_count": 41,
   "id": "443a7548",
   "metadata": {},
   "outputs": [],
   "source": [
    "max_depths: dict[int, float] = {max_depth: 0.0 for max_depth in range(2, 21, )}"
   ]
  },
  {
   "cell_type": "markdown",
   "id": "ef36cc5f",
   "metadata": {},
   "source": [
    "Try differents *decision tree* model `max_depth` parameter values:"
   ]
  },
  {
   "cell_type": "code",
   "execution_count": 42,
   "id": "a090fe24",
   "metadata": {},
   "outputs": [],
   "source": [
    "for max_depth in max_depths:\n",
    "    loc_tree_model: DecisionTreeClassifier = DecisionTreeClassifier(\n",
    "        max_depth=max_depth,\n",
    "        random_state=21,\n",
    "    )\n",
    "\n",
    "    loc_tree_model.fit(X, y, )\n",
    "\n",
    "    max_depths[max_depth] = round(\n",
    "        accuracy_score(\n",
    "            df[\"dayofweek\"],\n",
    "            loc_tree_model.predict(X, ),\n",
    "        ),\n",
    "        3,\n",
    "    )"
   ]
  },
  {
   "cell_type": "markdown",
   "id": "bd354cf1",
   "metadata": {},
   "source": [
    "Find the best *decision tree* model `max_depth` parameter value:"
   ]
  },
  {
   "cell_type": "code",
   "execution_count": 43,
   "id": "41c60463",
   "metadata": {},
   "outputs": [
    {
     "name": "stdout",
     "output_type": "stream",
     "text": [
      "The best decision tree model `max_depth` parameter value is: 20\n"
     ]
    }
   ],
   "source": [
    "print(\n",
    "    f\"The best decision tree model `max_depth` parameter value is:\",\n",
    "    max(\n",
    "        max_depths.items(),\n",
    "        key=lambda max_depth: max_depth[1],\n",
    "    )[0],\n",
    ")"
   ]
  },
  {
   "cell_type": "markdown",
   "id": "00aade09",
   "metadata": {},
   "source": [
    "Draw a plot for the *decision tree* model with top `10` most important features:"
   ]
  },
  {
   "cell_type": "code",
   "execution_count": 44,
   "id": "8c561a57",
   "metadata": {},
   "outputs": [
    {
     "data": {
      "image/png": "[encoded data removed]",
      "text/plain": [
       "<Figure size 640x480 with 1 Axes>"
      ]
     },
     "metadata": {},
     "output_type": "display_data"
    }
   ],
   "source": [
    "draw_top_important_features(\n",
    "    tree_model.feature_names_in_,\n",
    "    tree_model.feature_importances_,\n",
    ")"
   ]
  },
  {
   "cell_type": "markdown",
   "id": "a870279f",
   "metadata": {},
   "source": [
    "## *Random forest* is a set of individual *decision tree*s."
   ]
  },
  {
   "cell_type": "markdown",
   "id": "eb9523c1",
   "metadata": {},
   "source": [
    "Create a model of *random forest*:"
   ]
  },
  {
   "cell_type": "code",
   "execution_count": 45,
   "id": "018ae6bb",
   "metadata": {},
   "outputs": [],
   "source": [
    "forest_tree_model: RandomForestClassifier = RandomForestClassifier(\n",
    "    max_depth=25,\n",
    "    random_state=21,\n",
    "    n_estimators=100,\n",
    ")"
   ]
  },
  {
   "cell_type": "markdown",
   "id": "5261aaa6",
   "metadata": {},
   "source": [
    "Train *random forest* model on the data:"
   ]
  },
  {
   "cell_type": "code",
   "execution_count": 46,
   "id": "59d0c223",
   "metadata": {},
   "outputs": [],
   "source": [
    "forest_tree_model.fit(X, y, );"
   ]
  },
  {
   "cell_type": "markdown",
   "id": "87cff91b",
   "metadata": {},
   "source": [
    "Calculate *random forest* model accuracy for the data:"
   ]
  },
  {
   "cell_type": "code",
   "execution_count": 47,
   "id": "319b096d",
   "metadata": {},
   "outputs": [
    {
     "name": "stdout",
     "output_type": "stream",
     "text": [
      "The random forest model accuracy is: 0.999\n"
     ]
    }
   ],
   "source": [
    "print(\n",
    "    \"The random forest model accuracy is:\",\n",
    "    round(\n",
    "        accuracy_score(\n",
    "            df[\"dayofweek\"],\n",
    "            forest_tree_model.predict(X, ),\n",
    "        ),\n",
    "        3,\n",
    "    ),\n",
    ")"
   ]
  },
  {
   "cell_type": "markdown",
   "id": "95d18dac",
   "metadata": {},
   "source": [
    "Create a list with differents *random forest* model `max_depth` parameter values:"
   ]
  },
  {
   "cell_type": "code",
   "execution_count": 48,
   "id": "1fd28ea2",
   "metadata": {},
   "outputs": [],
   "source": [
    "max_depths: list[int] = [max_depth for max_depth in range(2, 20, )]"
   ]
  },
  {
   "cell_type": "markdown",
   "id": "1588feb5",
   "metadata": {},
   "source": [
    "Create a list with differents *random forest* model `n_estimators` parameter values:"
   ]
  },
  {
   "cell_type": "code",
   "execution_count": 49,
   "id": "81053606",
   "metadata": {},
   "outputs": [],
   "source": [
    "n_estimators: list[int] = [\n",
    "    curr_n_estimators\n",
    "    for curr_n_estimators\n",
    "    in range(30, 300, 10, )\n",
    "]"
   ]
  },
  {
   "cell_type": "markdown",
   "id": "e8370127",
   "metadata": {},
   "source": [
    "Try differents *random forest* model values of parameters:"
   ]
  },
  {
   "cell_type": "code",
   "execution_count": 50,
   "id": "adefd722",
   "metadata": {},
   "outputs": [],
   "source": [
    "best_max_depth_val: int = 0\n",
    "best_n_estimators_val: int = 0\n",
    "best_accuracy_val: float = 0.0\n",
    "\n",
    "for max_depth in max_depths:\n",
    "    for curr_n_estimators in n_estimators:\n",
    "        loc_forest_tree_model: RandomForestClassifier = RandomForestClassifier(\n",
    "            n_estimators=curr_n_estimators,\n",
    "            max_depth=max_depth,\n",
    "            random_state=21,\n",
    "        )\n",
    "\n",
    "        loc_forest_tree_model.fit(X, y, )\n",
    "\n",
    "        loc_accuracy_val: float = round(\n",
    "            accuracy_score(\n",
    "                df[\"dayofweek\"],\n",
    "                loc_forest_tree_model.predict(X, ),\n",
    "            ),\n",
    "            3,\n",
    "        )\n",
    "\n",
    "        if loc_accuracy_val > best_accuracy_val:\n",
    "            best_max_depth_val = max_depth\n",
    "            best_accuracy_val = loc_accuracy_val\n",
    "            best_n_estimators_val = curr_n_estimators"
   ]
  },
  {
   "cell_type": "markdown",
   "id": "de7187fc",
   "metadata": {},
   "source": [
    "Find the best *random forest* model parameters values:"
   ]
  },
  {
   "cell_type": "code",
   "execution_count": 51,
   "id": "43f3753f",
   "metadata": {},
   "outputs": [
    {
     "name": "stdout",
     "output_type": "stream",
     "text": [
      "The best random forest model parameters are: \n",
      "The best `max_depth` is: 19 \n",
      "The best `n_estimators` is: 290 \n",
      "The best accuracy value is: 0.997\n"
     ]
    }
   ],
   "source": [
    "print(\n",
    "    \"The best random forest model parameters are:\",\n",
    "    \"\\nThe best `max_depth` is:\",\n",
    "    best_max_depth_val,\n",
    "    \"\\nThe best `n_estimators` is:\",\n",
    "    best_n_estimators_val,\n",
    "    \"\\nThe best accuracy value is:\",\n",
    "    best_accuracy_val,\n",
    ")"
   ]
  },
  {
   "cell_type": "markdown",
   "id": "ac30910b",
   "metadata": {},
   "source": [
    "Draw a plot for the *random forest* model with top `10` most important features:"
   ]
  },
  {
   "cell_type": "code",
   "execution_count": 52,
   "id": "552f1081",
   "metadata": {},
   "outputs": [
    {
     "data": {
      "image/png": "[encoded data removed]",
      "text/plain": [
       "<Figure size 640x480 with 1 Axes>"
      ]
     },
     "metadata": {},
     "output_type": "display_data"
    }
   ],
   "source": [
    "draw_top_important_features(\n",
    "    forest_tree_model.feature_names_in_,\n",
    "    forest_tree_model.feature_importances_,\n",
    ")"
   ]
  },
  {
   "cell_type": "markdown",
   "id": "765a4d42",
   "metadata": {},
   "source": [
    "Check `df` *Pandas* dataframe:"
   ]
  },
  {
   "cell_type": "code",
   "execution_count": 53,
   "id": "c9fb4978",
   "metadata": {},
   "outputs": [
    {
     "data": {
      "text/html": [
       "<div>\n",
       "<style scoped>\n",
       "    .dataframe tbody tr th:only-of-type {\n",
       "        vertical-align: middle;\n",
       "    }\n",
       "\n",
       "    .dataframe tbody tr th {\n",
       "        vertical-align: top;\n",
       "    }\n",
       "\n",
       "    .dataframe thead th {\n",
       "        text-align: right;\n",
       "    }\n",
       "</style>\n",
       "<table border=\"1\" class=\"dataframe\">\n",
       "  <thead>\n",
       "    <tr style=\"text-align: right;\">\n",
       "      <th></th>\n",
       "      <th>uid_user_0</th>\n",
       "      <th>uid_user_1</th>\n",
       "      <th>uid_user_10</th>\n",
       "      <th>uid_user_11</th>\n",
       "      <th>uid_user_12</th>\n",
       "      <th>uid_user_13</th>\n",
       "      <th>uid_user_14</th>\n",
       "      <th>uid_user_15</th>\n",
       "      <th>uid_user_16</th>\n",
       "      <th>uid_user_17</th>\n",
       "      <th>...</th>\n",
       "      <th>labname_laba04</th>\n",
       "      <th>labname_laba04s</th>\n",
       "      <th>labname_laba05</th>\n",
       "      <th>labname_laba06</th>\n",
       "      <th>labname_laba06s</th>\n",
       "      <th>labname_project1</th>\n",
       "      <th>numTrials</th>\n",
       "      <th>hour</th>\n",
       "      <th>dayofweek</th>\n",
       "      <th>naive_prediction</th>\n",
       "    </tr>\n",
       "  </thead>\n",
       "  <tbody>\n",
       "    <tr>\n",
       "      <th>0</th>\n",
       "      <td>0.0</td>\n",
       "      <td>0.0</td>\n",
       "      <td>0.0</td>\n",
       "      <td>0.0</td>\n",
       "      <td>0.0</td>\n",
       "      <td>0.0</td>\n",
       "      <td>0.0</td>\n",
       "      <td>0.0</td>\n",
       "      <td>0.0</td>\n",
       "      <td>0.0</td>\n",
       "      <td>...</td>\n",
       "      <td>0.0</td>\n",
       "      <td>0.0</td>\n",
       "      <td>0.0</td>\n",
       "      <td>0.0</td>\n",
       "      <td>0.0</td>\n",
       "      <td>1.0</td>\n",
       "      <td>-0.788667</td>\n",
       "      <td>-2.562352</td>\n",
       "      <td>4</td>\n",
       "      <td>3</td>\n",
       "    </tr>\n",
       "    <tr>\n",
       "      <th>1</th>\n",
       "      <td>0.0</td>\n",
       "      <td>0.0</td>\n",
       "      <td>0.0</td>\n",
       "      <td>0.0</td>\n",
       "      <td>0.0</td>\n",
       "      <td>0.0</td>\n",
       "      <td>0.0</td>\n",
       "      <td>0.0</td>\n",
       "      <td>0.0</td>\n",
       "      <td>0.0</td>\n",
       "      <td>...</td>\n",
       "      <td>0.0</td>\n",
       "      <td>0.0</td>\n",
       "      <td>0.0</td>\n",
       "      <td>0.0</td>\n",
       "      <td>0.0</td>\n",
       "      <td>1.0</td>\n",
       "      <td>-0.756764</td>\n",
       "      <td>-2.562352</td>\n",
       "      <td>4</td>\n",
       "      <td>3</td>\n",
       "    </tr>\n",
       "    <tr>\n",
       "      <th>2</th>\n",
       "      <td>0.0</td>\n",
       "      <td>0.0</td>\n",
       "      <td>0.0</td>\n",
       "      <td>0.0</td>\n",
       "      <td>0.0</td>\n",
       "      <td>0.0</td>\n",
       "      <td>0.0</td>\n",
       "      <td>0.0</td>\n",
       "      <td>0.0</td>\n",
       "      <td>0.0</td>\n",
       "      <td>...</td>\n",
       "      <td>0.0</td>\n",
       "      <td>0.0</td>\n",
       "      <td>0.0</td>\n",
       "      <td>0.0</td>\n",
       "      <td>0.0</td>\n",
       "      <td>1.0</td>\n",
       "      <td>-0.724861</td>\n",
       "      <td>-2.562352</td>\n",
       "      <td>4</td>\n",
       "      <td>3</td>\n",
       "    </tr>\n",
       "    <tr>\n",
       "      <th>3</th>\n",
       "      <td>0.0</td>\n",
       "      <td>0.0</td>\n",
       "      <td>0.0</td>\n",
       "      <td>0.0</td>\n",
       "      <td>0.0</td>\n",
       "      <td>0.0</td>\n",
       "      <td>0.0</td>\n",
       "      <td>0.0</td>\n",
       "      <td>0.0</td>\n",
       "      <td>0.0</td>\n",
       "      <td>...</td>\n",
       "      <td>0.0</td>\n",
       "      <td>0.0</td>\n",
       "      <td>0.0</td>\n",
       "      <td>0.0</td>\n",
       "      <td>0.0</td>\n",
       "      <td>1.0</td>\n",
       "      <td>-0.692958</td>\n",
       "      <td>-2.562352</td>\n",
       "      <td>4</td>\n",
       "      <td>3</td>\n",
       "    </tr>\n",
       "    <tr>\n",
       "      <th>4</th>\n",
       "      <td>0.0</td>\n",
       "      <td>0.0</td>\n",
       "      <td>0.0</td>\n",
       "      <td>0.0</td>\n",
       "      <td>0.0</td>\n",
       "      <td>0.0</td>\n",
       "      <td>0.0</td>\n",
       "      <td>0.0</td>\n",
       "      <td>0.0</td>\n",
       "      <td>0.0</td>\n",
       "      <td>...</td>\n",
       "      <td>0.0</td>\n",
       "      <td>0.0</td>\n",
       "      <td>0.0</td>\n",
       "      <td>0.0</td>\n",
       "      <td>0.0</td>\n",
       "      <td>1.0</td>\n",
       "      <td>-0.661055</td>\n",
       "      <td>-2.562352</td>\n",
       "      <td>4</td>\n",
       "      <td>3</td>\n",
       "    </tr>\n",
       "  </tbody>\n",
       "</table>\n",
       "<p>5 rows × 45 columns</p>\n",
       "</div>"
      ],
      "text/plain": [
       "   uid_user_0  uid_user_1  uid_user_10  uid_user_11  uid_user_12  uid_user_13  \\\n",
       "0         0.0         0.0          0.0          0.0          0.0          0.0   \n",
       "1         0.0         0.0          0.0          0.0          0.0          0.0   \n",
       "2         0.0         0.0          0.0          0.0          0.0          0.0   \n",
       "3         0.0         0.0          0.0          0.0          0.0          0.0   \n",
       "4         0.0         0.0          0.0          0.0          0.0          0.0   \n",
       "\n",
       "   uid_user_14  uid_user_15  uid_user_16  uid_user_17  ...  labname_laba04  \\\n",
       "0          0.0          0.0          0.0          0.0  ...             0.0   \n",
       "1          0.0          0.0          0.0          0.0  ...             0.0   \n",
       "2          0.0          0.0          0.0          0.0  ...             0.0   \n",
       "3          0.0          0.0          0.0          0.0  ...             0.0   \n",
       "4          0.0          0.0          0.0          0.0  ...             0.0   \n",
       "\n",
       "   labname_laba04s  labname_laba05  labname_laba06  labname_laba06s  \\\n",
       "0              0.0             0.0             0.0              0.0   \n",
       "1              0.0             0.0             0.0              0.0   \n",
       "2              0.0             0.0             0.0              0.0   \n",
       "3              0.0             0.0             0.0              0.0   \n",
       "4              0.0             0.0             0.0              0.0   \n",
       "\n",
       "   labname_project1  numTrials      hour  dayofweek  naive_prediction  \n",
       "0               1.0  -0.788667 -2.562352          4                 3  \n",
       "1               1.0  -0.756764 -2.562352          4                 3  \n",
       "2               1.0  -0.724861 -2.562352          4                 3  \n",
       "3               1.0  -0.692958 -2.562352          4                 3  \n",
       "4               1.0  -0.661055 -2.562352          4                 3  \n",
       "\n",
       "[5 rows x 45 columns]"
      ]
     },
     "execution_count": 53,
     "metadata": {},
     "output_type": "execute_result"
    }
   ],
   "source": [
    "df.head()"
   ]
  },
  {
   "cell_type": "markdown",
   "id": "05bc17d6",
   "metadata": {},
   "source": [
    "Create a dictionary for `to_csv()` method calling:"
   ]
  },
  {
   "cell_type": "code",
   "execution_count": 54,
   "id": "fa2a1cb1",
   "metadata": {},
   "outputs": [],
   "source": [
    "to_csv_params: dict[str, str] = {\n",
    "    \"file\": \"dayofweek.csv\",\n",
    "    \"file_path\": \"../../data/datasets/\",\n",
    "}"
   ]
  },
  {
   "cell_type": "markdown",
   "id": "b6c05004",
   "metadata": {},
   "source": [
    "## Save the `df` *Pandas* dataframe as `dayofweek.csv`:"
   ]
  },
  {
   "cell_type": "code",
   "execution_count": 55,
   "id": "92bd7ad6",
   "metadata": {},
   "outputs": [],
   "source": [
    "df.to_csv(to_csv_params[\"file_path\"] + to_csv_params[\"file\"], )"
   ]
  }
 ],
 "metadata": {
  "kernelspec": {
   "display_name": ".venv",
   "language": "python",
   "name": "python3"
  },
  "language_info": {
   "codemirror_mode": {
    "name": "ipython",
    "version": 3
   },
   "file_extension": ".py",
   "mimetype": "text/x-python",
   "name": "python",
   "nbconvert_exporter": "python",
   "pygments_lexer": "ipython3",
   "version": "3.12.6"
  }
 },
 "nbformat": 4,
 "nbformat_minor": 5
}
